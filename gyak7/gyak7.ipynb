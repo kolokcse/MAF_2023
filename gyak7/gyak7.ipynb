{
 "cells": [
  {
   "cell_type": "markdown",
   "id": "7b5617af",
   "metadata": {},
   "source": [
    "# 7. gyakorlat"
   ]
  },
  {
   "cell_type": "markdown",
   "id": "03e82c3b",
   "metadata": {},
   "source": [
    "# Prezentációk\n",
    "\n",
    "* Küldd el a notebookot emailben nekem. kolok.balazs.csego@gmail.com\n",
    "* 2 percben fejtsd ki a csoportmunka lényeges részeit:\n",
    "    - Mond el a csapatnevet.\n",
    "    - Melyik feladat volt a legnehezebb?\n",
    "    - Melyik feladatra találtatok szerintetek a legfrappánsabb megoldást?\n",
    "    - Mutasd be az extra részét a projektnek"
   ]
  },
  {
   "cell_type": "code",
   "execution_count": null,
   "id": "4df3109b",
   "metadata": {},
   "outputs": [],
   "source": []
  },
  {
   "cell_type": "markdown",
   "id": "be1ee03d",
   "metadata": {},
   "source": [
    "# Szavazás\n",
    "\n",
    "Melyik csapat munkája tetszett a legjobban? Szavazni itt sajáttól különböző csapatra: https://www.menti.com/alfiobf1kaje"
   ]
  },
  {
   "cell_type": "markdown",
   "id": "8e8b65a6",
   "metadata": {},
   "source": [
    "## További példák osztályra\n",
    "\n",
    "Hozzunk létre egy Pont osztályt a sík (x,y) pontjainak a létrehozására és manipulálására. Szeretnénk, hogy egy pontot \"(x, y)\" sztringként írjon ki, ha rákérdezünk. Sok mindent csinálhatunk a pontokkal, például kiszámíthatjuk az origótól vett távolságukat. Ehhez készítsünk egy origotol_mert_tavolsag nevű metódust az osztályon.  Definiáljunk ezenkívül egy olyan, tavolsag_masik_ponttol nevű metódust is az osztályon, amely az adott p pontnak egy másik q ponttól vett távolságát adja vissza (p.tavolsag_masik_ponttol(q) módon)."
   ]
  },
  {
   "cell_type": "code",
   "execution_count": null,
   "id": "6f98ea1a",
   "metadata": {},
   "outputs": [],
   "source": [
    "class Pont:\n",
    "    def __init__(self, x=0, y=0):\n",
    "        \"\"\"\n",
    "            Létrehoz egy új (x,y) pontot,\n",
    "            ha nem adjuk meg az értéküket,\n",
    "            akkor a pontot az origóba teszi.\n",
    "        \"\"\"\n",
    "        self.x = x\n",
    "        self.y = y\n",
    "        \n",
    "    def __repr__(self):\n",
    "        return f\"Pont({self.x}, {self.y})\"\n",
    "    \n",
    "    def __str__(self):\n",
    "        return f\"({self.x}, {self.y})\"\n",
    "    \n",
    "    def origotol_mert_tavolsag(self):\n",
    "        \"\"\"\n",
    "            A pont origótól mért távolsága.\n",
    "        \"\"\"\n",
    "        return ((self.x ** 2) + (self.y ** 2)) ** 0.5\n",
    "    def tavolsag_masik_ponttol(self, other):\n",
    "        \"\"\"\n",
    "            Euklideszi távolság az other ponttól.\n",
    "        \"\"\"\n",
    "        return (((self.x-other.x) ** 2) + ((self.y -other.y) ** 2)) ** 0.5"
   ]
  },
  {
   "cell_type": "code",
   "execution_count": null,
   "id": "6d88aee7",
   "metadata": {},
   "outputs": [],
   "source": [
    "p = Pont(2,5)\n",
    "q = Pont()"
   ]
  },
  {
   "cell_type": "code",
   "execution_count": null,
   "id": "3ac75398",
   "metadata": {},
   "outputs": [],
   "source": [
    "print(p)\n",
    "p"
   ]
  },
  {
   "cell_type": "code",
   "execution_count": null,
   "id": "98feaf2f",
   "metadata": {},
   "outputs": [],
   "source": [
    "p.x"
   ]
  },
  {
   "cell_type": "code",
   "execution_count": null,
   "id": "37c46629",
   "metadata": {},
   "outputs": [],
   "source": [
    "p.y"
   ]
  },
  {
   "cell_type": "code",
   "execution_count": null,
   "id": "6ff13a7c",
   "metadata": {},
   "outputs": [],
   "source": [
    "q.x, q.y"
   ]
  },
  {
   "cell_type": "code",
   "execution_count": null,
   "id": "50120c6a",
   "metadata": {},
   "outputs": [],
   "source": [
    "p.origotol_mert_tavolsag()"
   ]
  },
  {
   "cell_type": "code",
   "execution_count": null,
   "id": "24bbbdca",
   "metadata": {},
   "outputs": [],
   "source": [
    "p"
   ]
  },
  {
   "cell_type": "code",
   "execution_count": null,
   "id": "3cf2d1c7",
   "metadata": {},
   "outputs": [],
   "source": [
    "p.tavolsag_masik_ponttol(q)"
   ]
  },
  {
   "cell_type": "markdown",
   "id": "a5099948",
   "metadata": {},
   "source": [
    "### Hogyan szerkesszük a moduljainkat?\n",
    "\n",
    "Hozz létre egy pont.py file-t azonos mappában ezzel a notebookban a fenti osztályt tartalmazva.\n",
    "Módosítsuk az osztályt a file-on belül. Adjunk hozzá egy plot_pont függvényt, amely ki rajzolja matplotlib modul segítségével a pont helyzetét az origóhoz képest. Hívuk meg a plot_pont függvényt az (1,1) pontra.\n",
    "\n"
   ]
  },
  {
   "cell_type": "code",
   "execution_count": null,
   "id": "7611bb6b",
   "metadata": {},
   "outputs": [],
   "source": [
    "from pont import Pont"
   ]
  },
  {
   "cell_type": "code",
   "execution_count": null,
   "id": "fc8970dc",
   "metadata": {},
   "outputs": [],
   "source": [
    "p=Pont(1,1)\n",
    "p.plot_pont()"
   ]
  },
  {
   "cell_type": "markdown",
   "id": "0f185307",
   "metadata": {},
   "source": [
    "FONTOS:\n",
    "File módosítása után mindig menteni kell, majd újra importálni a notbookba.\n",
    "Mentés->import mindig!\n",
    "\n",
    "vagy %autoreload ekkor nem kell újra importálni, de menteni igen."
   ]
  },
  {
   "cell_type": "code",
   "execution_count": null,
   "id": "921eb3a8",
   "metadata": {},
   "outputs": [],
   "source": [
    "%load_ext autoreload\n",
    "%autoreload 2"
   ]
  },
  {
   "cell_type": "code",
   "execution_count": null,
   "id": "cd39d79b",
   "metadata": {},
   "outputs": [],
   "source": []
  },
  {
   "cell_type": "markdown",
   "id": "47c6e0d0",
   "metadata": {},
   "source": [
    "## Operátortúltöltés\n",
    "Különböző operátorokat \"túl lehet tölteni\" vagyis definiálni különböző osztályokhoz. Ezeket az `__operátor__` függvényekkel lehet egy osztályban leírni. Ezeknek a listáját és leírását [itt](https://docs.python.org/3/library/operator.html) találhatjátok. Pár példa:\n",
    "* `__add__` : az `+` operátort lehet definiálni ezzel.\n",
    "* `__mul__` : a `*` operátor\n",
    "* `__xor__` : a `^` operátor."
   ]
  },
  {
   "cell_type": "markdown",
   "id": "4362f58a",
   "metadata": {},
   "source": [
    "## Feladat:\n",
    "\n",
    "A matematikában jól jöhet az osztály akkor is, ha egy bizonyos algebrai struktúrával szeretnénk dolgozni, pl. valamilyen számtestben vagy vektortérben, ahol egy halmaz elemei rendelkeznek bizonyos tulajdonságokkal és speciális dolgokat értelmezhetünk rajtuk, pl. különféle műveleteket, függvényeket definiálhatunk a halmaz elemein. \n",
    "\n",
    "Készítsük el a komplex számok osztályát az előadásbeli Rational mintájára. Pl. z = Komplex(1, 2) módon lehessen definiálni az 1 + 2*i komplex számot, és lehessen ilyenekkel elvégezni az alapműveleteket."
   ]
  },
  {
   "cell_type": "markdown",
   "id": "63c8fbf1",
   "metadata": {},
   "source": [
    "A komplex számtestet úgy definiáljuk, hogy a rendezett valós számpárok halmazát ellátjuk egy összeadás és egy szorzás művelettel, amelyek a valós számok összeadásának és szorzásának a tulajdonságaival rendelkeznek. \n",
    "\n",
    "Az összeadás: $(a,b) + (c,d) := (a+c, b+d)$\\\n",
    "A szorzás: $(a,b) \\cdot (c,d) := (ac-bd, ad+bc)$\n",
    "\n",
    "Az $(a,b)$ komplex számot szokásos $a+ib$ alakban írni (algebrai alak)."
   ]
  },
  {
   "cell_type": "markdown",
   "id": "a580505c",
   "metadata": {},
   "source": [
    "* Egy `(a,b)` komplex számnak tehát a készítendő osztályban két attribútuma legyen $a,b\\in\\mathbb{R}$.\n"
   ]
  },
  {
   "cell_type": "code",
   "execution_count": null,
   "id": "d95bddf8",
   "metadata": {},
   "outputs": [],
   "source": [
    "class Komplex:\n",
    "    def __init__(self, a, b):\n",
    "        #ToDo"
   ]
  },
  {
   "cell_type": "markdown",
   "id": "a49b49a2",
   "metadata": {},
   "source": [
    "* Az elemeket algebrai alakban írja ki, ha rájuk kérdezünk.\n"
   ]
  },
  {
   "cell_type": "code",
   "execution_count": null,
   "id": "0dcce9d6",
   "metadata": {},
   "outputs": [],
   "source": []
  },
  {
   "cell_type": "markdown",
   "id": "44a9937f",
   "metadata": {},
   "source": [
    "* Építsük bele az összeadás és a szorzás műveletet, ezeket a + és * jellel lehessen elvégezni.\n",
    "* Egy $(a,b)$ komplex szám ellentettje $(-a,-b)$, a kivonás pedig az ellentett hozzáadása. Ezeket is építsük bele az osztályba."
   ]
  },
  {
   "cell_type": "code",
   "execution_count": null,
   "id": "c1b978d1",
   "metadata": {},
   "outputs": [],
   "source": [
    "class Komplex:\n",
    "    def __init__(self, a, b):\n",
    "\n",
    "    \n",
    "    def __str__(self):\n",
    "\n",
    "       \n",
    "    def __repr__(self):\n",
    "\n",
    "\n",
    "    def __add__(self, other):\n",
    "\n",
    "    \n",
    "    def __mul__(self, other):\n",
    "\n",
    "    \n",
    "    def __neg__(self):\n",
    "\n",
    "    \n",
    "    def __sub__(self, other):\n",
    "\n",
    "    \n",
    "    def __eq__(self, other):\n"
   ]
  },
  {
   "cell_type": "markdown",
   "id": "c2dfad73",
   "metadata": {},
   "source": [
    "## Az összes példány kiíratása\n",
    "\n",
    "Erre lehet találni beépített modult: a `gc` egy interface a python garbage collectorához, ld. [itt](https://docs.python.org/3/library/gc.html)."
   ]
  },
  {
   "cell_type": "code",
   "execution_count": null,
   "id": "3f03a235",
   "metadata": {},
   "outputs": [],
   "source": [
    "import gc\n",
    "for obj in gc.get_objects():\n",
    "    if isinstance(obj, Komplex):\n",
    "        print(obj)"
   ]
  },
  {
   "cell_type": "markdown",
   "id": "daedd0c8",
   "metadata": {},
   "source": [
    "## Öröklődés\n",
    "\n",
    "Több osztály közösen is használhat attribútumokat ill. függvényeket. Pl. készítsünk egy Emberek nevű osztályt, amelyben minden példánynak két attribútuma van: a vezetékneve és a keresztneve. Egy másik osztályban hallgatók legyenek. Ennek példányai szintén rendelkezzenek a fenti két attribútummal, de legyen hallgatói kódjuk is (olyasmi, mint a Neptun-kód, most ez álljon a vezetéknév első három és a keresztnév első három karakteréből, csupa nagybetűvel egymás után írva). Ez megoldható úgy, hogy a Hallgatok osztály örökli az Emberek osztálytól az ott megadott attribútumokat. Figyeljük meg, hogy hogyan jelezzük az Emberek osztályból való öröklődést `class Hallgatok(Emberek):`, és a `super()` függvényt, amellyel át tudjuk venni a kiválasztott attribútumokat az Emberek osztályból anélkül, hogy azokat újból be kellene gépelnünk a Hallgatok osztályban. "
   ]
  },
  {
   "cell_type": "code",
   "execution_count": null,
   "id": "d0edeeb8",
   "metadata": {},
   "outputs": [],
   "source": [
    "import random\n",
    "class Emberek:\n",
    "    def __init__(self, vezeteknev, keresztnev):\n",
    "        self.vezeteknev = vezeteknev\n",
    "        self.keresztnev = keresztnev\n",
    "\n",
    "class Hallgatok(Emberek):\n",
    "    def __init__(self, vezeteknev, keresztnev):\n",
    "        super().__init__(vezeteknev, keresztnev)\n",
    "        self.kod = \"\"  #amikor létrejön egy új hallgató, akkor \n",
    "                                  #még nincs kódja\n",
    "    def kodgeneralo(self):\n",
    "        if not self.kod:\n",
    "            abc = \"abcdefghijklmnopqrstvuwxyz0123456789\"\n",
    "            for i in range(6):\n",
    "                self.kod += random.choice(abc)"
   ]
  },
  {
   "cell_type": "code",
   "execution_count": null,
   "id": "d4a0296d",
   "metadata": {},
   "outputs": [],
   "source": [
    "Jozsef = Hallgatok(\"Nádor\", \"József\")"
   ]
  },
  {
   "cell_type": "code",
   "execution_count": null,
   "id": "b22713c4",
   "metadata": {},
   "outputs": [],
   "source": [
    "Jozsef"
   ]
  },
  {
   "cell_type": "code",
   "execution_count": null,
   "id": "8130b3ba",
   "metadata": {
    "scrolled": true
   },
   "outputs": [],
   "source": [
    "Jozsef.kod"
   ]
  },
  {
   "cell_type": "code",
   "execution_count": null,
   "id": "ef224853",
   "metadata": {},
   "outputs": [],
   "source": [
    "Jozsef.kodgeneralo()"
   ]
  },
  {
   "cell_type": "code",
   "execution_count": null,
   "id": "a01fc3ba",
   "metadata": {},
   "outputs": [],
   "source": [
    "Jozsef.kod"
   ]
  },
  {
   "cell_type": "markdown",
   "id": "2be6e128",
   "metadata": {},
   "source": [
    "Természetesen ha valaki csak az Emberek osztályban van benne, akkor hallgatói kód nem készíthető számára a fenti osztálydefiníciók mellett."
   ]
  },
  {
   "cell_type": "code",
   "execution_count": null,
   "id": "fe850206",
   "metadata": {},
   "outputs": [],
   "source": [
    "Miklos = Emberek(\"Fenyő\", \"Miklós\")"
   ]
  },
  {
   "cell_type": "code",
   "execution_count": null,
   "id": "b95f9c57",
   "metadata": {
    "scrolled": true
   },
   "outputs": [],
   "source": [
    "Miklos.kod"
   ]
  },
  {
   "cell_type": "markdown",
   "id": "4dc27695",
   "metadata": {},
   "source": [
    "## Feladat:\n",
    "Módosítsuk a fenti osztály(oka)t úgy, hogy az Emberek/Hallgatok bármely elemére rákérdezve az illető teljes nevét kapjuk vissza."
   ]
  },
  {
   "cell_type": "code",
   "execution_count": null,
   "id": "4e65644f",
   "metadata": {},
   "outputs": [],
   "source": []
  },
  {
   "cell_type": "markdown",
   "id": "308dbf55",
   "metadata": {},
   "source": [
    "## Saját adatszerkezetek\n",
    "Az osztály segítségével mi magunk is definiálhatunk mindenféle adatszerkezet-típust. Gyakorlásul nézzük meg, hogyan lehetne sajátkezűleg definiálni úgy egy osztályt, hogy az lényegében ugyanazt tudja, mint a beépített halmaz adatszerkezet. \n",
    "\n",
    "Egy halmazba akárhány dolgot belepakolhatunk, így alkalmazzuk a * jelet a paraméterek megadásánál. Ezeket a dolgokat tegye ki egy listába, de egy elem csak egyszer szerepeljen!"
   ]
  },
  {
   "cell_type": "code",
   "execution_count": null,
   "id": "84009334",
   "metadata": {},
   "outputs": [],
   "source": [
    "class Halmaz:\n",
    "    def __init__(self, *args):\n",
    "        #self._set = list(args)  #ez nem jó, egyesével azt kell beletenni, ami még nem volt\n",
    "        self.halmaz = []\n",
    "        for x in list(args):\n",
    "            if x not in self.halmaz:\n",
    "                self.halmaz.append(x)\n",
    "                "
   ]
  },
  {
   "cell_type": "code",
   "execution_count": null,
   "id": "cb0a1252",
   "metadata": {},
   "outputs": [],
   "source": [
    "H = Halmaz(1,2,2,3)\n",
    "H.halmaz"
   ]
  },
  {
   "cell_type": "markdown",
   "id": "38afa507",
   "metadata": {},
   "source": [
    "A halmaz elemei már csak egyszer vannak felsorolva, de a szokásos jelölés a kapcsos zárójeles. Ennek megfelelően adjuk meg, hogy hogyan szeretnénk kiírva látni a halmazokat."
   ]
  },
  {
   "cell_type": "code",
   "execution_count": null,
   "id": "4431f96b",
   "metadata": {},
   "outputs": [],
   "source": [
    "class Halmaz:\n",
    "    def __init__(self, *args):\n",
    "        self.halmaz = []\n",
    "        for x in list(args):\n",
    "            if x not in self.halmaz:\n",
    "                self.halmaz.append(x)\n",
    "                \n",
    "    def __str__(self):\n",
    "        return f\"{{{','.join(map(str, self.halmaz))}}}\"\n",
    "    \n",
    "     \n",
    "    def __repr__(self):\n",
    "        return f\"Halmaz, {len(self.halmaz)} elemmel\""
   ]
  },
  {
   "cell_type": "code",
   "execution_count": null,
   "id": "7b100ac5",
   "metadata": {},
   "outputs": [],
   "source": [
    "H = Halmaz(1,2,2,3)"
   ]
  },
  {
   "cell_type": "code",
   "execution_count": null,
   "id": "ad78c227",
   "metadata": {},
   "outputs": [],
   "source": [
    "H"
   ]
  },
  {
   "cell_type": "markdown",
   "id": "823c0e95",
   "metadata": {},
   "source": [
    "## Feladat:\n",
    "Lehessen a halmazhoz hozzáadni / törölni belőle egy-egy elemet."
   ]
  },
  {
   "cell_type": "code",
   "execution_count": null,
   "id": "c10aacda",
   "metadata": {},
   "outputs": [],
   "source": []
  },
  {
   "cell_type": "markdown",
   "id": "f59c9e9e",
   "metadata": {},
   "source": [
    "## Feladat:\n",
    "Építsd bele az unió és a metszet műveletét! Oldd meg operátortúltöltéssel is! Az `&` operátor legyen a metszet, `|` operátor legyen az unió! Töltsd túl a `^` operátort is, legyen ez a szimmetrikus differencia!"
   ]
  },
  {
   "cell_type": "code",
   "execution_count": null,
   "id": "0a1f74cd",
   "metadata": {},
   "outputs": [],
   "source": []
  },
  {
   "cell_type": "markdown",
   "id": "ee415448",
   "metadata": {},
   "source": [
    "## Feladat:\n",
    "Definiáld a `+`, `-`, `*` és `\\` operátorokat. Ezek jelentsék az elemenkénti összeadást, kivonást, szorzást és osztást. Definiáld ezeket mindkét oldalról, vagyis legyen értelmes az is, hogy `A + 5` és az is hogy `5 + A`, ahol `A` egy halmaz."
   ]
  },
  {
   "cell_type": "code",
   "execution_count": null,
   "id": "46c902a3",
   "metadata": {},
   "outputs": [],
   "source": []
  }
 ],
 "metadata": {
  "kernelspec": {
   "display_name": "Python 3 (ipykernel)",
   "language": "python",
   "name": "python3"
  },
  "language_info": {
   "codemirror_mode": {
    "name": "ipython",
    "version": 3
   },
   "file_extension": ".py",
   "mimetype": "text/x-python",
   "name": "python",
   "nbconvert_exporter": "python",
   "pygments_lexer": "ipython3",
   "version": "3.9.13"
  }
 },
 "nbformat": 4,
 "nbformat_minor": 5
}
