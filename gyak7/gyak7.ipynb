{
 "cells": [
  {
   "cell_type": "markdown",
   "id": "7b5617af",
   "metadata": {},
   "source": [
    "# 7. gyakorlat"
   ]
  },
  {
   "cell_type": "code",
   "execution_count": 5,
   "id": "391bc1f5",
   "metadata": {},
   "outputs": [
    {
     "name": "stdout",
     "output_type": "stream",
     "text": [
      "The autoreload extension is already loaded. To reload it, use:\n",
      "  %reload_ext autoreload\n"
     ]
    }
   ],
   "source": [
    "%load_ext autoreload\n",
    "%autoreload 2"
   ]
  },
  {
   "cell_type": "markdown",
   "id": "03e82c3b",
   "metadata": {},
   "source": [
    "# Prezentációk\n",
    "\n",
    "* Küldd el a notebookot emailben nekem. kolok.balazs.csego@gmail.com\n",
    "* 2 percben fejtsd ki a csoportmunka lényeges részeit:\n",
    "    - Mond el a csapatnevet.\n",
    "    - Melyik feladat volt a legnehezebb?\n",
    "    - Melyik feladatra találtatok szerintetek a legfrappánsabb megoldást?\n",
    "    - Mutasd be az extra részét a projektnek\n",
    "    - plussz??"
   ]
  },
  {
   "cell_type": "code",
   "execution_count": null,
   "id": "4df3109b",
   "metadata": {},
   "outputs": [],
   "source": []
  },
  {
   "cell_type": "markdown",
   "id": "be1ee03d",
   "metadata": {},
   "source": [
    "# Szavazás\n",
    "\n",
    "Melyik csapat munkája tetszett a legjobban? Szavazni itt sajáttól különböző csapatra: https://www.menti.com/alfiobf1kaje"
   ]
  },
  {
   "cell_type": "markdown",
   "id": "8e8b65a6",
   "metadata": {},
   "source": [
    "## További példák osztályra\n",
    "\n",
    "Hozzunk létre egy Pont osztályt a sík (x,y) pontjainak a létrehozására és manipulálására. Szeretnénk, hogy egy pontot \"(x, y)\" sztringként írjon ki, ha rákérdezünk. Sok mindent csinálhatunk a pontokkal, például kiszámíthatjuk az origótól vett távolságukat. Ehhez készítsünk egy origotol_mert_tavolsag nevű metódust az osztályon.  Definiáljunk ezenkívül egy olyan, tavolsag_masik_ponttol nevű metódust is az osztályon, amely az adott p pontnak egy másik q ponttól vett távolságát adja vissza (p.tavolsag_masik_ponttol(q) módon)."
   ]
  },
  {
   "cell_type": "code",
   "execution_count": 1,
   "id": "6f98ea1a",
   "metadata": {},
   "outputs": [],
   "source": [
    "class Pont:\n",
    "    def __init__(self, x=0, y=0):\n",
    "        \"\"\"\n",
    "            Létrehoz egy új (x,y) pontot,\n",
    "            ha nem adjuk meg az értéküket,\n",
    "            akkor a pontot az origóba teszi.\n",
    "        \"\"\"\n",
    "        self.x = x\n",
    "        self.y = y\n",
    "        \n",
    "    def __repr__(self):\n",
    "        return f\"Pont({self.x}, {self.y})\"\n",
    "    \n",
    "    def __str__(self):\n",
    "        return f\"({self.x}, {self.y})\"\n",
    "    \n",
    "    def origotol_mert_tavolsag(self):\n",
    "        \"\"\"\n",
    "            A pont origótól mért távolsága.\n",
    "        \"\"\"\n",
    "        return ((self.x ** 2) + (self.y ** 2)) ** 0.5\n",
    "    def tavolsag_masik_ponttol(self, other):\n",
    "        \"\"\"\n",
    "            Euklideszi távolság az other ponttól.\n",
    "        \"\"\"\n",
    "        return (((self.x-other.x) ** 2) + ((self.y -other.y) ** 2)) ** 0.5"
   ]
  },
  {
   "cell_type": "code",
   "execution_count": 2,
   "id": "6d88aee7",
   "metadata": {},
   "outputs": [],
   "source": [
    "p = Pont(2,5)\n",
    "q = Pont()"
   ]
  },
  {
   "cell_type": "code",
   "execution_count": 3,
   "id": "04d7e9e5",
   "metadata": {},
   "outputs": [
    {
     "data": {
      "text/plain": [
       "2"
      ]
     },
     "execution_count": 3,
     "metadata": {},
     "output_type": "execute_result"
    }
   ],
   "source": [
    "p.x"
   ]
  },
  {
   "cell_type": "code",
   "execution_count": 4,
   "id": "69a6654e",
   "metadata": {},
   "outputs": [
    {
     "data": {
      "text/plain": [
       "5"
      ]
     },
     "execution_count": 4,
     "metadata": {},
     "output_type": "execute_result"
    }
   ],
   "source": [
    "p.y"
   ]
  },
  {
   "cell_type": "code",
   "execution_count": 5,
   "id": "3ac75398",
   "metadata": {},
   "outputs": [
    {
     "name": "stdout",
     "output_type": "stream",
     "text": [
      "(2, 5)\n"
     ]
    },
    {
     "data": {
      "text/plain": [
       "Pont(2, 5)"
      ]
     },
     "execution_count": 5,
     "metadata": {},
     "output_type": "execute_result"
    }
   ],
   "source": [
    "print(p)\n",
    "p"
   ]
  },
  {
   "cell_type": "code",
   "execution_count": 6,
   "id": "98feaf2f",
   "metadata": {},
   "outputs": [
    {
     "data": {
      "text/plain": [
       "2"
      ]
     },
     "execution_count": 6,
     "metadata": {},
     "output_type": "execute_result"
    }
   ],
   "source": [
    "p.x"
   ]
  },
  {
   "cell_type": "code",
   "execution_count": 7,
   "id": "37c46629",
   "metadata": {},
   "outputs": [
    {
     "data": {
      "text/plain": [
       "5"
      ]
     },
     "execution_count": 7,
     "metadata": {},
     "output_type": "execute_result"
    }
   ],
   "source": [
    "p.y"
   ]
  },
  {
   "cell_type": "code",
   "execution_count": 8,
   "id": "6ff13a7c",
   "metadata": {},
   "outputs": [
    {
     "data": {
      "text/plain": [
       "(0, 0)"
      ]
     },
     "execution_count": 8,
     "metadata": {},
     "output_type": "execute_result"
    }
   ],
   "source": [
    "q.x, q.y"
   ]
  },
  {
   "cell_type": "code",
   "execution_count": 9,
   "id": "50120c6a",
   "metadata": {},
   "outputs": [
    {
     "data": {
      "text/plain": [
       "5.385164807134504"
      ]
     },
     "execution_count": 9,
     "metadata": {},
     "output_type": "execute_result"
    }
   ],
   "source": [
    "p.origotol_mert_tavolsag()"
   ]
  },
  {
   "cell_type": "code",
   "execution_count": 10,
   "id": "24bbbdca",
   "metadata": {},
   "outputs": [
    {
     "data": {
      "text/plain": [
       "Pont(2, 5)"
      ]
     },
     "execution_count": 10,
     "metadata": {},
     "output_type": "execute_result"
    }
   ],
   "source": [
    "p"
   ]
  },
  {
   "cell_type": "code",
   "execution_count": 11,
   "id": "3cf2d1c7",
   "metadata": {},
   "outputs": [
    {
     "data": {
      "text/plain": [
       "5.385164807134504"
      ]
     },
     "execution_count": 11,
     "metadata": {},
     "output_type": "execute_result"
    }
   ],
   "source": [
    "p.tavolsag_masik_ponttol(q)"
   ]
  },
  {
   "cell_type": "markdown",
   "id": "a5099948",
   "metadata": {},
   "source": [
    "### Hogyan szerkesszük a moduljainkat?\n",
    "\n",
    "Hozz létre egy pont.py file-t azonos mappában ezzel a notebookban a fenti osztályt tartalmazva.\n",
    "Módosítsuk az osztályt a file-on belül. Adjunk hozzá egy plot_pont függvényt, amely ki rajzolja matplotlib modul segítségével a pont helyzetét az origóhoz képest. Hívuk meg a plot_pont függvényt az (1,1) pontra.\n",
    "\n"
   ]
  },
  {
   "cell_type": "code",
   "execution_count": 1,
   "id": "7611bb6b",
   "metadata": {},
   "outputs": [],
   "source": [
    "from pont import Pont"
   ]
  },
  {
   "cell_type": "code",
   "execution_count": 2,
   "id": "fc8970dc",
   "metadata": {},
   "outputs": [
    {
     "data": {
      "image/png": "[encoded data removed]",
      "text/plain": [
       "<Figure size 640x480 with 1 Axes>"
      ]
     },
     "metadata": {},
     "output_type": "display_data"
    }
   ],
   "source": [
    "p=Pont(1,1)\n",
    "p.plot_pont()"
   ]
  },
  {
   "cell_type": "markdown",
   "id": "0f185307",
   "metadata": {},
   "source": [
    "FONTOS:\n",
    "File módosítása után mindig menteni kell, majd újra importálni a notbookba.\n",
    "Mentés->import mindig!\n",
    "\n",
    "vagy %autoreload ekkor nem kell újra importálni, de menteni igen."
   ]
  },
  {
   "cell_type": "code",
   "execution_count": 3,
   "id": "921eb3a8",
   "metadata": {},
   "outputs": [],
   "source": [
    "%load_ext autoreload\n",
    "%autoreload 2"
   ]
  },
  {
   "cell_type": "code",
   "execution_count": 6,
   "id": "cd39d79b",
   "metadata": {},
   "outputs": [
    {
     "data": {
      "image/png": "[encoded data removed]",
      "text/plain": [
       "<Figure size 640x480 with 1 Axes>"
      ]
     },
     "metadata": {},
     "output_type": "display_data"
    }
   ],
   "source": [
    "p.plot_pont()"
   ]
  },
  {
   "cell_type": "markdown",
   "id": "47c6e0d0",
   "metadata": {},
   "source": [
    "## Operátortúltöltés\n",
    "Különböző operátorokat \"túl lehet tölteni\" vagyis definiálni különböző osztályokhoz. Ezeket az `__operátor__` függvényekkel lehet egy osztályban leírni. Ezeknek a listáját és leírását [itt](https://docs.python.org/3/library/operator.html) találhatjátok. Pár példa:\n",
    "* `__add__` : az `+` operátort lehet definiálni ezzel.\n",
    "* `__mul__` : a `*` operátor\n",
    "* `__xor__` : a `^` operátor."
   ]
  },
  {
   "cell_type": "markdown",
   "id": "4362f58a",
   "metadata": {},
   "source": [
    "## Feladat:\n",
    "\n",
    "A matematikában jól jöhet az osztály akkor is, ha egy bizonyos algebrai struktúrával szeretnénk dolgozni, pl. valamilyen számtestben vagy vektortérben, ahol egy halmaz elemei rendelkeznek bizonyos tulajdonságokkal és speciális dolgokat értelmezhetünk rajtuk, pl. különféle műveleteket, függvényeket definiálhatunk a halmaz elemein. \n",
    "\n",
    "Készítsük el a komplex számok osztályát az előadásbeli Rational mintájára. Pl. z = Komplex(1, 2) módon lehessen definiálni az 1 + 2*i komplex számot, és lehessen ilyenekkel elvégezni az alapműveleteket."
   ]
  },
  {
   "cell_type": "markdown",
   "id": "63c8fbf1",
   "metadata": {},
   "source": [
    "A komplex számtestet úgy definiáljuk, hogy a rendezett valós számpárok halmazát ellátjuk egy összeadás és egy szorzás művelettel, amelyek a valós számok összeadásának és szorzásának a tulajdonságaival rendelkeznek. \n",
    "\n",
    "Az összeadás: $(a,b) + (c,d) := (a+c, b+d)$\\\n",
    "A szorzás: $(a,b) \\cdot (c,d) := (ac-bd, ad+bc)$\n",
    "\n",
    "Az $(a,b)$ komplex számot szokásos $a+ib$ alakban írni (algebrai alak)."
   ]
  },
  {
   "cell_type": "markdown",
   "id": "a580505c",
   "metadata": {},
   "source": [
    "* Egy `(a,b)` komplex számnak tehát a készítendő osztályban két attribútuma legyen $a,b\\in\\mathbb{R}$.\n"
   ]
  },
  {
   "cell_type": "code",
   "execution_count": 11,
   "id": "d95bddf8",
   "metadata": {},
   "outputs": [],
   "source": [
    "class Komplex: \n",
    "    def __init__(self, a=0, b=0):\n",
    "        \"\"\"\n",
    "            Létrehoz egy új (a,b) komplex számot (értsd: a+b*i),\n",
    "            ha nem adjuk meg az értéküket,\n",
    "            akkor a (0,0)-t hozza létre.\n",
    "        \"\"\"\n",
    "        self.a = a\n",
    "        self.b = b\n",
    "    def __repr__(self):\n",
    "        return f\"Komplex({self.a}, {self.b})\"\n",
    "    def __str__(self):\n",
    "        return f\"{self.a} + {self.b}*i\"\n",
    "    "
   ]
  },
  {
   "cell_type": "code",
   "execution_count": 8,
   "id": "91b72785",
   "metadata": {},
   "outputs": [
    {
     "data": {
      "text/plain": [
       "<__main__.Komplex at 0x7fc5d9135c40>"
      ]
     },
     "execution_count": 8,
     "metadata": {},
     "output_type": "execute_result"
    }
   ],
   "source": [
    "Komplex(1,1)"
   ]
  },
  {
   "cell_type": "markdown",
   "id": "a49b49a2",
   "metadata": {},
   "source": [
    "* Az elemeket algebrai alakban írja ki, ha rájuk kérdezünk.\n"
   ]
  },
  {
   "cell_type": "code",
   "execution_count": 10,
   "id": "0dcce9d6",
   "metadata": {},
   "outputs": [
    {
     "data": {
      "text/plain": [
       "Komplex(1, 1)"
      ]
     },
     "execution_count": 10,
     "metadata": {},
     "output_type": "execute_result"
    }
   ],
   "source": [
    "Komplex(1,1)"
   ]
  },
  {
   "cell_type": "code",
   "execution_count": 12,
   "id": "c8761145",
   "metadata": {},
   "outputs": [],
   "source": [
    "z=Komplex(3,1)"
   ]
  },
  {
   "cell_type": "code",
   "execution_count": 13,
   "id": "76236330",
   "metadata": {},
   "outputs": [
    {
     "name": "stdout",
     "output_type": "stream",
     "text": [
      "3 + 1*i\n"
     ]
    }
   ],
   "source": [
    "print(z)"
   ]
  },
  {
   "cell_type": "markdown",
   "id": "44a9937f",
   "metadata": {},
   "source": [
    "* Építsük bele az összeadás és a szorzás műveletet, ezeket a + és * jellel lehessen elvégezni.\n",
    "* Egy $(a,b)$ komplex szám ellentettje $(-a,-b)$, a kivonás pedig az ellentett hozzáadása. Ezeket is építsük bele az osztályba."
   ]
  },
  {
   "cell_type": "code",
   "execution_count": 14,
   "id": "c1b978d1",
   "metadata": {},
   "outputs": [],
   "source": [
    "class Komplex: \n",
    "    def __init__(self, a=0, b=0):\n",
    "        \"\"\"\n",
    "            Létrehoz egy új (a,b) komplex számot (értsd: a+b*i),\n",
    "            ha nem adjuk meg az értéküket,\n",
    "            akkor a (0,0)-t hozza létre.\n",
    "        \"\"\"\n",
    "        self.a = a\n",
    "        self.b = b\n",
    "    def __repr__(self):\n",
    "        return f\"Komplex({self.a}, {self.b})\"\n",
    "    def __str__(self):\n",
    "        return f\"{self.a} + {self.b}*i\"\n",
    "\n",
    "\n",
    "    def __add__(self, other):\n",
    "        return Komplex(self.a + other.a,self.b + other.b)\n",
    "\n",
    "    #A szorzás: (𝑎,𝑏)⋅(𝑐,𝑑):=(𝑎𝑐−𝑏𝑑,𝑎𝑑+𝑏𝑐)\n",
    "    def __mul__(self, other):\n",
    "        return Komplex(self.a*other.a-self.b*other.b,self.a*other.b+self.b*other.a)\n",
    "    \n",
    "    def __neg__(self):\n",
    "        return Komplex(-self.a,-self.b)\n",
    "    \n",
    "    def __sub__(self, other):\n",
    "        return Komplex(self.a-other.a,self.b-other.b)\n",
    "\n",
    "    def __eq__(self, other):\n",
    "        return self.a==other.a and self.b==other.b"
   ]
  },
  {
   "cell_type": "code",
   "execution_count": 15,
   "id": "8c4bcb2a",
   "metadata": {},
   "outputs": [],
   "source": [
    "x=Komplex(2,3)\n",
    "y=Komplex(1,1)"
   ]
  },
  {
   "cell_type": "code",
   "execution_count": 16,
   "id": "9b599751",
   "metadata": {},
   "outputs": [
    {
     "data": {
      "text/plain": [
       "Komplex(3, 4)"
      ]
     },
     "execution_count": 16,
     "metadata": {},
     "output_type": "execute_result"
    }
   ],
   "source": [
    "x+y"
   ]
  },
  {
   "cell_type": "code",
   "execution_count": 17,
   "id": "98d89bd6",
   "metadata": {},
   "outputs": [
    {
     "data": {
      "text/plain": [
       "Komplex(1, 2)"
      ]
     },
     "execution_count": 17,
     "metadata": {},
     "output_type": "execute_result"
    }
   ],
   "source": [
    "x-y"
   ]
  },
  {
   "cell_type": "code",
   "execution_count": 18,
   "id": "86f0e29e",
   "metadata": {},
   "outputs": [
    {
     "data": {
      "text/plain": [
       "Komplex(-1, 5)"
      ]
     },
     "execution_count": 18,
     "metadata": {},
     "output_type": "execute_result"
    }
   ],
   "source": [
    "x*y"
   ]
  },
  {
   "cell_type": "code",
   "execution_count": 20,
   "id": "84ad4c33",
   "metadata": {},
   "outputs": [
    {
     "data": {
      "text/plain": [
       "True"
      ]
     },
     "execution_count": 20,
     "metadata": {},
     "output_type": "execute_result"
    }
   ],
   "source": [
    "x==x"
   ]
  },
  {
   "cell_type": "code",
   "execution_count": 21,
   "id": "f420c555",
   "metadata": {},
   "outputs": [
    {
     "data": {
      "text/plain": [
       "Komplex(3, 4)"
      ]
     },
     "execution_count": 21,
     "metadata": {},
     "output_type": "execute_result"
    }
   ],
   "source": [
    "x.__add__(y)"
   ]
  },
  {
   "cell_type": "markdown",
   "id": "c2dfad73",
   "metadata": {},
   "source": [
    "## Az összes példány kiíratása\n",
    "\n",
    "Erre lehet találni beépített modult: a `gc` egy interface a python garbage collectorához, ld. [itt](https://docs.python.org/3/library/gc.html)."
   ]
  },
  {
   "cell_type": "code",
   "execution_count": 22,
   "id": "3f03a235",
   "metadata": {},
   "outputs": [
    {
     "name": "stdout",
     "output_type": "stream",
     "text": [
      "2 + 3*i\n",
      "1 + 1*i\n",
      "3 + 4*i\n",
      "1 + 2*i\n",
      "-1 + 5*i\n",
      "3 + 4*i\n"
     ]
    }
   ],
   "source": [
    "import gc\n",
    "for obj in gc.get_objects():\n",
    "    if isinstance(obj, Komplex):\n",
    "        print(obj)"
   ]
  },
  {
   "cell_type": "markdown",
   "id": "daedd0c8",
   "metadata": {},
   "source": [
    "## Öröklődés\n",
    "\n",
    "Több osztály közösen is használhat attribútumokat ill. függvényeket. Pl. készítsünk egy Emberek nevű osztályt, amelyben minden példánynak két attribútuma van: a vezetékneve és a keresztneve. Egy másik osztályban hallgatók legyenek. Ennek példányai szintén rendelkezzenek a fenti két attribútummal, de legyen hallgatói kódjuk is (olyasmi, mint a Neptun-kód, most ez álljon a vezetéknév első három és a keresztnév első három karakteréből, csupa nagybetűvel egymás után írva). Ez megoldható úgy, hogy a Hallgatok osztály örökli az Emberek osztálytól az ott megadott attribútumokat. Figyeljük meg, hogy hogyan jelezzük az Emberek osztályból való öröklődést `class Hallgatok(Emberek):`, és a `super()` függvényt, amellyel át tudjuk venni a kiválasztott attribútumokat az Emberek osztályból anélkül, hogy azokat újból be kellene gépelnünk a Hallgatok osztályban. "
   ]
  },
  {
   "cell_type": "code",
   "execution_count": 56,
   "id": "d0edeeb8",
   "metadata": {},
   "outputs": [],
   "source": [
    "import random\n",
    "class Emberek:\n",
    "    def __init__(self, vezeteknev, keresztnev):\n",
    "        self.vezeteknev = vezeteknev\n",
    "        self.keresztnev = keresztnev\n",
    "    \n",
    "    def add_kozepnev(self,nev):\n",
    "        self.kozepnev = nev\n",
    "        \n",
    "    def __repr__(self):\n",
    "        try:\n",
    "            return f'({self.vezeteknev} {self.kozepnev} {self.keresztnev}'\n",
    "        except:\n",
    "            return f'{self.vezeteknev} {self.keresztnev}'\n",
    "\n",
    "class Hallgatok(Emberek):\n",
    "    def __init__(self, vezeteknev, keresztnev):\n",
    "        super().__init__(vezeteknev, keresztnev)\n",
    "        self.kod = \"\"  #amikor létrejön egy új hallgató, akkor \n",
    "                                  #még nincs kódja\n",
    "    def __repr__(self):\n",
    "        #try:\n",
    "        #    return f'Hallgatok({self.vezeteknev}, {self.kozepnev}, {self.keresztnev})'\n",
    "        #except:\n",
    "        #    return f'Hallgatok({self.vezeteknev}, {self.keresztnev})'\n",
    "        return super().__repr__()\n",
    "        \n",
    "    def kodgeneralo(self):\n",
    "        if not self.kod:\n",
    "            abc = \"abcdefghijklmnopqrstvuwxyz0123456789\"\n",
    "            for i in range(6):\n",
    "                self.kod += random.choice(abc)"
   ]
  },
  {
   "cell_type": "code",
   "execution_count": 57,
   "id": "d4a0296d",
   "metadata": {},
   "outputs": [],
   "source": [
    "Jozsef = Hallgatok(\"Nádor\", \"József\")"
   ]
  },
  {
   "cell_type": "code",
   "execution_count": 58,
   "id": "b22713c4",
   "metadata": {},
   "outputs": [
    {
     "data": {
      "text/plain": [
       "Nádor József"
      ]
     },
     "execution_count": 58,
     "metadata": {},
     "output_type": "execute_result"
    }
   ],
   "source": [
    "Jozsef"
   ]
  },
  {
   "cell_type": "code",
   "execution_count": 28,
   "id": "8e6717f3",
   "metadata": {},
   "outputs": [],
   "source": [
    "Jozsef.add_kozepnev('Mátyás')"
   ]
  },
  {
   "cell_type": "code",
   "execution_count": 30,
   "id": "2170a32a",
   "metadata": {},
   "outputs": [
    {
     "data": {
      "text/plain": [
       "'Mátyás'"
      ]
     },
     "execution_count": 30,
     "metadata": {},
     "output_type": "execute_result"
    }
   ],
   "source": [
    "Jozsef.kozepnev"
   ]
  },
  {
   "cell_type": "code",
   "execution_count": null,
   "id": "7d141a0e",
   "metadata": {},
   "outputs": [],
   "source": []
  },
  {
   "cell_type": "code",
   "execution_count": 31,
   "id": "8130b3ba",
   "metadata": {
    "scrolled": true
   },
   "outputs": [
    {
     "data": {
      "text/plain": [
       "''"
      ]
     },
     "execution_count": 31,
     "metadata": {},
     "output_type": "execute_result"
    }
   ],
   "source": [
    "Jozsef.kod"
   ]
  },
  {
   "cell_type": "code",
   "execution_count": 32,
   "id": "ef224853",
   "metadata": {},
   "outputs": [],
   "source": [
    "Jozsef.kodgeneralo()"
   ]
  },
  {
   "cell_type": "code",
   "execution_count": 33,
   "id": "a01fc3ba",
   "metadata": {},
   "outputs": [
    {
     "data": {
      "text/plain": [
       "'j4hvmw'"
      ]
     },
     "execution_count": 33,
     "metadata": {},
     "output_type": "execute_result"
    }
   ],
   "source": [
    "Jozsef.kod"
   ]
  },
  {
   "cell_type": "markdown",
   "id": "2be6e128",
   "metadata": {},
   "source": [
    "Természetesen ha valaki csak az Emberek osztályban van benne, akkor hallgatói kód nem készíthető számára a fenti osztálydefiníciók mellett."
   ]
  },
  {
   "cell_type": "code",
   "execution_count": 34,
   "id": "fe850206",
   "metadata": {},
   "outputs": [],
   "source": [
    "Miklos = Emberek(\"Fenyő\", \"Miklós\")"
   ]
  },
  {
   "cell_type": "code",
   "execution_count": 35,
   "id": "b95f9c57",
   "metadata": {
    "scrolled": true
   },
   "outputs": [
    {
     "ename": "AttributeError",
     "evalue": "'Emberek' object has no attribute 'kod'",
     "output_type": "error",
     "traceback": [
      "\u001b[0;31m---------------------------------------------------------------------------\u001b[0m",
      "\u001b[0;31mAttributeError\u001b[0m                            Traceback (most recent call last)",
      "\u001b[0;32m/tmp/ipykernel_4530/966537688.py\u001b[0m in \u001b[0;36m<module>\u001b[0;34m\u001b[0m\n\u001b[0;32m----> 1\u001b[0;31m \u001b[0mMiklos\u001b[0m\u001b[0;34m.\u001b[0m\u001b[0mkod\u001b[0m\u001b[0;34m\u001b[0m\u001b[0;34m\u001b[0m\u001b[0m\n\u001b[0m",
      "\u001b[0;31mAttributeError\u001b[0m: 'Emberek' object has no attribute 'kod'"
     ]
    }
   ],
   "source": [
    "Miklos.kod"
   ]
  },
  {
   "cell_type": "markdown",
   "id": "4dc27695",
   "metadata": {},
   "source": [
    "## Feladat:\n",
    "Módosítsuk a fenti osztály(oka)t úgy, hogy az Emberek/Hallgatok bármely elemére rákérdezve az illető teljes nevét kapjuk vissza."
   ]
  },
  {
   "cell_type": "code",
   "execution_count": 59,
   "id": "2a5a5c0f",
   "metadata": {},
   "outputs": [],
   "source": [
    "Miklos = Emberek(\"Fenyő\", \"Miklós\")\n"
   ]
  },
  {
   "cell_type": "code",
   "execution_count": 60,
   "id": "6d0f9bf3",
   "metadata": {},
   "outputs": [
    {
     "data": {
      "text/plain": [
       "Fenyő Miklós"
      ]
     },
     "execution_count": 60,
     "metadata": {},
     "output_type": "execute_result"
    }
   ],
   "source": [
    "Miklos"
   ]
  },
  {
   "cell_type": "code",
   "execution_count": 61,
   "id": "4e65644f",
   "metadata": {},
   "outputs": [
    {
     "data": {
      "text/plain": [
       "Nádor József"
      ]
     },
     "execution_count": 61,
     "metadata": {},
     "output_type": "execute_result"
    }
   ],
   "source": [
    "Jozsef"
   ]
  },
  {
   "cell_type": "markdown",
   "id": "308dbf55",
   "metadata": {},
   "source": [
    "## Saját adatszerkezetek\n",
    "Az osztály segítségével mi magunk is definiálhatunk mindenféle adatszerkezet-típust. Gyakorlásul nézzük meg, hogyan lehetne sajátkezűleg definiálni úgy egy osztályt, hogy az lényegében ugyanazt tudja, mint a beépített halmaz adatszerkezet. \n",
    "\n",
    "Egy halmazba akárhány dolgot belepakolhatunk, így alkalmazzuk a * jelet a paraméterek megadásánál. Ezeket a dolgokat tegye ki egy listába, de egy elem csak egyszer szerepeljen!"
   ]
  },
  {
   "cell_type": "code",
   "execution_count": 62,
   "id": "84009334",
   "metadata": {},
   "outputs": [],
   "source": [
    "class Halmaz:\n",
    "    def __init__(self, *args):\n",
    "        #self._set = list(args)  #ez nem jó, egyesével azt kell beletenni, ami még nem volt\n",
    "        self.halmaz = []\n",
    "        for x in list(args):\n",
    "            if x not in self.halmaz:\n",
    "                self.halmaz.append(x)\n",
    "                "
   ]
  },
  {
   "cell_type": "code",
   "execution_count": 63,
   "id": "cb0a1252",
   "metadata": {},
   "outputs": [
    {
     "data": {
      "text/plain": [
       "[1, 2, 3]"
      ]
     },
     "execution_count": 63,
     "metadata": {},
     "output_type": "execute_result"
    }
   ],
   "source": [
    "H = Halmaz(1,2,2,3)\n",
    "H.halmaz"
   ]
  },
  {
   "cell_type": "markdown",
   "id": "38afa507",
   "metadata": {},
   "source": [
    "A halmaz elemei már csak egyszer vannak felsorolva, de a szokásos jelölés a kapcsos zárójeles. Ennek megfelelően adjuk meg, hogy hogyan szeretnénk kiírva látni a halmazokat."
   ]
  },
  {
   "cell_type": "code",
   "execution_count": 69,
   "id": "4431f96b",
   "metadata": {},
   "outputs": [],
   "source": [
    "class Halmaz:\n",
    "    def __init__(self, *args):\n",
    "        self.halmaz = []\n",
    "        for x in list(args):\n",
    "            if x not in self.halmaz:\n",
    "                self.halmaz.append(x)\n",
    "                \n",
    "    def __str__(self):\n",
    "        return f\"{{{','.join(map(str, self.halmaz))}}}\"\n",
    "    \n",
    "     \n",
    "    def __repr__(self):\n",
    "        return f\"Halmaz, {len(self.halmaz)} elemmel\""
   ]
  },
  {
   "cell_type": "code",
   "execution_count": 70,
   "id": "a231d91d",
   "metadata": {},
   "outputs": [
    {
     "data": {
      "text/plain": [
       "'0,1,2'"
      ]
     },
     "execution_count": 70,
     "metadata": {},
     "output_type": "execute_result"
    }
   ],
   "source": [
    "','.join(map(str, [0,1,2]))"
   ]
  },
  {
   "cell_type": "code",
   "execution_count": 71,
   "id": "7b100ac5",
   "metadata": {},
   "outputs": [],
   "source": [
    "H = Halmaz(1,2,2,3)"
   ]
  },
  {
   "cell_type": "code",
   "execution_count": 72,
   "id": "ad78c227",
   "metadata": {},
   "outputs": [
    {
     "data": {
      "text/plain": [
       "Halmaz, 3 elemmel"
      ]
     },
     "execution_count": 72,
     "metadata": {},
     "output_type": "execute_result"
    }
   ],
   "source": [
    "H"
   ]
  },
  {
   "cell_type": "markdown",
   "id": "823c0e95",
   "metadata": {},
   "source": [
    "## Feladat:\n",
    "Lehessen a halmazhoz hozzáadni / törölni belőle egy-egy elemet."
   ]
  },
  {
   "cell_type": "code",
   "execution_count": 132,
   "id": "c10aacda",
   "metadata": {},
   "outputs": [],
   "source": [
    "class Halmaz:\n",
    "    def __init__(self, *args):\n",
    "        self.halmaz = []\n",
    "        for x in list(args):\n",
    "            if x not in self.halmaz:\n",
    "                self.halmaz.append(x)\n",
    "                \n",
    "    def __str__(self):\n",
    "        return f\"{{{','.join(map(str, self.halmaz))}}}\"\n",
    "    \n",
    "     \n",
    "    def __repr__(self):\n",
    "        return f\"Halmaz, {len(self.halmaz)} elemmel\"\n",
    "    \n",
    "    def append(self,item):\n",
    "        if item not in self.halmaz:\n",
    "            self.halmaz.append(item)\n",
    "    def delete(self, item):\n",
    "        try:\n",
    "            self.halmaz.remove(item)\n",
    "            #return Halmaz(self.halmaz)\n",
    "        except:\n",
    "            print(f'Nincs benne {item}')"
   ]
  },
  {
   "cell_type": "code",
   "execution_count": 133,
   "id": "254e7064",
   "metadata": {},
   "outputs": [],
   "source": [
    "H=Halmaz(1,1,2,13,10,10,13,421)"
   ]
  },
  {
   "cell_type": "code",
   "execution_count": 134,
   "id": "a041a82f",
   "metadata": {},
   "outputs": [
    {
     "name": "stdout",
     "output_type": "stream",
     "text": [
      "{1,2,13,10,421}\n"
     ]
    }
   ],
   "source": [
    "print(H)"
   ]
  },
  {
   "cell_type": "code",
   "execution_count": 135,
   "id": "3ead80cd",
   "metadata": {},
   "outputs": [],
   "source": [
    "H.delete(10)"
   ]
  },
  {
   "cell_type": "code",
   "execution_count": 136,
   "id": "ce75048f",
   "metadata": {},
   "outputs": [
    {
     "name": "stdout",
     "output_type": "stream",
     "text": [
      "{1,2,13,421}\n"
     ]
    }
   ],
   "source": [
    "print(H)"
   ]
  },
  {
   "cell_type": "markdown",
   "id": "f59c9e9e",
   "metadata": {},
   "source": [
    "## Feladat:\n",
    "Építsd bele az unió és a metszet műveletét! Oldd meg operátortúltöltéssel is! Az `&` operátor legyen a metszet, `|` operátor legyen az unió! Töltsd túl a `^` operátort is, legyen ez a szimmetrikus differencia!"
   ]
  },
  {
   "cell_type": "code",
   "execution_count": 141,
   "id": "0a1f74cd",
   "metadata": {},
   "outputs": [],
   "source": [
    "class Halmaz:\n",
    "    def __init__(self, *args):\n",
    "        self.halmaz = []\n",
    "        for x in list(args):\n",
    "            if x not in self.halmaz:\n",
    "                self.halmaz.append(x)\n",
    "                \n",
    "    def __str__(self):\n",
    "        return f\"{{{','.join(map(str, self.halmaz))}}}\"\n",
    "    \n",
    "     \n",
    "    def __repr__(self):\n",
    "        return f\"Halmaz, {len(self.halmaz)} elemmel\"\n",
    "    \n",
    "    def __and__(self, other):\n",
    "        metszet=Halmaz()\n",
    "        for i in self.halmaz:\n",
    "            if i in other.halmaz:\n",
    "                metszet.append(i)\n",
    "        return metszet\n",
    "    \n",
    "    def append(self,item):\n",
    "        if item not in self.halmaz:\n",
    "            self.halmaz.append(item)\n",
    "    def delete(self, item):\n",
    "        try:\n",
    "            self.halmaz.remove(item)\n",
    "            #return Halmaz(self.halmaz)\n",
    "        except:\n",
    "            print(f'Nincs benne {item}')\n",
    "    \n",
    "    "
   ]
  },
  {
   "cell_type": "code",
   "execution_count": 142,
   "id": "878720ad",
   "metadata": {},
   "outputs": [
    {
     "data": {
      "text/plain": [
       "Halmaz, 2 elemmel"
      ]
     },
     "execution_count": 142,
     "metadata": {},
     "output_type": "execute_result"
    }
   ],
   "source": [
    "Halmaz(1,2,1,22) & Halmaz(1,2,3,4)"
   ]
  },
  {
   "cell_type": "markdown",
   "id": "ee415448",
   "metadata": {},
   "source": [
    "## Feladat:\n",
    "Definiáld a `+`, `-`, `*` és `\\` operátorokat. Ezek jelentsék az elemenkénti összeadást, kivonást, szorzást és osztást. Definiáld ezeket mindkét oldalról, vagyis legyen értelmes az is, hogy `A + 5` és az is hogy `5 + A`, ahol `A` egy halmaz."
   ]
  },
  {
   "cell_type": "code",
   "execution_count": null,
   "id": "46c902a3",
   "metadata": {},
   "outputs": [],
   "source": []
  }
 ],
 "metadata": {
  "kernelspec": {
   "display_name": "Python 3 (ipykernel)",
   "language": "python",
   "name": "python3"
  },
  "language_info": {
   "codemirror_mode": {
    "name": "ipython",
    "version": 3
   },
   "file_extension": ".py",
   "mimetype": "text/x-python",
   "name": "python",
   "nbconvert_exporter": "python",
   "pygments_lexer": "ipython3",
   "version": "3.9.13"
  }
 },
 "nbformat": 4,
 "nbformat_minor": 5
}
