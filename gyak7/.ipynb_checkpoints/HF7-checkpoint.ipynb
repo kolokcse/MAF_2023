{
 "cells": [
  {
   "cell_type": "markdown",
   "id": "0b96eeb9",
   "metadata": {},
   "source": [
    "# Házi feladat\n",
    "\n",
    "Egészítsd ki a megkezdett $2×2$-es mátrixok osztályát (minden részfeladatért már jár részpontszám (3 ért 1 pont, az összesért 1,5 #infláció):\n",
    "*  Lehessen mátrixokat összeadni a `+` operátorral,\n",
    "*  Lehessen mátrixokat összeszorozni a `*` operátorral,\n",
    "*  Lehessen egy mátrix $-1$-szeresét venni a `-` operátorral,\n",
    "*  Lehessen egy mátrix determinánsát számolni az `abs`függvénnyel,\n",
    "*  Lehessen egy mátrix inverzét venni a `~` operátorral (ha a mátrix szinguláris akkor dobjon egy Exceptiont)."
   ]
  },
  {
   "cell_type": "code",
   "execution_count": 43,
   "id": "15b0838a",
   "metadata": {
    "ExecuteTime": {
     "end_time": "2022-11-04T14:01:18.514615Z",
     "start_time": "2022-11-04T14:01:18.495765Z"
    }
   },
   "outputs": [],
   "source": [
    "class Matrix2X2:\n",
    "    def __init__(self, a11=1, a12=0, a21=0, a22=1):\n",
    "        \"\"\"\n",
    "            A matrix:\n",
    "                a11 a12\n",
    "                a21 a22\n",
    "            Az alapertelmezett a 2x2-es identitas matrix.\n",
    "        \"\"\"\n",
    "        self.a11, self.a12 = a11, a12\n",
    "        self.a21, self.a22 = a21, a22\n",
    "    \n",
    "    def __str__(self):\n",
    "        return f\"{self.a11} {self.a12}\\n{self.a21} {self.a22}\\n\"\n",
    "    \n",
    "    def __eq__(self, other):\n",
    "        return self.a11 == other.a11 and self.a12 == other.a12 and self.a21 == other.a21 and self.a22 == other.a22\n",
    "    \n",
    "    # TODO: kiegészíteni az operátorokkal"
   ]
  }
 ],
 "metadata": {
  "kernelspec": {
   "display_name": "Python 3 (ipykernel)",
   "language": "python",
   "name": "python3"
  },
  "language_info": {
   "codemirror_mode": {
    "name": "ipython",
    "version": 3
   },
   "file_extension": ".py",
   "mimetype": "text/x-python",
   "name": "python",
   "nbconvert_exporter": "python",
   "pygments_lexer": "ipython3",
   "version": "3.9.13"
  },
  "latex_envs": {
   "LaTeX_envs_menu_present": true,
   "autoclose": true,
   "autocomplete": true,
   "bibliofile": "biblio.bib",
   "cite_by": "apalike",
   "current_citInitial": 1,
   "eqLabelWithNumbers": true,
   "eqNumInitial": 1,
   "hotkeys": {
    "equation": "Ctrl-E",
    "itemize": "Ctrl-I"
   },
   "labels_anchors": false,
   "latex_user_defs": false,
   "report_style_numbering": true,
   "user_envs_cfg": false
  },
  "toc": {
   "base_numbering": 1,
   "nav_menu": {},
   "number_sections": true,
   "sideBar": true,
   "skip_h1_title": false,
   "title_cell": "Table of Contents",
   "title_sidebar": "Contents",
   "toc_cell": false,
   "toc_position": {},
   "toc_section_display": true,
   "toc_window_display": false
  },
  "varInspector": {
   "cols": {
    "lenName": 16,
    "lenType": 16,
    "lenVar": 40
   },
   "kernels_config": {
    "python": {
     "delete_cmd_postfix": "",
     "delete_cmd_prefix": "del ",
     "library": "var_list.py",
     "varRefreshCmd": "print(var_dic_list())"
    },
    "r": {
     "delete_cmd_postfix": ") ",
     "delete_cmd_prefix": "rm(",
     "library": "var_list.r",
     "varRefreshCmd": "cat(var_dic_list()) "
    }
   },
   "types_to_exclude": [
    "module",
    "function",
    "builtin_function_or_method",
    "instance",
    "_Feature"
   ],
   "window_display": false
  }
 },
 "nbformat": 4,
 "nbformat_minor": 5
}
