{
 "cells": [
  {
   "cell_type": "markdown",
   "id": "b89a3bad",
   "metadata": {},
   "source": [
    "# 4.2 gyakorlat"
   ]
  },
  {
   "cell_type": "markdown",
   "id": "52bd2da3",
   "metadata": {},
   "source": [
    "## A szótár\n",
    "\n",
    "Egy tárgyból az A és B csopotra osztott hallgatók tesztet írtak. Az A csoportban Martha 89, Daniel 69, Tom 45 pontot ért el, a B csoportban Lisa 57, Richard 98 és Chris 70 pontot szerzett. Tároljuk el egy-egy szótárban a két csoport eredményeit!  "
   ]
  },
  {
   "cell_type": "code",
   "execution_count": 1,
   "id": "60026439",
   "metadata": {},
   "outputs": [],
   "source": [
    "csoportA = {'Martha': 89, 'Daniel': 69, 'Tom': 45}\n",
    "csoportB = {'Lisa': 57, 'Richard': 98, 'Chris': 70} "
   ]
  },
  {
   "cell_type": "code",
   "execution_count": 2,
   "id": "67286626",
   "metadata": {},
   "outputs": [
    {
     "data": {
      "text/plain": [
       "{'Martha': 89, 'Daniel': 69, 'Tom': 45}"
      ]
     },
     "execution_count": 2,
     "metadata": {},
     "output_type": "execute_result"
    }
   ],
   "source": [
    "csoportA"
   ]
  },
  {
   "cell_type": "code",
   "execution_count": 3,
   "id": "291f70f7",
   "metadata": {},
   "outputs": [
    {
     "data": {
      "text/plain": [
       "{'Lisa': 57, 'Richard': 98, 'Chris': 70}"
      ]
     },
     "execution_count": 3,
     "metadata": {},
     "output_type": "execute_result"
    }
   ],
   "source": [
    "csoportB"
   ]
  },
  {
   "cell_type": "markdown",
   "id": "6366a81b",
   "metadata": {},
   "source": [
    "Később írt Alex és Fjodor a B csoportban, őt is belefoglaljuk a csoportB szótárba:"
   ]
  },
  {
   "cell_type": "code",
   "execution_count": 4,
   "id": "fd3e585c",
   "metadata": {},
   "outputs": [],
   "source": [
    "csoportB.update({'Alex': 76})"
   ]
  },
  {
   "cell_type": "code",
   "execution_count": 5,
   "id": "44ec5ce6",
   "metadata": {},
   "outputs": [],
   "source": [
    "csoportB[\"Fjodor\"] = 63"
   ]
  },
  {
   "cell_type": "code",
   "execution_count": 6,
   "id": "811e199b",
   "metadata": {},
   "outputs": [
    {
     "data": {
      "text/plain": [
       "{'Lisa': 57, 'Richard': 98, 'Chris': 70, 'Alex': 76, 'Fjodor': 63}"
      ]
     },
     "execution_count": 6,
     "metadata": {},
     "output_type": "execute_result"
    }
   ],
   "source": [
    "csoportB"
   ]
  },
  {
   "cell_type": "markdown",
   "id": "cd60daa7",
   "metadata": {},
   "source": [
    "Az A csoportban Tom 68, Daniel 70 pontosra javította a dolgozatát:"
   ]
  },
  {
   "cell_type": "code",
   "execution_count": 7,
   "id": "3ee814ea",
   "metadata": {},
   "outputs": [],
   "source": [
    "csoportA.update({'Tom': 68})"
   ]
  },
  {
   "cell_type": "code",
   "execution_count": 8,
   "id": "61144ae5",
   "metadata": {},
   "outputs": [],
   "source": [
    "csoportA[\"Daniel\"] = 70"
   ]
  },
  {
   "cell_type": "code",
   "execution_count": 9,
   "id": "8fd038c0",
   "metadata": {},
   "outputs": [
    {
     "data": {
      "text/plain": [
       "{'Martha': 89, 'Daniel': 70, 'Tom': 68}"
      ]
     },
     "execution_count": 9,
     "metadata": {},
     "output_type": "execute_result"
    }
   ],
   "source": [
    "csoportA"
   ]
  },
  {
   "cell_type": "markdown",
   "id": "9258aec3",
   "metadata": {},
   "source": [
    "A két csoport eredményeit egy szótárban egyesítjük:"
   ]
  },
  {
   "cell_type": "code",
   "execution_count": 10,
   "id": "3675f8d5",
   "metadata": {},
   "outputs": [],
   "source": [
    "hallgatok_eredmenyek = csoportA | csoportB"
   ]
  },
  {
   "cell_type": "code",
   "execution_count": 11,
   "id": "407586d6",
   "metadata": {},
   "outputs": [
    {
     "data": {
      "text/plain": [
       "{'Martha': 89,\n",
       " 'Daniel': 70,\n",
       " 'Tom': 68,\n",
       " 'Lisa': 57,\n",
       " 'Richard': 98,\n",
       " 'Chris': 70,\n",
       " 'Alex': 76,\n",
       " 'Fjodor': 63}"
      ]
     },
     "execution_count": 11,
     "metadata": {},
     "output_type": "execute_result"
    }
   ],
   "source": [
    "hallgatok_eredmenyek"
   ]
  },
  {
   "cell_type": "markdown",
   "id": "6825d232",
   "metadata": {},
   "source": [
    "Kérdezzük le Lisa pontszámát!"
   ]
  },
  {
   "cell_type": "code",
   "execution_count": 12,
   "id": "af36441c",
   "metadata": {},
   "outputs": [
    {
     "data": {
      "text/plain": [
       "57"
      ]
     },
     "execution_count": 12,
     "metadata": {},
     "output_type": "execute_result"
    }
   ],
   "source": [
    "hallgatok_eredmenyek.get(\"Lisa\")"
   ]
  },
  {
   "cell_type": "code",
   "execution_count": 13,
   "id": "4e17d819",
   "metadata": {},
   "outputs": [
    {
     "data": {
      "text/plain": [
       "57"
      ]
     },
     "execution_count": 13,
     "metadata": {},
     "output_type": "execute_result"
    }
   ],
   "source": [
    "hallgatok_eredmenyek[\"Lisa\"]"
   ]
  },
  {
   "cell_type": "markdown",
   "id": "fa778005",
   "metadata": {},
   "source": [
    "Írassuk ki az összes hallgató névsorát, majd csak a pontszámaikat!"
   ]
  },
  {
   "cell_type": "code",
   "execution_count": 14,
   "id": "027accb4",
   "metadata": {},
   "outputs": [
    {
     "data": {
      "text/plain": [
       "dict_keys(['Martha', 'Daniel', 'Tom', 'Lisa', 'Richard', 'Chris', 'Alex', 'Fjodor'])"
      ]
     },
     "execution_count": 14,
     "metadata": {},
     "output_type": "execute_result"
    }
   ],
   "source": [
    "hallgatok_eredmenyek.keys()"
   ]
  },
  {
   "cell_type": "markdown",
   "id": "c765805b",
   "metadata": {},
   "source": [
    "Ez nem lista, de az is készíthető belőle:"
   ]
  },
  {
   "cell_type": "code",
   "execution_count": 15,
   "id": "5920b3ec",
   "metadata": {},
   "outputs": [
    {
     "data": {
      "text/plain": [
       "['Martha', 'Daniel', 'Tom', 'Lisa', 'Richard', 'Chris', 'Alex', 'Fjodor']"
      ]
     },
     "execution_count": 15,
     "metadata": {},
     "output_type": "execute_result"
    }
   ],
   "source": [
    "list(hallgatok_eredmenyek.keys())"
   ]
  },
  {
   "cell_type": "code",
   "execution_count": 16,
   "id": "598253ae",
   "metadata": {},
   "outputs": [
    {
     "data": {
      "text/plain": [
       "dict_values([89, 70, 68, 57, 98, 70, 76, 63])"
      ]
     },
     "execution_count": 16,
     "metadata": {},
     "output_type": "execute_result"
    }
   ],
   "source": [
    "hallgatok_eredmenyek.values()"
   ]
  },
  {
   "cell_type": "code",
   "execution_count": 16,
   "id": "3f04270d",
   "metadata": {},
   "outputs": [
    {
     "data": {
      "text/plain": [
       "[89, 70, 68, 57, 98, 70, 76, 63]"
      ]
     },
     "execution_count": 16,
     "metadata": {},
     "output_type": "execute_result"
    }
   ],
   "source": [
    "list(hallgatok_eredmenyek.values())"
   ]
  },
  {
   "cell_type": "markdown",
   "id": "3036f53f",
   "metadata": {},
   "source": [
    "Írassuk ki az items metódussal az összes hallgató eredményét (név, pontszám) formában!"
   ]
  },
  {
   "cell_type": "code",
   "execution_count": 17,
   "id": "4a0bb508",
   "metadata": {},
   "outputs": [
    {
     "data": {
      "text/plain": [
       "dict_items([('Martha', 89), ('Daniel', 70), ('Tom', 68), ('Lisa', 57), ('Richard', 98), ('Chris', 70), ('Alex', 76), ('Fjodor', 63)])"
      ]
     },
     "execution_count": 17,
     "metadata": {},
     "output_type": "execute_result"
    }
   ],
   "source": [
    "hallgatok_eredmenyek.items()"
   ]
  },
  {
   "cell_type": "markdown",
   "id": "2a16ff63",
   "metadata": {},
   "source": [
    "## Feladat: \n",
    "Most szövegesen is jelenjen meg mindez az információ: \"Martha 89, Daniel 69,... Alex 76 pontot ért el.\""
   ]
  },
  {
   "cell_type": "code",
   "execution_count": 20,
   "id": "5203129e",
   "metadata": {},
   "outputs": [
    {
     "name": "stdout",
     "output_type": "stream",
     "text": [
      "Martha 89,\n",
      "Daniel 70,\n",
      "Tom 68,\n",
      "Lisa 57,\n",
      "Richard 98,\n",
      "Chris 70,\n",
      "Alex 76,\n",
      "Fjodor 63,\n",
      "pontot értek el.\n"
     ]
    }
   ],
   "source": [
    "for it in hallgatok_eredmenyek.items():\n",
    "    print(it[0]+' '+ str(it[1])+',')\n",
    "print('pontot értek el.')"
   ]
  },
  {
   "cell_type": "markdown",
   "id": "d18dec86",
   "metadata": {},
   "source": [
    "## Feladat:\n",
    "Írjunk kódrészletet a legjobb eredményt elért hallgató megtalálására!"
   ]
  },
  {
   "cell_type": "code",
   "execution_count": 26,
   "id": "1277db36",
   "metadata": {},
   "outputs": [
    {
     "name": "stdout",
     "output_type": "stream",
     "text": [
      "Richard 98\n"
     ]
    }
   ],
   "source": [
    "maxpont = 0\n",
    "hallgato= \"\"\n",
    "for k,v in hallgatok_eredmenyek.items():\n",
    "    if v > maxpont:\n",
    "        maxpont = v\n",
    "        hallgato = k\n",
    "print(hallgato, maxpont)"
   ]
  },
  {
   "cell_type": "markdown",
   "id": "abd03c6b",
   "metadata": {},
   "source": [
    "1) max() fügvénnyel"
   ]
  },
  {
   "cell_type": "markdown",
   "id": "e310ff2a",
   "metadata": {},
   "source": [
    "Ez nem jó, mert a kulcsok között keresi a maxot:"
   ]
  },
  {
   "cell_type": "code",
   "execution_count": 27,
   "id": "c3bd6304",
   "metadata": {},
   "outputs": [
    {
     "data": {
      "text/plain": [
       "'Tom'"
      ]
     },
     "execution_count": 27,
     "metadata": {},
     "output_type": "execute_result"
    }
   ],
   "source": [
    "max(hallgatok_eredmenyek)"
   ]
  },
  {
   "cell_type": "markdown",
   "id": "a4626b6b",
   "metadata": {},
   "source": [
    "max értéket a vissza tudjuk adni:"
   ]
  },
  {
   "cell_type": "code",
   "execution_count": 31,
   "id": "ff240277",
   "metadata": {},
   "outputs": [
    {
     "data": {
      "text/plain": [
       "98"
      ]
     },
     "execution_count": 31,
     "metadata": {},
     "output_type": "execute_result"
    }
   ],
   "source": [
    "max(hallgatok_eredmenyek.values())"
   ]
  },
  {
   "cell_type": "code",
   "execution_count": 34,
   "id": "547126ac",
   "metadata": {},
   "outputs": [
    {
     "data": {
      "text/plain": [
       "'Richard'"
      ]
     },
     "execution_count": 34,
     "metadata": {},
     "output_type": "execute_result"
    }
   ],
   "source": [
    "max(hallgatok_eredmenyek, key=hallgatok_eredmenyek.get)"
   ]
  },
  {
   "cell_type": "markdown",
   "id": "3204fa89",
   "metadata": {},
   "source": [
    "2) lambda függvénnyel"
   ]
  },
  {
   "cell_type": "code",
   "execution_count": 35,
   "id": "7fae3c14",
   "metadata": {},
   "outputs": [
    {
     "data": {
      "text/plain": [
       "'Richard'"
      ]
     },
     "execution_count": 35,
     "metadata": {},
     "output_type": "execute_result"
    }
   ],
   "source": [
    "max(hallgatok_eredmenyek, key= lambda x:hallgatok_eredmenyek[x])"
   ]
  },
  {
   "cell_type": "markdown",
   "id": "62a7d9cd",
   "metadata": {},
   "source": [
    "Melyik betű hányszor szerepel az alábbi mondtaban? _\"Amikor egy reggel Gregor Samsa nyugtalan álmából felébredt, szörnyű féreggé változva találta magát ágyában.\"_ Melyik a leggyakoribb?\n",
    "\n",
    "_Hint: az `isalpha()` függvénnyel lehet egy stringről eldönteni, hogy csak betűket tartalmaz-e._"
   ]
  },
  {
   "cell_type": "code",
   "execution_count": 36,
   "id": "2970ccc8",
   "metadata": {},
   "outputs": [],
   "source": [
    "s = \"Amikor egy reggel Gregor Samsa nyugtalan álmából felébredt, szörnyű féreggé változva találta magát ágyában.\""
   ]
  },
  {
   "cell_type": "code",
   "execution_count": 37,
   "id": "3e77d9b4",
   "metadata": {},
   "outputs": [
    {
     "data": {
      "text/plain": [
       "('g', 10)"
      ]
     },
     "execution_count": 37,
     "metadata": {},
     "output_type": "execute_result"
    }
   ],
   "source": [
    "chars = {}\n",
    "maxf = 0\n",
    "maxc = \"\"\n",
    "for c in s.lower():\n",
    "    if not c.isalpha():\n",
    "        continue\n",
    "    if c not in chars.keys():\n",
    "        chars[c] = 1\n",
    "    else:\n",
    "        chars[c] += 1\n",
    "    if chars[c] > maxf:\n",
    "        maxf = chars[c]\n",
    "        maxc = c\n",
    "maxc, maxf"
   ]
  },
  {
   "cell_type": "markdown",
   "id": "0a059968",
   "metadata": {},
   "source": [
    "### Lista és szótár kombinálása\n",
    "\n",
    "A kulcs sosem lehet lista típusú, de az érték igen. Pl. több teszt eredményeit eltárolhatjuk így:"
   ]
  },
  {
   "cell_type": "markdown",
   "id": "c7673c77",
   "metadata": {},
   "source": [
    "A következő szótárban az évben megírt dolgozatok pontszámai találhatók:"
   ]
  },
  {
   "cell_type": "code",
   "execution_count": 38,
   "id": "1df5d240",
   "metadata": {},
   "outputs": [],
   "source": [
    "hallgatok_eves_eredmenyek = {'Martha': [89, 92,33,22,41,55], 'Daniel': [69, 82,42,45,60,64], 'Tom': [68, 70,66,33,54,35], 'Lisa': [57,20,11,31,50,32], 'Richard': [98,84,77,96,89,79], 'Chris': [70,64,54,76,77,67]} "
   ]
  },
  {
   "cell_type": "markdown",
   "id": "40a422e7",
   "metadata": {},
   "source": [
    "## Feladatok:\n",
    "\n",
    "1) Mennyi pontos lett a legeslegjobb dolgozat?"
   ]
  },
  {
   "cell_type": "code",
   "execution_count": 44,
   "id": "1cca9c77",
   "metadata": {},
   "outputs": [
    {
     "data": {
      "text/plain": [
       "98"
      ]
     },
     "execution_count": 44,
     "metadata": {},
     "output_type": "execute_result"
    }
   ],
   "source": [
    "max_pont=0\n",
    "for pontok in hallgatok_eves_eredmenyek.values():\n",
    "    if max_pont<max(pontok):\n",
    "        max_pont=max(pontok)\n",
    "max_pont"
   ]
  },
  {
   "cell_type": "markdown",
   "id": "d7f29c2f",
   "metadata": {},
   "source": [
    "2) Ki teljesített a legjobban?"
   ]
  },
  {
   "cell_type": "code",
   "execution_count": 47,
   "id": "b8184bb7",
   "metadata": {},
   "outputs": [
    {
     "data": {
      "text/plain": [
       "('Richard', 523)"
      ]
     },
     "execution_count": 47,
     "metadata": {},
     "output_type": "execute_result"
    }
   ],
   "source": [
    "legjobb_pont=0\n",
    "legjobb=''\n",
    "for hallgato in hallgatok_eves_eredmenyek.items():\n",
    "    s=0\n",
    "    for pont in hallgato[1]:\n",
    "        s+=pont\n",
    "    if legjobb_pont<s:\n",
    "        legjobb_pont=s\n",
    "        legjobb=hallgato[0]\n",
    "legjobb, legjobb_pont"
   ]
  },
  {
   "cell_type": "markdown",
   "id": "f54115a8",
   "metadata": {},
   "source": [
    "Vagy elegánsan:"
   ]
  },
  {
   "cell_type": "code",
   "execution_count": 48,
   "id": "b9fcb119",
   "metadata": {},
   "outputs": [
    {
     "data": {
      "text/plain": [
       "'Richard'"
      ]
     },
     "execution_count": 48,
     "metadata": {},
     "output_type": "execute_result"
    }
   ],
   "source": [
    "max(hallgatok_eves_eredmenyek, key=lambda x:sum(hallgatok_eves_eredmenyek[x]))"
   ]
  },
  {
   "cell_type": "markdown",
   "id": "ae6c03a5",
   "metadata": {},
   "source": [
    "3) átlagosan melyik feladatsor sikerült a legnehezebbre?"
   ]
  },
  {
   "cell_type": "code",
   "execution_count": 49,
   "id": "feafc097",
   "metadata": {},
   "outputs": [
    {
     "data": {
      "text/plain": [
       "2"
      ]
     },
     "execution_count": 49,
     "metadata": {},
     "output_type": "execute_result"
    }
   ],
   "source": [
    "#hozzunk létre egy dictionaryt a feladatosorknak és számoljuk össze a pontokat\n",
    "feladatsorok={}\n",
    "for hallgato in hallgatok_eves_eredmenyek.items():\n",
    "    for i,pont in enumerate(hallgato[1]):\n",
    "        if i not in feladatsorok:\n",
    "            feladatsorok[i] = pont\n",
    "        else:\n",
    "            feladatsorok[i] += pont\n",
    "min(feladatsorok, key=feladatsorok.get)"
   ]
  },
  {
   "cell_type": "markdown",
   "id": "7376a5db",
   "metadata": {},
   "source": [
    "4) Ahhoz, hogy elégségest tudjunk adni, az összpontszámnak el kell érnie az elérhető pontok felét (300) és minden dolgozatnál legalább 20 pontot kell elérni. Kiknek sikerült a tárgy?"
   ]
  },
  {
   "cell_type": "code",
   "execution_count": 50,
   "id": "4edb3ed2",
   "metadata": {},
   "outputs": [],
   "source": [
    "#ToDo"
   ]
  },
  {
   "cell_type": "markdown",
   "id": "2d8cc84d",
   "metadata": {},
   "source": [
    "Az érték szótár is lehet, pl. tegyük fel, hogy termékek nyilvántartásánál több különböző jellemzőt is el szeretnénk tárolni:"
   ]
  },
  {
   "cell_type": "code",
   "execution_count": 51,
   "id": "e2ede37b",
   "metadata": {},
   "outputs": [],
   "source": [
    "termek = {\"banan\": {\"ar\": 599, \"mennyiség\": 5}, \"alma\": {\"ar\": 459, \"mennyiseg\": 3}}"
   ]
  },
  {
   "cell_type": "code",
   "execution_count": 52,
   "id": "3530b09c",
   "metadata": {},
   "outputs": [
    {
     "data": {
      "text/plain": [
       "{'ar': 599, 'mennyiség': 5}"
      ]
     },
     "execution_count": 52,
     "metadata": {},
     "output_type": "execute_result"
    }
   ],
   "source": [
    "termek[\"banan\"]"
   ]
  },
  {
   "cell_type": "markdown",
   "id": "0dae54b6",
   "metadata": {},
   "source": [
    "A banán árára ekkor dupla kulccsal kérdezhetünk rá:"
   ]
  },
  {
   "cell_type": "code",
   "execution_count": 53,
   "id": "39d60d29",
   "metadata": {},
   "outputs": [
    {
     "data": {
      "text/plain": [
       "599"
      ]
     },
     "execution_count": 53,
     "metadata": {},
     "output_type": "execute_result"
    }
   ],
   "source": [
    "termek[\"banan\"][\"ar\"]"
   ]
  }
 ],
 "metadata": {
  "kernelspec": {
   "display_name": "Python 3 (ipykernel)",
   "language": "python",
   "name": "python3"
  },
  "language_info": {
   "codemirror_mode": {
    "name": "ipython",
    "version": 3
   },
   "file_extension": ".py",
   "mimetype": "text/x-python",
   "name": "python",
   "nbconvert_exporter": "python",
   "pygments_lexer": "ipython3",
   "version": "3.9.13"
  }
 },
 "nbformat": 4,
 "nbformat_minor": 5
}
