{
 "cells": [
  {
   "cell_type": "markdown",
   "id": "a121a6f1",
   "metadata": {},
   "source": [
    "# 4. Házi feladat\n",
    "\n",
    "**a)** Tárold el egy szótárban, hogy 1-től 100-ig az összes egész szám valódi osztóit és valódi osztóinak a számát az alábbi formában:\n",
    "```\n",
    "{   \n",
    "    1  : {\"valodi osztok\" : [],\n",
    "          \"valodi osztok szama\" : 0},\n",
    "    ...\n",
    "    10 : {\"valodi osztok\" : [2, 5],\n",
    "          \"valodi osztok szama\" : 2},\n",
    "    ...\n",
    "    100: {\"valodi osztok\" : [2, 4, 5, 10, 20, 25, 50],\n",
    "          \"valodi osztok szama\" : 7},\n",
    "}\n",
    "```\n",
    "**b)** Melyik számoknak van a legtöbb valódi osztója 1 és 100 között, és ez hány darab valódi osztó?\n",
    "\n",
    "\n",
    "**c)** Kicsi módosításaként készíts egy hasonló szótárat, azonban ebben ne a valódi osztók szerepeljenek, hanem a prím osztók. _Annak eldöntésére, hogy egy szám prím-e, ne használj semmilyen egyéb python függvényt, csak a szótáradat!_"
   ]
  },
  {
   "cell_type": "code",
   "execution_count": null,
   "id": "2f26caa2",
   "metadata": {},
   "outputs": [],
   "source": [
    "# a)"
   ]
  },
  {
   "cell_type": "code",
   "execution_count": null,
   "id": "f776848c",
   "metadata": {},
   "outputs": [],
   "source": [
    "# b)"
   ]
  },
  {
   "cell_type": "code",
   "execution_count": 1,
   "id": "37b57278",
   "metadata": {},
   "outputs": [],
   "source": [
    "# c)"
   ]
  },
  {
   "cell_type": "markdown",
   "id": "5e5606c4",
   "metadata": {},
   "source": [
    "### Szorgalmi (+0,5 pont):\n",
    "\n",
    "Adott egy n oszlopból álló kerítés és k szín. Határozd meg a kerítés kifestésének módjainak számát úgy, hogy legfeljebb 2 egymás melletti oszlopot ugyanazzal a színnel lehet kifesteni. Mivel a válasz nagy lehet, adjuk vissza modulo 10^9 + 7 értéket. Írj a feladatra függvényt, amelynek inputja n,k és outputja a lehetséges színezések száma mod 10^9 + 7!"
   ]
  },
  {
   "cell_type": "code",
   "execution_count": null,
   "id": "646458e3",
   "metadata": {},
   "outputs": [],
   "source": []
  }
 ],
 "metadata": {
  "kernelspec": {
   "display_name": "Python 3 (ipykernel)",
   "language": "python",
   "name": "python3"
  },
  "language_info": {
   "codemirror_mode": {
    "name": "ipython",
    "version": 3
   },
   "file_extension": ".py",
   "mimetype": "text/x-python",
   "name": "python",
   "nbconvert_exporter": "python",
   "pygments_lexer": "ipython3",
   "version": "3.9.13"
  }
 },
 "nbformat": 4,
 "nbformat_minor": 5
}
