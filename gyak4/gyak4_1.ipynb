{
 "cells": [
  {
   "cell_type": "markdown",
   "id": "e153307b",
   "metadata": {},
   "source": [
    "# 4. gyakorlat\n",
    "\n",
    "## Függvények\n",
    "\n",
    "A függvény olyan, névvel ellátott kódrészlet, amelyet a nevére hivatkozva akárhányszor végrehajthatunk. Ezzel elkerülhetjük a fölösleges ismétléseket, valamint összetett számításokat egyszeri utasítás mögé rejthetünk.\n",
    "\n",
    "A függvényt először definiáljuk, majd végrehajtjuk.\n",
    "\n",
    "A következő kódrészlet egy olyan egyszerű függvény definícióját tartalmazza, amely csak kiír valamit a képernyőre."
   ]
  },
  {
   "cell_type": "code",
   "execution_count": 1,
   "id": "d7874240",
   "metadata": {},
   "outputs": [],
   "source": [
    "def haha():\n",
    "    print('HA'*20)"
   ]
  },
  {
   "cell_type": "markdown",
   "id": "b9aa806b",
   "metadata": {},
   "source": [
    "A def utasítás után a függvény neve következik, majd kerek zárójel és kettőspont. A függvényben végrehajtandó utasításblokkot itt is beljebb kezdjük. Enterre még semmi sem történik, ehhez végre kell hajtanunk (meg kell hívnunk) a függvényt. Ehhez a függvény nevét, utána pedig üres kerek zárójelet kell beírnunk:"
   ]
  },
  {
   "cell_type": "code",
   "execution_count": 2,
   "id": "042ac646",
   "metadata": {},
   "outputs": [
    {
     "name": "stdout",
     "output_type": "stream",
     "text": [
      "HAHAHAHAHAHAHAHAHAHAHAHAHAHAHAHAHAHAHAHA\n"
     ]
    }
   ],
   "source": [
    "haha()"
   ]
  },
  {
   "cell_type": "markdown",
   "id": "de542e02",
   "metadata": {},
   "source": [
    "Ennek a függvénynek nem volt bemenete. Legtöbbször azonban szokott lenni egy vagy több bemenő adata is egy függvénynek. Pl. módosítsuk a haha függvényt úgy, hogy a függvény hívásakor megadhassuk a nevetés erősségét (vagyis azt, hogy hányszor íródjon ki a képernyőre a 'HA' sztring):"
   ]
  },
  {
   "cell_type": "code",
   "execution_count": 3,
   "id": "a57fad83",
   "metadata": {},
   "outputs": [],
   "source": [
    "def haha(erosseg):\n",
    "    print('HA'*erosseg)"
   ]
  },
  {
   "cell_type": "markdown",
   "id": "4b87f85f",
   "metadata": {},
   "source": [
    "Azt a változót, amely a függvény neve után zárójelben szerepel, a függvény paraméterének nevezzük, ez azt az értéket fogja majd felvenni, amelyet a felhasználó a függvény neve után zárójelben megad a függvény hívásakor. Elnevezése: argumentum. Hívjuk meg a haha függvényt pl. a következő argumentumokkal: 1, 5, 30."
   ]
  },
  {
   "cell_type": "code",
   "execution_count": 4,
   "id": "67285809",
   "metadata": {},
   "outputs": [
    {
     "name": "stdout",
     "output_type": "stream",
     "text": [
      "HA\n"
     ]
    }
   ],
   "source": [
    "haha(1)"
   ]
  },
  {
   "cell_type": "code",
   "execution_count": 5,
   "id": "69f27d82",
   "metadata": {},
   "outputs": [
    {
     "name": "stdout",
     "output_type": "stream",
     "text": [
      "HAHAHAHAHA\n"
     ]
    }
   ],
   "source": [
    "haha(5)"
   ]
  },
  {
   "cell_type": "code",
   "execution_count": 6,
   "id": "4e500f32",
   "metadata": {},
   "outputs": [
    {
     "name": "stdout",
     "output_type": "stream",
     "text": [
      "HAHAHAHAHAHAHAHAHAHAHAHAHAHAHAHAHAHAHAHAHAHAHAHAHAHAHAHAHAHA\n"
     ]
    }
   ],
   "source": [
    "haha(30)"
   ]
  },
  {
   "cell_type": "code",
   "execution_count": 7,
   "id": "a21e403e",
   "metadata": {},
   "outputs": [
    {
     "ename": "TypeError",
     "evalue": "haha() missing 1 required positional argument: 'erosseg'",
     "output_type": "error",
     "traceback": [
      "\u001b[0;31m---------------------------------------------------------------------------\u001b[0m",
      "\u001b[0;31mTypeError\u001b[0m                                 Traceback (most recent call last)",
      "\u001b[0;32m/tmp/ipykernel_4411/592970877.py\u001b[0m in \u001b[0;36m<module>\u001b[0;34m\u001b[0m\n\u001b[0;32m----> 1\u001b[0;31m \u001b[0mhaha\u001b[0m\u001b[0;34m(\u001b[0m\u001b[0;34m)\u001b[0m\u001b[0;34m\u001b[0m\u001b[0;34m\u001b[0m\u001b[0m\n\u001b[0m",
      "\u001b[0;31mTypeError\u001b[0m: haha() missing 1 required positional argument: 'erosseg'"
     ]
    }
   ],
   "source": [
    "haha()"
   ]
  },
  {
   "cell_type": "markdown",
   "id": "0fc12e6b",
   "metadata": {},
   "source": [
    "Láthatjuk, hogy ha a függvénynek van paramétere, akkor az üres zárójellel nem tudjuk meghívni, a fordító hiányolja az argumentumot. Kivétel ez alól az az eset, amikor a függvény definiálásakor megadunk egy alapértelmezett értéket a paraméternek, mert ekkor üres zárójel esetén ezzel az alapértelmezett értékkel fog dolgozni."
   ]
  },
  {
   "cell_type": "code",
   "execution_count": 8,
   "id": "ca92d2e3",
   "metadata": {},
   "outputs": [],
   "source": [
    "def haha(erosseg=10):\n",
    "    print('HA'*erosseg)"
   ]
  },
  {
   "cell_type": "code",
   "execution_count": 9,
   "id": "e9f31cea",
   "metadata": {},
   "outputs": [
    {
     "name": "stdout",
     "output_type": "stream",
     "text": [
      "HAHAHAHAHAHAHAHAHAHA\n"
     ]
    }
   ],
   "source": [
    "haha()"
   ]
  },
  {
   "cell_type": "markdown",
   "id": "af98c5fb",
   "metadata": {},
   "source": [
    "Nézzünk példát több bemenő adattal rendelkező függvényre! Az alábbi függvény elosztja x-et y-nal. Miután definiáltuk, rögtön meg is hívjuk x = 1 és y = 2 argumentummal:"
   ]
  },
  {
   "cell_type": "code",
   "execution_count": null,
   "id": "43e24a48",
   "metadata": {},
   "outputs": [],
   "source": [
    "def osztas(x,y):\n",
    "    print(x/y)\n",
    "osztas(1,2)"
   ]
  },
  {
   "cell_type": "markdown",
   "id": "9602f9ac",
   "metadata": {},
   "source": [
    "Az eddigi példákban szereplő függvények csak kiírtak valamit a képernyőre, de nem adtak vissza semmit. Jó lenne, ha az osztás eredménye belekerülne egy változóba, amivel aztán szükség esetén tovább dolgozhatnánk. (Hangsúlyozzuk, hogy az ilyen, ún. visszatérési érték létezése minőségileg más, mint a puszta képernyőre íratás.) Próbálkozzunk így:"
   ]
  },
  {
   "cell_type": "code",
   "execution_count": null,
   "id": "247f5453",
   "metadata": {},
   "outputs": [],
   "source": [
    "def osztas(x,y):\n",
    "    eredmeny = x/y"
   ]
  },
  {
   "cell_type": "code",
   "execution_count": null,
   "id": "11792b95",
   "metadata": {},
   "outputs": [],
   "source": [
    "osztas(1,2)"
   ]
  },
  {
   "cell_type": "markdown",
   "id": "4b62669c",
   "metadata": {},
   "source": [
    "Semmit nem kaptunk, illetve ha rákérdezünk osztas(1,2) típusára, akkor látjuk, hogy az None, ami az érték hiányára utal."
   ]
  },
  {
   "cell_type": "code",
   "execution_count": null,
   "id": "e3a0d17a",
   "metadata": {},
   "outputs": [],
   "source": [
    "type(osztas(1,2))"
   ]
  },
  {
   "cell_type": "markdown",
   "id": "4bbb90df",
   "metadata": {},
   "source": [
    "Ez tehát így nem működik, helyette a következőt kell írnunk:"
   ]
  },
  {
   "cell_type": "code",
   "execution_count": 10,
   "id": "dd3d83a4",
   "metadata": {},
   "outputs": [],
   "source": [
    "def osztas(x,y):\n",
    "    return x/y"
   ]
  },
  {
   "cell_type": "markdown",
   "id": "9c88207c",
   "metadata": {},
   "source": [
    "A függvény meghívásakor a függvény visszaadja azt, amit a return után álló kifejezésre kapott, majd befejezi a függvény végrehajtását. (Ha tehát a return után, a def sora utáni, beljebb kezdett blokkban még van valami, az nem hajtódik végre.) Fontos azt is hangsúlyozni, hogy egy függvény csak egy értéket adhat vissza. (Igaz, az lehet tuple (rendezett n-es) is, lásd később.)\n",
    "\n",
    "Most már meghívhatjuk a fenti függvényt, és az eredményt beletehetjük pl. egy n nevű változóba:"
   ]
  },
  {
   "cell_type": "code",
   "execution_count": 11,
   "id": "299614ef",
   "metadata": {},
   "outputs": [],
   "source": [
    "n = osztas(1,2)"
   ]
  },
  {
   "cell_type": "code",
   "execution_count": 12,
   "id": "904615ee",
   "metadata": {},
   "outputs": [
    {
     "data": {
      "text/plain": [
       "0.5"
      ]
     },
     "execution_count": 12,
     "metadata": {},
     "output_type": "execute_result"
    }
   ],
   "source": [
    "n"
   ]
  },
  {
   "cell_type": "markdown",
   "id": "5b94f223",
   "metadata": {},
   "source": [
    "Beépíthetünk ebbe a függvénybe hibaüzenetet is nullával való osztás esetére:"
   ]
  },
  {
   "cell_type": "code",
   "execution_count": 13,
   "id": "ef54443c",
   "metadata": {},
   "outputs": [],
   "source": [
    "def osztas(x,y):\n",
    "    if y == 0:\n",
    "        return \"Hiba: nullával való osztás!\"\n",
    "    \n",
    "    return x/y"
   ]
  },
  {
   "cell_type": "code",
   "execution_count": 14,
   "id": "aa0762f4",
   "metadata": {},
   "outputs": [
    {
     "data": {
      "text/plain": [
       "'Hiba: nullával való osztás!'"
      ]
     },
     "execution_count": 14,
     "metadata": {},
     "output_type": "execute_result"
    }
   ],
   "source": [
    "osztas(4,0)"
   ]
  },
  {
   "cell_type": "markdown",
   "id": "ca03992c",
   "metadata": {},
   "source": [
    "Több argumentum esetén, mint megfigyelhetjük, a paraméterek sorban lesznek párosítva az argumentumokkal, tehát az \"osztas(1,2)\" hívásnál x = 1, és y = 2 lesz, nem pedig fordítva. Hívásnál meg lehet adni a változók nevét is, ez esetben nem számít a sorrendjük. "
   ]
  },
  {
   "cell_type": "code",
   "execution_count": 15,
   "id": "b2c94a81",
   "metadata": {},
   "outputs": [
    {
     "data": {
      "text/plain": [
       "0.5"
      ]
     },
     "execution_count": 15,
     "metadata": {},
     "output_type": "execute_result"
    }
   ],
   "source": [
    "osztas(x=1, y=2)"
   ]
  },
  {
   "cell_type": "code",
   "execution_count": 16,
   "id": "b0abd028",
   "metadata": {},
   "outputs": [
    {
     "data": {
      "text/plain": [
       "0.5"
      ]
     },
     "execution_count": 16,
     "metadata": {},
     "output_type": "execute_result"
    }
   ],
   "source": [
    "osztas(y=2, x=1)"
   ]
  },
  {
   "cell_type": "markdown",
   "id": "c8fb54e0",
   "metadata": {},
   "source": [
    "Ha több paraméter is van, akkor az alapértelmezett értékkel rendelkezőket a függvény definiálásánál a végére kell tenni. "
   ]
  },
  {
   "cell_type": "code",
   "execution_count": 17,
   "id": "19ea7267",
   "metadata": {},
   "outputs": [
    {
     "ename": "SyntaxError",
     "evalue": "non-default argument follows default argument (2179819816.py, line 1)",
     "output_type": "error",
     "traceback": [
      "\u001b[0;36m  File \u001b[0;32m\"/tmp/ipykernel_4411/2179819816.py\"\u001b[0;36m, line \u001b[0;32m1\u001b[0m\n\u001b[0;31m    def osztas(x=1, y):\u001b[0m\n\u001b[0m                     ^\u001b[0m\n\u001b[0;31mSyntaxError\u001b[0m\u001b[0;31m:\u001b[0m non-default argument follows default argument\n"
     ]
    }
   ],
   "source": [
    "def osztas(x=1, y):\n",
    "    return x/y\n",
    "osztas(8)"
   ]
  },
  {
   "cell_type": "code",
   "execution_count": 18,
   "id": "b34b8814",
   "metadata": {},
   "outputs": [
    {
     "data": {
      "text/plain": [
       "0.125"
      ]
     },
     "execution_count": 18,
     "metadata": {},
     "output_type": "execute_result"
    }
   ],
   "source": [
    "def osztas(y, x=1):\n",
    "    return x/y\n",
    "osztas(8)"
   ]
  },
  {
   "cell_type": "markdown",
   "id": "249c9eaf",
   "metadata": {},
   "source": [
    "**Feladatok**\n",
    "\n",
    "1) Írjunk függvényt, amely megvizsgálja egy szám paritását. Bemenet: egy szám. Kimenet: True, ha a szám páros, és False, ha páratlan."
   ]
  },
  {
   "cell_type": "code",
   "execution_count": 19,
   "id": "f5b7dc99",
   "metadata": {},
   "outputs": [],
   "source": [
    "def is_even(num):\n",
    "    # TODO\n",
    "    return bool((num+1)%2)"
   ]
  },
  {
   "cell_type": "code",
   "execution_count": 21,
   "id": "1272f15f",
   "metadata": {},
   "outputs": [
    {
     "data": {
      "text/plain": [
       "False"
      ]
     },
     "execution_count": 21,
     "metadata": {},
     "output_type": "execute_result"
    }
   ],
   "source": [
    "is_even(1)"
   ]
  },
  {
   "cell_type": "markdown",
   "id": "6fb277d3",
   "metadata": {},
   "source": [
    "2) Írjunk függvényt, amely egy szöveg végén lévő szóközöket levágja, a szövegben minden szóközt alulvonásra cserél, és minden nagybetűt kisbetűre ír át. (Lapozzuk fel ehhez a strip, a lower ill. replace metódust.) Próbáljuk ki a következő sztringen: \"Monty Python repülő cirkusza    \"."
   ]
  },
  {
   "cell_type": "code",
   "execution_count": 23,
   "id": "ac83f681",
   "metadata": {},
   "outputs": [
    {
     "data": {
      "text/plain": [
       "'monty_python_repülő_cirkusza'"
      ]
     },
     "execution_count": 23,
     "metadata": {},
     "output_type": "execute_result"
    }
   ],
   "source": [
    "def f(szoveg):\n",
    "    # TODO\n",
    "    szoveg=szoveg.lower()\n",
    "    szoveg=szoveg.rstrip(\" \")\n",
    "    szoveg=szoveg.replace(\" \",\"_\")\n",
    "    return szoveg\n",
    "f(\"Monty Python repülő cirkusza \")"
   ]
  },
  {
   "cell_type": "markdown",
   "id": "f9e42f5d",
   "metadata": {},
   "source": [
    "3) Készítsünk függvényt, amely összeszámolja, hogy hány magánhangzó van egy (angol nyelvű) szövegben!"
   ]
  },
  {
   "cell_type": "code",
   "execution_count": null,
   "id": "7e8aec2e",
   "metadata": {
    "scrolled": true
   },
   "outputs": [],
   "source": [
    "dir(str)"
   ]
  },
  {
   "cell_type": "code",
   "execution_count": 25,
   "id": "0c0f678b",
   "metadata": {},
   "outputs": [
    {
     "data": {
      "text/plain": [
       "True"
      ]
     },
     "execution_count": 25,
     "metadata": {},
     "output_type": "execute_result"
    }
   ],
   "source": [
    "vowels = [\"a\", \"e\", \"i\", \"o\", \"u\"]\n",
    "'a' in vowels"
   ]
  },
  {
   "cell_type": "code",
   "execution_count": 26,
   "id": "4a8d2f2e",
   "metadata": {},
   "outputs": [],
   "source": [
    "def count_vowels(text):\n",
    "    vowels = [\"a\", \"e\", \"i\", \"o\", \"u\"]\n",
    "    #TODO\n",
    "    return sum([(char in vowels) for char in text])"
   ]
  },
  {
   "cell_type": "code",
   "execution_count": 28,
   "id": "26844392",
   "metadata": {},
   "outputs": [
    {
     "data": {
      "text/plain": [
       "[False, True, False, True, False, True, False, True]"
      ]
     },
     "execution_count": 28,
     "metadata": {},
     "output_type": "execute_result"
    }
   ],
   "source": [
    "[(char in vowels) for char in \"capibara\"]"
   ]
  },
  {
   "cell_type": "code",
   "execution_count": 27,
   "id": "330128cd",
   "metadata": {},
   "outputs": [
    {
     "data": {
      "text/plain": [
       "4"
      ]
     },
     "execution_count": 27,
     "metadata": {},
     "output_type": "execute_result"
    }
   ],
   "source": [
    "count_vowels(\"capibara\")"
   ]
  },
  {
   "cell_type": "markdown",
   "id": "7baa0973",
   "metadata": {},
   "source": [
    "## Érvényességi kör\n",
    "\n",
    "A függvényen belül definiált változók kívülről nem látszanak. Értelmezzük az alábbi kód működését! "
   ]
  },
  {
   "cell_type": "code",
   "execution_count": 32,
   "id": "32c35a25",
   "metadata": {},
   "outputs": [
    {
     "name": "stdout",
     "output_type": "stream",
     "text": [
      "30 fok van.\n"
     ]
    }
   ],
   "source": [
    "homerseklet = 24\n",
    "def milyen_az_ido():\n",
    "    homerseklet = 30\n",
    "    print(f'{homerseklet} fok van.')\n",
    "milyen_az_ido()"
   ]
  },
  {
   "cell_type": "code",
   "execution_count": 33,
   "id": "b4cb5ca4",
   "metadata": {},
   "outputs": [
    {
     "name": "stdout",
     "output_type": "stream",
     "text": [
      "24\n"
     ]
    }
   ],
   "source": [
    "print(homerseklet)"
   ]
  },
  {
   "cell_type": "markdown",
   "id": "1e4d05f0",
   "metadata": {},
   "source": [
    "Milyen érdekes!"
   ]
  },
  {
   "cell_type": "code",
   "execution_count": 34,
   "id": "424a3bb7",
   "metadata": {},
   "outputs": [
    {
     "name": "stdout",
     "output_type": "stream",
     "text": [
      "24 fok van.\n"
     ]
    }
   ],
   "source": [
    "homerseklet = 24\n",
    "def milyen_az_ido():\n",
    "    #homerseklet = 30\n",
    "    print(f'{homerseklet} fok van.')\n",
    "milyen_az_ido()"
   ]
  },
  {
   "cell_type": "markdown",
   "id": "88e61bab",
   "metadata": {},
   "source": [
    "## Rekurzív függvény\n",
    "\n",
    "A függvény saját magát is meghívhatja. A return itt sem maradhat el! Erre előadáson láttunk matematikai példákat. Nézzünk egy egyszerű hétköznapi példát:"
   ]
  },
  {
   "cell_type": "code",
   "execution_count": 35,
   "id": "95d4a34d",
   "metadata": {},
   "outputs": [
    {
     "name": "stdout",
     "output_type": "stream",
     "text": [
      "Válasszon új jelszót! jajja\n",
      "Válasszon új jelszót! jejejejejjeje\n"
     ]
    }
   ],
   "source": [
    "def jelszo_bekeres():\n",
    "    jelszo = input('Válasszon új jelszót! ')\n",
    "    if len(jelszo) < 8:\n",
    "        return jelszo_bekeres()\n",
    "jelszo_bekeres()"
   ]
  },
  {
   "cell_type": "markdown",
   "id": "dffb4d6a",
   "metadata": {},
   "source": [
    "### Feladat:\n",
    "\n",
    "1) írjunk rekurzív függvényt a fibonacci számok kiszámítására!"
   ]
  },
  {
   "cell_type": "code",
   "execution_count": 36,
   "id": "c929e47d",
   "metadata": {},
   "outputs": [],
   "source": [
    "def fibonacci(n):\n",
    "    #Todo\n",
    "    a=0\n",
    "    b=1\n",
    "    if n==0:\n",
    "        return a\n",
    "    if n==1:\n",
    "        return b\n",
    "    else:\n",
    "        return fibonacci(n-1)+fibonacci(n-2)"
   ]
  },
  {
   "cell_type": "code",
   "execution_count": 37,
   "id": "f9bca8bf",
   "metadata": {},
   "outputs": [
    {
     "data": {
      "text/plain": [
       "34"
      ]
     },
     "execution_count": 37,
     "metadata": {},
     "output_type": "execute_result"
    }
   ],
   "source": [
    "fibonacci(9)"
   ]
  },
  {
   "cell_type": "markdown",
   "id": "a6c7c366",
   "metadata": {},
   "source": [
    "2) írjunk for ciklust használó függvényt a fibonacci számokra! Melyik a gyorsabb? Használd a %%time magic-et"
   ]
  },
  {
   "cell_type": "code",
   "execution_count": 38,
   "id": "61c9e0fe",
   "metadata": {},
   "outputs": [],
   "source": [
    "def fibonacci_2(n):\n",
    "    a=0\n",
    "    b=1\n",
    "    if n==0:\n",
    "        return a\n",
    "    elif n==1:\n",
    "        return b\n",
    "    else:\n",
    "        for i in range(2,n+1):\n",
    "            c = a + b\n",
    "            a = b\n",
    "            b = c\n",
    "        return b"
   ]
  },
  {
   "cell_type": "code",
   "execution_count": 39,
   "id": "75b1d0d4",
   "metadata": {},
   "outputs": [
    {
     "data": {
      "text/plain": [
       "34"
      ]
     },
     "execution_count": 39,
     "metadata": {},
     "output_type": "execute_result"
    }
   ],
   "source": [
    "fibonacci_2(9)"
   ]
  },
  {
   "cell_type": "code",
   "execution_count": 47,
   "id": "220f8f5e",
   "metadata": {},
   "outputs": [
    {
     "name": "stdout",
     "output_type": "stream",
     "text": [
      "CPU times: user 10 µs, sys: 0 ns, total: 10 µs\n",
      "Wall time: 14.1 µs\n"
     ]
    },
    {
     "data": {
      "text/plain": [
       "9227465"
      ]
     },
     "execution_count": 47,
     "metadata": {},
     "output_type": "execute_result"
    }
   ],
   "source": [
    "%%time\n",
    "fibonacci_2(35)"
   ]
  },
  {
   "cell_type": "code",
   "execution_count": 46,
   "id": "8f814d09",
   "metadata": {},
   "outputs": [
    {
     "name": "stdout",
     "output_type": "stream",
     "text": [
      "CPU times: user 3.12 s, sys: 0 ns, total: 3.12 s\n",
      "Wall time: 3.12 s\n"
     ]
    },
    {
     "data": {
      "text/plain": [
       "9227465"
      ]
     },
     "execution_count": 46,
     "metadata": {},
     "output_type": "execute_result"
    }
   ],
   "source": [
    "%%time\n",
    "fibonacci(35)"
   ]
  },
  {
   "cell_type": "markdown",
   "id": "7167dc2a",
   "metadata": {},
   "source": [
    "# Adatszerkezetek\n",
    "\n",
    "Az adatszerkezet lényegében olyan konténer, amely adatokat tartalmaz. A Pythonban négy alapvető adtszerkezet van: lista (list), rendezet n-es (tuple), szótár (dictionary), halmaz (set). Nézzünk példákat az előadáson tanultak gyakorlására!"
   ]
  },
  {
   "cell_type": "markdown",
   "id": "d697abfc",
   "metadata": {},
   "source": [
    "## A lista"
   ]
  },
  {
   "cell_type": "code",
   "execution_count": 48,
   "id": "5079ef4c",
   "metadata": {
    "scrolled": true
   },
   "outputs": [
    {
     "data": {
      "text/plain": [
       "['__add__',\n",
       " '__class__',\n",
       " '__class_getitem__',\n",
       " '__contains__',\n",
       " '__delattr__',\n",
       " '__delitem__',\n",
       " '__dir__',\n",
       " '__doc__',\n",
       " '__eq__',\n",
       " '__format__',\n",
       " '__ge__',\n",
       " '__getattribute__',\n",
       " '__getitem__',\n",
       " '__gt__',\n",
       " '__hash__',\n",
       " '__iadd__',\n",
       " '__imul__',\n",
       " '__init__',\n",
       " '__init_subclass__',\n",
       " '__iter__',\n",
       " '__le__',\n",
       " '__len__',\n",
       " '__lt__',\n",
       " '__mul__',\n",
       " '__ne__',\n",
       " '__new__',\n",
       " '__reduce__',\n",
       " '__reduce_ex__',\n",
       " '__repr__',\n",
       " '__reversed__',\n",
       " '__rmul__',\n",
       " '__setattr__',\n",
       " '__setitem__',\n",
       " '__sizeof__',\n",
       " '__str__',\n",
       " '__subclasshook__',\n",
       " 'append',\n",
       " 'clear',\n",
       " 'copy',\n",
       " 'count',\n",
       " 'extend',\n",
       " 'index',\n",
       " 'insert',\n",
       " 'pop',\n",
       " 'remove',\n",
       " 'reverse',\n",
       " 'sort']"
      ]
     },
     "execution_count": 48,
     "metadata": {},
     "output_type": "execute_result"
    }
   ],
   "source": [
    "dir(list)"
   ]
  },
  {
   "cell_type": "markdown",
   "id": "8012f8de",
   "metadata": {},
   "source": [
    "## Feladatok: Lóverseny"
   ]
  },
  {
   "cell_type": "markdown",
   "id": "4b483afe",
   "metadata": {},
   "source": [
    "Egy lóverseny részeredményeit szeretnénk követni. Az első perc utáni állást a lovak lista tartalmazza, az első (azaz nulladik) helyen az éppen elöl álló lóval:"
   ]
  },
  {
   "cell_type": "code",
   "execution_count": 60,
   "id": "3c52ef6d",
   "metadata": {},
   "outputs": [],
   "source": [
    "lovak = [\"Tikk-takk\", \"Aladin\", \"Dodó\", \"Pomádé\", \"Széplány\", \"Csóka\"]"
   ]
  },
  {
   "cell_type": "markdown",
   "id": "9006ea52",
   "metadata": {},
   "source": [
    "Véletlenül elírtuk a második ló nevét: \"Aladin\" helyett \"Aladdin\" a helyes név. Javítsuk ki!"
   ]
  },
  {
   "cell_type": "code",
   "execution_count": 61,
   "id": "40994315",
   "metadata": {},
   "outputs": [],
   "source": [
    "lovak[1] = \"Aladdin\""
   ]
  },
  {
   "cell_type": "code",
   "execution_count": 62,
   "id": "c6594ece",
   "metadata": {},
   "outputs": [
    {
     "data": {
      "text/plain": [
       "['Tikk-takk', 'Aladdin', 'Dodó', 'Pomádé', 'Széplány', 'Csóka']"
      ]
     },
     "execution_count": 62,
     "metadata": {},
     "output_type": "execute_result"
    }
   ],
   "source": [
    "lovak"
   ]
  },
  {
   "cell_type": "markdown",
   "id": "fcc6f528",
   "metadata": {},
   "source": [
    "Újabb résztvevő tűnik fel kissé lemaradva Délibáb személyében, biggyesszük hozzá a listához:"
   ]
  },
  {
   "cell_type": "code",
   "execution_count": 63,
   "id": "82832728",
   "metadata": {},
   "outputs": [],
   "source": [
    "lovak.append(\"Délibáb\")"
   ]
  },
  {
   "cell_type": "code",
   "execution_count": 64,
   "id": "c1ebba2e",
   "metadata": {},
   "outputs": [
    {
     "data": {
      "text/plain": [
       "['Tikk-takk', 'Aladdin', 'Dodó', 'Pomádé', 'Széplány', 'Csóka', 'Délibáb']"
      ]
     },
     "execution_count": 64,
     "metadata": {},
     "output_type": "execute_result"
    }
   ],
   "source": [
    "lovak"
   ]
  },
  {
   "cell_type": "markdown",
   "id": "ea80b117",
   "metadata": {},
   "source": [
    "Még jobban lemaradt az utolsó három ló: Villám, Huba és Pitypang"
   ]
  },
  {
   "cell_type": "code",
   "execution_count": 65,
   "id": "02ca9255",
   "metadata": {},
   "outputs": [],
   "source": [
    "lovak.extend(['Villám','Huba', 'Pitypang'])"
   ]
  },
  {
   "cell_type": "code",
   "execution_count": 66,
   "id": "ca97414b",
   "metadata": {},
   "outputs": [
    {
     "data": {
      "text/plain": [
       "['Tikk-takk',\n",
       " 'Aladdin',\n",
       " 'Dodó',\n",
       " 'Pomádé',\n",
       " 'Széplány',\n",
       " 'Csóka',\n",
       " 'Délibáb',\n",
       " 'Villám',\n",
       " 'Huba',\n",
       " 'Pitypang']"
      ]
     },
     "execution_count": 66,
     "metadata": {},
     "output_type": "execute_result"
    }
   ],
   "source": [
    "lovak"
   ]
  },
  {
   "cell_type": "markdown",
   "id": "86a573a4",
   "metadata": {},
   "source": [
    "Ezen a ponton tegyük meg tippünket a győztesre!"
   ]
  },
  {
   "cell_type": "code",
   "execution_count": 67,
   "id": "fb0d367e",
   "metadata": {},
   "outputs": [],
   "source": [
    "tipp_gyoztes = 'Dodó'"
   ]
  },
  {
   "cell_type": "markdown",
   "id": "0385c424",
   "metadata": {},
   "source": [
    "Az utolsó ló, Pitypang megmakacsolja magát, úgy tűnik, nem fogja befejezni a versenyt. Távolítsuk el a lista utolsó elemét!"
   ]
  },
  {
   "cell_type": "code",
   "execution_count": 68,
   "id": "f475c607",
   "metadata": {},
   "outputs": [],
   "source": [
    "x = lovak.pop()"
   ]
  },
  {
   "cell_type": "code",
   "execution_count": 69,
   "id": "5fc5b939",
   "metadata": {},
   "outputs": [
    {
     "data": {
      "text/plain": [
       "'Pitypang'"
      ]
     },
     "execution_count": 69,
     "metadata": {},
     "output_type": "execute_result"
    }
   ],
   "source": [
    "x"
   ]
  },
  {
   "cell_type": "code",
   "execution_count": 70,
   "id": "7726190c",
   "metadata": {},
   "outputs": [
    {
     "data": {
      "text/plain": [
       "['Tikk-takk',\n",
       " 'Aladdin',\n",
       " 'Dodó',\n",
       " 'Pomádé',\n",
       " 'Széplány',\n",
       " 'Csóka',\n",
       " 'Délibáb',\n",
       " 'Villám',\n",
       " 'Huba']"
      ]
     },
     "execution_count": 70,
     "metadata": {},
     "output_type": "execute_result"
    }
   ],
   "source": [
    "lovak"
   ]
  },
  {
   "cell_type": "markdown",
   "id": "126739aa",
   "metadata": {},
   "source": [
    "Dodó sérülés miatt kiáll a versenyből."
   ]
  },
  {
   "cell_type": "code",
   "execution_count": 73,
   "id": "3395d681",
   "metadata": {},
   "outputs": [],
   "source": [
    "lovak.remove('Dodó')"
   ]
  },
  {
   "cell_type": "markdown",
   "id": "3fdf2a9e",
   "metadata": {},
   "source": [
    "Az első ló nem jut túl a nyaktörő sövényakadályon, őt is töröljük a listából!"
   ]
  },
  {
   "cell_type": "code",
   "execution_count": 74,
   "id": "a8b1e1f1",
   "metadata": {},
   "outputs": [
    {
     "data": {
      "text/plain": [
       "'Tikk-takk'"
      ]
     },
     "execution_count": 74,
     "metadata": {},
     "output_type": "execute_result"
    }
   ],
   "source": [
    "lovak.pop(0)"
   ]
  },
  {
   "cell_type": "code",
   "execution_count": 75,
   "id": "19e2c99d",
   "metadata": {},
   "outputs": [
    {
     "data": {
      "text/plain": [
       "['Aladdin', 'Pomádé', 'Széplány', 'Csóka', 'Délibáb', 'Villám', 'Huba']"
      ]
     },
     "execution_count": 75,
     "metadata": {},
     "output_type": "execute_result"
    }
   ],
   "source": [
    "lovak"
   ]
  },
  {
   "cell_type": "markdown",
   "id": "1e69d432",
   "metadata": {},
   "source": [
    "Megint az első ló kerül bajba, leszakad, de az utolsó helyről még folytatja a versenyt:"
   ]
  },
  {
   "cell_type": "code",
   "execution_count": 76,
   "id": "b10cf865",
   "metadata": {},
   "outputs": [],
   "source": [
    "x=lovak.pop(0)\n",
    "lovak.append(x)"
   ]
  },
  {
   "cell_type": "code",
   "execution_count": 77,
   "id": "c2a9ea98",
   "metadata": {},
   "outputs": [
    {
     "data": {
      "text/plain": [
       "['Pomádé', 'Széplány', 'Csóka', 'Délibáb', 'Villám', 'Huba', 'Aladdin']"
      ]
     },
     "execution_count": 77,
     "metadata": {},
     "output_type": "execute_result"
    }
   ],
   "source": [
    "lovak"
   ]
  },
  {
   "cell_type": "markdown",
   "id": "407c7fe6",
   "metadata": {},
   "source": [
    "Dodó mégiscsak visszajön, és egészen az utolsó előtti helyig küzdi fel magát:"
   ]
  },
  {
   "cell_type": "code",
   "execution_count": 79,
   "id": "6ef5614a",
   "metadata": {},
   "outputs": [],
   "source": [
    "lovak.insert(-1,'Dodó')"
   ]
  },
  {
   "cell_type": "code",
   "execution_count": 80,
   "id": "b8d2622c",
   "metadata": {},
   "outputs": [
    {
     "data": {
      "text/plain": [
       "['Pomádé', 'Széplány', 'Csóka', 'Délibáb', 'Villám', 'Huba', 'Dodó', 'Aladdin']"
      ]
     },
     "execution_count": 80,
     "metadata": {},
     "output_type": "execute_result"
    }
   ],
   "source": [
    "lovak"
   ]
  },
  {
   "cell_type": "markdown",
   "id": "60c89476",
   "metadata": {},
   "source": [
    "Vége a versenynek! Kihirdethető a három győztes:"
   ]
  },
  {
   "cell_type": "code",
   "execution_count": 90,
   "id": "90214579",
   "metadata": {},
   "outputs": [],
   "source": [
    "dobogo = lovak[:3]"
   ]
  },
  {
   "cell_type": "code",
   "execution_count": 91,
   "id": "4d7154df",
   "metadata": {},
   "outputs": [
    {
     "data": {
      "text/plain": [
       "['Pomádé', 'Széplány', 'Csóka']"
      ]
     },
     "execution_count": 91,
     "metadata": {},
     "output_type": "execute_result"
    }
   ],
   "source": [
    "dobogo"
   ]
  },
  {
   "cell_type": "markdown",
   "id": "5a0026d4",
   "metadata": {},
   "source": [
    "Készítsük el az eredménytáblát a résztvevők elé írt sorszámokkal, minden résztvevőt új sorban kezdve!"
   ]
  },
  {
   "cell_type": "code",
   "execution_count": 85,
   "id": "6416fded",
   "metadata": {},
   "outputs": [
    {
     "name": "stdout",
     "output_type": "stream",
     "text": [
      "1    Pomádé\n",
      "2    Széplány\n",
      "3    Csóka\n",
      "4    Délibáb\n",
      "5    Villám\n",
      "6    Huba\n",
      "7    Dodó\n",
      "8    Aladdin\n"
     ]
    }
   ],
   "source": [
    "# TODO\n",
    "for i, lo in enumerate(lovak):\n",
    "    print(f'{i+1:<4} {lo}')\n",
    "    "
   ]
  },
  {
   "cell_type": "markdown",
   "id": "593a65bd",
   "metadata": {},
   "source": [
    "Végül nézzük, jól tippeltünk-e a győztesre!"
   ]
  },
  {
   "cell_type": "code",
   "execution_count": 92,
   "id": "abdd546c",
   "metadata": {},
   "outputs": [
    {
     "name": "stdout",
     "output_type": "stream",
     "text": [
      "Sajnos nem nyert!\n"
     ]
    }
   ],
   "source": [
    "if tipp_gyoztes == lovak[0]:\n",
    "    print(\"Gratulálunk, Ön jól tippelt! Nyereménye 100000 Ft!\")\n",
    "else: \n",
    "    print(\"Sajnos nem nyert!\")"
   ]
  },
  {
   "cell_type": "markdown",
   "id": "878cf9c1",
   "metadata": {},
   "source": [
    "## Feladatok\n",
    "\n",
    "1) Írjunk listát használó függvényt a fibonacci számok kiszámítására! \n"
   ]
  },
  {
   "cell_type": "code",
   "execution_count": 95,
   "id": "c3b280cb",
   "metadata": {},
   "outputs": [],
   "source": [
    "def fibonacci_3(n):\n",
    "    #ToDo\n",
    "    f=[0,1]\n",
    "    for i in range(2,n+1):\n",
    "        f.append(f[i-1] + f[i-2])\n",
    "    return f[n]\n",
    "    "
   ]
  },
  {
   "cell_type": "code",
   "execution_count": 96,
   "id": "838f5d64",
   "metadata": {},
   "outputs": [
    {
     "data": {
      "text/plain": [
       "34"
      ]
     },
     "execution_count": 96,
     "metadata": {},
     "output_type": "execute_result"
    }
   ],
   "source": [
    "fibonacci_3(9)"
   ]
  },
  {
   "cell_type": "markdown",
   "id": "8ae52c09",
   "metadata": {},
   "source": [
    "2) Adott egy n egység hosszú rúd, valamint egy árak listája, amely tartalmazza az összes nélküle kisebb darab árait. Határozza meg a rúd darabolásával és az így kapott darabok eladásával elérhető maximális értéket. Például, ha a rúd hossza 8 és a különböző darabok értékeit a prices listában tároljuk, akkor a maximálisan elérhető érték 22 (a rúd két darabra vágásával, hosszúságokkal 2 és 6). Írj olyan függvényt amely bemenetként kap egy árlistát és egy pozitív számot a túd hosszúságára és visszatérési értéke a darabolással elérhető maximális érték és a darabolás."
   ]
  },
  {
   "cell_type": "code",
   "execution_count": 99,
   "id": "aef66648",
   "metadata": {},
   "outputs": [],
   "source": [
    "# árlista, ahol prices[i]= egy i hosszú darab árával\n",
    "prices=[0,1,5,8,9,10,17,17,20]"
   ]
  },
  {
   "cell_type": "code",
   "execution_count": 115,
   "id": "dfea8bac",
   "metadata": {},
   "outputs": [],
   "source": [
    "def darabolas(prices, n):\n",
    "    #ToDo\n",
    "    #lista rúd értékekről: rud_ertekek[i] = i hosszú rudat mennyiért adjuk el\n",
    "    rud_ertekek=[0]\n",
    "    #lista darabokról: darabok[i] = i hosszú rúd opt darabolása (listák)\n",
    "    darabok=[[]]\n",
    "    \n",
    "    #hosszak szerint iterálás n-ig\n",
    "    for i in range(1, n+1):\n",
    "        #végéből mennyit vágunk le\n",
    "        vege=1\n",
    "        \n",
    "        #max érték eddig\n",
    "        max_ertek=0\n",
    "        \n",
    "        #utolso darab hossza szerinti iterálás i-ig\n",
    "        #az i hosszú végéből mi az optimális levágott darab\n",
    "        for j in range(1,i+1):\n",
    "            if max_ertek < prices[j] + rud_ertekek[i-j]:\n",
    "                max_ertek = prices[j] + rud_ertekek[i-j]\n",
    "                vege = j\n",
    "        \n",
    "        #listákhoz fűzzük az értékeket\n",
    "        #print(darabok[i-vege])\n",
    "        darabok.append(darabok[i-vege]+[vege])\n",
    "        rud_ertekek.append(max_ertek)\n",
    "        \n",
    "    return rud_ertekek[n], darabok[n]"
   ]
  },
  {
   "cell_type": "code",
   "execution_count": 116,
   "id": "e7584adb",
   "metadata": {},
   "outputs": [
    {
     "data": {
      "text/plain": [
       "(22, [6, 2])"
      ]
     },
     "execution_count": 116,
     "metadata": {},
     "output_type": "execute_result"
    }
   ],
   "source": [
    "darabolas(prices,8)"
   ]
  },
  {
   "cell_type": "markdown",
   "id": "7e989ecd",
   "metadata": {},
   "source": []
  }
 ],
 "metadata": {
  "kernelspec": {
   "display_name": "Python 3 (ipykernel)",
   "language": "python",
   "name": "python3"
  },
  "language_info": {
   "codemirror_mode": {
    "name": "ipython",
    "version": 3
   },
   "file_extension": ".py",
   "mimetype": "text/x-python",
   "name": "python",
   "nbconvert_exporter": "python",
   "pygments_lexer": "ipython3",
   "version": "3.9.13"
  },
  "vscode": {
   "interpreter": {
    "hash": "b6973a4bffe56468f41e3984f9628ab6e8a591767c4c04599ef797cf6630fe7d"
   }
  }
 },
 "nbformat": 4,
 "nbformat_minor": 5
}
