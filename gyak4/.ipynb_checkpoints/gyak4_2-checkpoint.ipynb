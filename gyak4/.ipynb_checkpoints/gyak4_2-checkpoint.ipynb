{
 "cells": [
  {
   "cell_type": "markdown",
   "id": "b89a3bad",
   "metadata": {},
   "source": [
    "# 4.2 gyakorlat"
   ]
  },
  {
   "cell_type": "markdown",
   "id": "52bd2da3",
   "metadata": {},
   "source": [
    "## A szótár\n",
    "\n",
    "Egy tárgyból az A és B csopotra osztott hallgatók tesztet írtak. Az A csoportban Martha 89, Daniel 69, Tom 45 pontot ért el, a B csoportban Lisa 57, Richard 98 és Chris 70 pontot szerzett. Tároljuk el egy-egy szótárban a két csoport eredményeit!  "
   ]
  },
  {
   "cell_type": "code",
   "execution_count": 2,
   "id": "60026439",
   "metadata": {},
   "outputs": [],
   "source": [
    "csoportA = {'Martha': 89, 'Daniel': 69, 'Tom': 45}\n",
    "csoportB = {'Lisa': 57, 'Richard': 98, 'Chris': 70} "
   ]
  },
  {
   "cell_type": "code",
   "execution_count": 3,
   "id": "67286626",
   "metadata": {},
   "outputs": [
    {
     "data": {
      "text/plain": [
       "{'Martha': 89, 'Daniel': 69, 'Tom': 45}"
      ]
     },
     "execution_count": 3,
     "metadata": {},
     "output_type": "execute_result"
    }
   ],
   "source": [
    "csoportA"
   ]
  },
  {
   "cell_type": "code",
   "execution_count": 4,
   "id": "291f70f7",
   "metadata": {},
   "outputs": [
    {
     "data": {
      "text/plain": [
       "{'Lisa': 57, 'Richard': 98, 'Chris': 70}"
      ]
     },
     "execution_count": 4,
     "metadata": {},
     "output_type": "execute_result"
    }
   ],
   "source": [
    "csoportB"
   ]
  },
  {
   "cell_type": "markdown",
   "id": "6366a81b",
   "metadata": {},
   "source": [
    "Később írt Alex és Fjodor a B csoportban, őt is belefoglaljuk a csoportB szótárba:"
   ]
  },
  {
   "cell_type": "code",
   "execution_count": 5,
   "id": "fd3e585c",
   "metadata": {},
   "outputs": [],
   "source": [
    "csoportB.update({'Alex': 76})"
   ]
  },
  {
   "cell_type": "code",
   "execution_count": 7,
   "id": "44ec5ce6",
   "metadata": {},
   "outputs": [],
   "source": [
    "csoportB[\"Fjodor\"] = 63"
   ]
  },
  {
   "cell_type": "code",
   "execution_count": 8,
   "id": "811e199b",
   "metadata": {},
   "outputs": [
    {
     "data": {
      "text/plain": [
       "{'Lisa': 57, 'Richard': 98, 'Chris': 70, 'Alex': 76, 'Fjodor': 63}"
      ]
     },
     "execution_count": 8,
     "metadata": {},
     "output_type": "execute_result"
    }
   ],
   "source": [
    "csoportB"
   ]
  },
  {
   "cell_type": "markdown",
   "id": "cd60daa7",
   "metadata": {},
   "source": [
    "Az A csoportban Tom 68, Daniel 70 pontosra javította a dolgozatát:"
   ]
  },
  {
   "cell_type": "code",
   "execution_count": 10,
   "id": "3ee814ea",
   "metadata": {},
   "outputs": [],
   "source": [
    "csoportA.update({'Tom': 68})"
   ]
  },
  {
   "cell_type": "code",
   "execution_count": 9,
   "id": "61144ae5",
   "metadata": {},
   "outputs": [],
   "source": [
    "csoportA[\"Daniel\"] = 70"
   ]
  },
  {
   "cell_type": "code",
   "execution_count": 11,
   "id": "8fd038c0",
   "metadata": {},
   "outputs": [
    {
     "data": {
      "text/plain": [
       "{'Martha': 89, 'Daniel': 70, 'Tom': 68}"
      ]
     },
     "execution_count": 11,
     "metadata": {},
     "output_type": "execute_result"
    }
   ],
   "source": [
    "csoportA"
   ]
  },
  {
   "cell_type": "markdown",
   "id": "9258aec3",
   "metadata": {},
   "source": [
    "A két csoport eredményeit egy szótárban egyesítjük:"
   ]
  },
  {
   "cell_type": "code",
   "execution_count": 12,
   "id": "3675f8d5",
   "metadata": {},
   "outputs": [],
   "source": [
    "hallgatok_eredmenyek = csoportA | csoportB"
   ]
  },
  {
   "cell_type": "code",
   "execution_count": 13,
   "id": "407586d6",
   "metadata": {},
   "outputs": [
    {
     "data": {
      "text/plain": [
       "{'Martha': 89,\n",
       " 'Daniel': 70,\n",
       " 'Tom': 68,\n",
       " 'Lisa': 57,\n",
       " 'Richard': 98,\n",
       " 'Chris': 70,\n",
       " 'Alex': 76,\n",
       " 'Fjodor': 63}"
      ]
     },
     "execution_count": 13,
     "metadata": {},
     "output_type": "execute_result"
    }
   ],
   "source": [
    "hallgatok_eredmenyek"
   ]
  },
  {
   "cell_type": "markdown",
   "id": "6825d232",
   "metadata": {},
   "source": [
    "Kérdezzük le Lisa pontszámát!"
   ]
  },
  {
   "cell_type": "code",
   "execution_count": 18,
   "id": "af36441c",
   "metadata": {},
   "outputs": [
    {
     "data": {
      "text/plain": [
       "57"
      ]
     },
     "execution_count": 18,
     "metadata": {},
     "output_type": "execute_result"
    }
   ],
   "source": [
    "hallgatok_eredmenyek.get(\"Lisa\")"
   ]
  },
  {
   "cell_type": "code",
   "execution_count": 19,
   "id": "4e17d819",
   "metadata": {},
   "outputs": [
    {
     "data": {
      "text/plain": [
       "57"
      ]
     },
     "execution_count": 19,
     "metadata": {},
     "output_type": "execute_result"
    }
   ],
   "source": [
    "hallgatok_eredmenyek[\"Lisa\"]"
   ]
  },
  {
   "cell_type": "markdown",
   "id": "fa778005",
   "metadata": {},
   "source": [
    "Írassuk ki az összes hallgató névsorát, majd csak a pontszámaikat!"
   ]
  },
  {
   "cell_type": "code",
   "execution_count": 11,
   "id": "027accb4",
   "metadata": {},
   "outputs": [
    {
     "data": {
      "text/plain": [
       "dict_keys(['Martha', 'Daniel', 'Tom', 'Lisa', 'Richard', 'Chris', 'Alex'])"
      ]
     },
     "execution_count": 11,
     "metadata": {},
     "output_type": "execute_result"
    }
   ],
   "source": [
    "hallgatok_eredmenyek.keys()"
   ]
  },
  {
   "cell_type": "markdown",
   "id": "c765805b",
   "metadata": {},
   "source": [
    "Ez nem lista, de az is készíthető belőle:"
   ]
  },
  {
   "cell_type": "code",
   "execution_count": 12,
   "id": "5920b3ec",
   "metadata": {},
   "outputs": [
    {
     "data": {
      "text/plain": [
       "['Martha', 'Daniel', 'Tom', 'Lisa', 'Richard', 'Chris', 'Alex']"
      ]
     },
     "execution_count": 12,
     "metadata": {},
     "output_type": "execute_result"
    }
   ],
   "source": [
    "list(hallgatok_eredmenyek.keys())"
   ]
  },
  {
   "cell_type": "code",
   "execution_count": 13,
   "id": "598253ae",
   "metadata": {},
   "outputs": [
    {
     "data": {
      "text/plain": [
       "dict_values([89, 69, 68, 57, 98, 70, 76])"
      ]
     },
     "execution_count": 13,
     "metadata": {},
     "output_type": "execute_result"
    }
   ],
   "source": [
    "hallgatok_eredmenyek.values()"
   ]
  },
  {
   "cell_type": "code",
   "execution_count": 14,
   "id": "3f04270d",
   "metadata": {},
   "outputs": [
    {
     "data": {
      "text/plain": [
       "[89, 69, 68, 57, 98, 70, 76]"
      ]
     },
     "execution_count": 14,
     "metadata": {},
     "output_type": "execute_result"
    }
   ],
   "source": [
    "list(hallgatok_eredmenyek.values())"
   ]
  },
  {
   "cell_type": "markdown",
   "id": "3036f53f",
   "metadata": {},
   "source": [
    "Írassuk ki az items metódussal az összes hallgató eredményét (név, pontszám) formában!"
   ]
  },
  {
   "cell_type": "code",
   "execution_count": 15,
   "id": "4a0bb508",
   "metadata": {},
   "outputs": [
    {
     "data": {
      "text/plain": [
       "dict_items([('Martha', 89), ('Daniel', 69), ('Tom', 68), ('Lisa', 57), ('Richard', 98), ('Chris', 70), ('Alex', 76)])"
      ]
     },
     "execution_count": 15,
     "metadata": {},
     "output_type": "execute_result"
    }
   ],
   "source": [
    "hallgatok_eredmenyek.items()"
   ]
  },
  {
   "cell_type": "markdown",
   "id": "2a16ff63",
   "metadata": {},
   "source": [
    "## Feladat: \n",
    "Most szövegesen is jelenjen meg mindez az információ: \"Martha 89, Daniel 69,... Alex 76 pontot ért el.\""
   ]
  },
  {
   "cell_type": "code",
   "execution_count": null,
   "id": "5203129e",
   "metadata": {},
   "outputs": [],
   "source": []
  },
  {
   "cell_type": "markdown",
   "id": "d18dec86",
   "metadata": {},
   "source": [
    "## Feladat:\n",
    "Írjunk kódrészletet a legjobb eredményt elért hallgató megtalálására!"
   ]
  },
  {
   "cell_type": "code",
   "execution_count": null,
   "id": "c3bd6304",
   "metadata": {},
   "outputs": [],
   "source": [
    "   "
   ]
  },
  {
   "cell_type": "markdown",
   "id": "62a7d9cd",
   "metadata": {},
   "source": [
    "## Feladat:\n",
    "Melyik betű hányszor szerepel az alábbi mondtaban? _\"Amikor egy reggel Gregor Samsa nyugtalan álmából felébredt, szörnyű féreggé változva találta magát ágyában.\"_ Melyik a leggyakoribb?\n",
    "\n",
    "_Hint: az `isalpha()` függvénnyel lehet egy stringről eldönteni, hogy csak betűket tartalmaz-e._"
   ]
  },
  {
   "cell_type": "code",
   "execution_count": 152,
   "id": "2970ccc8",
   "metadata": {},
   "outputs": [],
   "source": [
    "s = \"Amikor egy reggel Gregor Samsa nyugtalan álmából felébredt, szörnyű féreggé változva találta magát ágyában.\""
   ]
  },
  {
   "cell_type": "code",
   "execution_count": null,
   "id": "3e77d9b4",
   "metadata": {},
   "outputs": [],
   "source": []
  },
  {
   "cell_type": "markdown",
   "id": "0a059968",
   "metadata": {},
   "source": [
    "### Lista és szótár kombinálása\n",
    "\n",
    "A kulcs sosem lehet lista típusú, de az érték igen. Pl. több teszt eredményeit eltárolhatjuk így:"
   ]
  },
  {
   "cell_type": "code",
   "execution_count": 26,
   "id": "e063af03",
   "metadata": {},
   "outputs": [],
   "source": [
    "eredmenyek = {'Martha': [89, 94, 78], 'Daniel': [69, 73, 91]}"
   ]
  },
  {
   "cell_type": "markdown",
   "id": "2d8cc84d",
   "metadata": {},
   "source": [
    "Az érték szótár is lehet, pl. tegyük fel, hogy termékek nyilvántartásánál több különböző jellemzőt is el szeretnénk tárolni:"
   ]
  },
  {
   "cell_type": "code",
   "execution_count": 111,
   "id": "e2ede37b",
   "metadata": {},
   "outputs": [],
   "source": [
    "termek = {\"banan\": {\"ar\": 599, \"mennyiség\": 5}, \"alma\": {\"ar\": 459, \"mennyiseg\": 3}}"
   ]
  },
  {
   "cell_type": "code",
   "execution_count": 112,
   "id": "3530b09c",
   "metadata": {},
   "outputs": [
    {
     "data": {
      "text/plain": [
       "{'ar': 599, 'mennyiség': 5}"
      ]
     },
     "execution_count": 112,
     "metadata": {},
     "output_type": "execute_result"
    }
   ],
   "source": [
    "termek[\"banan\"]"
   ]
  },
  {
   "cell_type": "markdown",
   "id": "0dae54b6",
   "metadata": {},
   "source": [
    "A banán árára ekkor dupla kulccsal kérdezhetünk rá:"
   ]
  },
  {
   "cell_type": "code",
   "execution_count": 33,
   "id": "39d60d29",
   "metadata": {},
   "outputs": [
    {
     "data": {
      "text/plain": [
       "599"
      ]
     },
     "execution_count": 33,
     "metadata": {},
     "output_type": "execute_result"
    }
   ],
   "source": [
    "termek[\"banan\"][\"ar\"]"
   ]
  },
  {
   "cell_type": "markdown",
   "id": "f387f71c",
   "metadata": {},
   "source": [
    "## A tuple (rendezett n-es)\n",
    "\n",
    "A listához hasonló, de módosíthatatlan adatszerkezet. Pl."
   ]
  },
  {
   "cell_type": "code",
   "execution_count": 35,
   "id": "56197f7b",
   "metadata": {},
   "outputs": [],
   "source": [
    "szinek = ('piros', 'narancssarga', 'sarga')"
   ]
  },
  {
   "cell_type": "code",
   "execution_count": 36,
   "id": "a825cad1",
   "metadata": {},
   "outputs": [
    {
     "data": {
      "text/plain": [
       "3"
      ]
     },
     "execution_count": 36,
     "metadata": {},
     "output_type": "execute_result"
    }
   ],
   "source": [
    "len(szinek)"
   ]
  },
  {
   "cell_type": "code",
   "execution_count": 37,
   "id": "2bbe8742",
   "metadata": {},
   "outputs": [
    {
     "data": {
      "text/plain": [
       "'piros'"
      ]
     },
     "execution_count": 37,
     "metadata": {},
     "output_type": "execute_result"
    }
   ],
   "source": [
    "szinek[0]"
   ]
  },
  {
   "cell_type": "code",
   "execution_count": 38,
   "id": "d2ae7f1d",
   "metadata": {},
   "outputs": [
    {
     "data": {
      "text/plain": [
       "('piros', 'narancssarga')"
      ]
     },
     "execution_count": 38,
     "metadata": {},
     "output_type": "execute_result"
    }
   ],
   "source": [
    "szinek[0:2]"
   ]
  },
  {
   "cell_type": "code",
   "execution_count": 39,
   "id": "1670440d",
   "metadata": {},
   "outputs": [
    {
     "ename": "TypeError",
     "evalue": "'tuple' object does not support item assignment",
     "output_type": "error",
     "traceback": [
      "\u001b[1;31m---------------------------------------------------------------------------\u001b[0m",
      "\u001b[1;31mTypeError\u001b[0m                                 Traceback (most recent call last)",
      "\u001b[1;32m~\\AppData\\Local\\Temp/ipykernel_9948/1845906621.py\u001b[0m in \u001b[0;36m<module>\u001b[1;34m\u001b[0m\n\u001b[1;32m----> 1\u001b[1;33m \u001b[0mszinek\u001b[0m\u001b[1;33m[\u001b[0m\u001b[1;36m0\u001b[0m\u001b[1;33m]\u001b[0m \u001b[1;33m=\u001b[0m \u001b[1;34m'PIROS'\u001b[0m\u001b[1;33m\u001b[0m\u001b[1;33m\u001b[0m\u001b[0m\n\u001b[0m",
      "\u001b[1;31mTypeError\u001b[0m: 'tuple' object does not support item assignment"
     ]
    }
   ],
   "source": [
    "szinek[0] = 'PIROS'"
   ]
  },
  {
   "cell_type": "markdown",
   "id": "75842187",
   "metadata": {},
   "source": [
    "Ha a tuple tartalmaz listát, akkor az viszont módosítható:"
   ]
  },
  {
   "cell_type": "code",
   "execution_count": 40,
   "id": "4439ba9c",
   "metadata": {},
   "outputs": [],
   "source": [
    "dolgok = (1, \"kutya\", [])"
   ]
  },
  {
   "cell_type": "code",
   "execution_count": 41,
   "id": "c0d62226",
   "metadata": {},
   "outputs": [],
   "source": [
    "dolgok[2].append('baba')"
   ]
  },
  {
   "cell_type": "code",
   "execution_count": 42,
   "id": "76240480",
   "metadata": {},
   "outputs": [
    {
     "data": {
      "text/plain": [
       "(1, 'kutya', ['baba'])"
      ]
     },
     "execution_count": 42,
     "metadata": {},
     "output_type": "execute_result"
    }
   ],
   "source": [
    "dolgok"
   ]
  },
  {
   "cell_type": "markdown",
   "id": "aa9d3047",
   "metadata": {},
   "source": [
    "A listáttól eltérően tuple már lehet kulcs egy szótárban, pl. készíthetünk olyan szótárat, amely egy emeletes ház lakóit tartalmazza \"(emelet, ajtó): név\" formában:"
   ]
  },
  {
   "cell_type": "code",
   "execution_count": 18,
   "id": "26aba03e",
   "metadata": {},
   "outputs": [],
   "source": [
    "lakok = {(1,1): \"Szabó E.\", (1,2): \"Varga K.\", (2,3): \"Teleki S.\"}"
   ]
  },
  {
   "cell_type": "code",
   "execution_count": 19,
   "id": "e268a9c0",
   "metadata": {},
   "outputs": [
    {
     "data": {
      "text/plain": [
       "{(1, 1): 'Szabó E.', (1, 2): 'Varga K.', (2, 3): 'Teleki S.'}"
      ]
     },
     "execution_count": 19,
     "metadata": {},
     "output_type": "execute_result"
    }
   ],
   "source": [
    "lakok"
   ]
  },
  {
   "cell_type": "markdown",
   "id": "0c7b55b7",
   "metadata": {},
   "source": [
    "## Feladat:\n",
    "Ha egy elemű `tuple`-t akarunk létrehozni, azt hogyan kellene?"
   ]
  },
  {
   "cell_type": "code",
   "execution_count": null,
   "id": "0665182a",
   "metadata": {},
   "outputs": [],
   "source": []
  },
  {
   "cell_type": "markdown",
   "id": "3d05c187",
   "metadata": {},
   "source": [
    "## Halmazok\n",
    "\n",
    "A halmaz a matematikai halmaznak megfelelő adatszerkezet, különböző elemek összessége, nem számít a sorrendjük, és az sem, hogy egy elemet hányszor sorolunk fel. Módosítható, végigiterálhatunk rajta, és legfőbb haszna, hogy könnyen és gyorsan ellenőrizni tudjuk, hogy egy bizonyos érték szerepel-e egy kollekcióban. Segítségével eltávolíthatók a fölösleges duplikátumok is egy listából.\n",
    "\n",
    "Pl. szeretnénk összegyűjteni, hogy egy nemzetközi diákokból álló csoportban, akiknek az adatait a students szótár tartalmazza, milyen különböző országokból érkezett diákok vannak. "
   ]
  },
  {
   "cell_type": "code",
   "execution_count": 20,
   "id": "5de12f12",
   "metadata": {},
   "outputs": [],
   "source": [
    "students = {\"R.K.\": \"Slovakia\", \"H.J.\": \"Portugal\", \"L.O.\": \"China\", \"P.L.\": \"Indonesia\", \"T.B.\": \"Portugal\"}"
   ]
  },
  {
   "cell_type": "code",
   "execution_count": 21,
   "id": "c95de54d",
   "metadata": {},
   "outputs": [
    {
     "data": {
      "text/plain": [
       "{'R.K.': 'Slovakia',\n",
       " 'H.J.': 'Portugal',\n",
       " 'L.O.': 'China',\n",
       " 'P.L.': 'Indonesia',\n",
       " 'T.B.': 'Portugal'}"
      ]
     },
     "execution_count": 21,
     "metadata": {},
     "output_type": "execute_result"
    }
   ],
   "source": [
    "students"
   ]
  },
  {
   "cell_type": "code",
   "execution_count": 22,
   "id": "921f90a7",
   "metadata": {},
   "outputs": [],
   "source": [
    "countries = list(students.values())"
   ]
  },
  {
   "cell_type": "code",
   "execution_count": 23,
   "id": "84905924",
   "metadata": {},
   "outputs": [
    {
     "data": {
      "text/plain": [
       "['Slovakia', 'Portugal', 'China', 'Indonesia', 'Portugal']"
      ]
     },
     "execution_count": 23,
     "metadata": {},
     "output_type": "execute_result"
    }
   ],
   "source": [
    "countries"
   ]
  },
  {
   "cell_type": "markdown",
   "id": "eca0706f",
   "metadata": {},
   "source": [
    "Itt még kétszer van felsorolva Portugália, ahonnan ketten jöttek. Készíthettünk volna azonban halmazt is:"
   ]
  },
  {
   "cell_type": "code",
   "execution_count": 24,
   "id": "5bbc28b4",
   "metadata": {},
   "outputs": [],
   "source": [
    "countries = set(students.values())"
   ]
  },
  {
   "cell_type": "code",
   "execution_count": 25,
   "id": "0f81a25a",
   "metadata": {},
   "outputs": [
    {
     "data": {
      "text/plain": [
       "{'China', 'Indonesia', 'Portugal', 'Slovakia'}"
      ]
     },
     "execution_count": 25,
     "metadata": {},
     "output_type": "execute_result"
    }
   ],
   "source": [
    "countries"
   ]
  },
  {
   "cell_type": "markdown",
   "id": "921baad3",
   "metadata": {},
   "source": [
    "Itt már minden ország csak egyszer szerepel. Természetesen ez visszaalakítható listává:"
   ]
  },
  {
   "cell_type": "code",
   "execution_count": 26,
   "id": "a68e726f",
   "metadata": {},
   "outputs": [
    {
     "data": {
      "text/plain": [
       "['China', 'Slovakia', 'Portugal', 'Indonesia']"
      ]
     },
     "execution_count": 26,
     "metadata": {},
     "output_type": "execute_result"
    }
   ],
   "source": [
    "list(countries)"
   ]
  },
  {
   "cell_type": "markdown",
   "id": "14bc617b",
   "metadata": {},
   "source": [
    "Mindez egy lépésben:"
   ]
  },
  {
   "cell_type": "code",
   "execution_count": 27,
   "id": "a84974cc",
   "metadata": {},
   "outputs": [],
   "source": [
    "countries = list(set(students.values()))"
   ]
  },
  {
   "cell_type": "code",
   "execution_count": 28,
   "id": "6d9ba8ff",
   "metadata": {},
   "outputs": [
    {
     "data": {
      "text/plain": [
       "['China', 'Slovakia', 'Portugal', 'Indonesia']"
      ]
     },
     "execution_count": 28,
     "metadata": {},
     "output_type": "execute_result"
    }
   ],
   "source": [
    "countries"
   ]
  },
  {
   "cell_type": "markdown",
   "id": "6599b998",
   "metadata": {},
   "source": [
    "### Halmazműveletek\n",
    "Ha $A$ és $B$ halmazok, akkor az alábbi halmazműveletek Pythonban a következők:\n",
    "* $A\\cup B$ : `A | B`\n",
    "* $A\\cap B$ : `A & B`\n",
    "* $A\\setminus B$ : `A - B`\n",
    "\n",
    "A különbség operátorral egy $e$ elem eltávolítása is megvalósítható:\n",
    "* $A\\setminus\\{e\\}$ : `A - {e}`"
   ]
  },
  {
   "cell_type": "code",
   "execution_count": 63,
   "id": "3517682f",
   "metadata": {},
   "outputs": [
    {
     "name": "stdout",
     "output_type": "stream",
     "text": [
      "A          : {1, 2, 3, 4}\n",
      "B          : {0, 2, 4, 6, 8}\n",
      "A unio B   : {0, 1, 2, 3, 4, 6, 8}\n",
      "A metszet B: {2, 4}\n",
      "A minusz B : {1, 3}\n",
      "B minusz A : {0, 8, 6}\n",
      "A Δ B      : {0, 1, 3, 6, 8}\n"
     ]
    }
   ],
   "source": [
    "A = {1,2,3,4}\n",
    "B = set(range(0,10,2))\n",
    "print(\"A          :\", A)\n",
    "print(\"B          :\", B)\n",
    "print(\"A unio B   :\", A | B)\n",
    "print(\"A metszet B:\", A & B)\n",
    "print(\"A minusz B :\", A - B)\n",
    "print(\"B minusz A :\", B - A)\n",
    "print(\"A Δ B      :\", A ^ B)"
   ]
  },
  {
   "cell_type": "code",
   "execution_count": 61,
   "id": "85f402bd",
   "metadata": {},
   "outputs": [
    {
     "name": "stdout",
     "output_type": "stream",
     "text": [
      "A - {e}: {1, 3, 4}\n"
     ]
    }
   ],
   "source": [
    "e = 2\n",
    "print(\"A - {e}:\", A - {e})"
   ]
  },
  {
   "cell_type": "code",
   "execution_count": 64,
   "id": "bdd2f450",
   "metadata": {},
   "outputs": [
    {
     "data": {
      "text/plain": [
       "True"
      ]
     },
     "execution_count": 64,
     "metadata": {},
     "output_type": "execute_result"
    }
   ],
   "source": [
    "A ^ B == (A-B)|(B-A)"
   ]
  },
  {
   "cell_type": "markdown",
   "id": "3c114755",
   "metadata": {},
   "source": [
    "Halmazok összehasonlítása is értelmezhető, tartalmazás alapján.\n",
    "* $A\\subseteq B$ : `A <= B`\n",
    "* $A\\subset B$ : `A < B`\n",
    "* $A\\supseteq B$ : `A >= B`\n",
    "* $A\\subset B$ : `A >= B`\n",
    "* $A = B$ : `A = B`\n",
    "Hasonlóan, megkérdezhető, hogy egy $e$ elem része-e az $A$ halmaznak:\n",
    "* $e\\in A$ : `e in A`"
   ]
  },
  {
   "cell_type": "code",
   "execution_count": 94,
   "id": "4bd1396e",
   "metadata": {},
   "outputs": [
    {
     "name": "stdout",
     "output_type": "stream",
     "text": [
      "A részhalmaza B-nek: True\n",
      "B részhalmaza A-nak: False\n",
      "C részhalmaza A-nak: True\n",
      "C valódi részhalmaza A-nak: False\n",
      "C egyenlő az A-val: True\n",
      "e eleme A-nak True\n",
      "f eleme A-nak False\n"
     ]
    }
   ],
   "source": [
    "A = set(range(3,8,2))\n",
    "B = set(range(10))\n",
    "C = {7,5,3}\n",
    "e = 3\n",
    "f = 1\n",
    "print(\"A részhalmaza B-nek:\", A <= B)\n",
    "print(\"B részhalmaza A-nak:\", B <= A)\n",
    "print(\"C részhalmaza A-nak:\", C <= A)\n",
    "print(\"C valódi részhalmaza A-nak:\", C < A)\n",
    "print(\"C egyenlő az A-val:\", A == C)\n",
    "print(\"e eleme A-nak\", e in A)\n",
    "print(\"f eleme A-nak\", f in A)"
   ]
  },
  {
   "cell_type": "markdown",
   "id": "dcc83db8",
   "metadata": {},
   "source": [
    "A halmazműveletek több halmazra való ismételt alkalmazása is jól definiált:"
   ]
  },
  {
   "cell_type": "code",
   "execution_count": 116,
   "id": "633666e3",
   "metadata": {},
   "outputs": [
    {
     "name": "stdout",
     "output_type": "stream",
     "text": [
      "{1, 2, 3, 4, 5, 6, 7}\n",
      "{3, 5}\n"
     ]
    }
   ],
   "source": [
    "A = {1,2,3}\n",
    "B = {3,4,5}\n",
    "C = {5,6,7}\n",
    "print(A | B | C)\n",
    "print(A & B | B & C)"
   ]
  },
  {
   "cell_type": "markdown",
   "id": "070d7b92",
   "metadata": {},
   "source": [
    "Értékadás: hasonlóan a `+=`-höz, halmazoknál is működnek az alábbi értékadás operátorok:\n",
    "* `|=`\n",
    "* `-=`\n",
    "* `&=`"
   ]
  },
  {
   "cell_type": "code",
   "execution_count": 185,
   "id": "d7113214",
   "metadata": {},
   "outputs": [
    {
     "name": "stdout",
     "output_type": "stream",
     "text": [
      "{3}\n"
     ]
    }
   ],
   "source": [
    "A = {1,2,3}\n",
    "B = {3,4,5}\n",
    "A &= B\n",
    "print(A)"
   ]
  },
  {
   "cell_type": "markdown",
   "id": "b5067f65",
   "metadata": {},
   "source": [
    "Egy halmaz számossága a `len()` függvénnyel kérdezhető le."
   ]
  },
  {
   "cell_type": "code",
   "execution_count": 117,
   "id": "0707e166",
   "metadata": {},
   "outputs": [
    {
     "data": {
      "text/plain": [
       "5"
      ]
     },
     "execution_count": 117,
     "metadata": {},
     "output_type": "execute_result"
    }
   ],
   "source": [
    "len(A | B)"
   ]
  },
  {
   "cell_type": "markdown",
   "id": "d025a729",
   "metadata": {},
   "source": [
    "## Feladat:\n",
    "Számold meg halmazok segítségével, hogy hány olyan szám van 1 és 10000 között, amelyik osztható 4-gyel **és** 6-tal, de nem osztható 12-tel."
   ]
  },
  {
   "cell_type": "code",
   "execution_count": null,
   "id": "93c7b9e8",
   "metadata": {},
   "outputs": [],
   "source": []
  },
  {
   "cell_type": "markdown",
   "id": "80463e7d",
   "metadata": {},
   "source": [
    "## Feladat:\n",
    "Hány különböző betű található a következő mondatban?\n",
    "_The quick brown fox jumps over the lazy dog._"
   ]
  },
  {
   "cell_type": "code",
   "execution_count": null,
   "id": "04ab2702",
   "metadata": {},
   "outputs": [],
   "source": []
  },
  {
   "cell_type": "markdown",
   "id": "0b434819",
   "metadata": {},
   "source": [
    "## Feladat:\n",
    "\n",
    "Az alábbi listák listájában hány különböző elem található?"
   ]
  },
  {
   "cell_type": "code",
   "execution_count": 215,
   "id": "27d6d4dd",
   "metadata": {},
   "outputs": [],
   "source": [
    "L = [['6', '1', '3', 'r', '8', 'k', ',', 'b', 'a', 'm'],\n",
    "     ['r', 's', 'p', 'l', 'q', 'b', 'b', 's', 'i', '7'],\n",
    "     ['l', '?', 'm', 'i', 'i', 'a', 'c', '4', '9', 't'],\n",
    "     ['h', 'a', '8', '6', 'b', '1', '6', 'k', 'e', '6'],\n",
    "     ['8', ',', 'q', '9', 'q', 't', 's', 'j', '?', 'c'],\n",
    "     ['b', '1', 'l', 'g', 'g', 'l', 'c', 'r', '4', 'c'],\n",
    "     ['4', '.', '3', 'k', 'r', '6', '.', '9', '8', '7'],\n",
    "     ['p', 'c', 'd', 'h', 'r', 'l', '0', 'g', '0', '0'],\n",
    "     ['8', 'c', '6', 't', 't', '4', ',', ',', ',', 'm'],\n",
    "     ['.', 'h', 'd', 's', '5', ',', 'e', 'd', '6', '4']]"
   ]
  },
  {
   "cell_type": "code",
   "execution_count": null,
   "id": "c0e0de58",
   "metadata": {},
   "outputs": [],
   "source": []
  },
  {
   "cell_type": "markdown",
   "id": "1ad6f5c2",
   "metadata": {},
   "source": [
    "# Kivételek kezelése\n",
    "\n",
    "Programjaink futtatása során többféle hiba (más szóval kivétel) is előfordulhat. "
   ]
  },
  {
   "cell_type": "code",
   "execution_count": 113,
   "id": "f9b2d179",
   "metadata": {},
   "outputs": [
    {
     "ename": "SyntaxError",
     "evalue": "invalid syntax (Temp/ipykernel_9948/3003199793.py, line 2)",
     "output_type": "error",
     "traceback": [
      "\u001b[1;36m  File \u001b[1;32m\"C:\\Users\\havasia\\AppData\\Local\\Temp/ipykernel_9948/3003199793.py\"\u001b[1;36m, line \u001b[1;32m2\u001b[0m\n\u001b[1;33m    if a > 3\u001b[0m\n\u001b[1;37m             ^\u001b[0m\n\u001b[1;31mSyntaxError\u001b[0m\u001b[1;31m:\u001b[0m invalid syntax\n"
     ]
    }
   ],
   "source": [
    "a = 2\n",
    "if a > 3 \n",
    "    print(\"a nagyobb 3-nál\")\n",
    "print(\"Az if után\")"
   ]
  },
  {
   "cell_type": "markdown",
   "id": "d9b5d3f2",
   "metadata": {},
   "source": [
    "A fenti példában szintaktikai hibát követtünk el egy idézőjel lehagyásával. A hibaüzenet ezt elárulja, és azt is látjuk, hogy a hibához érve a kód végrehajtása megszakadt. Most megnézzük, hogy hogyan tudunk saját magunk is beépíteni hibaüzenetet a programjainkba.\n",
    "\n",
    "A következő függvény bekéri a felhasználó nevét. Az input utasítás bármilyen sztringet elfogad, de mi tudjuk, hogy a név csak betűkből állhat. Ha ez nem teljesül, akkor hibaüzenetet szeretnénk kiíratni. Az alábbi függvény első változata még akármilyen sztringet elfogad, és nem jelentkezik hibaüzenet. "
   ]
  },
  {
   "cell_type": "code",
   "execution_count": 83,
   "id": "3c7eeda1",
   "metadata": {},
   "outputs": [],
   "source": [
    "def get_username():\n",
    "    inp = input('Az Ön neve: ')\n",
    "    return inp"
   ]
  },
  {
   "cell_type": "code",
   "execution_count": 84,
   "id": "deea9357",
   "metadata": {},
   "outputs": [
    {
     "name": "stdout",
     "output_type": "stream",
     "text": [
      "Az Ön neve: Sallai5\n"
     ]
    },
    {
     "data": {
      "text/plain": [
       "'Sallai5'"
      ]
     },
     "execution_count": 84,
     "metadata": {},
     "output_type": "execute_result"
    }
   ],
   "source": [
    "nev = get_username()\n",
    "nev"
   ]
  },
  {
   "cell_type": "markdown",
   "id": "21395b4a",
   "metadata": {},
   "source": [
    "A második változatában a fenti hibás névre hibaüzenetet kapunk, amely jelzi, hogy értékhiba lépett fel, és felvilágosít annak mibenlétéről:"
   ]
  },
  {
   "cell_type": "code",
   "execution_count": 1,
   "id": "f9802153",
   "metadata": {},
   "outputs": [],
   "source": [
    "def get_username():\n",
    "    inp = input('Az Ön neve: ')\n",
    "    if not inp.isalpha():\n",
    "        raise ValueError('A név megadásánál csak betűk használhatók!')\n",
    "    return inp"
   ]
  },
  {
   "cell_type": "code",
   "execution_count": 2,
   "id": "455b85c3",
   "metadata": {},
   "outputs": [
    {
     "name": "stdout",
     "output_type": "stream",
     "text": [
      "Az Ön neve: Sallai5\n"
     ]
    },
    {
     "ename": "ValueError",
     "evalue": "A név megadásánál csak betűk használhatók!",
     "output_type": "error",
     "traceback": [
      "\u001b[1;31m---------------------------------------------------------------------------\u001b[0m",
      "\u001b[1;31mValueError\u001b[0m                                Traceback (most recent call last)",
      "\u001b[1;32m~\\AppData\\Local\\Temp/ipykernel_5988/878606533.py\u001b[0m in \u001b[0;36m<module>\u001b[1;34m\u001b[0m\n\u001b[1;32m----> 1\u001b[1;33m \u001b[0mnev\u001b[0m \u001b[1;33m=\u001b[0m \u001b[0mget_username\u001b[0m\u001b[1;33m(\u001b[0m\u001b[1;33m)\u001b[0m\u001b[1;33m\u001b[0m\u001b[1;33m\u001b[0m\u001b[0m\n\u001b[0m\u001b[0;32m      2\u001b[0m \u001b[0mnev\u001b[0m\u001b[1;33m\u001b[0m\u001b[1;33m\u001b[0m\u001b[0m\n",
      "\u001b[1;32m~\\AppData\\Local\\Temp/ipykernel_5988/3254396377.py\u001b[0m in \u001b[0;36mget_username\u001b[1;34m()\u001b[0m\n\u001b[0;32m      2\u001b[0m     \u001b[0minp\u001b[0m \u001b[1;33m=\u001b[0m \u001b[0minput\u001b[0m\u001b[1;33m(\u001b[0m\u001b[1;34m'Az Ön neve: '\u001b[0m\u001b[1;33m)\u001b[0m\u001b[1;33m\u001b[0m\u001b[1;33m\u001b[0m\u001b[0m\n\u001b[0;32m      3\u001b[0m     \u001b[1;32mif\u001b[0m \u001b[1;32mnot\u001b[0m \u001b[0minp\u001b[0m\u001b[1;33m.\u001b[0m\u001b[0misalpha\u001b[0m\u001b[1;33m(\u001b[0m\u001b[1;33m)\u001b[0m\u001b[1;33m:\u001b[0m\u001b[1;33m\u001b[0m\u001b[1;33m\u001b[0m\u001b[0m\n\u001b[1;32m----> 4\u001b[1;33m         \u001b[1;32mraise\u001b[0m \u001b[0mValueError\u001b[0m\u001b[1;33m(\u001b[0m\u001b[1;34m'A név megadásánál csak betűk használhatók!'\u001b[0m\u001b[1;33m)\u001b[0m\u001b[1;33m\u001b[0m\u001b[1;33m\u001b[0m\u001b[0m\n\u001b[0m\u001b[0;32m      5\u001b[0m     \u001b[1;32mreturn\u001b[0m \u001b[0minp\u001b[0m\u001b[1;33m\u001b[0m\u001b[1;33m\u001b[0m\u001b[0m\n",
      "\u001b[1;31mValueError\u001b[0m: A név megadásánál csak betűk használhatók!"
     ]
    }
   ],
   "source": [
    "nev = get_username()\n",
    "nev"
   ]
  },
  {
   "cell_type": "markdown",
   "id": "83ee4403",
   "metadata": {},
   "source": [
    "A fenti hibakezelés során a hiba megtörténte után lépünk valamit. Egy másik lehetőség a try - except utasításpár használata. Ha arra számítunk, hogy a felhasználó elkövethet egy hibát valahol, akkor előtte kiadjuk a try parancsot, majd pedig az except utasítás után megadjuk, hogy mit tegyen a gép, ha valóban hibás a try utáni rész. Ha nincs hiba a try után, akkor az except utáni blokk nem hajtódik végre."
   ]
  },
  {
   "cell_type": "code",
   "execution_count": 116,
   "id": "5eba415b",
   "metadata": {},
   "outputs": [
    {
     "name": "stdout",
     "output_type": "stream",
     "text": [
      "Adj meg egy számot: k\n",
      "Rendben, választok egyet neked...\n",
      "7\n"
     ]
    }
   ],
   "source": [
    "try:\n",
    "    szam = int(input('Adj meg egy számot: '))\n",
    "except:\n",
    "    print(\"Rendben, választok egyet neked...\")\n",
    "    szam = 7\n",
    "print(szam)"
   ]
  },
  {
   "cell_type": "markdown",
   "id": "685d5816",
   "metadata": {},
   "source": [
    "A fenti példában a try után vétett tetszőleges természetű hiba esetén az except utáni parancssor hajtódik végre, és nem áll le a program. Érdemes ezt úgy módosítani, hogy azt is megadjuk, csak milyen természetű hiba elkövetése esetén hajtódjon végre az except utáni rész. "
   ]
  },
  {
   "cell_type": "code",
   "execution_count": 102,
   "id": "c3280464",
   "metadata": {},
   "outputs": [
    {
     "name": "stdout",
     "output_type": "stream",
     "text": [
      "Adj meg egy számot: u\n",
      "Ez nem szám!\n"
     ]
    }
   ],
   "source": [
    "try:\n",
    "    szam = int(input('Adj meg egy számot: '))\n",
    "except ValueError:\n",
    "    print(\"Ez nem szám!\")"
   ]
  },
  {
   "cell_type": "markdown",
   "id": "7812c890",
   "metadata": {},
   "source": [
    "Osztásnál gyakori hiba a nullával való osztás. Az alábbi példában arra is felkészülünk, ha nem számot ad meg a felhasználó, és arra is, ha nulla osztót, a két esetben más típusú hiba lép fel, és a hibaüzenet is  más lesz."
   ]
  },
  {
   "cell_type": "code",
   "execution_count": 106,
   "id": "db613d7d",
   "metadata": {},
   "outputs": [
    {
     "name": "stdout",
     "output_type": "stream",
     "text": [
      "Adj meg egy számot: u\n",
      "Ez nem szám!\n"
     ]
    }
   ],
   "source": [
    "try: \n",
    "    szam = int(input('Adj meg egy számot: '))\n",
    "    print(10/szam)\n",
    "except ValueError:\n",
    "    print(\"Ez nem szám!\")\n",
    "except ZeroDivisionError:\n",
    "    print(\"Nullával nem lehet osztani!\")"
   ]
  },
  {
   "cell_type": "code",
   "execution_count": 107,
   "id": "89e58a07",
   "metadata": {},
   "outputs": [
    {
     "name": "stdout",
     "output_type": "stream",
     "text": [
      "Adj meg egy számot: 0\n",
      "Nullával nem lehet osztani!\n"
     ]
    }
   ],
   "source": [
    "try: \n",
    "    szam = int(input('Adj meg egy számot: '))\n",
    "    print(10/szam)\n",
    "except ValueError:\n",
    "    print(\"Ez nem szám!\")\n",
    "except ZeroDivisionError:\n",
    "    print(\"Nullával nem lehet osztani!\")"
   ]
  }
 ],
 "metadata": {
  "kernelspec": {
   "display_name": "Python 3 (ipykernel)",
   "language": "python",
   "name": "python3"
  },
  "language_info": {
   "codemirror_mode": {
    "name": "ipython",
    "version": 3
   },
   "file_extension": ".py",
   "mimetype": "text/x-python",
   "name": "python",
   "nbconvert_exporter": "python",
   "pygments_lexer": "ipython3",
   "version": "3.9.13"
  }
 },
 "nbformat": 4,
 "nbformat_minor": 5
}
