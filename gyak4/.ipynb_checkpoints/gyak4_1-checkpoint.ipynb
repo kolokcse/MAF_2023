{
 "cells": [
  {
   "cell_type": "markdown",
   "id": "e153307b",
   "metadata": {},
   "source": [
    "# 4. gyakorlat\n",
    "\n",
    "## Függvények\n",
    "\n",
    "A függvény olyan, névvel ellátott kódrészlet, amelyet a nevére hivatkozva akárhányszor végrehajthatunk. Ezzel elkerülhetjük a fölösleges ismétléseket, valamint összetett számításokat egyszeri utasítás mögé rejthetünk.\n",
    "\n",
    "A függvényt először definiáljuk, majd végrehajtjuk.\n",
    "\n",
    "A következő kódrészlet egy olyan egyszerű függvény definícióját tartalmazza, amely csak kiír valamit a képernyőre."
   ]
  },
  {
   "cell_type": "code",
   "execution_count": 1,
   "id": "d7874240",
   "metadata": {},
   "outputs": [],
   "source": [
    "def haha():\n",
    "    print('HA'*20)"
   ]
  },
  {
   "cell_type": "markdown",
   "id": "b9aa806b",
   "metadata": {},
   "source": [
    "A def utasítás után a függvény neve következik, majd kerek zárójel és kettőspont. A függvényben végrehajtandó utasításblokkot itt is beljebb kezdjük. Enterre még semmi sem történik, ehhez végre kell hajtanunk (meg kell hívnunk) a függvényt. Ehhez a függvény nevét, utána pedig üres kerek zárójelet kell beírnunk:"
   ]
  },
  {
   "cell_type": "code",
   "execution_count": 3,
   "id": "042ac646",
   "metadata": {},
   "outputs": [
    {
     "name": "stdout",
     "output_type": "stream",
     "text": [
      "HAHAHAHAHAHAHAHAHAHAHAHAHAHAHAHAHAHAHAHA\n"
     ]
    }
   ],
   "source": [
    "haha()"
   ]
  },
  {
   "cell_type": "markdown",
   "id": "de542e02",
   "metadata": {},
   "source": [
    "Ennek a függvénynek nem volt bemenete. Legtöbbször azonban szokott lenni egy vagy több bemenő adata is egy függvénynek. Pl. módosítsuk a haha függvényt úgy, hogy a függvény hívásakor megadhassuk a nevetés erősségét (vagyis azt, hogy hányszor íródjon ki a képernyőre a 'HA' sztring):"
   ]
  },
  {
   "cell_type": "code",
   "execution_count": 4,
   "id": "a57fad83",
   "metadata": {},
   "outputs": [],
   "source": [
    "def haha(erosseg):\n",
    "    print('HA'*erosseg)"
   ]
  },
  {
   "cell_type": "markdown",
   "id": "4b87f85f",
   "metadata": {},
   "source": [
    "Azt a változót, amely a függvény neve után zárójelben szerepel, a függvény paraméterének nevezzük, ez azt az értéket fogja majd felvenni, amelyet a felhasználó a függvény neve után zárójelben megad a függvény hívásakor. Elnevezése: argumentum. Hívjuk meg a haha függvényt pl. a következő argumentumokkal: 1, 5, 30."
   ]
  },
  {
   "cell_type": "code",
   "execution_count": 5,
   "id": "67285809",
   "metadata": {},
   "outputs": [
    {
     "name": "stdout",
     "output_type": "stream",
     "text": [
      "HA\n"
     ]
    }
   ],
   "source": [
    "haha(1)"
   ]
  },
  {
   "cell_type": "code",
   "execution_count": 6,
   "id": "69f27d82",
   "metadata": {},
   "outputs": [
    {
     "name": "stdout",
     "output_type": "stream",
     "text": [
      "HAHAHAHAHA\n"
     ]
    }
   ],
   "source": [
    "haha(5)"
   ]
  },
  {
   "cell_type": "code",
   "execution_count": 7,
   "id": "4e500f32",
   "metadata": {},
   "outputs": [
    {
     "name": "stdout",
     "output_type": "stream",
     "text": [
      "HAHAHAHAHAHAHAHAHAHAHAHAHAHAHAHAHAHAHAHAHAHAHAHAHAHAHAHAHAHA\n"
     ]
    }
   ],
   "source": [
    "haha(30)"
   ]
  },
  {
   "cell_type": "code",
   "execution_count": 8,
   "id": "a21e403e",
   "metadata": {},
   "outputs": [
    {
     "ename": "TypeError",
     "evalue": "haha() missing 1 required positional argument: 'erosseg'",
     "output_type": "error",
     "traceback": [
      "\u001b[1;31m---------------------------------------------------------------------------\u001b[0m",
      "\u001b[1;31mTypeError\u001b[0m                                 Traceback (most recent call last)",
      "\u001b[1;32m~\\AppData\\Local\\Temp/ipykernel_13604/592970877.py\u001b[0m in \u001b[0;36m<module>\u001b[1;34m\u001b[0m\n\u001b[1;32m----> 1\u001b[1;33m \u001b[0mhaha\u001b[0m\u001b[1;33m(\u001b[0m\u001b[1;33m)\u001b[0m\u001b[1;33m\u001b[0m\u001b[1;33m\u001b[0m\u001b[0m\n\u001b[0m",
      "\u001b[1;31mTypeError\u001b[0m: haha() missing 1 required positional argument: 'erosseg'"
     ]
    }
   ],
   "source": [
    "haha()"
   ]
  },
  {
   "cell_type": "markdown",
   "id": "0fc12e6b",
   "metadata": {},
   "source": [
    "Láthatjuk, hogy ha a függvénynek van paramétere, akkor az üres zárójellel nem tudjuk meghívni, a fordító hiányolja az argumentumot. Kivétel ez alól az az eset, amikor a függvény definiálásakor megadunk egy alapértelmezett értéket a paraméternek, mert ekkor üres zárójel esetén ezzel az alapértelmezett értékkel fog dolgozni."
   ]
  },
  {
   "cell_type": "code",
   "execution_count": 1,
   "id": "ca92d2e3",
   "metadata": {},
   "outputs": [],
   "source": [
    "def haha(erosseg=10):\n",
    "    print('HA'*erosseg)"
   ]
  },
  {
   "cell_type": "code",
   "execution_count": 2,
   "id": "e9f31cea",
   "metadata": {},
   "outputs": [
    {
     "name": "stdout",
     "output_type": "stream",
     "text": [
      "HAHAHAHAHAHAHAHAHAHA\n"
     ]
    }
   ],
   "source": [
    "haha()"
   ]
  },
  {
   "cell_type": "markdown",
   "id": "af98c5fb",
   "metadata": {},
   "source": [
    "Nézzünk példát több bemenő adattal rendelkező függvényre! Az alábbi függvény elosztja x-et y-nal. Miután definiáltuk, rögtön meg is hívjuk x = 1 és y = 2 argumentummal:"
   ]
  },
  {
   "cell_type": "code",
   "execution_count": 9,
   "id": "43e24a48",
   "metadata": {},
   "outputs": [
    {
     "name": "stdout",
     "output_type": "stream",
     "text": [
      "0.5\n"
     ]
    }
   ],
   "source": [
    "def osztas(x,y):\n",
    "    print(x/y)\n",
    "osztas(1,2)"
   ]
  },
  {
   "cell_type": "markdown",
   "id": "9602f9ac",
   "metadata": {},
   "source": [
    "Az eddigi példákban szereplő függvények csak kiírtak valamit a képernyőre, de nem adtak vissza semmit. Jó lenne, ha az osztás eredménye belekerülne egy változóba, amivel aztán szükség esetén tovább dolgozhatnánk. (Hangsúlyozzuk, hogy az ilyen, ún. visszatérési érték létezése minőségileg más, mint a puszta képernyőre íratás.) Próbálkozzunk így:"
   ]
  },
  {
   "cell_type": "code",
   "execution_count": 14,
   "id": "247f5453",
   "metadata": {},
   "outputs": [],
   "source": [
    "def osztas(x,y):\n",
    "    eredmeny = x/y"
   ]
  },
  {
   "cell_type": "code",
   "execution_count": 15,
   "id": "11792b95",
   "metadata": {},
   "outputs": [],
   "source": [
    "osztas(1,2)"
   ]
  },
  {
   "cell_type": "markdown",
   "id": "4b62669c",
   "metadata": {},
   "source": [
    "Semmit nem kaptunk, illetve ha rákérdezünk osztas(1,2) típusára, akkor látjuk, hogy az None, ami az érték hiányára utal."
   ]
  },
  {
   "cell_type": "code",
   "execution_count": 17,
   "id": "e3a0d17a",
   "metadata": {},
   "outputs": [
    {
     "data": {
      "text/plain": [
       "NoneType"
      ]
     },
     "execution_count": 17,
     "metadata": {},
     "output_type": "execute_result"
    }
   ],
   "source": [
    "type(osztas(1,2))"
   ]
  },
  {
   "cell_type": "markdown",
   "id": "4bbb90df",
   "metadata": {},
   "source": [
    "Ez tehát így nem működik, helyette a következőt kell írnunk:"
   ]
  },
  {
   "cell_type": "code",
   "execution_count": 19,
   "id": "dd3d83a4",
   "metadata": {},
   "outputs": [],
   "source": [
    "def osztas(x,y):\n",
    "    return x/y"
   ]
  },
  {
   "cell_type": "markdown",
   "id": "9c88207c",
   "metadata": {},
   "source": [
    "A függvény meghívásakor a függvény visszaadja azt, amit a return után álló kifejezésre kapott, majd befejezi a függvény végrehajtását. (Ha tehát a return után, a def sora utáni, beljebb kezdett blokkban még van valami, az nem hajtódik végre.) Fontos azt is hangsúlyozni, hogy egy függvény csak egy értéket adhat vissza. (Igaz, az lehet tuple (rendezett n-es) is, lásd később.)\n",
    "\n",
    "Most már meghívhatjuk a fenti függvényt, és az eredményt beletehetjük pl. egy n nevű változóba:"
   ]
  },
  {
   "cell_type": "code",
   "execution_count": 20,
   "id": "299614ef",
   "metadata": {},
   "outputs": [],
   "source": [
    "n = osztas(1,2)"
   ]
  },
  {
   "cell_type": "code",
   "execution_count": 21,
   "id": "904615ee",
   "metadata": {},
   "outputs": [
    {
     "data": {
      "text/plain": [
       "0.5"
      ]
     },
     "execution_count": 21,
     "metadata": {},
     "output_type": "execute_result"
    }
   ],
   "source": [
    "n"
   ]
  },
  {
   "cell_type": "markdown",
   "id": "5b94f223",
   "metadata": {},
   "source": [
    "Beépíthetünk ebbe a függvénybe hibaüzenetet is nullával való osztás esetére:"
   ]
  },
  {
   "cell_type": "code",
   "execution_count": 3,
   "id": "ef54443c",
   "metadata": {},
   "outputs": [],
   "source": [
    "def osztas(x,y):\n",
    "    if y == 0:\n",
    "        return \"Hiba: nullával való osztás!\"\n",
    "    return x/y"
   ]
  },
  {
   "cell_type": "code",
   "execution_count": 4,
   "id": "aa0762f4",
   "metadata": {},
   "outputs": [
    {
     "data": {
      "text/plain": [
       "'Hiba: nullával való osztás!'"
      ]
     },
     "execution_count": 4,
     "metadata": {},
     "output_type": "execute_result"
    }
   ],
   "source": [
    "osztas(4,0)"
   ]
  },
  {
   "cell_type": "markdown",
   "id": "ca03992c",
   "metadata": {},
   "source": [
    "Több argumentum esetén, mint megfigyelhetjük, a paraméterek sorban lesznek párosítva az argumentumokkal, tehát az \"osztas(1,2)\" hívásnál x = 1, és y = 2 lesz, nem pedig fordítva. Hívásnál meg lehet adni a változók nevét is, ez esetben nem számít a sorrendjük. "
   ]
  },
  {
   "cell_type": "code",
   "execution_count": 5,
   "id": "b2c94a81",
   "metadata": {},
   "outputs": [
    {
     "data": {
      "text/plain": [
       "0.5"
      ]
     },
     "execution_count": 5,
     "metadata": {},
     "output_type": "execute_result"
    }
   ],
   "source": [
    "osztas(x=1, y=2)"
   ]
  },
  {
   "cell_type": "code",
   "execution_count": 6,
   "id": "b0abd028",
   "metadata": {},
   "outputs": [
    {
     "data": {
      "text/plain": [
       "0.5"
      ]
     },
     "execution_count": 6,
     "metadata": {},
     "output_type": "execute_result"
    }
   ],
   "source": [
    "osztas(y=2, x=1)"
   ]
  },
  {
   "cell_type": "markdown",
   "id": "c8fb54e0",
   "metadata": {},
   "source": [
    "Ha több paraméter is van, akkor az alapértelmezett értékkel rendelkezőket a függvény definiálásánál a végére kell tenni. "
   ]
  },
  {
   "cell_type": "code",
   "execution_count": 18,
   "id": "19ea7267",
   "metadata": {},
   "outputs": [
    {
     "ename": "SyntaxError",
     "evalue": "non-default argument follows default argument (Temp/ipykernel_3768/2179819816.py, line 1)",
     "output_type": "error",
     "traceback": [
      "\u001b[1;36m  File \u001b[1;32m\"C:\\Users\\havasia\\AppData\\Local\\Temp/ipykernel_3768/2179819816.py\"\u001b[1;36m, line \u001b[1;32m1\u001b[0m\n\u001b[1;33m    def osztas(x=1, y):\u001b[0m\n\u001b[1;37m                     ^\u001b[0m\n\u001b[1;31mSyntaxError\u001b[0m\u001b[1;31m:\u001b[0m non-default argument follows default argument\n"
     ]
    }
   ],
   "source": [
    "def osztas(x=1, y):\n",
    "    return x/y\n",
    "osztas(8)"
   ]
  },
  {
   "cell_type": "code",
   "execution_count": 19,
   "id": "b34b8814",
   "metadata": {},
   "outputs": [
    {
     "data": {
      "text/plain": [
       "0.125"
      ]
     },
     "execution_count": 19,
     "metadata": {},
     "output_type": "execute_result"
    }
   ],
   "source": [
    "def osztas(y, x=1):\n",
    "    return x/y\n",
    "osztas(8)"
   ]
  },
  {
   "cell_type": "markdown",
   "id": "249c9eaf",
   "metadata": {},
   "source": [
    "**Feladatok**\n",
    "\n",
    "1) Írjunk függvényt, amely megvizsgálja egy szám paritását. Bemenet: egy szám. Kimenet: True, ha a szám páros, és False, ha páratlan."
   ]
  },
  {
   "cell_type": "code",
   "execution_count": 27,
   "id": "f5b7dc99",
   "metadata": {},
   "outputs": [],
   "source": [
    "def is_even(num):\n",
    "    # TODO"
   ]
  },
  {
   "cell_type": "code",
   "execution_count": 28,
   "id": "cb58d3df",
   "metadata": {},
   "outputs": [
    {
     "data": {
      "text/plain": [
       "False"
      ]
     },
     "execution_count": 28,
     "metadata": {},
     "output_type": "execute_result"
    }
   ],
   "source": [
    "is_even(21)"
   ]
  },
  {
   "cell_type": "code",
   "execution_count": 29,
   "id": "f918247a",
   "metadata": {},
   "outputs": [
    {
     "data": {
      "text/plain": [
       "True"
      ]
     },
     "execution_count": 29,
     "metadata": {},
     "output_type": "execute_result"
    }
   ],
   "source": [
    "is_even(78)"
   ]
  },
  {
   "cell_type": "markdown",
   "id": "81385498",
   "metadata": {},
   "source": [
    "Egyszerűbb megoldás:"
   ]
  },
  {
   "cell_type": "code",
   "execution_count": 30,
   "id": "159fa719",
   "metadata": {},
   "outputs": [],
   "source": [
    "def is_even(num):\n",
    "    # TODO"
   ]
  },
  {
   "cell_type": "markdown",
   "id": "6fb277d3",
   "metadata": {},
   "source": [
    "2) Írjunk függvényt, amely egy szöveg végén lévő szóközöket levágja, a szövegben minden szóközt alulvonásra cserél, és minden nagybetűt kisbetűre ír át. (Lapozzuk fel ehhez a strip ill. replace metódust.) Próbáljuk ki a következő sztringen: \"Monty Python repülő cirkusza    \"."
   ]
  },
  {
   "cell_type": "code",
   "execution_count": 1,
   "id": "ac83f681",
   "metadata": {},
   "outputs": [
    {
     "data": {
      "text/plain": [
       "'monty_python_repülő_cirkusza'"
      ]
     },
     "execution_count": 1,
     "metadata": {},
     "output_type": "execute_result"
    }
   ],
   "source": [
    "def f(szoveg):\n",
    "    # TODO\n",
    "f(\"Monty Python repülő cirkusza \")"
   ]
  },
  {
   "cell_type": "markdown",
   "id": "f9e42f5d",
   "metadata": {},
   "source": [
    "3) Készítsünk függvényt, amely összeszámolja, hogy hány magánhangzó van egy (angol nyelvű) szövegben!"
   ]
  },
  {
   "cell_type": "code",
   "execution_count": 26,
   "id": "4a8d2f2e",
   "metadata": {},
   "outputs": [],
   "source": [
    "def count_vowels(text):\n",
    "    #TODO"
   ]
  },
  {
   "cell_type": "code",
   "execution_count": 27,
   "id": "330128cd",
   "metadata": {},
   "outputs": [
    {
     "data": {
      "text/plain": [
       "4"
      ]
     },
     "execution_count": 27,
     "metadata": {},
     "output_type": "execute_result"
    }
   ],
   "source": [
    "count_vowels(\"capibara\")"
   ]
  },
  {
   "cell_type": "markdown",
   "id": "7baa0973",
   "metadata": {},
   "source": [
    "## Érvényességi kör\n",
    "\n",
    "A függvényen belül definiált változók kívülről nem látszanak. Értelmezzük az alábbi kód működését! "
   ]
  },
  {
   "cell_type": "code",
   "execution_count": 23,
   "id": "32c35a25",
   "metadata": {},
   "outputs": [
    {
     "name": "stdout",
     "output_type": "stream",
     "text": [
      "30 fok van.\n"
     ]
    }
   ],
   "source": [
    "homerseklet = 24\n",
    "def milyen_az_ido():\n",
    "    homerseklet = 30\n",
    "    print(f'{homerseklet} fok van.')\n",
    "milyen_az_ido()"
   ]
  },
  {
   "cell_type": "code",
   "execution_count": 24,
   "id": "b4cb5ca4",
   "metadata": {},
   "outputs": [
    {
     "name": "stdout",
     "output_type": "stream",
     "text": [
      "24\n"
     ]
    }
   ],
   "source": [
    "print(homerseklet)"
   ]
  },
  {
   "cell_type": "markdown",
   "id": "88e61bab",
   "metadata": {},
   "source": [
    "## Rekurzív függvény\n",
    "\n",
    "A függvény saját magát is meghívhatja. A return itt sem maradhat el! Erre előadáson láttunk matematikai példákat. Nézzünk egy egyszerű hétköznapi példát:"
   ]
  },
  {
   "cell_type": "code",
   "execution_count": 8,
   "id": "95d4a34d",
   "metadata": {},
   "outputs": [
    {
     "name": "stdout",
     "output_type": "stream",
     "text": [
      "Válasszon új jelszót! pici\n",
      "Válasszon új jelszót! pici01\n",
      "Válasszon új jelszót! pici1989\n"
     ]
    }
   ],
   "source": [
    "def jelszo_bekeres():\n",
    "    jelszo = input('Válasszon új jelszót! ')\n",
    "    if len(jelszo) < 8:\n",
    "        return jelszo_bekeres()\n",
    "jelszo_bekeres()"
   ]
  },
  {
   "cell_type": "markdown",
   "id": "7167dc2a",
   "metadata": {},
   "source": [
    "# Adatszerkezetek\n",
    "\n",
    "Az adatszerkezet lényegében olyan konténer, amely adatokat tartalmaz. A Pythonban négy alapvető adtszerkezet van: lista (list), rendezet n-es (tuple), szótár (dictionary), halmaz (set). Nézzünk példákat az előadáson tanultak gyakorlására!"
   ]
  },
  {
   "cell_type": "markdown",
   "id": "d697abfc",
   "metadata": {},
   "source": [
    "## A lista"
   ]
  },
  {
   "cell_type": "markdown",
   "id": "4b483afe",
   "metadata": {},
   "source": [
    "Egy lóverseny részeredményeit szeretnénk követni. Az első perc utáni állást a lovak lista tartalmazza, az első (azaz nulladik) helyen az éppen elöl álló lóval:"
   ]
  },
  {
   "cell_type": "code",
   "execution_count": 40,
   "id": "3c52ef6d",
   "metadata": {},
   "outputs": [],
   "source": [
    "lovak = [\"Tikk-takk\", \"Aladin\", \"Dodó\", \"Pomádé\", \"Széplány\", \"Csóka\"]"
   ]
  },
  {
   "cell_type": "markdown",
   "id": "9006ea52",
   "metadata": {},
   "source": [
    "Véletlenül elírtuk a második ló nevét: \"Aladin\" helyett \"Aladdin\" a helyes név. Javítsuk ki!"
   ]
  },
  {
   "cell_type": "code",
   "execution_count": 41,
   "id": "40994315",
   "metadata": {},
   "outputs": [],
   "source": [
    "lovak[1] = \"Aladdin\""
   ]
  },
  {
   "cell_type": "code",
   "execution_count": 42,
   "id": "c6594ece",
   "metadata": {},
   "outputs": [
    {
     "data": {
      "text/plain": [
       "['Tikk-takk', 'Aladdin', 'Dodó', 'Pomádé', 'Széplány', 'Csóka']"
      ]
     },
     "execution_count": 42,
     "metadata": {},
     "output_type": "execute_result"
    }
   ],
   "source": [
    "lovak"
   ]
  },
  {
   "cell_type": "markdown",
   "id": "fcc6f528",
   "metadata": {},
   "source": [
    "Újabb résztvevő tűnik fel kissé lemaradva Délibáb személyében, biggyesszük hozzá a listához:"
   ]
  },
  {
   "cell_type": "code",
   "execution_count": 43,
   "id": "82832728",
   "metadata": {},
   "outputs": [],
   "source": [
    "lovak.append(\"Délibáb\")"
   ]
  },
  {
   "cell_type": "markdown",
   "id": "ea80b117",
   "metadata": {},
   "source": [
    "Még jobban lemaradt az utolsó három ló: Villám, Huba és Pitypang"
   ]
  },
  {
   "cell_type": "code",
   "execution_count": 44,
   "id": "02ca9255",
   "metadata": {},
   "outputs": [],
   "source": [
    "tobbi = [\"Villám\", \"Huba\", \"Pitypang\"]\n",
    "lovak.extend(tobbi)"
   ]
  },
  {
   "cell_type": "code",
   "execution_count": 28,
   "id": "ddf79cb9",
   "metadata": {},
   "outputs": [
    {
     "data": {
      "text/plain": [
       "['Tikk-takk',\n",
       " 'Aladdin',\n",
       " 'Dodó',\n",
       " 'Pomádé',\n",
       " 'Széplány',\n",
       " 'Csóka',\n",
       " 'Délibáb',\n",
       " 'Villám',\n",
       " 'Huba',\n",
       " 'Pitypang']"
      ]
     },
     "execution_count": 28,
     "metadata": {},
     "output_type": "execute_result"
    }
   ],
   "source": [
    "lovak"
   ]
  },
  {
   "cell_type": "markdown",
   "id": "86a573a4",
   "metadata": {},
   "source": [
    "Ezen a ponton tegyük meg tippünket a győztesre!"
   ]
  },
  {
   "cell_type": "code",
   "execution_count": 60,
   "id": "fb0d367e",
   "metadata": {},
   "outputs": [],
   "source": [
    "tipp_gyoztes = 'Dodó'"
   ]
  },
  {
   "cell_type": "markdown",
   "id": "0385c424",
   "metadata": {},
   "source": [
    "Az utolsó ló, Pitypang megmakacsolja magát, úgy tűnik, nem fogja befejezni a versenyt. Távolítsuk el a lista utolsó elemét!"
   ]
  },
  {
   "cell_type": "code",
   "execution_count": 45,
   "id": "f475c607",
   "metadata": {},
   "outputs": [
    {
     "data": {
      "text/plain": [
       "'Pitypang'"
      ]
     },
     "execution_count": 45,
     "metadata": {},
     "output_type": "execute_result"
    }
   ],
   "source": [
    "lovak.pop()"
   ]
  },
  {
   "cell_type": "markdown",
   "id": "126739aa",
   "metadata": {},
   "source": [
    "Dodó sérülés miatt kiáll a versenyből."
   ]
  },
  {
   "cell_type": "code",
   "execution_count": 46,
   "id": "3395d681",
   "metadata": {},
   "outputs": [],
   "source": [
    "lovak.remove(\"Dodó\")"
   ]
  },
  {
   "cell_type": "markdown",
   "id": "3fdf2a9e",
   "metadata": {},
   "source": [
    "Az első ló nem jut túl a nyaktörő sövényakadályon, őt is töröljük a listából!"
   ]
  },
  {
   "cell_type": "code",
   "execution_count": 47,
   "id": "a8b1e1f1",
   "metadata": {},
   "outputs": [
    {
     "data": {
      "text/plain": [
       "'Tikk-takk'"
      ]
     },
     "execution_count": 47,
     "metadata": {},
     "output_type": "execute_result"
    }
   ],
   "source": [
    "lovak.pop(0)"
   ]
  },
  {
   "cell_type": "code",
   "execution_count": 48,
   "id": "19e2c99d",
   "metadata": {},
   "outputs": [
    {
     "data": {
      "text/plain": [
       "['Aladdin', 'Pomádé', 'Széplány', 'Csóka', 'Délibáb', 'Villám', 'Huba']"
      ]
     },
     "execution_count": 48,
     "metadata": {},
     "output_type": "execute_result"
    }
   ],
   "source": [
    "lovak"
   ]
  },
  {
   "cell_type": "markdown",
   "id": "1e69d432",
   "metadata": {},
   "source": [
    "Megint az első ló kerül bajba, leszakad, de az utolsó helyről még folytatja a versenyt:"
   ]
  },
  {
   "cell_type": "code",
   "execution_count": 49,
   "id": "b10cf865",
   "metadata": {},
   "outputs": [],
   "source": [
    "elso = lovak.pop(0)\n",
    "lovak.append(elso)"
   ]
  },
  {
   "cell_type": "code",
   "execution_count": 50,
   "id": "c2a9ea98",
   "metadata": {},
   "outputs": [
    {
     "data": {
      "text/plain": [
       "['Pomádé', 'Széplány', 'Csóka', 'Délibáb', 'Villám', 'Huba', 'Aladdin']"
      ]
     },
     "execution_count": 50,
     "metadata": {},
     "output_type": "execute_result"
    }
   ],
   "source": [
    "lovak"
   ]
  },
  {
   "cell_type": "markdown",
   "id": "407c7fe6",
   "metadata": {},
   "source": [
    "Dodó mégiscsak visszajön, és egészen az utolsó előtti helyig küzdi fel magát:"
   ]
  },
  {
   "cell_type": "code",
   "execution_count": 51,
   "id": "6ef5614a",
   "metadata": {},
   "outputs": [],
   "source": [
    "lovak.insert(-1,\"Dodó\")"
   ]
  },
  {
   "cell_type": "code",
   "execution_count": 52,
   "id": "b8d2622c",
   "metadata": {},
   "outputs": [
    {
     "data": {
      "text/plain": [
       "['Pomádé', 'Széplány', 'Csóka', 'Délibáb', 'Villám', 'Huba', 'Dodó', 'Aladdin']"
      ]
     },
     "execution_count": 52,
     "metadata": {},
     "output_type": "execute_result"
    }
   ],
   "source": [
    "lovak"
   ]
  },
  {
   "cell_type": "markdown",
   "id": "60c89476",
   "metadata": {},
   "source": [
    "Vége a versenynek! Kihirdethető a három győztes:"
   ]
  },
  {
   "cell_type": "code",
   "execution_count": 56,
   "id": "90214579",
   "metadata": {},
   "outputs": [],
   "source": [
    "dobogo = lovak[:3]"
   ]
  },
  {
   "cell_type": "code",
   "execution_count": 57,
   "id": "4d7154df",
   "metadata": {},
   "outputs": [
    {
     "data": {
      "text/plain": [
       "['Pomádé', 'Széplány', 'Csóka']"
      ]
     },
     "execution_count": 57,
     "metadata": {},
     "output_type": "execute_result"
    }
   ],
   "source": [
    "dobogo"
   ]
  },
  {
   "cell_type": "markdown",
   "id": "5a0026d4",
   "metadata": {},
   "source": [
    "Készítsük el az eredménytáblát a résztvevők elé írt sorszámokkal, minden résztvevőt új sorban kezdve!"
   ]
  },
  {
   "cell_type": "code",
   "execution_count": 59,
   "id": "6416fded",
   "metadata": {},
   "outputs": [
    {
     "name": "stdout",
     "output_type": "stream",
     "text": [
      "1. Pomádé\n",
      "2. Széplány\n",
      "3. Csóka\n",
      "4. Délibáb\n",
      "5. Villám\n",
      "6. Huba\n",
      "7. Dodó\n",
      "8. Aladdin\n"
     ]
    }
   ],
   "source": [
    "# TODO"
   ]
  },
  {
   "cell_type": "markdown",
   "id": "593a65bd",
   "metadata": {},
   "source": [
    "Végül nézzük, jól tippeltünk-e a győztesre!"
   ]
  },
  {
   "cell_type": "code",
   "execution_count": 62,
   "id": "abdd546c",
   "metadata": {},
   "outputs": [
    {
     "name": "stdout",
     "output_type": "stream",
     "text": [
      "Sajnos nem nyert!\n"
     ]
    }
   ],
   "source": [
    "if tipp_gyoztes == lovak[0]:\n",
    "    print(\"Gratulálunk, Ön jól tippelt! Nyereménye 100000 Ft!\")\n",
    "else: \n",
    "    print(\"Sajnos nem nyert!\")"
   ]
  }
 ],
 "metadata": {
  "kernelspec": {
   "display_name": "Python 3 (ipykernel)",
   "language": "python",
   "name": "python3"
  },
  "language_info": {
   "codemirror_mode": {
    "name": "ipython",
    "version": 3
   },
   "file_extension": ".py",
   "mimetype": "text/x-python",
   "name": "python",
   "nbconvert_exporter": "python",
   "pygments_lexer": "ipython3",
   "version": "3.9.13"
  },
  "vscode": {
   "interpreter": {
    "hash": "b6973a4bffe56468f41e3984f9628ab6e8a591767c4c04599ef797cf6630fe7d"
   }
  }
 },
 "nbformat": 4,
 "nbformat_minor": 5
}
