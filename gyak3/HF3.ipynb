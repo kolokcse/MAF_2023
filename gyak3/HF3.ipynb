{
 "cells": [
  {
   "cell_type": "markdown",
   "id": "8fc84b48",
   "metadata": {},
   "source": [
    "# 3. Házi feladat\n",
    "\n",
    "\n",
    "Hányadikig kell összeadni az elemeket az \n",
    "\n",
    "$$ a_{n\\:}=3n\\:-1,\\quad n\\geq 0$$\n",
    "\n",
    "sorozatban, hogy 19-cel osztható páratlan számot kapjunk? Az egész mondatos választ írassuk ki a képernyőre. (Pl.: \"A sorozat elemeit a(z) xxx. elemig kell összeadni.\")"
   ]
  },
  {
   "cell_type": "code",
   "execution_count": null,
   "id": "55cad651",
   "metadata": {},
   "outputs": [],
   "source": []
  }
 ],
 "metadata": {
  "kernelspec": {
   "display_name": "Python 3 (ipykernel)",
   "language": "python",
   "name": "python3"
  },
  "language_info": {
   "codemirror_mode": {
    "name": "ipython",
    "version": 3
   },
   "file_extension": ".py",
   "mimetype": "text/x-python",
   "name": "python",
   "nbconvert_exporter": "python",
   "pygments_lexer": "ipython3",
   "version": "3.9.13"
  }
 },
 "nbformat": 4,
 "nbformat_minor": 5
}
