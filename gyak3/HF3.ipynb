{
 "cells": [
  {
   "cell_type": "markdown",
   "id": "8fc84b48",
   "metadata": {},
   "source": [
    "# 3. Házi feladat\n",
    "\n",
    "\n",
    "Hányadikig kell összeadni az elemeket az \n",
    "\n",
    "$$ a_{n\\:}=3n\\:-1,\\quad n\\geq 0$$\n",
    "\n",
    "sorozatban, hogy 19-cel osztható páratlan számot kapjunk? Az egész mondatos választ írassuk ki a képernyőre. (Pl.: \"A sorozat elemeit a(z) xxx. elemig kell összeadni.\")"
   ]
  },
  {
   "cell_type": "code",
   "execution_count": null,
   "id": "55cad651",
   "metadata": {},
   "outputs": [],
   "source": []
  },
  {
   "cell_type": "markdown",
   "id": "f827a980",
   "metadata": {},
   "source": [
    "A FB-string a következő módon alakul ki. Kezdetben üres. Végigmegyünk az összes pozitív egész számon, kezdve 1-gyel, növekvő sorrendben, és a következőt tesszük minden egyes egész számmal:\n",
    "\n",
    "- Ha az aktuális egész osztható 3-mal, F-t fűzünk az FB-sztring végére;\n",
    "- Ha az aktuális egész osztható 5-tel, B-t fűzünk az FB-sztring végére.\n",
    "\n",
    "Megjegyzés: Ha egy egész osztható mind 3-mal, mind 5-tel, akkor F-et, majd B-t fűzünk hozzá, nem fordítva.\n",
    "\n",
    "Az FB-string első 10 karaktere FBFFBFFBFB: az első F az 1-gyel oszthatatlan 3-as számból származik, a következő karakter (B) az 5-össel osztható számból származik, az következő F a 6-tal osztható számból származik, és így tovább. Egyszerű látni, hogy ez a karakterlánc végtelen hosszú. Legyen $f_𝑖$ az FB-string 𝑖-edik karaktere, tehát $f_1$ F, $f_2$ B, $f_3$ F, $f_4$ F, és így tovább.\n",
    "\n",
    "Adott egy sztring 𝑠, amely F és/vagy B karakterekből áll. Meg kell határoznod, hogy ez egy substring-e (összefüggő részsorozat) az FB-string-ből. Más szóval meg kell határoznod, hogy lehetséges-e választani két egész számot 𝑙 és 𝑟 (1≤𝑙≤𝑟), hogy a $f_lf_{l+1}f_{l+2} \\dots f_r$ karakterlánc pontosan 𝑠 legyen.\n",
    "\n",
    "Például:\n",
    "\n",
    "- FFB egy substring az FB-string-ből: ha 𝑙=3 és 𝑟=5, akkor a $f_3f_4f_5$ karakterlánc pontosan FFB;\n",
    "- BFFBFFBF egy substring az FB-string-ből: ha 𝑙=2 és 𝑟=9, akkor a $f_2f_3\\dots f_9$ karakterlánc pontosan BFFBFFBF;\n",
    "- BBB nem substring az FB-string-ből."
   ]
  },
  {
   "cell_type": "code",
   "execution_count": null,
   "id": "99c57d11",
   "metadata": {},
   "outputs": [],
   "source": []
  }
 ],
 "metadata": {
  "kernelspec": {
   "display_name": "Python 3 (ipykernel)",
   "language": "python",
   "name": "python3"
  },
  "language_info": {
   "codemirror_mode": {
    "name": "ipython",
    "version": 3
   },
   "file_extension": ".py",
   "mimetype": "text/x-python",
   "name": "python",
   "nbconvert_exporter": "python",
   "pygments_lexer": "ipython3",
   "version": "3.9.13"
  }
 },
 "nbformat": 4,
 "nbformat_minor": 5
}
