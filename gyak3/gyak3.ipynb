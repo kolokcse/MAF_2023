{
 "cells": [
  {
   "attachments": {},
   "cell_type": "markdown",
   "id": "0cfe41ba",
   "metadata": {},
   "source": [
    "# 3. gyakorlat"
   ]
  },
  {
   "cell_type": "markdown",
   "id": "27fc0442",
   "metadata": {},
   "source": [
    "## Github"
   ]
  },
  {
   "cell_type": "markdown",
   "id": "ca178a11",
   "metadata": {},
   "source": [
    "Kép forrása: https://dev.to/mollynem/git-github--workflow-fundamentals-5496"
   ]
  },
  {
   "cell_type": "code",
   "execution_count": null,
   "id": "07a9959c",
   "metadata": {},
   "outputs": [],
   "source": [
    "from skimage import io\n",
    " \n",
    "img = io.imread(\"git.png\")\n",
    "io.imshow(img)"
   ]
  },
  {
   "cell_type": "markdown",
   "id": "6e1e60da",
   "metadata": {},
   "source": [
    "\n",
    "\n",
    "\n",
    "## Github\n",
    "\n",
    "\n",
    "Hozz létre egy privát gihub repot és oszd meg velem! A repo szerkezet legyen hasonló az enyémhez: https://github.com/kolokcse/MAF_2023\n",
    "Azaz: \n",
    "\n",
    "- MAF_2023\n",
    "    - gyak1\n",
    "    - gyak2\n",
    "    -...\n",
    "    \n",
    "**Linux vagy MAC**: \n",
    "- parancssort nyisd meg vagy az Anacond promptot\n",
    "- install: `apt-get install git` vagy `conda install -c anaconda git`\n",
    "- git repo létrehozása: \n",
    "    - parancssorban cd a mappához majd: \n",
    "    - `git --version`\n",
    "    - `git init`\n",
    "    - `git status`\n",
    "    - adjuk hozzá a fiókunkat:\n",
    "    - `git config --global user.name \"gituser\"` gituser helyett a saját git felhasznalo\n",
    "    - `git config --global user.email \"MY_NAME@example.com\"` saját email!\n",
    "    - `git add .`\n",
    "    - `git commit -m \"firs commit\"`\n",
    "    - `git branch -M master`\n",
    "    - hozz létre egy új repot a giten vmilyen névvel PL: MAF_2023, és kösd hozzáa lokális mappát a git repohoz:\n",
    "    - `git remote add origin https://github.com/gituser/MAF_2023.git`\n",
    "    - `git push -u origin master`\n",
    "    - itt lehet hogy kérni fog jelszót ahova egy tokent kell bemásolni: itt egy ismertető hogy ezt hogyan tedd meg  https://docs.github.com/en/authentication/keeping-your-account-and-data-secure/creating-a-personal-access-token \n",
    "- állítsd priváttá! És adj engem (git username: kolokcse) hozzá mint contributor! Küldd el a linket emailben!  \n",
    "\n",
    "**Windows**: \n",
    "- Nyisd meg az 'Anaconda pompt'-ot\n",
    "- feljön egy parancssor\n",
    "- install: `conda install -c anaconda git`\n",
    "- git repo létrehozása: \n",
    "    - parancssorban cd a mappához majd: \n",
    "    - `git --version`\n",
    "    - `git init`\n",
    "    - `git status`\n",
    "    - adjuk hozzá a fiókunkat:\n",
    "    - `git config --global user.name \"gituser\"` gituser helyett a saját git felhasznalo\n",
    "    - `git config --global user.email \"MY_NAME@example.com\"` saját email!\n",
    "    - `git add .`\n",
    "    - `git commit -m \"firs commit\"` (-m után mindig egy tetszőleges üzenetet írhatsz majd)\n",
    "    - `git branch -M master`\n",
    "    - hozz létre egy új repot a giten vmilyen névvel PL: MAF_2023 \n",
    "    - `git remote add origin https://github.com/gituser/MAF_2023.git` (a gituser helyére a saját git felhasználó nevedet írd!)\n",
    "    - `git push -u origin master`\n",
    "\n",
    "- állítsd priváttá! És adj engem (git username: kolokcse) hozzá mint contributor! Küldd el a linket emailben!  \n",
    "\n",
    "**Általános feltöltés gitre 3 lépésben:**\n",
    "- status: Milyen állapotban van éppen a mappa ahol dolgozunk: `git status`\n",
    "- add: Hozzáadjuk a munka felületre a módosításainkat: `git add .` az összeset vagy `git add fájlnév` az adott nevű fájlt\n",
    "- commit: Commitoljuk a módosításainkat: `git commit -m \"message\"` bármilyen üzenetet beírhatunk, ez a munkafelületről commitolja az összes változtatást amit hozzáadtunk.\n",
    "- push: online remote repora feltöltjük a módosításokat: `git push -u origin master`\n",
    "\n",
    "\n",
    "\n",
    "# Ciklusszervezés\n",
    "\n",
    "A programjainkban gyakran arra van szükség, hogy bizonyos utasítássort ismételten végrehajtsunk (iteráció). Van, amikor előre tudjuk, hogy hányszor kell végrehajtani ezt az utasítássort. Pl.\n",
    "\n",
    "- Keressük meg az összes 'a' betűt egy szóban.\n",
    "\n",
    "- Találjuk meg az összes 1000-nél kisebb prímet.\n",
    "\n",
    "- Írassuk ki az első 100 egész szám négyzetét.\n",
    "\n",
    "Az ilyet előírt lépésszámú ciklusnak hívjuk, és erre a Pythonban a `for` utasítás szolgál (for ciklus).\n",
    "\n",
    "Máskor addig ismétlünk valamit, amíg fennáll egy bizonyos feltétel. Pl.\n",
    "\n",
    "- Új jelszó ismételt bekérése mindaddig, amíg nem felel meg minden feltételnek.\n",
    "\n",
    "- Addig ismételjük a kockadobást, míg hatost nem dobunk.\n",
    "\n",
    "Az ilyen ciklust feltételes ciklusnak nevezzük, és erre a Pythonban a `while` utasítás szolgál (while ciklus)."
   ]
  },
  {
   "cell_type": "code",
   "execution_count": null,
   "id": "afad7beb",
   "metadata": {},
   "outputs": [],
   "source": []
  },
  {
   "cell_type": "markdown",
   "id": "1f889575",
   "metadata": {},
   "source": [
    "## A for ciklus\n",
    "\n",
    "Jelöljön iter egy iterálható objektumot (pl. sztringet). A for ciklus sémája a következő:\n",
    "```python\n",
    "for i in iterable:\n",
    "    do_something\n",
    "```"
   ]
  },
  {
   "cell_type": "markdown",
   "id": "c5cfbc4e",
   "metadata": {},
   "source": [
    "Azaz: i minden értékére sorban az iter objektumból hajtódjon végre a do_something blokk összes utasítása. Az i (ciklusváltozó) helyett más betűt vagy változónevet is használhatunk. Pl. Írassuk ki egyenként a \"kutya\" szó összes betűjét!"
   ]
  },
  {
   "cell_type": "code",
   "execution_count": null,
   "id": "2742e02b",
   "metadata": {},
   "outputs": [],
   "source": [
    "for char in \"kutya\":\n",
    "    print(char)"
   ]
  },
  {
   "cell_type": "markdown",
   "id": "2f81667e",
   "metadata": {},
   "source": [
    "Mivel nagyon gyakori, hogy egész számok sorozatán akarunk végigiterálni, erre van egy beépített függvény: az előadáson látott `range`. Pl. írassuk ki 0-tól 3-ig az egész számokat, majd 4-től 11-ig a páros számokat! "
   ]
  },
  {
   "cell_type": "code",
   "execution_count": null,
   "id": "f8f0bcc2",
   "metadata": {},
   "outputs": [],
   "source": [
    "for i in range(4):\n",
    "    print(i)"
   ]
  },
  {
   "cell_type": "code",
   "execution_count": null,
   "id": "cd416be9",
   "metadata": {},
   "outputs": [],
   "source": [
    "for i in range(4,11,2):\n",
    "    print(i)"
   ]
  },
  {
   "cell_type": "markdown",
   "id": "219849e7",
   "metadata": {},
   "source": [
    "## Feladatok\n",
    "\n",
    "1) Adjuk össze 1-től 100-ig az egész számokat!"
   ]
  },
  {
   "cell_type": "code",
   "execution_count": null,
   "id": "403bc267",
   "metadata": {},
   "outputs": [],
   "source": []
  },
  {
   "cell_type": "markdown",
   "id": "22a38ae3",
   "metadata": {},
   "source": [
    "2) Szokásos ciklusváltozónak az alulvonást használni, ha a végrehajtandó utasítás nem függ a ciklusváltozótól. Pl. írassuk ki 10-szer a képernyőre, hogy \"Szia!\""
   ]
  },
  {
   "cell_type": "code",
   "execution_count": null,
   "id": "71ec29d0",
   "metadata": {},
   "outputs": [],
   "source": []
  },
  {
   "cell_type": "markdown",
   "id": "edb5dc60",
   "metadata": {},
   "source": [
    "## A while ciklus\n",
    "\n",
    "Legyen condition egy feltétel. A while ciklus szintakszisa a következő:\n",
    "```python\n",
    "while condition:\n",
    "    do_something\n",
    "```"
   ]
  },
  {
   "cell_type": "markdown",
   "id": "8238f944",
   "metadata": {},
   "source": [
    "Jelentése: Egészen addig ismételten hajtódjon végre a do_something blokk minden utasítása, amíg fennáll a 'condition' feltétel."
   ]
  },
  {
   "cell_type": "markdown",
   "id": "20364548",
   "metadata": {},
   "source": [
    "## Feladatok\n",
    "\n",
    "1) Amíg a felhasználó által megadott új jelszó hossza nem éri el a 8 karaktert, addig kérjen újat!"
   ]
  },
  {
   "cell_type": "code",
   "execution_count": null,
   "id": "4ac71bd6",
   "metadata": {},
   "outputs": [],
   "source": []
  },
  {
   "cell_type": "markdown",
   "id": "e786909a",
   "metadata": {},
   "source": [
    "2) Amíg a felhasználó által megadott új jelszó csak kis betűket vagy csak nagybetűket tartalmaz, addig kérjen újat!"
   ]
  },
  {
   "cell_type": "code",
   "execution_count": null,
   "id": "5e017005",
   "metadata": {},
   "outputs": [],
   "source": []
  },
  {
   "cell_type": "markdown",
   "id": "04532160",
   "metadata": {},
   "source": [
    "3) Adjuk össze az első 100 egész számot while ciklussal!"
   ]
  },
  {
   "cell_type": "code",
   "execution_count": null,
   "id": "e5cd7399",
   "metadata": {},
   "outputs": [],
   "source": []
  },
  {
   "cell_type": "markdown",
   "id": "1f446902",
   "metadata": {},
   "source": [
    "### break\n",
    "\n",
    "Ha a cikluson belül break utasítás áll, akkor ott a ciklus végrehajtása megszakad. \n",
    "\n",
    "Pl. a jelszavas feladat másik megoldása:"
   ]
  },
  {
   "cell_type": "code",
   "execution_count": null,
   "id": "362661c8",
   "metadata": {},
   "outputs": [],
   "source": [
    "uj_jelszo = input('Add meg új jelszavadat! ')\n",
    "while True:\n",
    "    if len(uj_jelszo) >= 8:\n",
    "        break\n",
    "    uj_jelszo = input('A jelszó hossza legalább 8 karakter legyen! Add meg új jelszavadat! ') \n",
    "print('Új jelszavad:', uj_jelszo)"
   ]
  },
  {
   "cell_type": "markdown",
   "id": "3c6a2337",
   "metadata": {},
   "source": [
    "### continue\n",
    "\n",
    "Ugrás a ciklus következő iterációjára. Pl. írassuk ki egy szó betűit az 'a' betűk kivételével!"
   ]
  },
  {
   "cell_type": "code",
   "execution_count": null,
   "id": "95fe1a8d",
   "metadata": {},
   "outputs": [],
   "source": [
    "szo = \"katakomba\"\n",
    "for char in szo:\n",
    "    if char == 'a':\n",
    "        continue\n",
    "    print(char)"
   ]
  },
  {
   "cell_type": "markdown",
   "id": "467c7431",
   "metadata": {},
   "source": [
    "Ha a nagybetűkre is szeretnénk, hogy működjön:"
   ]
  },
  {
   "cell_type": "code",
   "execution_count": null,
   "id": "acd57394",
   "metadata": {},
   "outputs": [],
   "source": [
    "szo = \"KATAkomba\"\n",
    "for char in szo:\n",
    "    if char.lower() == 'a':\n",
    "        continue\n",
    "    print(char)"
   ]
  },
  {
   "cell_type": "markdown",
   "id": "40006e5d",
   "metadata": {},
   "source": [
    "## Rövidített értékadás\n",
    "\n",
    "Egy változó értékét, főleg ciklusban, gyakran növelni vagy csökkenteni kell, többnyire 1-gyel. Erre  a Pythonban van egy egyszerűsített szintakszis, amelyre feljebb már láttunk egy példát:"
   ]
  },
  {
   "cell_type": "code",
   "execution_count": null,
   "id": "8bdeb259",
   "metadata": {},
   "outputs": [],
   "source": [
    "i = 0\n",
    "i += 1"
   ]
  },
  {
   "cell_type": "code",
   "execution_count": null,
   "id": "7d52a6d4",
   "metadata": {},
   "outputs": [],
   "source": [
    "i"
   ]
  },
  {
   "cell_type": "code",
   "execution_count": null,
   "id": "e20be600",
   "metadata": {},
   "outputs": [],
   "source": [
    "i += 2\n",
    "i"
   ]
  },
  {
   "cell_type": "markdown",
   "id": "56d91431",
   "metadata": {},
   "source": [
    "Ez a többi aritmetikai műveletre is működik, pl."
   ]
  },
  {
   "cell_type": "code",
   "execution_count": null,
   "id": "1c78cafa",
   "metadata": {},
   "outputs": [],
   "source": [
    "n = 2\n",
    "n *= 3\n",
    "n"
   ]
  },
  {
   "cell_type": "code",
   "execution_count": null,
   "id": "2a5d4120",
   "metadata": {},
   "outputs": [],
   "source": [
    "n -= 1\n",
    "n"
   ]
  },
  {
   "cell_type": "code",
   "execution_count": null,
   "id": "c2345a75",
   "metadata": {},
   "outputs": [],
   "source": [
    "n //= 2\n",
    "n"
   ]
  },
  {
   "cell_type": "code",
   "execution_count": null,
   "id": "2447eae5",
   "metadata": {},
   "outputs": [],
   "source": [
    "n %= 2\n",
    "n"
   ]
  },
  {
   "cell_type": "markdown",
   "id": "511af6db",
   "metadata": {},
   "source": [
    "## Táblázatkészítés ciklussal\n",
    "\n",
    "Készítsük el a 2-hatványok táblázatát 0-tól 10-ig az egész számokra!"
   ]
  },
  {
   "cell_type": "code",
   "execution_count": null,
   "id": "3a018afb",
   "metadata": {},
   "outputs": [],
   "source": [
    "for x in range(11):\n",
    "    print(x, \"\\t\", 2**x)"
   ]
  },
  {
   "cell_type": "markdown",
   "id": "d732f51d",
   "metadata": {},
   "source": [
    "Kétdimenziós táblázatot is készíthetünk beágyazott ciklussal. \n",
    "\n",
    "Nézzünk egy példát beágyazott ciklusra. Mit csinál az alábbi kód?"
   ]
  },
  {
   "cell_type": "code",
   "execution_count": null,
   "id": "956dfbf6",
   "metadata": {},
   "outputs": [],
   "source": [
    "for kulso in range(1,6):\n",
    "    print(kulso)\n",
    "    for belso in range(1,4):\n",
    "        print(\"\\t\", belso)"
   ]
  },
  {
   "cell_type": "markdown",
   "id": "3998775b",
   "metadata": {},
   "source": [
    "## Feladat:\n",
    "Készítsük el a szorzótáblát az 1,2,3,4,5 számok egymással vett szorzataira!"
   ]
  },
  {
   "cell_type": "code",
   "execution_count": null,
   "id": "c9a812c3",
   "metadata": {},
   "outputs": [],
   "source": []
  },
  {
   "cell_type": "markdown",
   "id": "8be7e1c4",
   "metadata": {},
   "source": [
    "## `fstring` II.\n",
    "Az `fstring`-ek esetén formázási lehetőségek is rendelkezésünkre állnak. Például: \n",
    "* megadhatjuk, hogy legalább hány karakternyi helyet foglaljon el:"
   ]
  },
  {
   "cell_type": "code",
   "execution_count": null,
   "id": "b0aea189",
   "metadata": {},
   "outputs": [],
   "source": [
    "x = \"körte\"\n",
    "y = \"káposzta\"\n",
    "print(f\"A {x:10} egy gyümölcs\")\n",
    "print(f\"A {y:10} nem egy gyümölcs\")"
   ]
  },
  {
   "cell_type": "markdown",
   "id": "bd8ac491",
   "metadata": {},
   "source": [
    "* megadhatjuk, hogy jobbra, balra vagy középre zárt legyen:"
   ]
  },
  {
   "cell_type": "code",
   "execution_count": null,
   "id": "298c0b84",
   "metadata": {},
   "outputs": [],
   "source": [
    "x = \"körte\"\n",
    "y = \"káposzta\"\n",
    "z = \"dinnye\"\n",
    "print(f\"A {x:>20} egy gyümölcs\") # Jobbra zárt\n",
    "print(f\"A {y:^20} nem egy gyümölcs\") # Középre zárt\n",
    "print(f\"A {z:<20} egy gyümölcs\") # Balra zárt"
   ]
  },
  {
   "cell_type": "markdown",
   "id": "2b9f13cf",
   "metadata": {},
   "source": [
    "* Megadhatjuk, hogy a kimaradt hely mivel legyen kitöltve:"
   ]
  },
  {
   "cell_type": "code",
   "execution_count": null,
   "id": "bf1a854d",
   "metadata": {},
   "outputs": [],
   "source": [
    "x = \"körte\"\n",
    "y = \"káposzta\"\n",
    "z = \"dinnye\"\n",
    "print(f\"A {x:.>20} egy gyümölcs\") # Jobbra zárt\n",
    "print(f\"A {y:=^20} nem egy gyümölcs\") # Középre zárt\n",
    "print(f\"A {z:*<20} egy gyümölcs\") # Balra zárt"
   ]
  },
  {
   "cell_type": "markdown",
   "id": "e94dd147",
   "metadata": {},
   "source": [
    "* `float` számok esetén megadhatjuk, hogy hány számjegy szerepeljen belőle:"
   ]
  },
  {
   "cell_type": "code",
   "execution_count": null,
   "id": "77e8518b",
   "metadata": {},
   "outputs": [],
   "source": [
    "x = 1234.5678\n",
    "print(f\"x = {x:>10.1}\")\n",
    "print(f\"x = {x:>10.2}\")\n",
    "print(f\"x = {x:>10.3}\")\n",
    "print(f\"x = {x:>10.4}\")\n",
    "print(f\"x = {x:>10.5}\")\n",
    "print(f\"x = {x:>10.6}\")\n",
    "print(f\"x = {x:>10.7}\")\n",
    "print(f\"x = {x:>10.8}\")"
   ]
  },
  {
   "cell_type": "markdown",
   "id": "3c7d4658",
   "metadata": {},
   "source": [
    "* Egész számok esetén kérhetjük binárisként őket:"
   ]
  },
  {
   "cell_type": "code",
   "execution_count": null,
   "id": "fbdd9a25",
   "metadata": {},
   "outputs": [],
   "source": [
    "x = 14\n",
    "print(f\"x = {x}, ez binárisként: {x:b}\")"
   ]
  },
  {
   "cell_type": "markdown",
   "id": "b36ecd0a",
   "metadata": {},
   "source": [
    "## Feladatok"
   ]
  },
  {
   "cell_type": "markdown",
   "id": "dca22b62",
   "metadata": {},
   "source": [
    "Rajzold ki az alábbi formát:\n",
    "```\n",
    "         *         \n",
    "        ***        \n",
    "       *****       \n",
    "      *******      \n",
    "     *********     \n",
    "    ***********    \n",
    "   *************   \n",
    "  ***************  \n",
    " ***************** \n",
    "*******************\n",
    "```"
   ]
  },
  {
   "cell_type": "code",
   "execution_count": null,
   "id": "685acc22",
   "metadata": {},
   "outputs": [],
   "source": []
  },
  {
   "cell_type": "markdown",
   "id": "1a0c7303",
   "metadata": {},
   "source": [
    "Rajzold ki az alábbi formát (10 sor, 18 oszlop):\n",
    "```\n",
    "******************\n",
    "*******    *******\n",
    "*****        *****\n",
    "***            ***\n",
    "*                *\n",
    "*                *\n",
    "***            ***\n",
    "*****        *****\n",
    "*******    *******\n",
    "******************\n",
    "```"
   ]
  },
  {
   "cell_type": "code",
   "execution_count": null,
   "id": "f3615c9d",
   "metadata": {},
   "outputs": [],
   "source": []
  },
  {
   "cell_type": "markdown",
   "id": "edd85815",
   "metadata": {
    "scrolled": false
   },
   "source": [
    "## Függvények\n",
    "\n",
    "A függvény olyan, névvel ellátott kódrészlet, amelyet a nevére hivatkozva akárhányszor végrehajthatunk. Ezzel elkerülhetjük a fölösleges ismétléseket, valamint összetett számításokat egyszeri utasítás mögé rejthetünk.\n",
    "\n",
    "A függvényt először definiáljuk, majd végrehajtjuk.\n",
    "\n",
    "A következő kódrészlet egy olyan egyszerű függvény definícióját tartalmazza, amely csak kiír valamit a képernyőre."
   ]
  },
  {
   "cell_type": "code",
   "execution_count": null,
   "id": "df46860b",
   "metadata": {},
   "outputs": [],
   "source": [
    "def haha():\n",
    "    print('HA'*20)"
   ]
  },
  {
   "cell_type": "markdown",
   "id": "e616a76b",
   "metadata": {},
   "source": [
    "A def utasítás után a függvény neve következik, majd kerek zárójel és kettőspont. A függvényben végrehajtandó utasításblokkot itt is beljebb kezdjük. Enterre még semmi sem történik, ehhez végre kell hajtanunk (meg kell hívnunk) a függvényt. Ehhez a függvény nevét, utána pedig üres kerek zárójelet kell beírnunk:"
   ]
  },
  {
   "cell_type": "code",
   "execution_count": null,
   "id": "ec4751bc",
   "metadata": {},
   "outputs": [],
   "source": [
    "def haha(erosseg):\n",
    "    print('HA'*erosseg)"
   ]
  },
  {
   "cell_type": "markdown",
   "id": "7ce3ccba",
   "metadata": {},
   "source": [
    "Azt a változót, amely a függvény neve után zárójelben szerepel, a függvény paraméterének nevezzük, ez azt az értéket fogja majd felvenni, amelyet a felhasználó a függvény neve után zárójelben megad a függvény hívásakor. Elnevezése: argumentum. Hívjuk meg a haha függvényt pl. a következő argumentumokkal: 1, 5, 30."
   ]
  },
  {
   "cell_type": "code",
   "execution_count": null,
   "id": "1a9f0fca",
   "metadata": {},
   "outputs": [],
   "source": [
    "haha(1)"
   ]
  },
  {
   "cell_type": "code",
   "execution_count": null,
   "id": "cb86fc39",
   "metadata": {},
   "outputs": [],
   "source": [
    "haha(30)"
   ]
  },
  {
   "cell_type": "code",
   "execution_count": null,
   "id": "b8e369f5",
   "metadata": {},
   "outputs": [],
   "source": [
    "haha()"
   ]
  },
  {
   "cell_type": "markdown",
   "id": "e72df7a9",
   "metadata": {},
   "source": [
    "Láthatjuk, hogy ha a függvénynek van paramétere, akkor az üres zárójellel nem tudjuk meghívni, a fordító hiányolja az argumentumot. Kivétel ez alól az az eset, amikor a függvény definiálásakor megadunk egy alapértelmezett értéket a paraméternek, mert ekkor üres zárójel esetén ezzel az alapértelmezett értékkel fog dolgozni."
   ]
  },
  {
   "cell_type": "code",
   "execution_count": null,
   "id": "181ba425",
   "metadata": {},
   "outputs": [],
   "source": [
    "def haha(erosseg=10):\n",
    "    print('HA'*erosseg)"
   ]
  },
  {
   "cell_type": "code",
   "execution_count": null,
   "id": "d76cce96",
   "metadata": {},
   "outputs": [],
   "source": [
    "haha()"
   ]
  },
  {
   "cell_type": "code",
   "execution_count": null,
   "id": "da8743ac",
   "metadata": {},
   "outputs": [],
   "source": [
    "def osztas(x,y):\n",
    "    print(x/y)\n",
    "osztas(1,2)"
   ]
  },
  {
   "cell_type": "markdown",
   "id": "6588e54e",
   "metadata": {},
   "source": [
    "Az eddigi példákban szereplő függvények csak kiírtak valamit a képernyőre, de nem adtak vissza semmit. Jó lenne, ha az osztás eredménye belekerülne egy változóba, amivel aztán szükség esetén tovább dolgozhatnánk. (Hangsúlyozzuk, hogy az ilyen, ún. visszatérési érték létezése minőségileg más, mint a puszta képernyőre íratás.) Próbálkozzunk így:"
   ]
  },
  {
   "cell_type": "code",
   "execution_count": null,
   "id": "9f0b5718",
   "metadata": {},
   "outputs": [],
   "source": [
    "def osztas(x,y):\n",
    "    eredmeny = x/y"
   ]
  },
  {
   "cell_type": "code",
   "execution_count": null,
   "id": "9f325cff",
   "metadata": {},
   "outputs": [],
   "source": [
    "osztas(1,2)"
   ]
  },
  {
   "cell_type": "code",
   "execution_count": null,
   "id": "14289504",
   "metadata": {},
   "outputs": [],
   "source": [
    "type(osztas(1,2))"
   ]
  },
  {
   "cell_type": "code",
   "execution_count": null,
   "id": "d1c5ccb0",
   "metadata": {},
   "outputs": [],
   "source": [
    "def osztas(x,y):\n",
    "    return x/y"
   ]
  },
  {
   "cell_type": "markdown",
   "id": "3362421b",
   "metadata": {},
   "source": [
    "A függvény meghívásakor a függvény visszaadja azt, amit a return után álló kifejezésre kapott, majd befejezi a függvény végrehajtását. (Ha tehát a return után, a def sora utáni, beljebb kezdett blokkban még van valami, az nem hajtódik végre.) Fontos azt is hangsúlyozni, hogy egy függvény csak egy értéket adhat vissza. (Igaz, az lehet tuple (rendezett n-es) is, lásd később.)\n",
    "\n",
    "Most már meghívhatjuk a fenti függvényt, és az eredményt beletehetjük pl. egy n nevű változóba:"
   ]
  },
  {
   "cell_type": "code",
   "execution_count": null,
   "id": "77ba3ceb",
   "metadata": {},
   "outputs": [],
   "source": [
    "n = osztas(1,2)"
   ]
  },
  {
   "cell_type": "code",
   "execution_count": null,
   "id": "eb64615b",
   "metadata": {},
   "outputs": [],
   "source": [
    "n"
   ]
  },
  {
   "cell_type": "markdown",
   "id": "c0eef28a",
   "metadata": {},
   "source": [
    "## Feladatok"
   ]
  },
  {
   "cell_type": "markdown",
   "id": "6b9bdbbf",
   "metadata": {},
   "source": [
    "1) Az utcán sétáltál és hallottál egy hangot. A hangot az 𝑠 karakterlánc írja le, amely kis- és nagybetűs latin karaktereket tartalmaz. Most azt akarod megtudni, hogy a hang egy macska nyávogása volt-e.\n",
    "\n",
    "Ahhoz, hogy a hang macskányávogás legyen, a karakterlánc csak a 'm', 'e', 'o' és 'w' betűket tartalmazhatja, kis- és nagybetűvel egyaránt. Ezenkívül:\n",
    "\n",
    "- a karakterláncnak olyan nem üres szekvenciával kell kezdődnie, amely csak 'm' vagy 'M' karakterekből áll\n",
    "- azt azonnal egy nem üres 'e' vagy 'E' karakterekből álló szekvencia kell követnie\n",
    "- azt azonnal egy nem üres 'o' vagy 'O' karakterekből álló szekvencia kell követnie\n",
    "- azt azonnal egy nem üres 'w' vagy 'W' karakterekből álló szekvencia kell követnie, amely befejezi a karakterláncot, és utána azonnal a karakterlánc vége következik\n",
    "\n",
    "Például az \"meow\", \"mmmEeOWww\", \"MeOooOw\" karakterláncok egy macskányávogást írnak le, de az \"Mweo\", \"MeO\", \"moew\", \"MmEW\", \"meowmeow\" karakterláncok nem. Döntsd el, hogy a hallott hang macskányávogás volt-e, vagy valami más."
   ]
  },
  {
   "cell_type": "code",
   "execution_count": null,
   "id": "7462954d",
   "metadata": {},
   "outputs": [],
   "source": []
  },
  {
   "cell_type": "markdown",
   "id": "4755391d",
   "metadata": {},
   "source": [
    "2) Március 14-én, a π szám napja van ünneplive világszerte. Ez egy nagyon fontos matematikai állandó, amely egy kör kerületének és átmérőjének arányával egyenlő.\n",
    "\n",
    "Polycarp azt tanulta az iskolában, hogy a π szám irracionális, így végtelen számú számjegye van decimális jelölésben. A π szám napjára való felkészülésként szerette volna a lehető legpontosabban megjegyezni ezt a számot.\n",
    "\n",
    "Polycarp leírta az összes számjegyet, amit sikerült megjegyeznie. Például, ha Polycarp a π számot 3,1415-nek jegyezte meg, akkor leírta 31415-t.\n",
    "\n",
    "Polycarp sietett és hibát is elkövethetett, ezért úgy döntöttél, hogy ellenőrzöd, hány első számjegyet jegyezett meg helyesen a π számból.\n",
    "\n",
    "**Bemenet**\n",
    "\n",
    "Az első bemeneti sor egyetlen egész számot tartalmaz, a tesztesetek számát 𝑡 (1≤𝑡≤103).\n",
    "\n",
    "Minden teszteset egyetlen számjegyekből álló karakterláncot tartalmaz, amit Polycarp leírt.\n",
    "\n",
    "A karakterlánc legfeljebb 30 számjegyet tartalmaz.\n",
    "\n",
    "**Kimenet**\n",
    "\n",
    "A kimenet 𝑡 egész számot tartalmaz, amely mindegyik esetben az adott tesztesetnek megfelelő választ adja meg, azaz hogy Polycarp hány helyes első számjegyet jegyezett meg a π számból."
   ]
  },
  {
   "cell_type": "code",
   "execution_count": null,
   "id": "05874bc8",
   "metadata": {},
   "outputs": [],
   "source": [
    "import math\n",
    "math.pi"
   ]
  },
  {
   "cell_type": "markdown",
   "id": "82dfd5e2",
   "metadata": {},
   "source": [
    "3) Krisztinek egy 𝑠 hosszúságú karakterlánca van, amely csak kis- és nagybetűs latin betűkből áll. Minden kisbetűs karakterpár és az ehhez tartozó nagybetűs karakter 1 burlt jelent Kristina számára. Azonban a karakterpárok nem fedhetik át egymást, így minden karakter csak egy párban lehet.\n",
    "\n",
    "Kristina több burlt szeretne szerezni a karakterláncához, ezért legfeljebb 𝑘 műveletet hajthat végre rajta. Egy művelet során vagy kiválaszthatja a kisbetűs karaktert 𝑠𝑖-t (1≤𝑖≤𝑛) és nagybetűssé teheti, vagy kiválaszthatja a nagybetűs karaktert 𝑠𝑖-t (1≤𝑖≤𝑛) és kisbetűssé teheti.\n",
    "\n",
    "Határozd meg a maximális burlszámot, amit Kristina megszerezhet a karakterláncához.\n",
    "\n",
    "**Bemenet:**\n",
    "- Az első sor egyetlen egész számot tartalmaz, 𝑡-t (1≤𝑡≤10^4) - a tesztesetek számát.\n",
    "- Minden teszteset két sorból áll:\n",
    "    Az első sor két egész számot tartalmaz: 𝑛 (1≤𝑛≤2×10^5) - a karakterláncban található karakterek száma és 𝑘 (0≤𝑘≤𝑛) - a karakterláncra alkalmazható legnagyobb műveletszám.\n",
    "- A második sor egy 𝑛 hosszú karakterláncot tartalmaz, amely csak kis- és nagybetűs latin betűket tartalmaz.\n",
    "\n",
    "**Kimenet:**\n",
    "- Minden teszteset esetén pontosan egy egész számot kell kiírni külön sorban: a maximális burlszámot, amit Kristina megszerezhet a karakterláncához.\n",
    "\n",
    "**Megjegyzés:**\n",
    "\n",
    "- Egy pár kisbetűs karakterből és az ehhez tartozó nagybetűs karakterből áll.\n",
    "- A karakterpárok nem fedhetik át egymást.\n"
   ]
  },
  {
   "cell_type": "code",
   "execution_count": null,
   "id": "adeb0d37",
   "metadata": {},
   "outputs": [],
   "source": []
  }
 ],
 "metadata": {
  "kernelspec": {
   "display_name": "Python 3 (ipykernel)",
   "language": "python",
   "name": "python3"
  },
  "language_info": {
   "codemirror_mode": {
    "name": "ipython",
    "version": 3
   },
   "file_extension": ".py",
   "mimetype": "text/x-python",
   "name": "python",
   "nbconvert_exporter": "python",
   "pygments_lexer": "ipython3",
   "version": "3.9.13"
  }
 },
 "nbformat": 4,
 "nbformat_minor": 5
}
