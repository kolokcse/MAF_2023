{
 "cells": [
  {
   "cell_type": "markdown",
   "id": "1af1b7e8",
   "metadata": {},
   "source": [
    "# 8. házi feladat"
   ]
  },
  {
   "cell_type": "markdown",
   "id": "778a9532",
   "metadata": {},
   "source": [
    "Írj egy Python programot, amely az alábbiakat végzi:\n",
    "\n",
    "- Olvassa be a \"kenyer.txt\" nevű fájlt (azonos mappában a feladattal), amely egy szöveget tartalmaz a köményes kenyér elkészítéséhez szükséges összetevőkről.\n",
    "\n",
    "- Keresse meg a \"kurkuma\" szó előfordulásainak számát a szövegben.\n",
    "\n",
    "- Helyettesítse ki a szövegben az összes előfordulást a \"fűszerkömény\" szóra.\n",
    "\n",
    "- Írja ki az eredményt a képernyőre és a \"kenyer_keszites.txt\" nevű fájlba."
   ]
  },
  {
   "cell_type": "code",
   "execution_count": null,
   "id": "0a4e3c1a",
   "metadata": {},
   "outputs": [],
   "source": []
  },
  {
   "cell_type": "code",
   "execution_count": null,
   "id": "a8d5abc5",
   "metadata": {},
   "outputs": [],
   "source": []
  }
 ],
 "metadata": {
  "kernelspec": {
   "display_name": "Python 3 (ipykernel)",
   "language": "python",
   "name": "python3"
  },
  "language_info": {
   "codemirror_mode": {
    "name": "ipython",
    "version": 3
   },
   "file_extension": ".py",
   "mimetype": "text/x-python",
   "name": "python",
   "nbconvert_exporter": "python",
   "pygments_lexer": "ipython3",
   "version": "3.9.13"
  }
 },
 "nbformat": 4,
 "nbformat_minor": 5
}
