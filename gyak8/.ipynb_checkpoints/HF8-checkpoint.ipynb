{
 "cells": [
  {
   "cell_type": "markdown",
   "id": "1af1b7e8",
   "metadata": {},
   "source": [
    "# 8. házi feladat"
   ]
  },
  {
   "cell_type": "markdown",
   "id": "f8dc89d4",
   "metadata": {},
   "source": [
    "a) _(6 pont)_ Legyen $x = \\left(2,3,4,5,6\\right)$ és $m=6$. Készítsd el a Vandermonde-mátrixát!\n",
    "$$\n",
    "\\begin{equation}\n",
    "    V^m_x =\n",
    "    \\begin{bmatrix}\n",
    "        1 & x_1 & x_1^2 & \\dots & x_1^m \\\\\n",
    "        1 & x_2 & x_2^2 & \\dots & x_2^m \\\\\n",
    "        \\vdots & \\vdots & \\ddots & \\vdots \\\\\n",
    "        1 & x_n & x_n^2 & \\dots & x_n^m\n",
    "    \\end{bmatrix}\n",
    "\\end{equation}\n",
    "$$\n",
    "_(Hint: a transzponáltját könnyebb elkészíteni)_\n",
    "\n",
    "b) _(4 pont)_ Vegyed az $(0,1,2,3,4)$ vektornak egy random permutációját, legyen ez $\\pi$. Készítsd el a $\\pi$ permutációmátrixát, vagyis ha $\\pi(i) = j$, akkor az $A$ mátrix $i$. sorában a $j$ elem  1. Mindenhol máshol az $A$ mátrix $0$.\n",
    "\n",
    "_Pl.: \n",
    "$$\n",
    "\\begin{equation}\n",
    "    \\pi\\colon (0,1,2)\\mapsto (2,0,1),\n",
    "\\end{equation}\n",
    "$$\n",
    "akkor\n",
    "$$\n",
    "\\begin{equation}\n",
    "    A = \n",
    "    \\begin{bmatrix}\n",
    "        0 & 0 & 1 \\\\\n",
    "        1 & 0 & 0 \\\\\n",
    "        0 & 1 & 0\n",
    "    \\end{bmatrix}.\n",
    "\\end{equation}\n",
    "$$\n",
    "Ekkor\n",
    "$$\n",
    "\\begin{equation} \n",
    "    \\begin{bmatrix}\n",
    "        0 & 0 & 1 \\\\\n",
    "        1 & 0 & 0 \\\\\n",
    "        0 & 1 & 0\n",
    "    \\end{bmatrix}\\cdot\n",
    "    \\begin{bmatrix}\n",
    "        0 \\\\\n",
    "        1 \\\\\n",
    "        2\n",
    "    \\end{bmatrix}\n",
    "    \\begin{matrix}\n",
    "        = \\\\\n",
    "        = \\\\\n",
    "        =\n",
    "    \\end{matrix}\n",
    "    \\begin{bmatrix}\n",
    "        2 \\\\\n",
    "        0 \\\\\n",
    "        1\n",
    "    \\end{bmatrix}.\n",
    "\\end{equation}\n",
    "$$_\n",
    "\n",
    "__Ellenőrizd is le, hogy jól számoltad-e ki a permutációmátrixot!__"
   ]
  },
  {
   "cell_type": "code",
   "execution_count": null,
   "id": "264fd440",
   "metadata": {},
   "outputs": [],
   "source": []
  },
  {
   "cell_type": "code",
   "execution_count": null,
   "id": "0a4e3c1a",
   "metadata": {},
   "outputs": [],
   "source": []
  },
  {
   "cell_type": "markdown",
   "id": "0c8d3596",
   "metadata": {},
   "source": [
    "## Szorgalmi feladat (10 pont):\n",
    "a) (2 pont) Legyen $x$ egy $100$ dimenziós random vektor egyenletes eloszlással $[0,1]$-en. Rendezd $x$-et úgy, hogy a koordinátái növekvő sorrendben legyenek. Készítsd el a Vandermonde-mátrixát!\n",
    "\n",
    "b) (3 pont) Legyen $f(x) = 10x^5+x^3-3x^2+2x-5$. Legyen \n",
    "$$\n",
    "\\begin{equation}\n",
    "    y_i = f(x_i) + \\epsilon_i,\n",
    "\\end{equation}\n",
    "$$\n",
    "ahol $\\epsilon_i$ random szám standard normális eloszlásból.\n",
    "_(Hint: aritmetikai operátorokat egész `np.array`-ekre is lehet alkalmazni)_\n",
    "\n",
    "c) (3 pont) Számold ki az alábbit:\n",
    "$$\n",
    "\\begin{equation}\n",
    "     \\theta = (V_x^TV_x)^{-1}V_x^T y\n",
    "\\end{equation}\n",
    "$$\n",
    "\n",
    "d) (2 pont) Legyen\n",
    "$$\n",
    "\\begin{equation}\n",
    "    \\hat{y} = V_x \\theta\n",
    "\\end{equation}\n",
    "$$"
   ]
  },
  {
   "cell_type": "code",
   "execution_count": null,
   "id": "8304f7c5",
   "metadata": {},
   "outputs": [],
   "source": []
  },
  {
   "cell_type": "markdown",
   "id": "4009a1ad",
   "metadata": {},
   "source": [
    "Az alábbi kódrészlettel meg is nézheted (ha `yhat` = $\\hat{y}$):\n",
    "   "
   ]
  },
  {
   "cell_type": "code",
   "execution_count": null,
   "id": "19b9db68",
   "metadata": {},
   "outputs": [],
   "source": [
    "import matplotlib.pyplot as plt \n",
    "plt.scatter(x, y, alpha = .25)\n",
    "plt.plot(x, f(x))\n",
    "plt.plot(x, yhat)\n",
    "plt.show()"
   ]
  }
 ],
 "metadata": {
  "kernelspec": {
   "display_name": "Python 3 (ipykernel)",
   "language": "python",
   "name": "python3"
  },
  "language_info": {
   "codemirror_mode": {
    "name": "ipython",
    "version": 3
   },
   "file_extension": ".py",
   "mimetype": "text/x-python",
   "name": "python",
   "nbconvert_exporter": "python",
   "pygments_lexer": "ipython3",
   "version": "3.9.13"
  }
 },
 "nbformat": 4,
 "nbformat_minor": 5
}
