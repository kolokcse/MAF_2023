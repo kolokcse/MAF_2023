{
 "cells": [
  {
   "cell_type": "markdown",
   "id": "308dbf55",
   "metadata": {},
   "source": [
    "# 9. gyakorlat"
   ]
  },
  {
   "cell_type": "markdown",
   "id": "42f688de",
   "metadata": {},
   "source": [
    "# Fájlok írása és olvasása"
   ]
  },
  {
   "cell_type": "markdown",
   "id": "92623e3f",
   "metadata": {},
   "source": [
    "Szeretnénk szöveges (txt) fájlt készíteni a következő tartalommal:\n",
    "\n",
    "\\-\\-\\-\\-\\-\\-\\-\\-\\-\\-\\-\\-\\-\\-\\-\\-\\-\\-\\-\\-\\-\\-\\-\\-\\-\\-\\-\\-\\-\\-\\-\\-\\-\\-\\-\\-\\-\\-\\-\\-\\- \\\n",
    "Az első Pythonnal írt fájlom \\\n",
    "\\-\\-\\-\\-\\-\\-\\-\\-\\-\\-\\-\\-\\-\\-\\-\\-\\-\\-\\-\\-\\-\\-\\-\\-\\-\\-\\-\\-\\-\\-\\-\\-\\-\\-\\-\\-\\-\\-\\-\\-\\-\n",
    "\n",
    "A fájl neve `elso_irt.txt` legyen. A legjobb, ha a 'with' kulcsszóval bevezetett fájlmegnyitási módszert alkalmazzuk, bár nem ez az egyetlen lehetőség. A 'with' után az `open` függvény két argumentuma: a fájl neve, valamint a megnyitás módja. A \"w\" mód azt jelenti, hogy írásra nyitja meg fájlt (ha van a megadott néven már fájl, akkor azt fogja megnyitni, ha nincs, akkor pedig létrehozza). Az 'as' után megadjuk a fájlkezelő objektum nevét, most fk. "
   ]
  },
  {
   "cell_type": "code",
   "execution_count": 1,
   "id": "96e6adce",
   "metadata": {},
   "outputs": [],
   "source": [
    "with open(\"elso_irt.txt\",mode=\"w\") as fk:\n",
    "    print(\"-\" * 30, file=fk)\n",
    "    print(\"Az elso Pythonnal irt fajlom\", file=fk)\n",
    "    print(\"-\" * 30, file=fk)"
   ]
  },
  {
   "cell_type": "markdown",
   "id": "38db73e5",
   "metadata": {},
   "source": [
    "Ezután már tudunk a fájlból olvasni. Ha soronként szeretnénk, akkor azt így lehet:"
   ]
  },
  {
   "cell_type": "code",
   "execution_count": 1,
   "id": "193e750e",
   "metadata": {},
   "outputs": [
    {
     "name": "stdout",
     "output_type": "stream",
     "text": [
      "------------------------------\n",
      "Az elso Pythonnal irt fajlom\n",
      "------------------------------\n"
     ]
    }
   ],
   "source": [
    "with open(\"elso_irt.txt\", \"r\") as fk:\n",
    "    for sor in fk:\n",
    "        #print(sor)\n",
    "        print(sor.strip())"
   ]
  },
  {
   "cell_type": "markdown",
   "id": "8c8fc71c",
   "metadata": {},
   "source": [
    "Itt azért használtuk a .strip metódust, mert a fájl minden sora (kivéve esetleg az utolsót), a végén tartalmaz egy \\n új sor karaktert, és ezt a 'sor' ciklusváltozó is tartalmazza, kinyomtatva pedig ez egy üres sort eredményez. Az új sor karaktert le tudjuk vágni a .strip segítségével."
   ]
  },
  {
   "cell_type": "markdown",
   "id": "d9ef6e9c",
   "metadata": {},
   "source": [
    "A fájl egyben is beolvasható:"
   ]
  },
  {
   "cell_type": "code",
   "execution_count": 8,
   "id": "f4a7c552",
   "metadata": {},
   "outputs": [
    {
     "name": "stdout",
     "output_type": "stream",
     "text": [
      "------------------------------\n",
      "Az elso Pythonnal irt fajlom\n",
      "------------------------------\n",
      "\n"
     ]
    }
   ],
   "source": [
    "with open(\"elso_irt.txt\") as f:\n",
    "    tartalom = f.read()\n",
    "\n",
    "\n",
    "print(tartalom)"
   ]
  },
  {
   "cell_type": "markdown",
   "id": "ca152408",
   "metadata": {},
   "source": [
    "Időnként szükség lehet arra, hogy egy szöveg soraiból listát készítsünk."
   ]
  },
  {
   "cell_type": "code",
   "execution_count": 22,
   "id": "6b290549",
   "metadata": {},
   "outputs": [
    {
     "data": {
      "text/plain": [
       "['------------------------------\\n',\n",
       " 'Az elso Pythonnal irt fajlom\\n',\n",
       " '------------------------------\\n']"
      ]
     },
     "execution_count": 22,
     "metadata": {},
     "output_type": "execute_result"
    }
   ],
   "source": [
    "with open(\"elso_irt.txt\") as f:\n",
    "    lista = f.readlines()\n",
    "\n",
    "\n",
    "lista"
   ]
  },
  {
   "cell_type": "markdown",
   "id": "1425cce0",
   "metadata": {},
   "source": [
    "(Vegyük észre a \\n új sor karaktereket mindegyik elem végén!) Pl. A szemely_nevek.txt fájl összevissza sorrendben tartalmazza személyek neveit az egymást követő sorokban. Hozzunk létre egy másik txt fájlt, amelyben már ábécésorrendben vannak ezek a nevek."
   ]
  },
  {
   "cell_type": "code",
   "execution_count": 10,
   "id": "94862ade",
   "metadata": {},
   "outputs": [],
   "source": [
    "nevek = []\n",
    "with open(\"szemely_nevek.txt\", \"r\") as f:\n",
    "    nevek = f.readlines()\n",
    "    nevek.sort()\n",
    "\n",
    "with open(\"szemelyek_rendezett.txt\", \"w\") as g:\n",
    "    for v in nevek:    #itt a nevek.sort() nem működne\n",
    "        print(v, file=g)\n"
   ]
  },
  {
   "cell_type": "markdown",
   "id": "ef73e03e",
   "metadata": {},
   "source": [
    "# NumPy \n",
    "\n",
    "A Python nyelv legalapvetőbb lineáris algebrai könyvtára a NumPy. Az Anaconda csomagkezelővel ez is felkerül a gépre, egyébként telepítése: pip install numpy. Használatához importálni kell, ahogy azt már a többi modulnál megszoktuk. A konvenció:"
   ]
  },
  {
   "cell_type": "code",
   "execution_count": 3,
   "id": "7c7a59f5",
   "metadata": {},
   "outputs": [],
   "source": [
    "import numpy as np"
   ]
  },
  {
   "cell_type": "markdown",
   "id": "168e6a2f",
   "metadata": {},
   "source": [
    "Fő adatszerkezete a homogén (vagyis azonos típusú elemekből álló) többdimenziós tömb. \n",
    "\n",
    "A legegyszerűbb az egydimenziós (1D) tömb, amelynek az elemei skalárok, és létrehozhatjuk listából vagy tuple-ból is, a NumPy array függvényével (np.array). Pl."
   ]
  },
  {
   "cell_type": "code",
   "execution_count": 12,
   "id": "fb59fd37",
   "metadata": {},
   "outputs": [],
   "source": [
    "a = np.array([2,3,4])"
   ]
  },
  {
   "cell_type": "code",
   "execution_count": 13,
   "id": "8dbd9ea9",
   "metadata": {},
   "outputs": [
    {
     "data": {
      "text/plain": [
       "array([2, 3, 4])"
      ]
     },
     "execution_count": 13,
     "metadata": {},
     "output_type": "execute_result"
    }
   ],
   "source": [
    "a"
   ]
  },
  {
   "cell_type": "code",
   "execution_count": 14,
   "id": "684daa67",
   "metadata": {},
   "outputs": [],
   "source": [
    "b = np.array((1,2,0,1))"
   ]
  },
  {
   "cell_type": "code",
   "execution_count": 15,
   "id": "8600b27a",
   "metadata": {},
   "outputs": [
    {
     "data": {
      "text/plain": [
       "array([1, 2, 0, 1])"
      ]
     },
     "execution_count": 15,
     "metadata": {},
     "output_type": "execute_result"
    }
   ],
   "source": [
    "b"
   ]
  },
  {
   "cell_type": "markdown",
   "id": "d1fd0466",
   "metadata": {},
   "source": [
    "A külső kerek zárójelen belül tehát kell a szögletes vagy kerek zárójel a tömb létrehozásánál."
   ]
  },
  {
   "cell_type": "markdown",
   "id": "01492029",
   "metadata": {},
   "source": [
    "Miért jó az 1D tömb a sima Python listával összehasolítva? Tekintsük a következő, Celsius-fokban megadott hőmérsékleti értékeket: "
   ]
  },
  {
   "cell_type": "code",
   "execution_count": 1,
   "id": "2dd4f167",
   "metadata": {},
   "outputs": [],
   "source": [
    "c = [20.5, 22.3, 21.4, 21.0, 19.7]"
   ]
  },
  {
   "cell_type": "markdown",
   "id": "08842528",
   "metadata": {},
   "source": [
    "Számítsuk át Fahrenheit-fokba ezeket! NumPy nélkül kissé körülményes, ahogy for ciklussal végiglépegetünk az elemeken:"
   ]
  },
  {
   "cell_type": "code",
   "execution_count": 3,
   "id": "abaa0208",
   "metadata": {},
   "outputs": [
    {
     "data": {
      "text/plain": [
       "[68.9, 72.14, 70.52, 69.8, 67.46]"
      ]
     },
     "execution_count": 3,
     "metadata": {},
     "output_type": "execute_result"
    }
   ],
   "source": [
    "c_F = [x*9/5 + 32 for x in c]\n",
    "c_F"
   ]
  },
  {
   "cell_type": "markdown",
   "id": "0393e816",
   "metadata": {},
   "source": [
    "Ugyanez a `numpy` modullal csak egy skalárral való szorzást és összeadást igényel, és gyorsabban is végrehajtódik:"
   ]
  },
  {
   "cell_type": "code",
   "execution_count": 6,
   "id": "3ba9877e",
   "metadata": {},
   "outputs": [
    {
     "name": "stdout",
     "output_type": "stream",
     "text": [
      "[68.9  72.14 70.52 69.8  67.46]\n"
     ]
    }
   ],
   "source": [
    "import numpy as np\n",
    "c_arr = np.array(c)\n",
    "print(c_arr * 9/5 + 32)"
   ]
  },
  {
   "cell_type": "markdown",
   "id": "c28742e4",
   "metadata": {},
   "source": [
    "Menjünk tovább a kétdimenziós (2D) tömbökre: ez olyan tömb, amelynek az elemei 1D tömbök, pl."
   ]
  },
  {
   "cell_type": "code",
   "execution_count": 16,
   "id": "017d7c5f",
   "metadata": {},
   "outputs": [],
   "source": [
    "c = np.array([(1,3,4), (0,6,7)])"
   ]
  },
  {
   "cell_type": "code",
   "execution_count": 17,
   "id": "b9a9a943",
   "metadata": {},
   "outputs": [
    {
     "data": {
      "text/plain": [
       "array([[1, 3, 4],\n",
       "       [0, 6, 7]])"
      ]
     },
     "execution_count": 17,
     "metadata": {},
     "output_type": "execute_result"
    }
   ],
   "source": [
    "c"
   ]
  },
  {
   "cell_type": "markdown",
   "id": "c5f8176e",
   "metadata": {},
   "source": [
    "Megfigyelhetjük, hogy a gép a belső, 1D tömbök elemeit vízszintesen, a két 1D tömböt pedig egymás alá írja ki. 2D tömbbel tudunk megadni mátrixot, ahol a mátrix sorvektorai az 1D belső tömbök. Szokásos a tengely elnevezés is: az oszlopoké az első, a soroké a második tengely. \n",
    "\n",
    "A következő fokozat a 3D tömb: ez 2D tömbök tömbjét jelenti. Pl.:"
   ]
  },
  {
   "cell_type": "code",
   "execution_count": 18,
   "id": "7de28915",
   "metadata": {},
   "outputs": [],
   "source": [
    "d = np.array([[[1,2],[3,4]],[[5,6],[7,8]]])"
   ]
  },
  {
   "cell_type": "code",
   "execution_count": 19,
   "id": "21892a2c",
   "metadata": {},
   "outputs": [
    {
     "data": {
      "text/plain": [
       "array([[[1, 2],\n",
       "        [3, 4]],\n",
       "\n",
       "       [[5, 6],\n",
       "        [7, 8]]])"
      ]
     },
     "execution_count": 19,
     "metadata": {},
     "output_type": "execute_result"
    }
   ],
   "source": [
    "d"
   ]
  },
  {
   "cell_type": "markdown",
   "id": "ee30ba8e",
   "metadata": {},
   "source": [
    "A két 2D tömb is egymás alatt van kiírva egy sor kihagyásával."
   ]
  },
  {
   "cell_type": "markdown",
   "id": "85b2841f",
   "metadata": {},
   "source": [
    "Hogyan kérdezhetünk rá egy tömb valamely elemére? Egy elem helye annyi indexszel adható meg, ahány dimenziós a tömb. (Az indexelés itt is nullával kezdődik!) \n",
    "\n",
    "1D tömb: "
   ]
  },
  {
   "cell_type": "code",
   "execution_count": 20,
   "id": "915ef363",
   "metadata": {},
   "outputs": [
    {
     "data": {
      "text/plain": [
       "array([2, 3, 4])"
      ]
     },
     "execution_count": 20,
     "metadata": {},
     "output_type": "execute_result"
    }
   ],
   "source": [
    "a"
   ]
  },
  {
   "cell_type": "markdown",
   "id": "2cecb249",
   "metadata": {},
   "source": [
    "A 4-es elem:"
   ]
  },
  {
   "cell_type": "code",
   "execution_count": 59,
   "id": "8dc05a8b",
   "metadata": {},
   "outputs": [
    {
     "data": {
      "text/plain": [
       "4"
      ]
     },
     "execution_count": 59,
     "metadata": {},
     "output_type": "execute_result"
    }
   ],
   "source": [
    "a[2]"
   ]
  },
  {
   "cell_type": "markdown",
   "id": "4077b554",
   "metadata": {},
   "source": [
    "A 2D c tömbben a 4-es elem:"
   ]
  },
  {
   "cell_type": "code",
   "execution_count": 21,
   "id": "7ec4e559",
   "metadata": {},
   "outputs": [
    {
     "data": {
      "text/plain": [
       "array([[1, 3, 4],\n",
       "       [0, 6, 7]])"
      ]
     },
     "execution_count": 21,
     "metadata": {},
     "output_type": "execute_result"
    }
   ],
   "source": [
    "c"
   ]
  },
  {
   "cell_type": "code",
   "execution_count": 61,
   "id": "0812aa92",
   "metadata": {},
   "outputs": [
    {
     "data": {
      "text/plain": [
       "4"
      ]
     },
     "execution_count": 61,
     "metadata": {},
     "output_type": "execute_result"
    }
   ],
   "source": [
    "c[0,2]"
   ]
  },
  {
   "cell_type": "markdown",
   "id": "c852699a",
   "metadata": {},
   "source": [
    "Végül, a 3D tömbben:"
   ]
  },
  {
   "cell_type": "code",
   "execution_count": 62,
   "id": "6edda177",
   "metadata": {},
   "outputs": [
    {
     "data": {
      "text/plain": [
       "array([[[1, 2],\n",
       "        [3, 4]],\n",
       "\n",
       "       [[5, 6],\n",
       "        [7, 8]]])"
      ]
     },
     "execution_count": 62,
     "metadata": {},
     "output_type": "execute_result"
    }
   ],
   "source": [
    "d"
   ]
  },
  {
   "cell_type": "code",
   "execution_count": 63,
   "id": "8dc71e09",
   "metadata": {},
   "outputs": [
    {
     "data": {
      "text/plain": [
       "4"
      ]
     },
     "execution_count": 63,
     "metadata": {},
     "output_type": "execute_result"
    }
   ],
   "source": [
    "d[0,1,1]"
   ]
  },
  {
   "cell_type": "markdown",
   "id": "f0e83d26",
   "metadata": {},
   "source": [
    "A kettőspont operátor is használható, mint a listáknál: kérdezzük le pl. a `d` tömbön belüli második 2D tömb 2. oszlopát!"
   ]
  },
  {
   "cell_type": "code",
   "execution_count": 22,
   "id": "07b7861c",
   "metadata": {},
   "outputs": [
    {
     "data": {
      "text/plain": [
       "array([6, 8])"
      ]
     },
     "execution_count": 22,
     "metadata": {},
     "output_type": "execute_result"
    }
   ],
   "source": [
    "d[1,:,1]"
   ]
  },
  {
   "cell_type": "markdown",
   "id": "a8301ff0",
   "metadata": {},
   "source": [
    "Létezik a range-hez hasonló függvény, csak ez tömböt állít elő: `arange`."
   ]
  },
  {
   "cell_type": "code",
   "execution_count": 23,
   "id": "40bc19bb",
   "metadata": {},
   "outputs": [
    {
     "data": {
      "text/plain": [
       "array([10, 15, 20, 25])"
      ]
     },
     "execution_count": 23,
     "metadata": {},
     "output_type": "execute_result"
    }
   ],
   "source": [
    "np.arange(10, 30, 5)"
   ]
  },
  {
   "cell_type": "code",
   "execution_count": 24,
   "id": "8a7dbe70",
   "metadata": {},
   "outputs": [
    {
     "data": {
      "text/plain": [
       "array([0. , 0.3, 0.6, 0.9, 1.2, 1.5, 1.8])"
      ]
     },
     "execution_count": 24,
     "metadata": {},
     "output_type": "execute_result"
    }
   ],
   "source": [
    "np.arange(0, 2, 0.3) # Float is mehet bele"
   ]
  },
  {
   "cell_type": "markdown",
   "id": "68174713",
   "metadata": {},
   "source": [
    "Egyenlőközű felosztás készíthető a linspace-szel:"
   ]
  },
  {
   "cell_type": "code",
   "execution_count": 34,
   "id": "de56046a",
   "metadata": {},
   "outputs": [
    {
     "data": {
      "text/plain": [
       "array([0.  , 0.25, 0.5 , 0.75, 1.  , 1.25, 1.5 , 1.75, 2.  ])"
      ]
     },
     "execution_count": 34,
     "metadata": {},
     "output_type": "execute_result"
    }
   ],
   "source": [
    "np.linspace(0, 2, 9)  # 9 db osztáspont lesz, a kezdő- és a végponttal EGYÜTT! "
   ]
  },
  {
   "cell_type": "markdown",
   "id": "b03023ff",
   "metadata": {},
   "source": [
    "Pl. osszuk fel 100 egyenlő részre a $[0,2\\pi]$ intervallumot, ami jól jöhet majd a szinusz függvény ábrázolásánál!"
   ]
  },
  {
   "cell_type": "code",
   "execution_count": 35,
   "id": "69bfe364",
   "metadata": {},
   "outputs": [],
   "source": [
    "from numpy import pi\n",
    "x = np.linspace(0, 2 * pi, 101) "
   ]
  },
  {
   "cell_type": "markdown",
   "id": "c2f23533",
   "metadata": {},
   "source": [
    "## Műveletek tömbökkel"
   ]
  },
  {
   "cell_type": "markdown",
   "id": "373311db",
   "metadata": {},
   "source": [
    "Előadáson láttuk az alapműveleteket, ezek azonos méretű tömbök között elemenként működnek. A gyakorlatban sűrűn van szükségünk mátrixszorzásra, erre nézzünk példát. Tekintsük a következő mátrixokat:"
   ]
  },
  {
   "cell_type": "markdown",
   "id": "bb8264fe",
   "metadata": {},
   "source": [
    "$A = \\left[\\begin{array}{ccc}1 & 0 & -1 \\\\1  & 3  & 8\\\\ 2 & 0  & 0\\end{array}\\right],\\quad\n",
    "B = \\left[\\begin{array}{cc} 0 & 1 \\\\1  & 3 \\\\ 2 & 1\\end{array}\\right]$\n"
   ]
  },
  {
   "cell_type": "markdown",
   "id": "8ddea862",
   "metadata": {},
   "source": [
    "Kíváncsiak vagyun az AB szorzatra. Ehhez először hozzuk létre az A-t és B-t reprezentáló 2D np-tömböket."
   ]
  },
  {
   "cell_type": "code",
   "execution_count": 14,
   "id": "a288ec19",
   "metadata": {},
   "outputs": [],
   "source": [
    "A = np.array([[1, 0, -1], [1 , 3, 8], [2, 0, 0]])"
   ]
  },
  {
   "cell_type": "code",
   "execution_count": 7,
   "id": "5b25472d",
   "metadata": {},
   "outputs": [
    {
     "data": {
      "text/plain": [
       "array([[ 1,  0, -1],\n",
       "       [ 1,  3,  8],\n",
       "       [ 2,  0,  0]])"
      ]
     },
     "execution_count": 7,
     "metadata": {},
     "output_type": "execute_result"
    }
   ],
   "source": [
    "A"
   ]
  },
  {
   "cell_type": "code",
   "execution_count": 8,
   "id": "34e493a9",
   "metadata": {},
   "outputs": [],
   "source": [
    "B = np.array([[0, 1], [1 , 3], [2, 1]])"
   ]
  },
  {
   "cell_type": "code",
   "execution_count": 9,
   "id": "99be8c9c",
   "metadata": {},
   "outputs": [
    {
     "data": {
      "text/plain": [
       "array([[0, 1],\n",
       "       [1, 3],\n",
       "       [2, 1]])"
      ]
     },
     "execution_count": 9,
     "metadata": {},
     "output_type": "execute_result"
    }
   ],
   "source": [
    "B"
   ]
  },
  {
   "cell_type": "code",
   "execution_count": 10,
   "id": "e55c329f",
   "metadata": {},
   "outputs": [
    {
     "ename": "ValueError",
     "evalue": "operands could not be broadcast together with shapes (3,3) (3,2) ",
     "output_type": "error",
     "traceback": [
      "\u001b[1;31m---------------------------------------------------------------------------\u001b[0m",
      "\u001b[1;31mValueError\u001b[0m                                Traceback (most recent call last)",
      "\u001b[1;32m~\\AppData\\Local\\Temp/ipykernel_1768/4282489410.py\u001b[0m in \u001b[0;36m<module>\u001b[1;34m\u001b[0m\n\u001b[1;32m----> 1\u001b[1;33m \u001b[0mA\u001b[0m \u001b[1;33m*\u001b[0m \u001b[0mB\u001b[0m   \u001b[1;31m#elemenként szorozna, itt nincs értelme\u001b[0m\u001b[1;33m\u001b[0m\u001b[1;33m\u001b[0m\u001b[0m\n\u001b[0m",
      "\u001b[1;31mValueError\u001b[0m: operands could not be broadcast together with shapes (3,3) (3,2) "
     ]
    }
   ],
   "source": [
    "A * B   #elemenként szorozna, itt nincs értelme"
   ]
  },
  {
   "cell_type": "code",
   "execution_count": 11,
   "id": "06e2a3cc",
   "metadata": {},
   "outputs": [
    {
     "data": {
      "text/plain": [
       "array([[-2,  0],\n",
       "       [19, 18],\n",
       "       [ 0,  2]])"
      ]
     },
     "execution_count": 11,
     "metadata": {},
     "output_type": "execute_result"
    }
   ],
   "source": [
    "A @ B  #mátrixszorzás"
   ]
  },
  {
   "cell_type": "markdown",
   "id": "1c00b74a",
   "metadata": {},
   "source": [
    "## Iterálás tömbön\n",
    "\n",
    "A tömb elemein for ciklussal végiglépegethetünk. Ezzel az iterálás az első tengelyre nézve történik (a legkülső tömb, vagyis az első tengely elemein megy végig). 1D tömb esetén egyszerűen végiglépeget az elemeken:"
   ]
  },
  {
   "cell_type": "code",
   "execution_count": 13,
   "id": "59ff2e29",
   "metadata": {},
   "outputs": [
    {
     "name": "stdout",
     "output_type": "stream",
     "text": [
      "1\n",
      "2\n",
      "3\n"
     ]
    }
   ],
   "source": [
    "import numpy as np\n",
    "\n",
    "arr = np.array([1, 2, 3])\n",
    "\n",
    "for x in arr:\n",
    "    print(x)"
   ]
  },
  {
   "cell_type": "markdown",
   "id": "fba8de69",
   "metadata": {},
   "source": [
    "2D tömbnél az oszlopokon megy végig, azaz kiírja először az első oszlop összes elemét (első sor!), majd a 2. oszlop összes elemét (2. sor), stb.:"
   ]
  },
  {
   "cell_type": "code",
   "execution_count": 7,
   "id": "2e00214b",
   "metadata": {},
   "outputs": [
    {
     "name": "stdout",
     "output_type": "stream",
     "text": [
      "[1 2 3]\n",
      "[4 5 6]\n"
     ]
    }
   ],
   "source": [
    "import numpy as np\n",
    "\n",
    "arr = np.array([[1, 2, 3], [4, 5, 6]])\n",
    "\n",
    "for x in arr:\n",
    "    print(x)"
   ]
  },
  {
   "cell_type": "markdown",
   "id": "c1c5749e",
   "metadata": {},
   "source": [
    "Ha a skalárokat akarjuk megkapni, akkor az összes tengely mentén végig kell iterálni. Ez 2D tömnbél így néz ki:"
   ]
  },
  {
   "cell_type": "code",
   "execution_count": 6,
   "id": "fe781104",
   "metadata": {},
   "outputs": [
    {
     "name": "stdout",
     "output_type": "stream",
     "text": [
      "1\n",
      "2\n",
      "3\n",
      "4\n",
      "5\n",
      "6\n"
     ]
    }
   ],
   "source": [
    "import numpy as np\n",
    "\n",
    "arr = np.array([[1, 2, 3], [4, 5, 6]])\n",
    "\n",
    "for x in arr:\n",
    "    for y in x:\n",
    "        print(y)"
   ]
  },
  {
   "cell_type": "markdown",
   "id": "c3b353f8",
   "metadata": {},
   "source": [
    "3D tömbnél:"
   ]
  },
  {
   "cell_type": "code",
   "execution_count": 8,
   "id": "a755b985",
   "metadata": {},
   "outputs": [
    {
     "name": "stdout",
     "output_type": "stream",
     "text": [
      "[[1 2 3]\n",
      " [4 5 6]]\n",
      "[[ 7  8  9]\n",
      " [10 11 12]]\n"
     ]
    }
   ],
   "source": [
    "import numpy as np\n",
    "\n",
    "arr = np.array([[[1, 2, 3], [4, 5, 6]], [[7, 8, 9], [10, 11, 12]]])\n",
    "\n",
    "for x in arr:\n",
    "    print(x)"
   ]
  },
  {
   "cell_type": "code",
   "execution_count": 9,
   "id": "438f566a",
   "metadata": {},
   "outputs": [
    {
     "name": "stdout",
     "output_type": "stream",
     "text": [
      "1\n",
      "2\n",
      "3\n",
      "4\n",
      "5\n",
      "6\n",
      "7\n",
      "8\n",
      "9\n",
      "10\n",
      "11\n",
      "12\n"
     ]
    }
   ],
   "source": [
    "import numpy as np\n",
    "\n",
    "arr = np.array([[[1, 2, 3], [4, 5, 6]], [[7, 8, 9], [10, 11, 12]]])\n",
    "\n",
    "for x in arr:\n",
    "    for y in x:\n",
    "        for z in y:\n",
    "            print(z)"
   ]
  },
  {
   "cell_type": "markdown",
   "id": "4c7d782a",
   "metadata": {},
   "source": [
    "Ez egy db for-ciklussal is megoldható az nditer() függvénnyel:"
   ]
  },
  {
   "cell_type": "code",
   "execution_count": 10,
   "id": "59ff0013",
   "metadata": {},
   "outputs": [
    {
     "name": "stdout",
     "output_type": "stream",
     "text": [
      "1\n",
      "2\n",
      "3\n",
      "4\n",
      "5\n",
      "6\n",
      "7\n",
      "8\n"
     ]
    }
   ],
   "source": [
    "import numpy as np\n",
    "\n",
    "arr = np.array([[[1, 2], [3, 4]], [[5, 6], [7, 8]]])\n",
    "\n",
    "for x in np.nditer(arr):\n",
    "    print(x)"
   ]
  },
  {
   "cell_type": "markdown",
   "id": "0c265470",
   "metadata": {},
   "source": [
    "Máshogy: a .flat metódussal:"
   ]
  },
  {
   "cell_type": "code",
   "execution_count": 18,
   "id": "7d6703d5",
   "metadata": {},
   "outputs": [
    {
     "name": "stdout",
     "output_type": "stream",
     "text": [
      "1\n",
      "2\n",
      "3\n",
      "4\n",
      "5\n",
      "6\n",
      "7\n",
      "8\n"
     ]
    }
   ],
   "source": [
    "for element in arr.flat:\n",
    "    print(element)"
   ]
  },
  {
   "cell_type": "markdown",
   "id": "d67dd860",
   "metadata": {},
   "source": [
    "Az elemeken úgy is végigiterálhatunk, hogy az indexüket (ill. a megfelelő indexet tuple-jét) is lekérdezzük. Nézzünk 1D és 2D példát:"
   ]
  },
  {
   "cell_type": "code",
   "execution_count": 19,
   "id": "7a9ff71b",
   "metadata": {},
   "outputs": [
    {
     "name": "stdout",
     "output_type": "stream",
     "text": [
      "(0,) 1\n",
      "(1,) 2\n",
      "(2,) 3\n"
     ]
    }
   ],
   "source": [
    "import numpy as np\n",
    "\n",
    "a = np.array([1, 2, 3])\n",
    "\n",
    "for idx, x in np.ndenumerate(a):\n",
    "    print(idx, x)"
   ]
  },
  {
   "cell_type": "code",
   "execution_count": 11,
   "id": "4d738cc9",
   "metadata": {},
   "outputs": [
    {
     "name": "stdout",
     "output_type": "stream",
     "text": [
      "(0, 0) 1\n",
      "(0, 1) 2\n",
      "(0, 2) 3\n",
      "(0, 3) 4\n",
      "(1, 0) 5\n",
      "(1, 1) 6\n",
      "(1, 2) 7\n",
      "(1, 3) 8\n"
     ]
    }
   ],
   "source": [
    "import numpy as np\n",
    "\n",
    "b = np.array([[1, 2, 3, 4], [5, 6, 7, 8]])\n",
    "\n",
    "for idx, x in np.ndenumerate(b):\n",
    "    print(idx, x)"
   ]
  },
  {
   "cell_type": "markdown",
   "id": "91621be5",
   "metadata": {},
   "source": [
    "# Feladatok: \n",
    "\n",
    "1) Számoljuk össze, hány 0 van az A mátrixban!"
   ]
  },
  {
   "cell_type": "code",
   "execution_count": 15,
   "id": "6bbe59be",
   "metadata": {},
   "outputs": [
    {
     "data": {
      "text/plain": [
       "3"
      ]
     },
     "execution_count": 15,
     "metadata": {},
     "output_type": "execute_result"
    }
   ],
   "source": []
  },
  {
   "cell_type": "markdown",
   "id": "bbe8e7fe",
   "metadata": {},
   "source": [
    "2) Számoljuk össze, hány csupa nulla sora van egy mátrixnak! Tanulmányozzuk ehhez az all() metódust. Nézzük meg, hogy működik ennek párja, az any() metódus."
   ]
  },
  {
   "cell_type": "code",
   "execution_count": 4,
   "id": "afafd7f0",
   "metadata": {},
   "outputs": [],
   "source": [
    "A = np.array([[0,0,0], [0,1,1], [1,1,1]])\n"
   ]
  },
  {
   "cell_type": "markdown",
   "id": "99e36f42",
   "metadata": {},
   "source": [
    "3) És ha a nulla oszlopokat kell megszámolni?"
   ]
  },
  {
   "cell_type": "code",
   "execution_count": 5,
   "id": "629f345d",
   "metadata": {},
   "outputs": [],
   "source": [
    "A = np.array([[0,0,0], [0,1,1], [1,1,1]])\n"
   ]
  },
  {
   "cell_type": "markdown",
   "id": "5211ee60",
   "metadata": {},
   "source": [
    "### Keresés tömbben: a `where()` metódussal:"
   ]
  },
  {
   "cell_type": "code",
   "execution_count": 60,
   "id": "0a1f6655",
   "metadata": {},
   "outputs": [
    {
     "name": "stdout",
     "output_type": "stream",
     "text": [
      "(array([3, 5, 6], dtype=int64),)\n"
     ]
    }
   ],
   "source": [
    "import numpy as np\n",
    "\n",
    "a = np.array([1, 2, 3, 4, 5, 4, 4])\n",
    "\n",
    "x = np.where(a == 4)     # adja meg az összes 4-es elem indexét\n",
    "\n",
    "print(x)"
   ]
  },
  {
   "cell_type": "markdown",
   "id": "3212e681",
   "metadata": {},
   "source": [
    "Keressük meg azokat a helyeket, ahol páros szám áll a-ban!"
   ]
  },
  {
   "cell_type": "code",
   "execution_count": 63,
   "id": "2f5b6119",
   "metadata": {},
   "outputs": [
    {
     "name": "stdout",
     "output_type": "stream",
     "text": [
      "(array([1, 3, 5, 6], dtype=int64),)\n"
     ]
    }
   ],
   "source": [
    "y = np.where(a%2 == 0)\n",
    "\n",
    "print(y)"
   ]
  },
  {
   "cell_type": "markdown",
   "id": "e27b5b2a",
   "metadata": {},
   "source": [
    "Tömbök szűrése egy logikai értékeket tartalmazó vektor segítségével: amelyik indexű elemnél True áll, azt megtartja, amelyiknél False, azt nem:"
   ]
  },
  {
   "cell_type": "code",
   "execution_count": 68,
   "id": "a3c05e7f",
   "metadata": {},
   "outputs": [
    {
     "name": "stdout",
     "output_type": "stream",
     "text": [
      "[ -2 -43]\n"
     ]
    }
   ],
   "source": [
    "import numpy as np\n",
    "\n",
    "arr = np.array([-2, 42, -43, 0])\n",
    "\n",
    "x = [True, False, True, False]\n",
    "\n",
    "newarr = arr[x]\n",
    "\n",
    "print(newarr)"
   ]
  },
  {
   "cell_type": "markdown",
   "id": "0f5daf67",
   "metadata": {},
   "source": [
    "Gyakoribb, hogy adva van egy feltétel, és vissza szeretnénk kapni azokat az elemeket, amelyek teljesítik ezt a feltételt. Pl. szeretnénk csak a negatív elemeket megtartani:"
   ]
  },
  {
   "cell_type": "code",
   "execution_count": 70,
   "id": "1c1f7e71",
   "metadata": {},
   "outputs": [
    {
     "name": "stdout",
     "output_type": "stream",
     "text": [
      "[ True False  True False]\n",
      "[ -2 -43]\n"
     ]
    }
   ],
   "source": [
    "filter_arr = arr < 0    # a szűrési feltétel: az ezt kielégítő elemeket akarjuk megtartani\n",
    "print(filter_arr)   # Ez is egy, a fenti x-hez hasonló, logikai értékekből álló tömb lesz\n",
    "\n",
    "newarr = arr[filter_arr]\n",
    "\n",
    "print(newarr)"
   ]
  },
  {
   "cell_type": "code",
   "execution_count": null,
   "id": "4141662e",
   "metadata": {},
   "outputs": [],
   "source": []
  }
 ],
 "metadata": {
  "kernelspec": {
   "display_name": "Python 3 (ipykernel)",
   "language": "python",
   "name": "python3"
  },
  "language_info": {
   "codemirror_mode": {
    "name": "ipython",
    "version": 3
   },
   "file_extension": ".py",
   "mimetype": "text/x-python",
   "name": "python",
   "nbconvert_exporter": "python",
   "pygments_lexer": "ipython3",
   "version": "3.9.13"
  }
 },
 "nbformat": 4,
 "nbformat_minor": 5
}
