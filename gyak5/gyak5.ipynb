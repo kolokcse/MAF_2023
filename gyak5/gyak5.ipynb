{
 "cells": [
  {
   "cell_type": "markdown",
   "id": "b89a3bad",
   "metadata": {},
   "source": [
    "# Ötödik gyakorlat"
   ]
  },
  {
   "cell_type": "markdown",
   "id": "8a2c4a97",
   "metadata": {},
   "source": [
    "## Felépítés:"
   ]
  },
  {
   "cell_type": "markdown",
   "id": "5ed94b4e",
   "metadata": {},
   "source": [
    "### Ismétlés  + feladatok\n",
    "\n",
    "### Csoportmunka\n",
    "\n",
    "### Prezentációk"
   ]
  },
  {
   "cell_type": "markdown",
   "id": "f387f71c",
   "metadata": {},
   "source": [
    "## A tuple (rendezett n-es)\n",
    "\n",
    "A listához hasonló, de módosíthatatlan adatszerkezet. Pl."
   ]
  },
  {
   "cell_type": "code",
   "execution_count": 1,
   "id": "56197f7b",
   "metadata": {},
   "outputs": [],
   "source": [
    "szinek = ('piros', 'narancssarga', 'sarga')"
   ]
  },
  {
   "cell_type": "code",
   "execution_count": 2,
   "id": "a825cad1",
   "metadata": {},
   "outputs": [
    {
     "data": {
      "text/plain": [
       "3"
      ]
     },
     "execution_count": 2,
     "metadata": {},
     "output_type": "execute_result"
    }
   ],
   "source": [
    "len(szinek)"
   ]
  },
  {
   "cell_type": "code",
   "execution_count": 3,
   "id": "2bbe8742",
   "metadata": {},
   "outputs": [
    {
     "data": {
      "text/plain": [
       "'piros'"
      ]
     },
     "execution_count": 3,
     "metadata": {},
     "output_type": "execute_result"
    }
   ],
   "source": [
    "szinek[0]"
   ]
  },
  {
   "cell_type": "code",
   "execution_count": 4,
   "id": "d2ae7f1d",
   "metadata": {},
   "outputs": [
    {
     "data": {
      "text/plain": [
       "('piros', 'narancssarga')"
      ]
     },
     "execution_count": 4,
     "metadata": {},
     "output_type": "execute_result"
    }
   ],
   "source": [
    "szinek[0:2]"
   ]
  },
  {
   "cell_type": "code",
   "execution_count": 5,
   "id": "1670440d",
   "metadata": {},
   "outputs": [
    {
     "ename": "TypeError",
     "evalue": "'tuple' object does not support item assignment",
     "output_type": "error",
     "traceback": [
      "\u001b[0;31m---------------------------------------------------------------------------\u001b[0m",
      "\u001b[0;31mTypeError\u001b[0m                                 Traceback (most recent call last)",
      "\u001b[0;32m/tmp/ipykernel_4857/1845906621.py\u001b[0m in \u001b[0;36m<module>\u001b[0;34m\u001b[0m\n\u001b[0;32m----> 1\u001b[0;31m \u001b[0mszinek\u001b[0m\u001b[0;34m[\u001b[0m\u001b[0;36m0\u001b[0m\u001b[0;34m]\u001b[0m \u001b[0;34m=\u001b[0m \u001b[0;34m'PIROS'\u001b[0m\u001b[0;34m\u001b[0m\u001b[0;34m\u001b[0m\u001b[0m\n\u001b[0m",
      "\u001b[0;31mTypeError\u001b[0m: 'tuple' object does not support item assignment"
     ]
    }
   ],
   "source": [
    "szinek[0] = 'PIROS'"
   ]
  },
  {
   "cell_type": "markdown",
   "id": "75842187",
   "metadata": {},
   "source": [
    "Ha a tuple tartalmaz listát, akkor az viszont módosítható:"
   ]
  },
  {
   "cell_type": "code",
   "execution_count": 6,
   "id": "4439ba9c",
   "metadata": {},
   "outputs": [],
   "source": [
    "dolgok = (1, \"kutya\", [])"
   ]
  },
  {
   "cell_type": "code",
   "execution_count": 7,
   "id": "c0d62226",
   "metadata": {},
   "outputs": [],
   "source": [
    "dolgok[2].append('baba')"
   ]
  },
  {
   "cell_type": "code",
   "execution_count": 8,
   "id": "76240480",
   "metadata": {},
   "outputs": [
    {
     "data": {
      "text/plain": [
       "(1, 'kutya', ['baba'])"
      ]
     },
     "execution_count": 8,
     "metadata": {},
     "output_type": "execute_result"
    }
   ],
   "source": [
    "dolgok"
   ]
  },
  {
   "cell_type": "markdown",
   "id": "aa9d3047",
   "metadata": {},
   "source": [
    "A listáttól eltérően tuple már lehet kulcs egy szótárban, pl. készíthetünk olyan szótárat, amely egy emeletes ház lakóit tartalmazza \"(emelet, ajtó): név\" formában:"
   ]
  },
  {
   "cell_type": "code",
   "execution_count": 9,
   "id": "26aba03e",
   "metadata": {},
   "outputs": [],
   "source": [
    "lakok = {(1,1): \"Szabó E.\", (1,2): \"Varga K.\", (2,3): \"Teleki S.\"}"
   ]
  },
  {
   "cell_type": "code",
   "execution_count": 10,
   "id": "e268a9c0",
   "metadata": {},
   "outputs": [
    {
     "data": {
      "text/plain": [
       "{(1, 1): 'Szabó E.', (1, 2): 'Varga K.', (2, 3): 'Teleki S.'}"
      ]
     },
     "execution_count": 10,
     "metadata": {},
     "output_type": "execute_result"
    }
   ],
   "source": [
    "lakok"
   ]
  },
  {
   "cell_type": "code",
   "execution_count": 11,
   "id": "a7fcbf67",
   "metadata": {
    "scrolled": true
   },
   "outputs": [
    {
     "ename": "TypeError",
     "evalue": "unhashable type: 'list'",
     "output_type": "error",
     "traceback": [
      "\u001b[0;31m---------------------------------------------------------------------------\u001b[0m",
      "\u001b[0;31mTypeError\u001b[0m                                 Traceback (most recent call last)",
      "\u001b[0;32m/tmp/ipykernel_4857/3318696989.py\u001b[0m in \u001b[0;36m<module>\u001b[0;34m\u001b[0m\n\u001b[0;32m----> 1\u001b[0;31m \u001b[0;34m{\u001b[0m\u001b[0;34m[\u001b[0m\u001b[0;36m1\u001b[0m\u001b[0;34m,\u001b[0m\u001b[0;36m1\u001b[0m\u001b[0;34m]\u001b[0m\u001b[0;34m:\u001b[0m \u001b[0;34m\"Szabó E.\"\u001b[0m\u001b[0;34m,\u001b[0m \u001b[0;34m(\u001b[0m\u001b[0;36m1\u001b[0m\u001b[0;34m,\u001b[0m\u001b[0;36m2\u001b[0m\u001b[0;34m)\u001b[0m\u001b[0;34m:\u001b[0m \u001b[0;34m\"Varga K.\"\u001b[0m\u001b[0;34m,\u001b[0m \u001b[0;34m(\u001b[0m\u001b[0;36m2\u001b[0m\u001b[0;34m,\u001b[0m\u001b[0;36m3\u001b[0m\u001b[0;34m)\u001b[0m\u001b[0;34m:\u001b[0m \u001b[0;34m\"Teleki S.\"\u001b[0m\u001b[0;34m}\u001b[0m\u001b[0;34m\u001b[0m\u001b[0;34m\u001b[0m\u001b[0m\n\u001b[0m",
      "\u001b[0;31mTypeError\u001b[0m: unhashable type: 'list'"
     ]
    }
   ],
   "source": [
    "{[1,1]: \"Szabó E.\", (1,2): \"Varga K.\", (2,3): \"Teleki S.\"}"
   ]
  },
  {
   "cell_type": "markdown",
   "id": "0c7b55b7",
   "metadata": {},
   "source": [
    "## Feladat:\n",
    "Ha egy elemű `tuple`-t akarunk létrehozni, azt hogyan kellene?"
   ]
  },
  {
   "cell_type": "code",
   "execution_count": 14,
   "id": "0665182a",
   "metadata": {},
   "outputs": [
    {
     "data": {
      "text/plain": [
       "(1,)"
      ]
     },
     "execution_count": 14,
     "metadata": {},
     "output_type": "execute_result"
    }
   ],
   "source": [
    "(1,)"
   ]
  },
  {
   "cell_type": "markdown",
   "id": "3d05c187",
   "metadata": {},
   "source": [
    "## Halmazok\n",
    "\n",
    "A halmaz a matematikai halmaznak megfelelő adatszerkezet, különböző elemek összessége, nem számít a sorrendjük, és az sem, hogy egy elemet hányszor sorolunk fel. Módosítható, végigiterálhatunk rajta, és legfőbb haszna, hogy könnyen és gyorsan ellenőrizni tudjuk, hogy egy bizonyos érték szerepel-e egy kollekcióban. Segítségével eltávolíthatók a fölösleges duplikátumok is egy listából.\n",
    "\n",
    "Pl. szeretnénk összegyűjteni, hogy egy nemzetközi diákokból álló csoportban, akiknek az adatait a students szótár tartalmazza, milyen különböző országokból érkezett diákok vannak. "
   ]
  },
  {
   "cell_type": "code",
   "execution_count": 15,
   "id": "5de12f12",
   "metadata": {},
   "outputs": [],
   "source": [
    "students = {\"R.K.\": \"Slovakia\", \"H.J.\": \"Portugal\", \"L.O.\": \"China\", \"P.L.\": \"Indonesia\", \"T.B.\": \"Portugal\"}"
   ]
  },
  {
   "cell_type": "code",
   "execution_count": 16,
   "id": "c95de54d",
   "metadata": {},
   "outputs": [
    {
     "data": {
      "text/plain": [
       "{'R.K.': 'Slovakia',\n",
       " 'H.J.': 'Portugal',\n",
       " 'L.O.': 'China',\n",
       " 'P.L.': 'Indonesia',\n",
       " 'T.B.': 'Portugal'}"
      ]
     },
     "execution_count": 16,
     "metadata": {},
     "output_type": "execute_result"
    }
   ],
   "source": [
    "students"
   ]
  },
  {
   "cell_type": "code",
   "execution_count": 17,
   "id": "921f90a7",
   "metadata": {},
   "outputs": [],
   "source": [
    "countries = list(students.values())"
   ]
  },
  {
   "cell_type": "code",
   "execution_count": 18,
   "id": "84905924",
   "metadata": {},
   "outputs": [
    {
     "data": {
      "text/plain": [
       "['Slovakia', 'Portugal', 'China', 'Indonesia', 'Portugal']"
      ]
     },
     "execution_count": 18,
     "metadata": {},
     "output_type": "execute_result"
    }
   ],
   "source": [
    "countries"
   ]
  },
  {
   "cell_type": "markdown",
   "id": "eca0706f",
   "metadata": {},
   "source": [
    "Itt még kétszer van felsorolva Portugália, ahonnan ketten jöttek. Készíthettünk volna azonban halmazt is:"
   ]
  },
  {
   "cell_type": "code",
   "execution_count": 19,
   "id": "5bbc28b4",
   "metadata": {},
   "outputs": [],
   "source": [
    "countries = set(students.values())"
   ]
  },
  {
   "cell_type": "code",
   "execution_count": 20,
   "id": "0f81a25a",
   "metadata": {},
   "outputs": [
    {
     "data": {
      "text/plain": [
       "{'China', 'Indonesia', 'Portugal', 'Slovakia'}"
      ]
     },
     "execution_count": 20,
     "metadata": {},
     "output_type": "execute_result"
    }
   ],
   "source": [
    "countries"
   ]
  },
  {
   "cell_type": "markdown",
   "id": "921baad3",
   "metadata": {},
   "source": [
    "Itt már minden ország csak egyszer szerepel. Természetesen ez visszaalakítható listává:"
   ]
  },
  {
   "cell_type": "code",
   "execution_count": 21,
   "id": "a68e726f",
   "metadata": {},
   "outputs": [
    {
     "data": {
      "text/plain": [
       "['China', 'Indonesia', 'Portugal', 'Slovakia']"
      ]
     },
     "execution_count": 21,
     "metadata": {},
     "output_type": "execute_result"
    }
   ],
   "source": [
    "list(countries)"
   ]
  },
  {
   "cell_type": "markdown",
   "id": "14bc617b",
   "metadata": {},
   "source": [
    "Mindez egy lépésben:"
   ]
  },
  {
   "cell_type": "code",
   "execution_count": 22,
   "id": "a84974cc",
   "metadata": {},
   "outputs": [],
   "source": [
    "countries = list(set(students.values()))"
   ]
  },
  {
   "cell_type": "code",
   "execution_count": 23,
   "id": "6d9ba8ff",
   "metadata": {},
   "outputs": [
    {
     "data": {
      "text/plain": [
       "['China', 'Indonesia', 'Portugal', 'Slovakia']"
      ]
     },
     "execution_count": 23,
     "metadata": {},
     "output_type": "execute_result"
    }
   ],
   "source": [
    "countries"
   ]
  },
  {
   "cell_type": "markdown",
   "id": "6599b998",
   "metadata": {},
   "source": [
    "### Halmazműveletek\n",
    "Ha $A$ és $B$ halmazok, akkor az alábbi halmazműveletek Pythonban a következők:\n",
    "* $A\\cup B$ : `A | B`\n",
    "* $A\\cap B$ : `A & B`\n",
    "* $A\\setminus B$ : `A - B`\n",
    "\n",
    "A különbség operátorral egy $e$ elem eltávolítása is megvalósítható:\n",
    "* $A\\setminus\\{e\\}$ : `A - {e}`"
   ]
  },
  {
   "cell_type": "code",
   "execution_count": 24,
   "id": "3517682f",
   "metadata": {},
   "outputs": [
    {
     "name": "stdout",
     "output_type": "stream",
     "text": [
      "A          : {1, 2, 3, 4}\n",
      "B          : {0, 2, 4, 6, 8}\n",
      "A unio B   : {0, 1, 2, 3, 4, 6, 8}\n",
      "A metszet B: {2, 4}\n",
      "A minusz B : {1, 3}\n",
      "B minusz A : {0, 8, 6}\n",
      "A Δ B      : {0, 1, 3, 6, 8}\n"
     ]
    }
   ],
   "source": [
    "A = {1,2,3,4}\n",
    "B = set(range(0,10,2))\n",
    "print(\"A          :\", A)\n",
    "print(\"B          :\", B)\n",
    "print(\"A unio B   :\", A | B)\n",
    "print(\"A metszet B:\", A & B)\n",
    "print(\"A minusz B :\", A - B)\n",
    "print(\"B minusz A :\", B - A)\n",
    "print(\"A Δ B      :\", A ^ B)"
   ]
  },
  {
   "cell_type": "code",
   "execution_count": 25,
   "id": "85f402bd",
   "metadata": {},
   "outputs": [
    {
     "name": "stdout",
     "output_type": "stream",
     "text": [
      "A - {e}: {1, 3, 4}\n"
     ]
    }
   ],
   "source": [
    "e = 2\n",
    "print(\"A - {e}:\", A - {e})"
   ]
  },
  {
   "cell_type": "code",
   "execution_count": 26,
   "id": "bdd2f450",
   "metadata": {},
   "outputs": [
    {
     "data": {
      "text/plain": [
       "True"
      ]
     },
     "execution_count": 26,
     "metadata": {},
     "output_type": "execute_result"
    }
   ],
   "source": [
    "A ^ B == (A-B)|(B-A)"
   ]
  },
  {
   "cell_type": "code",
   "execution_count": 42,
   "id": "152c0642",
   "metadata": {},
   "outputs": [
    {
     "data": {
      "text/plain": [
       "{1, 2}"
      ]
     },
     "execution_count": 42,
     "metadata": {},
     "output_type": "execute_result"
    }
   ],
   "source": [
    "set([1,1,2,2])"
   ]
  },
  {
   "cell_type": "code",
   "execution_count": null,
   "id": "21869367",
   "metadata": {},
   "outputs": [],
   "source": []
  },
  {
   "cell_type": "markdown",
   "id": "3c114755",
   "metadata": {},
   "source": [
    "Halmazok összehasonlítása is értelmezhető, tartalmazás alapján.\n",
    "* $A\\subseteq B$ : `A <= B`\n",
    "* $A\\subset B$ : `A < B`\n",
    "* $A\\supseteq B$ : `A >= B`\n",
    "* $A\\subset B$ : `A >= B`\n",
    "* $A = B$ : `A = B`\n",
    "\n",
    "Hasonlóan, megkérdezhető, hogy egy $e$ elem része-e az $A$ halmaznak:\n",
    "* $e\\in A$ : `e in A`"
   ]
  },
  {
   "cell_type": "code",
   "execution_count": 27,
   "id": "4bd1396e",
   "metadata": {},
   "outputs": [
    {
     "name": "stdout",
     "output_type": "stream",
     "text": [
      "A részhalmaza B-nek: True\n",
      "B részhalmaza A-nak: False\n",
      "C részhalmaza A-nak: True\n",
      "C valódi részhalmaza A-nak: False\n",
      "C egyenlő az A-val: True\n",
      "e eleme A-nak True\n",
      "f eleme A-nak False\n"
     ]
    }
   ],
   "source": [
    "A = set(range(3,8,2))\n",
    "B = set(range(10))\n",
    "C = {7,5,3}\n",
    "e = 3\n",
    "f = 1\n",
    "print(\"A részhalmaza B-nek:\", A <= B)\n",
    "print(\"B részhalmaza A-nak:\", B <= A)\n",
    "print(\"C részhalmaza A-nak:\", C <= A)\n",
    "print(\"C valódi részhalmaza A-nak:\", C < A)\n",
    "print(\"C egyenlő az A-val:\", A == C)\n",
    "print(\"e eleme A-nak\", e in A)\n",
    "print(\"f eleme A-nak\", f in A)"
   ]
  },
  {
   "cell_type": "markdown",
   "id": "dcc83db8",
   "metadata": {},
   "source": [
    "A halmazműveletek több halmazra való ismételt alkalmazása is jól definiált:"
   ]
  },
  {
   "cell_type": "code",
   "execution_count": 28,
   "id": "633666e3",
   "metadata": {},
   "outputs": [
    {
     "name": "stdout",
     "output_type": "stream",
     "text": [
      "{1, 2, 3, 4, 5, 6, 7}\n",
      "{3, 5}\n"
     ]
    }
   ],
   "source": [
    "A = {1,2,3}\n",
    "B = {3,4,5}\n",
    "C = {5,6,7}\n",
    "print(A | B | C)\n",
    "print(A & B | B & C)"
   ]
  },
  {
   "cell_type": "markdown",
   "id": "070d7b92",
   "metadata": {},
   "source": [
    "Értékadás: hasonlóan a `+=`-höz, halmazoknál is működnek az alábbi értékadás operátorok:\n",
    "* `|=`\n",
    "* `-=`\n",
    "* `&=`"
   ]
  },
  {
   "cell_type": "code",
   "execution_count": 29,
   "id": "d7113214",
   "metadata": {},
   "outputs": [
    {
     "name": "stdout",
     "output_type": "stream",
     "text": [
      "{3}\n"
     ]
    }
   ],
   "source": [
    "A = {1,2,3}\n",
    "B = {3,4,5}\n",
    "A &= B\n",
    "print(A)"
   ]
  },
  {
   "cell_type": "markdown",
   "id": "b5067f65",
   "metadata": {},
   "source": [
    "Egy halmaz számossága a `len()` függvénnyel kérdezhető le."
   ]
  },
  {
   "cell_type": "code",
   "execution_count": 30,
   "id": "0707e166",
   "metadata": {},
   "outputs": [
    {
     "data": {
      "text/plain": [
       "3"
      ]
     },
     "execution_count": 30,
     "metadata": {},
     "output_type": "execute_result"
    }
   ],
   "source": [
    "len(A | B)"
   ]
  },
  {
   "cell_type": "markdown",
   "id": "b7d6126b",
   "metadata": {},
   "source": [
    "# Csoportmunka:\n",
    "\n",
    "***Téma: listák, dict, set, string és minden eddigi...***\n",
    "\n",
    "**Leírás:**\n",
    "\n",
    "**I. Feladatmegoldás**\n",
    "\n",
    "Mindent lehet használni: régi notebookok, elődás, internet, ami kell jöhet!\n",
    "\n",
    "1. feladat: bemelegítés, set témakör\n",
    "\n",
    "2. feladat: adatelemzés\n",
    "\n",
    "Dolgozzatok Közösen, osszátok fel magatok között a feladatokat, passzoljátok át a függvényeket. Cél: minél több feladat teljesítése időre. És legyen leglalább egy notebookotok, amiben egyesítitek a megoldásokat!\n",
    "\n",
    "**II. Prezentáció**\n",
    "\n",
    "Ha marad időnk, akkor minden csapat kap időt a munkájának prezentálására. Ennek menete: feltöltés valamelyikőtök githubjára, vagy nekem email. És kint a táblánál gyorsan átpörgetni, bemutatni a részleteket. Kb 3 percben.\n",
    "\n",
    "**III. Szavazás**\n",
    "\n",
    "Egy szavazat sajáttól különböző csapatra, melyik tetszett a legjobban? https://www.menti.com/alfiobf1kaje itt szavazhatsz!"
   ]
  },
  {
   "cell_type": "markdown",
   "id": "d025a729",
   "metadata": {},
   "source": [
    "## 1. Feladat:\n",
    "1) Számold meg halmazok segítségével, hogy hány olyan szám van 1 és 10000 között, amelyik osztható 4-gyel **és** 6-tal, de nem osztható 12-tel."
   ]
  },
  {
   "cell_type": "code",
   "execution_count": 39,
   "id": "93c7b9e8",
   "metadata": {},
   "outputs": [
    {
     "data": {
      "text/plain": [
       "3334"
      ]
     },
     "execution_count": 39,
     "metadata": {},
     "output_type": "execute_result"
    }
   ],
   "source": [
    "len(set([i for i in range(0,10001, 4)]) | set([i for i in range(0,10001, 6)]) - set([i for i in range(0,10001, 12)]))"
   ]
  },
  {
   "cell_type": "markdown",
   "id": "80463e7d",
   "metadata": {},
   "source": [
    "2) Hány különböző betű található a következő mondatban?\n",
    "_The quick brown fox jumps over the lazy dog._"
   ]
  },
  {
   "cell_type": "code",
   "execution_count": 40,
   "id": "04ab2702",
   "metadata": {},
   "outputs": [],
   "source": [
    "halm = set('The quick brown fox jumps over the lazy dog.')"
   ]
  },
  {
   "cell_type": "code",
   "execution_count": 41,
   "id": "6dbf3a2d",
   "metadata": {},
   "outputs": [
    {
     "data": {
      "text/plain": [
       "27"
      ]
     },
     "execution_count": 41,
     "metadata": {},
     "output_type": "execute_result"
    }
   ],
   "source": [
    "len(halm - {' '} - {'.'})"
   ]
  },
  {
   "cell_type": "markdown",
   "id": "0b434819",
   "metadata": {},
   "source": [
    "3) Az alábbi listák listájában hány különböző elem található?"
   ]
  },
  {
   "cell_type": "code",
   "execution_count": null,
   "id": "27d6d4dd",
   "metadata": {},
   "outputs": [],
   "source": [
    "L = [['6', '1', '3', 'r', '8', 'k', ',', 'b', 'a', 'm'],\n",
    "     ['r', 's', 'p', 'l', 'q', 'b', 'b', 's', 'i', '7'],\n",
    "     ['l', '?', 'm', 'i', 'i', 'a', 'c', '4', '9', 't'],\n",
    "     ['h', 'a', '8', '6', 'b', '1', '6', 'k', 'e', '6'],\n",
    "     ['8', ',', 'q', '9', 'q', 't', 's', 'j', '?', 'c'],\n",
    "     ['b', '1', 'l', 'g', 'g', 'l', 'c', 'r', '4', 'c'],\n",
    "     ['4', '.', '3', 'k', 'r', '6', '.', '9', '8', '7'],\n",
    "     ['p', 'c', 'd', 'h', 'r', 'l', '0', 'g', '0', '0'],\n",
    "     ['8', 'c', '6', 't', 't', '4', ',', ',', ',', 'm'],\n",
    "     ['.', 'h', 'd', 's', '5', ',', 'e', 'd', '6', '4']]"
   ]
  },
  {
   "cell_type": "markdown",
   "id": "3cab3571",
   "metadata": {},
   "source": [
    "# 2. Feladat:"
   ]
  },
  {
   "cell_type": "markdown",
   "id": "50c75269",
   "metadata": {},
   "source": [
    "A következő kód betölt egy dictionaryt. Ami az alábbi dolgokat tartalmazza:\n",
    "\n",
    "Egy magas minőségű tényellenőrző adathalmaz, amelyet a népszerű tényellenőrző weboldal, a PolitiFact gyűjtött össze. Az adathalmaz 21 152 állítást tartalmaz, amelyeket szakértők ellenőriztek. Az összes állítást egyike az 6 kategóriának soroljuk be:  true, mostly true, half true, mostly false, false, és pants on fire. A tényellenőrzéssel kapcsolatos különféle részletek mellett számos forrást is tartalmazunk, ahol az állítás megjelent, ami fontos lehet a tényellenőrzés különféle információinak kinyerése szempontjából.\n",
    "\n",
    "Minden rekord 8 attribútumból áll:\n",
    "\n",
    "    - verdict: a tényellenőrzés eredménye 6 kategóriában {true, mostly true, half true, mostly false, false, és pants on fire}\n",
    "    - statement_originator: a személy, aki kijelentést tett, és amit ellenőriztek\n",
    "    - statement: az ellenőrzött kijelentés\n",
    "    - statement_date: a kijelentés dátuma, amelyet ellenőriztek\n",
    "    - statement_source: a forrás, ahol a kijelentést tették. Az 13 kategória egyike: {beszéd, televízió, hírek, blog, közösségi média, reklám, kampány, találkozó, rádió, e-mail, tanúvallomás, kijelentés, egyéb}\n",
    "    - factchecker: az a személy, aki ellenőrizte a kijelentést\n",
    "    - factcheck_date: a tényellenőrző cikke publikálásának dátuma\n",
    "    - factcheck_analysis_link: link a tényellenőrző elemzési cikkéhez\n"
   ]
  },
  {
   "cell_type": "code",
   "execution_count": 31,
   "id": "fc97076d",
   "metadata": {},
   "outputs": [],
   "source": [
    "# importing the module\n",
    "import json\n",
    " \n",
    "# Opening JSON file\n",
    "with open('polifact.json') as json_file:\n",
    "    data = json.load(json_file)"
   ]
  },
  {
   "cell_type": "markdown",
   "id": "7d97d27d",
   "metadata": {},
   "source": [
    "Példa egy adatra:"
   ]
  },
  {
   "cell_type": "code",
   "execution_count": 32,
   "id": "d4cb5b96",
   "metadata": {},
   "outputs": [
    {
     "data": {
      "text/plain": [
       "{'verdict': 'true',\n",
       " 'statement_originator': 'Barack Obama',\n",
       " 'statement': 'John McCain opposed bankruptcy protections for families \"who were only in bankruptcy because of medical expenses they couldn\\'t pay.\"',\n",
       " 'statement_date': '6/11/2008',\n",
       " 'statement_source': 'speech',\n",
       " 'factchecker': 'Adriel Bettelheim',\n",
       " 'factcheck_date': '6/16/2008',\n",
       " 'factcheck_analysis_link': 'https://www.politifact.com/factchecks/2008/jun/16/barack-obama/no-exemptions-for-debtors/'}"
      ]
     },
     "execution_count": 32,
     "metadata": {},
     "output_type": "execute_result"
    }
   ],
   "source": [
    "data['0']"
   ]
  },
  {
   "cell_type": "markdown",
   "id": "de3382f9",
   "metadata": {},
   "source": [
    "### 2.1 Adatfeldolgozás\n",
    "Hozzatok létre különböző listákat, amelyek különböző attribútumokat tartalmaznak. Készítsünk egy listát az igaz állításokról, egy másikat a hamis állításokról stb. Majd készítsünk függvényeket, amelyek segítségével ki tudjuk számolni, hogy egy adott kategóriában hány állítás van."
   ]
  },
  {
   "cell_type": "markdown",
   "id": "0d4db152",
   "metadata": {},
   "source": [
    "0) Hány ember állításait tartalmazza az adat?"
   ]
  },
  {
   "cell_type": "code",
   "execution_count": null,
   "id": "22f8993b",
   "metadata": {},
   "outputs": [],
   "source": []
  },
  {
   "cell_type": "markdown",
   "id": "5699707a",
   "metadata": {},
   "source": [
    "1) 'verdict' szerint melyik értékből mennyi van? Melyikből van a legtöbb? Legkevesebb?"
   ]
  },
  {
   "cell_type": "code",
   "execution_count": null,
   "id": "02ef4d69",
   "metadata": {},
   "outputs": [],
   "source": []
  },
  {
   "cell_type": "markdown",
   "id": "e66e71b1",
   "metadata": {},
   "source": [
    "2) Melyik személy a legszavahihetőbb?"
   ]
  },
  {
   "cell_type": "code",
   "execution_count": null,
   "id": "b478d147",
   "metadata": {},
   "outputs": [],
   "source": []
  },
  {
   "cell_type": "markdown",
   "id": "69c56f66",
   "metadata": {},
   "source": [
    "3) Mely forrásokból érdemes tájékozódni? (statement_source)"
   ]
  },
  {
   "cell_type": "code",
   "execution_count": null,
   "id": "ad6fbcf0",
   "metadata": {},
   "outputs": [],
   "source": []
  },
  {
   "cell_type": "markdown",
   "id": "d5d368d1",
   "metadata": {},
   "source": [
    "4) Melyik évben mondtak a legtöbb valótlanságot?"
   ]
  },
  {
   "cell_type": "code",
   "execution_count": null,
   "id": "26db26d7",
   "metadata": {},
   "outputs": [],
   "source": []
  },
  {
   "cell_type": "markdown",
   "id": "3c1a9136",
   "metadata": {},
   "source": [
    "5) Melyik hónapban mondtak a legtöbb valótlanságot? (12 közül)"
   ]
  },
  {
   "cell_type": "code",
   "execution_count": null,
   "id": "0df1c6c3",
   "metadata": {},
   "outputs": [],
   "source": []
  },
  {
   "cell_type": "markdown",
   "id": "6c805efb",
   "metadata": {},
   "source": [
    "### 2.2 Keresés\n",
    "\n",
    "Készítsünk olyan függvényeket, amelyek segítségével ki tudjuk szűrni az adatokat a különböző attribútumok alapján. \n",
    "\n",
    "1) készítsünk egy függvényt, amely visszaadja az összes olyan állítást, amelyet egy adott személy tett."
   ]
  },
  {
   "cell_type": "code",
   "execution_count": null,
   "id": "6df12e70",
   "metadata": {},
   "outputs": [],
   "source": []
  },
  {
   "cell_type": "markdown",
   "id": "b664d464",
   "metadata": {},
   "source": [
    "2) készítsünk egy függvényt, amely visszaadja az összes olyan állítást, amelyek azonos forrásból vannak."
   ]
  },
  {
   "cell_type": "code",
   "execution_count": null,
   "id": "e2684a25",
   "metadata": {},
   "outputs": [],
   "source": []
  },
  {
   "cell_type": "markdown",
   "id": "cb458589",
   "metadata": {},
   "source": [
    "### 2.3 Elemzés\n",
    "\n",
    "Készítsünk olyan függvényeket, amelyek segítségével ki tudjuk szűrni az adatokat a különböző attribútumok alapján. \n",
    "\n",
    "1) Készítsünk egy függvényt, amelynrk bemenete egy verdict érték (pl igaz), és kiszámolja ennek a kategóriának az átlagos hosszát a statement attribútum alapján. "
   ]
  },
  {
   "cell_type": "code",
   "execution_count": null,
   "id": "a433bdb9",
   "metadata": {},
   "outputs": [],
   "source": []
  },
  {
   "cell_type": "markdown",
   "id": "c8c972f5",
   "metadata": {},
   "source": [
    "2) Melyik 10 szó szerepel 'verdict' értékenként a legtöbbet az állításokban? Készíts ezekről szó - elődordulási szám dict-et"
   ]
  },
  {
   "cell_type": "code",
   "execution_count": null,
   "id": "4fbd59f5",
   "metadata": {},
   "outputs": [],
   "source": []
  },
  {
   "cell_type": "markdown",
   "id": "56966daa",
   "metadata": {},
   "source": [
    "3) 10 legtöbbet megszólaló ember milyen arányban mond marhaságot vagy igazat? (erről is lehet szótárat készíteni)"
   ]
  },
  {
   "cell_type": "code",
   "execution_count": null,
   "id": "399c7b5f",
   "metadata": {},
   "outputs": [],
   "source": []
  },
  {
   "cell_type": "markdown",
   "id": "e8a850bd",
   "metadata": {},
   "source": [
    "4) Keresd meg a leghosszabb pents on fire vagy false sorozatot :) "
   ]
  },
  {
   "cell_type": "code",
   "execution_count": null,
   "id": "eb6e6ce4",
   "metadata": {},
   "outputs": [],
   "source": []
  },
  {
   "cell_type": "markdown",
   "id": "c9e2ac75",
   "metadata": {},
   "source": [
    "### 2.4 EXTRA\n",
    "\n",
    "Bármi ami titeket érdekel és ki lehet nyerni az adatból! Lehet ábra, akármi."
   ]
  },
  {
   "cell_type": "code",
   "execution_count": null,
   "id": "b4ae3a68",
   "metadata": {},
   "outputs": [],
   "source": []
  },
  {
   "cell_type": "code",
   "execution_count": null,
   "id": "ad461b7c",
   "metadata": {},
   "outputs": [],
   "source": []
  },
  {
   "cell_type": "code",
   "execution_count": null,
   "id": "ba9d1f63",
   "metadata": {},
   "outputs": [],
   "source": []
  },
  {
   "cell_type": "markdown",
   "id": "1ad6f5c2",
   "metadata": {},
   "source": [
    "# Kivételek kezelése\n",
    "\n",
    "Programjaink futtatása során többféle hiba (más szóval kivétel) is előfordulhat. "
   ]
  },
  {
   "cell_type": "code",
   "execution_count": null,
   "id": "f9b2d179",
   "metadata": {},
   "outputs": [],
   "source": [
    "a = 2\n",
    "if a > 3 \n",
    "    print(\"a nagyobb 3-nál\")\n",
    "print(\"Az if után\")"
   ]
  },
  {
   "cell_type": "markdown",
   "id": "d9b5d3f2",
   "metadata": {},
   "source": [
    "A fenti példában szintaktikai hibát követtünk el egy idézőjel lehagyásával. A hibaüzenet ezt elárulja, és azt is látjuk, hogy a hibához érve a kód végrehajtása megszakadt. Most megnézzük, hogy hogyan tudunk saját magunk is beépíteni hibaüzenetet a programjainkba.\n",
    "\n",
    "A következő függvény bekéri a felhasználó nevét. Az input utasítás bármilyen sztringet elfogad, de mi tudjuk, hogy a név csak betűkből állhat. Ha ez nem teljesül, akkor hibaüzenetet szeretnénk kiíratni. Az alábbi függvény első változata még akármilyen sztringet elfogad, és nem jelentkezik hibaüzenet. "
   ]
  },
  {
   "cell_type": "code",
   "execution_count": null,
   "id": "3c7eeda1",
   "metadata": {},
   "outputs": [],
   "source": [
    "def get_username():\n",
    "    inp = input('Az Ön neve: ')\n",
    "    return inp"
   ]
  },
  {
   "cell_type": "code",
   "execution_count": null,
   "id": "deea9357",
   "metadata": {},
   "outputs": [],
   "source": [
    "nev = get_username()\n",
    "nev"
   ]
  },
  {
   "cell_type": "markdown",
   "id": "21395b4a",
   "metadata": {},
   "source": [
    "A második változatában a fenti hibás névre hibaüzenetet kapunk, amely jelzi, hogy értékhiba lépett fel, és felvilágosít annak mibenlétéről:"
   ]
  },
  {
   "cell_type": "code",
   "execution_count": null,
   "id": "f9802153",
   "metadata": {},
   "outputs": [],
   "source": [
    "def get_username():\n",
    "    inp = input('Az Ön neve: ')\n",
    "    if not inp.isalpha():\n",
    "        raise ValueError('A név megadásánál csak betűk használhatók!')\n",
    "    return inp"
   ]
  },
  {
   "cell_type": "code",
   "execution_count": null,
   "id": "455b85c3",
   "metadata": {},
   "outputs": [],
   "source": [
    "nev = get_username()\n",
    "nev"
   ]
  },
  {
   "cell_type": "markdown",
   "id": "83ee4403",
   "metadata": {},
   "source": [
    "A fenti hibakezelés során a hiba megtörténte után lépünk valamit. Egy másik lehetőség a try - except utasításpár használata. Ha arra számítunk, hogy a felhasználó elkövethet egy hibát valahol, akkor előtte kiadjuk a try parancsot, majd pedig az except utasítás után megadjuk, hogy mit tegyen a gép, ha valóban hibás a try utáni rész. Ha nincs hiba a try után, akkor az except utáni blokk nem hajtódik végre."
   ]
  },
  {
   "cell_type": "code",
   "execution_count": null,
   "id": "5eba415b",
   "metadata": {},
   "outputs": [],
   "source": [
    "try:\n",
    "    szam = int(input('Adj meg egy számot: '))\n",
    "except:\n",
    "    print(\"Rendben, választok egyet neked...\")\n",
    "    szam = 7\n",
    "print(szam)"
   ]
  },
  {
   "cell_type": "markdown",
   "id": "685d5816",
   "metadata": {},
   "source": [
    "A fenti példában a try után vétett tetszőleges természetű hiba esetén az except utáni parancssor hajtódik végre, és nem áll le a program. Érdemes ezt úgy módosítani, hogy azt is megadjuk, csak milyen természetű hiba elkövetése esetén hajtódjon végre az except utáni rész. "
   ]
  },
  {
   "cell_type": "code",
   "execution_count": null,
   "id": "c3280464",
   "metadata": {},
   "outputs": [],
   "source": [
    "try:\n",
    "    szam = int(input('Adj meg egy számot: '))\n",
    "except ValueError:\n",
    "    print(\"Ez nem szám!\")"
   ]
  },
  {
   "cell_type": "markdown",
   "id": "7812c890",
   "metadata": {},
   "source": [
    "Osztásnál gyakori hiba a nullával való osztás. Az alábbi példában arra is felkészülünk, ha nem számot ad meg a felhasználó, és arra is, ha nulla osztót, a két esetben más típusú hiba lép fel, és a hibaüzenet is  más lesz."
   ]
  },
  {
   "cell_type": "code",
   "execution_count": 2,
   "id": "db613d7d",
   "metadata": {},
   "outputs": [
    {
     "name": "stdout",
     "output_type": "stream",
     "text": [
      "Adj meg egy számot: asd\n",
      "Ez nem szám!\n"
     ]
    }
   ],
   "source": [
    "try: \n",
    "    szam = int(input('Adj meg egy számot: '))\n",
    "    print(10/szam)\n",
    "except ValueError:\n",
    "    print(\"Ez nem szám!\")\n",
    "except ZeroDivisionError:\n",
    "    print(\"Nullával nem lehet osztani!\")"
   ]
  },
  {
   "cell_type": "code",
   "execution_count": null,
   "id": "89e58a07",
   "metadata": {},
   "outputs": [],
   "source": [
    "try: \n",
    "    szam = int(input('Adj meg egy számot: '))\n",
    "    print(10/szam)\n",
    "except ValueError:\n",
    "    print(\"Ez nem szám!\")\n",
    "except ZeroDivisionError:\n",
    "    print(\"Nullával nem lehet osztani!\")"
   ]
  }
 ],
 "metadata": {
  "kernelspec": {
   "display_name": "Python 3 (ipykernel)",
   "language": "python",
   "name": "python3"
  },
  "language_info": {
   "codemirror_mode": {
    "name": "ipython",
    "version": 3
   },
   "file_extension": ".py",
   "mimetype": "text/x-python",
   "name": "python",
   "nbconvert_exporter": "python",
   "pygments_lexer": "ipython3",
   "version": "3.9.13"
  }
 },
 "nbformat": 4,
 "nbformat_minor": 5
}
