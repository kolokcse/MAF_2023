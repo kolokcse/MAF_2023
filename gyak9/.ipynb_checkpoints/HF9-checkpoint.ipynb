{
 "cells": [
  {
   "cell_type": "markdown",
   "id": "5901213f",
   "metadata": {},
   "source": [
    "# 9. Házi feladat\n",
    "\n",
    "Szimulálj egy 2 dimenziós szimmetrikus bolyongást _(ekkor egyaránt $\\frac{1}{4}$ valószínűséggel lépünk fel, le, jobbra vagy balra)_ 1000 lépésen át, és ábrázold! Az ábra tengelyeinek legyen $x$ és $y$ a neve, a címe legyen \"Szimmetrikus bolyongás 2 dimenzióban\"."
   ]
  },
  {
   "cell_type": "code",
   "execution_count": null,
   "id": "4d2133e1",
   "metadata": {},
   "outputs": [],
   "source": [
    "import numpy as np\n",
    "import matplotlib.pyplot as plt"
   ]
  },
  {
   "cell_type": "code",
   "execution_count": null,
   "id": "6cef7d57",
   "metadata": {},
   "outputs": [],
   "source": []
  },
  {
   "cell_type": "markdown",
   "id": "c1bd20c4",
   "metadata": {},
   "source": [
    "## Szorgalmi:\n",
    "Tegyük fel, hogy egy óra számlapjának a közepe az origo, a számlap sugara 1. A percmutató a számlap sugarának 80%-a, az óra mutató a számlap sugarának 50%-a.\n",
    "\n",
    "* a) (5 pont) Adj egy függvényt, ami kiszámolja az óramutatók végpontjának $x,y$ koordinátáit adott óra - perc bemenetre.\n",
    "\n",
    "* b) (5 pont) Rajzold ki az óra számlapját és rajta a mutatók állását 13.48-kor! Legyen az óramutató zöld és a perc mutató piros, valamint a számlap körvonala legyen olyan, hogy minden percnél legyen egy fekete pötty, minden ötödik percnél pedig legyen egy piros pötty (__ld. szamlap.png a Dropbox mappában__). "
   ]
  },
  {
   "cell_type": "code",
   "execution_count": null,
   "id": "4088a7cb",
   "metadata": {},
   "outputs": [],
   "source": []
  }
 ],
 "metadata": {
  "kernelspec": {
   "display_name": "Python 3 (ipykernel)",
   "language": "python",
   "name": "python3"
  },
  "language_info": {
   "codemirror_mode": {
    "name": "ipython",
    "version": 3
   },
   "file_extension": ".py",
   "mimetype": "text/x-python",
   "name": "python",
   "nbconvert_exporter": "python",
   "pygments_lexer": "ipython3",
   "version": "3.9.13"
  }
 },
 "nbformat": 4,
 "nbformat_minor": 5
}
