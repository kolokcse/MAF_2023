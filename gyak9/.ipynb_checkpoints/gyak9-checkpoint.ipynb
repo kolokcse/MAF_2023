{
 "cells": [
  {
   "cell_type": "markdown",
   "id": "7097bbc4",
   "metadata": {},
   "source": [
    "# 10. gyakorlat\n",
    "# NumPy II."
   ]
  },
  {
   "cell_type": "code",
   "execution_count": 2,
   "id": "3a46e6c6",
   "metadata": {},
   "outputs": [],
   "source": [
    "import numpy as np"
   ]
  },
  {
   "cell_type": "markdown",
   "id": "98d3c8e4",
   "metadata": {},
   "source": [
    "## Speciális mátrixok\n",
    "A numpy-ban van pár beépített speciális mátrix, mint a csupa $0$, csupa $1$, identitás mátrix, illetve diagonális mátrix."
   ]
  },
  {
   "cell_type": "code",
   "execution_count": 233,
   "id": "6f327df5",
   "metadata": {},
   "outputs": [
    {
     "data": {
      "text/plain": [
       "array([[0., 0., 0.],\n",
       "       [0., 0., 0.],\n",
       "       [0., 0., 0.]])"
      ]
     },
     "execution_count": 233,
     "metadata": {},
     "output_type": "execute_result"
    }
   ],
   "source": [
    "np.zeros((3,3))"
   ]
  },
  {
   "cell_type": "code",
   "execution_count": 234,
   "id": "f13417b2",
   "metadata": {},
   "outputs": [
    {
     "data": {
      "text/plain": [
       "array([[1., 1., 1., 1.],\n",
       "       [1., 1., 1., 1.],\n",
       "       [1., 1., 1., 1.]])"
      ]
     },
     "execution_count": 234,
     "metadata": {},
     "output_type": "execute_result"
    }
   ],
   "source": [
    "np.ones((3,4))"
   ]
  },
  {
   "cell_type": "code",
   "execution_count": 235,
   "id": "43e4d0fd",
   "metadata": {},
   "outputs": [
    {
     "data": {
      "text/plain": [
       "array([[1., 0., 0., 0., 0.],\n",
       "       [0., 1., 0., 0., 0.],\n",
       "       [0., 0., 1., 0., 0.],\n",
       "       [0., 0., 0., 1., 0.],\n",
       "       [0., 0., 0., 0., 1.]])"
      ]
     },
     "execution_count": 235,
     "metadata": {},
     "output_type": "execute_result"
    }
   ],
   "source": [
    "np.eye(5)"
   ]
  },
  {
   "cell_type": "code",
   "execution_count": 238,
   "id": "eae82d4f",
   "metadata": {},
   "outputs": [
    {
     "data": {
      "text/plain": [
       "array([[1, 0, 0, 0],\n",
       "       [0, 2, 0, 0],\n",
       "       [0, 0, 3, 0],\n",
       "       [0, 0, 0, 4]])"
      ]
     },
     "execution_count": 238,
     "metadata": {},
     "output_type": "execute_result"
    }
   ],
   "source": [
    "a = np.array([1,2,3,4])\n",
    "np.diag(a)"
   ]
  },
  {
   "cell_type": "markdown",
   "id": "3abdb483",
   "metadata": {},
   "source": [
    "## Mátrixok konkatenációja\n",
    "Két mátrixot valamelyik tengely mentén az `np.concatenate` függvény segítségével tudunk összecsatolni:"
   ]
  },
  {
   "cell_type": "code",
   "execution_count": 245,
   "id": "a27e9d22",
   "metadata": {},
   "outputs": [
    {
     "name": "stdout",
     "output_type": "stream",
     "text": [
      "[[1. 1. 1.]\n",
      " [1. 1. 1.]\n",
      " [1. 1. 1.]\n",
      " [1. 0. 0.]\n",
      " [0. 1. 0.]\n",
      " [0. 0. 1.]]\n",
      "[[1. 1. 1. 1. 0. 0.]\n",
      " [1. 1. 1. 0. 1. 0.]\n",
      " [1. 1. 1. 0. 0. 1.]]\n"
     ]
    }
   ],
   "source": [
    "A = np.ones((3,3))\n",
    "I = np.eye(3)\n",
    "B = np.concatenate([A, I])\n",
    "print(B)\n",
    "\n",
    "C = np.concatenate([A, I], axis=1)\n",
    "print(C)"
   ]
  },
  {
   "cell_type": "markdown",
   "id": "c28111a4",
   "metadata": {},
   "source": [
    "## Mátrix inverze, determinánsa, sajátértéke:"
   ]
  },
  {
   "cell_type": "code",
   "execution_count": 84,
   "id": "d0d0ebd9",
   "metadata": {},
   "outputs": [
    {
     "name": "stdout",
     "output_type": "stream",
     "text": [
      "-2.9999999999999996\n"
     ]
    }
   ],
   "source": [
    "A = np.array([[1,2,3],[4,5,6],[7,8,10]])\n",
    "print(np.linalg.det(A))"
   ]
  },
  {
   "cell_type": "code",
   "execution_count": 85,
   "id": "09dfd132",
   "metadata": {},
   "outputs": [
    {
     "name": "stdout",
     "output_type": "stream",
     "text": [
      "[[-0.66666667 -1.33333333  1.        ]\n",
      " [-0.66666667  3.66666667 -2.        ]\n",
      " [ 1.         -2.          1.        ]]\n"
     ]
    }
   ],
   "source": [
    "print(np.linalg.inv(A))"
   ]
  },
  {
   "cell_type": "code",
   "execution_count": 88,
   "id": "6036e3e6",
   "metadata": {},
   "outputs": [
    {
     "name": "stdout",
     "output_type": "stream",
     "text": [
      "[16.70749332 -0.90574018  0.19824686]\n",
      "[[-0.22351336 -0.86584578  0.27829649]\n",
      " [-0.50394563  0.0856512  -0.8318468 ]\n",
      " [-0.83431444  0.4929249   0.48018951]]\n"
     ]
    }
   ],
   "source": [
    "l, v = np.linalg.eig(A)\n",
    "print(l)\n",
    "print(v)"
   ]
  },
  {
   "cell_type": "markdown",
   "id": "0a43bd1f",
   "metadata": {},
   "source": [
    "## Mátrixok átformázása\n",
    "Az `A` mátrix \"formáját\" megkphatjuk az alábbi módon:"
   ]
  },
  {
   "cell_type": "code",
   "execution_count": 5,
   "id": "48754a73",
   "metadata": {},
   "outputs": [
    {
     "name": "stdout",
     "output_type": "stream",
     "text": [
      "(4, 3)\n"
     ]
    }
   ],
   "source": [
    "A = np.array([[1,2,3],[4,5,6],[7,8,9],[10,11,12]])\n",
    "print(A.shape)"
   ]
  },
  {
   "cell_type": "code",
   "execution_count": 8,
   "id": "7758caf7",
   "metadata": {},
   "outputs": [
    {
     "name": "stdout",
     "output_type": "stream",
     "text": [
      "[[ 1  2]\n",
      " [ 3  4]\n",
      " [ 5  6]\n",
      " [ 7  8]\n",
      " [ 9 10]\n",
      " [11 12]]\n"
     ]
    }
   ],
   "source": [
    "B = A.reshape(6,2)\n",
    "print(B)"
   ]
  },
  {
   "cell_type": "markdown",
   "id": "64d341ce",
   "metadata": {},
   "source": [
    "## Véletlen számok és univerzális függvények\n",
    "\n",
    "A NumPy-ban is van random modul véletlen számok generálására. Így néz ki pl. egy 0 és 100 közötti véletlen egész szám generálása: "
   ]
  },
  {
   "cell_type": "code",
   "execution_count": 3,
   "id": "c765be12",
   "metadata": {},
   "outputs": [
    {
     "name": "stdout",
     "output_type": "stream",
     "text": [
      "77\n"
     ]
    }
   ],
   "source": [
    "x = np.random.randint(100)\n",
    "\n",
    "print(x)"
   ]
  },
  {
   "cell_type": "markdown",
   "id": "41a695da",
   "metadata": {},
   "source": [
    "Valós szám 0 és 1 között:"
   ]
  },
  {
   "cell_type": "code",
   "execution_count": 4,
   "id": "b4b32d51",
   "metadata": {},
   "outputs": [
    {
     "name": "stdout",
     "output_type": "stream",
     "text": [
      "0.8408069008752439\n"
     ]
    }
   ],
   "source": [
    "x = np.random.rand()\n",
    "\n",
    "print(x)"
   ]
  },
  {
   "cell_type": "markdown",
   "id": "df3bbf7d",
   "metadata": {},
   "source": [
    "Véletlen elemű tömböket is generálhatunk:\n",
    "\n",
    "1D tömb 5 db, 0 és 100 között egész számmal:"
   ]
  },
  {
   "cell_type": "code",
   "execution_count": 5,
   "id": "71e1a18e",
   "metadata": {},
   "outputs": [
    {
     "name": "stdout",
     "output_type": "stream",
     "text": [
      "[25 20 85 88 92]\n"
     ]
    }
   ],
   "source": [
    "x = np.random.randint(100, size=(5))\n",
    "\n",
    "print(x)"
   ]
  },
  {
   "cell_type": "markdown",
   "id": "20ceb29a",
   "metadata": {},
   "source": [
    "3x5-ös tömb:"
   ]
  },
  {
   "cell_type": "code",
   "execution_count": 6,
   "id": "198e5657",
   "metadata": {},
   "outputs": [
    {
     "name": "stdout",
     "output_type": "stream",
     "text": [
      "[[ 2 67 71  2 71]\n",
      " [16 30 76 36 30]\n",
      " [19  2 54 53 56]]\n"
     ]
    }
   ],
   "source": [
    "x = np.random.randint(100, size=(3, 5))\n",
    "\n",
    "print(x)"
   ]
  },
  {
   "cell_type": "markdown",
   "id": "809eac3a",
   "metadata": {},
   "source": [
    "Valósnál hasonlóan:"
   ]
  },
  {
   "cell_type": "code",
   "execution_count": 7,
   "id": "4381359e",
   "metadata": {},
   "outputs": [
    {
     "name": "stdout",
     "output_type": "stream",
     "text": [
      "[0.6804874  0.02651993 0.15209758 0.64089347 0.00772499]\n"
     ]
    }
   ],
   "source": [
    "x = np.random.rand(5)\n",
    "\n",
    "print(x)"
   ]
  },
  {
   "cell_type": "code",
   "execution_count": 7,
   "id": "2b15982b",
   "metadata": {},
   "outputs": [
    {
     "name": "stdout",
     "output_type": "stream",
     "text": [
      "[[0.99544512 0.25808507 0.26217787 0.27441334 0.11873049]\n",
      " [0.36946437 0.13029474 0.36103224 0.57590232 0.14098786]\n",
      " [0.5977443  0.89532264 0.45168123 0.66370376 0.3007973 ]]\n"
     ]
    }
   ],
   "source": [
    "x = np.random.rand(3,5)\n",
    "\n",
    "print(x)"
   ]
  },
  {
   "cell_type": "markdown",
   "id": "e46b617c",
   "metadata": {},
   "source": [
    "Egyenletes eloszlásból is tudunk mintavételezni:"
   ]
  },
  {
   "cell_type": "code",
   "execution_count": 80,
   "id": "329b9c8c",
   "metadata": {},
   "outputs": [
    {
     "data": {
      "text/plain": [
       "array([1.75966656, 0.45527071, 2.36083668, 4.52375761, 4.88283863,\n",
       "       2.48856447, 2.59177176, 2.99618511, 0.23502709, 3.83621182])"
      ]
     },
     "execution_count": 80,
     "metadata": {},
     "output_type": "execute_result"
    }
   ],
   "source": [
    "x = np.random.uniform(low = 0, high = 5, size = 10)\n",
    "x"
   ]
  },
  {
   "cell_type": "markdown",
   "id": "28d1d19f",
   "metadata": {},
   "source": [
    "A `choice` metódussal az általunk megadott tömbből fog véletlenszerűen egy elemet kiválasztani:"
   ]
  },
  {
   "cell_type": "code",
   "execution_count": 8,
   "id": "1981215b",
   "metadata": {},
   "outputs": [
    {
     "name": "stdout",
     "output_type": "stream",
     "text": [
      "3\n"
     ]
    }
   ],
   "source": [
    "x = np.random.choice([3, 5, 7, 9])\n",
    "\n",
    "print(x)"
   ]
  },
  {
   "cell_type": "code",
   "execution_count": 9,
   "id": "f2a6f281",
   "metadata": {},
   "outputs": [
    {
     "name": "stdout",
     "output_type": "stream",
     "text": [
      "[[7 7 7 7 3]\n",
      " [5 3 9 7 5]\n",
      " [7 5 7 7 5]]\n"
     ]
    }
   ],
   "source": [
    "x = np.random.choice([3, 5, 7, 9], size=(3, 5))\n",
    "\n",
    "print(x)"
   ]
  },
  {
   "cell_type": "markdown",
   "id": "bd437d4c",
   "metadata": {},
   "source": [
    "Előírhatjuk azt is, melyiket mekkora valószínűséggel válassza (ezen valószínűségek 0 és 1 közötti számok, az összegük 1 legyen):"
   ]
  },
  {
   "cell_type": "code",
   "execution_count": 10,
   "id": "2ab300c3",
   "metadata": {},
   "outputs": [
    {
     "name": "stdout",
     "output_type": "stream",
     "text": [
      "[5 7 7 5 3 7 3 5 7 5 5 5 7 3 7 7 7 7 7 5 5 5 5 3 7 7 7 5 7 5 7 7 3 7 7 7 7\n",
      " 7 7 3 7 3 5 5 7 7 7 7 7 7 5 3 7 7 7 7 7 3 7 5 7 7 7 7 5 5 5 5 3 7 7 5 7 5\n",
      " 7 7 7 7 7 5 7 5 7 7 5 7 5 7 7 7 3 5 5 5 7 7 7 7 3 3]\n"
     ]
    }
   ],
   "source": [
    "x = np.random.choice([3, 5, 7, 9], p=[0.1, 0.3, 0.6, 0.0], size=(100))\n",
    "\n",
    "print(x)"
   ]
  },
  {
   "cell_type": "markdown",
   "id": "c6d174ef",
   "metadata": {},
   "source": [
    "Szükség lehet a számok sorrendjének véletlenszerű megváltoztatásra is (pl. kártya összekeverésének szimulációja). A `shuffle` megváltoztatja magát a tömböt."
   ]
  },
  {
   "cell_type": "code",
   "execution_count": 16,
   "id": "d574ca97",
   "metadata": {},
   "outputs": [
    {
     "name": "stdout",
     "output_type": "stream",
     "text": [
      "[5 1 3 2 4]\n"
     ]
    }
   ],
   "source": [
    "arr = np.array([1, 2, 3, 4, 5])\n",
    "\n",
    "np.random.shuffle(arr)\n",
    "\n",
    "print(arr)"
   ]
  },
  {
   "cell_type": "markdown",
   "id": "14ae8ad5",
   "metadata": {},
   "source": [
    "A `permutation` visszaadja a kevert tömböt, de az eredetit változatlanul hagyja."
   ]
  },
  {
   "cell_type": "code",
   "execution_count": 20,
   "id": "d4c05d28",
   "metadata": {},
   "outputs": [
    {
     "name": "stdout",
     "output_type": "stream",
     "text": [
      "[4 5 2 1 3]\n"
     ]
    }
   ],
   "source": [
    "arr = np.array([1, 2, 3, 4, 5])\n",
    "\n",
    "print(np.random.permutation(arr))"
   ]
  },
  {
   "cell_type": "code",
   "execution_count": 22,
   "id": "95641163",
   "metadata": {},
   "outputs": [
    {
     "name": "stdout",
     "output_type": "stream",
     "text": [
      "[1 2 3 4 5]\n"
     ]
    }
   ],
   "source": [
    "print(arr)"
   ]
  },
  {
   "cell_type": "markdown",
   "id": "08c72df7",
   "metadata": {},
   "source": [
    "# Lineáris algebrai egyenletrendszerek megoldása\n",
    "\n",
    "Pl. Megoldandó az \\\n",
    "$2x_1 + x_2 + x_3 = 4$\\\n",
    "$x_1 + 3 x_2 + 2x_3 = 6$\\\n",
    "$x_1 + 2 x_2 +2 x_3 = 5$\\\n",
    "lineáris egyenletrendszer. "
   ]
  },
  {
   "cell_type": "code",
   "execution_count": 32,
   "id": "a61c2592",
   "metadata": {},
   "outputs": [
    {
     "data": {
      "text/plain": [
       "array([1., 1., 1.])"
      ]
     },
     "execution_count": 32,
     "metadata": {},
     "output_type": "execute_result"
    }
   ],
   "source": [
    "import numpy as np\n",
    "A = np.array([[2, 1, 1],\n",
    "              [1, 3, 2],\n",
    "              [1, 2, 2]])\n",
    "\n",
    "b = np.array([4,\n",
    "              6,\n",
    "              5])\n",
    "\n",
    "x = np.linalg.solve(A,b)\n",
    "x"
   ]
  },
  {
   "cell_type": "code",
   "execution_count": 39,
   "id": "e695b630",
   "metadata": {},
   "outputs": [
    {
     "data": {
      "text/plain": [
       "array([ True,  True,  True])"
      ]
     },
     "execution_count": 39,
     "metadata": {},
     "output_type": "execute_result"
    }
   ],
   "source": [
    "abs(A @ x - b) < 10e-12"
   ]
  },
  {
   "cell_type": "markdown",
   "id": "ed309e78",
   "metadata": {},
   "source": [
    "## Feladat:\n",
    "Számítsd ki az $A$ mátrix inverzét lineáris egyenletrendszer(ek) megoldásával! Ellenőrizheted a számításaidat az `np.linalg.inv` függvénnyel.\n",
    "\n",
    "Hogyan lehetne egyetlen egyenletrendszer megoldásával megkapni az inverzet?"
   ]
  },
  {
   "cell_type": "markdown",
   "id": "f5aa8830",
   "metadata": {},
   "source": [
    "## Feladat:\n",
    "Legyen\n",
    "$$\n",
    "    \\begin{equation}\n",
    "        F =\n",
    "        \\begin{bmatrix}\n",
    "            1 & 1 \\\\\n",
    "            1 & 0\n",
    "        \\end{bmatrix},\\,\n",
    "        u_0 = \n",
    "        \\begin{bmatrix}\n",
    "            1 \\\\\n",
    "            0\n",
    "        \\end{bmatrix}.\n",
    "    \\end{equation}\n",
    "$$\n",
    "Definiáljuk a következő sorozatot:\n",
    "$$\n",
    "\\begin{equation}\n",
    "    u_k = F^ku,\\quad\\forall k\\geq 1.\n",
    "\\end{equation}\n",
    "$$\n",
    "Mi lesz az $u_k$ vektorok második koordinátáiból képzett sorozat?"
   ]
  },
  {
   "cell_type": "markdown",
   "id": "92bc64ba",
   "metadata": {},
   "source": [
    "## Feladat:\n",
    "a) Legyen $x = \\left(2,3,4,5,6\\right)$ és $m=6$. Készítsd el a Vandermonde-mátrixát!\n",
    "$$\n",
    "\\begin{equation}\n",
    "    V^m_x =\n",
    "    \\begin{bmatrix}\n",
    "        1 & x_1 & x_1^2 & \\dots & x_1^m \\\\\n",
    "        1 & x_2 & x_2^2 & \\dots & x_2^m \\\\\n",
    "        \\vdots & \\vdots & \\ddots & \\vdots \\\\\n",
    "        1 & x_n & x_n^2 & \\dots & x_n^m\n",
    "    \\end{bmatrix}\n",
    "\\end{equation}\n",
    "$$\n",
    "\n",
    "b) Legyen $x$ egy $100$ dimenziós random vektor egyenletes eloszlással $[0,1]$-en. Rendezd $x$-et úgy, hogy a koordinátái növekvő sorrendben legyenek (`sorted`). Készítsd el a Vandermonde-mátrixát!\n",
    "\n",
    "c) Legyen $f(x) = 10x^5+15x^3-30x^2+2x-5$. Legyen \n",
    "$$\n",
    "\\begin{equation}\n",
    "    y_i = f(x_i) + \\epsilon_i,\n",
    "\\end{equation}\n",
    "$$\n",
    "ahol $\\epsilon_i$ random szám standard normális eloszlásból. Hozd létre az `y` arrayt.\n",
    "\n",
    "d) Számold ki az alábbit:\n",
    "$$\n",
    "\\begin{equation}\n",
    "     \\theta = (V_x^TV_x)^{-1}V_x^T y\n",
    "\\end{equation}\n",
    "$$\n",
    "\n",
    "e) Legyen\n",
    "$$\n",
    "\\begin{equation}\n",
    "    \\hat{y} = V_x \\theta\n",
    "\\end{equation}\n",
    "$$"
   ]
  }
 ],
 "metadata": {
  "kernelspec": {
   "display_name": "Python 3 (ipykernel)",
   "language": "python",
   "name": "python3"
  },
  "language_info": {
   "codemirror_mode": {
    "name": "ipython",
    "version": 3
   },
   "file_extension": ".py",
   "mimetype": "text/x-python",
   "name": "python",
   "nbconvert_exporter": "python",
   "pygments_lexer": "ipython3",
   "version": "3.9.13"
  }
 },
 "nbformat": 4,
 "nbformat_minor": 5
}
