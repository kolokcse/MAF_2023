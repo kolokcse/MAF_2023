{
 "cells": [
  {
   "cell_type": "markdown",
   "id": "7097bbc4",
   "metadata": {},
   "source": [
    "# 9. gyakorlat\n",
    "# NumPy II."
   ]
  },
  {
   "cell_type": "code",
   "execution_count": 1,
   "id": "3a46e6c6",
   "metadata": {},
   "outputs": [],
   "source": [
    "import numpy as np"
   ]
  },
  {
   "cell_type": "markdown",
   "id": "98d3c8e4",
   "metadata": {},
   "source": [
    "## Speciális mátrixok\n",
    "A numpy-ban van pár beépített speciális mátrix, mint a csupa $0$, csupa $1$, identitás mátrix, illetve diagonális mátrix."
   ]
  },
  {
   "cell_type": "code",
   "execution_count": 2,
   "id": "6f327df5",
   "metadata": {},
   "outputs": [
    {
     "data": {
      "text/plain": [
       "array([[0., 0., 0.],\n",
       "       [0., 0., 0.],\n",
       "       [0., 0., 0.]])"
      ]
     },
     "execution_count": 2,
     "metadata": {},
     "output_type": "execute_result"
    }
   ],
   "source": [
    "np.zeros((3,3))"
   ]
  },
  {
   "cell_type": "code",
   "execution_count": 3,
   "id": "f13417b2",
   "metadata": {},
   "outputs": [
    {
     "data": {
      "text/plain": [
       "array([[1., 1., 1., 1.],\n",
       "       [1., 1., 1., 1.],\n",
       "       [1., 1., 1., 1.]])"
      ]
     },
     "execution_count": 3,
     "metadata": {},
     "output_type": "execute_result"
    }
   ],
   "source": [
    "np.ones((3,4))"
   ]
  },
  {
   "cell_type": "code",
   "execution_count": 4,
   "id": "43e4d0fd",
   "metadata": {},
   "outputs": [
    {
     "data": {
      "text/plain": [
       "array([[1., 0., 0., 0., 0.],\n",
       "       [0., 1., 0., 0., 0.],\n",
       "       [0., 0., 1., 0., 0.],\n",
       "       [0., 0., 0., 1., 0.],\n",
       "       [0., 0., 0., 0., 1.]])"
      ]
     },
     "execution_count": 4,
     "metadata": {},
     "output_type": "execute_result"
    }
   ],
   "source": [
    "np.eye(5)"
   ]
  },
  {
   "cell_type": "code",
   "execution_count": 5,
   "id": "eae82d4f",
   "metadata": {},
   "outputs": [
    {
     "data": {
      "text/plain": [
       "array([[1, 0, 0, 0],\n",
       "       [0, 2, 0, 0],\n",
       "       [0, 0, 3, 0],\n",
       "       [0, 0, 0, 4]])"
      ]
     },
     "execution_count": 5,
     "metadata": {},
     "output_type": "execute_result"
    }
   ],
   "source": [
    "a = np.array([1,2,3,4])\n",
    "np.diag(a)"
   ]
  },
  {
   "cell_type": "markdown",
   "id": "3abdb483",
   "metadata": {},
   "source": [
    "## Mátrixok konkatenációja\n",
    "Két mátrixot valamelyik tengely mentén az `np.concatenate` függvény segítségével tudunk összecsatolni:"
   ]
  },
  {
   "cell_type": "code",
   "execution_count": 6,
   "id": "a27e9d22",
   "metadata": {},
   "outputs": [
    {
     "name": "stdout",
     "output_type": "stream",
     "text": [
      "[[1. 1. 1.]\n",
      " [1. 1. 1.]\n",
      " [1. 1. 1.]\n",
      " [1. 0. 0.]\n",
      " [0. 1. 0.]\n",
      " [0. 0. 1.]]\n",
      "[[1. 1. 1. 1. 0. 0.]\n",
      " [1. 1. 1. 0. 1. 0.]\n",
      " [1. 1. 1. 0. 0. 1.]]\n"
     ]
    }
   ],
   "source": [
    "A = np.ones((3,3))\n",
    "I = np.eye(3)\n",
    "B = np.concatenate([A, I])\n",
    "print(B)\n",
    "\n",
    "C = np.concatenate([A, I], axis=1)\n",
    "print(C)"
   ]
  },
  {
   "cell_type": "markdown",
   "id": "c28111a4",
   "metadata": {},
   "source": [
    "## Mátrix inverze, determinánsa, sajátértéke:"
   ]
  },
  {
   "cell_type": "code",
   "execution_count": 7,
   "id": "d0d0ebd9",
   "metadata": {},
   "outputs": [
    {
     "name": "stdout",
     "output_type": "stream",
     "text": [
      "-3.000000000000001\n"
     ]
    }
   ],
   "source": [
    "A = np.array([[1,2,3],[4,5,6],[7,8,10]])\n",
    "print(np.linalg.det(A))"
   ]
  },
  {
   "cell_type": "code",
   "execution_count": 8,
   "id": "09dfd132",
   "metadata": {},
   "outputs": [
    {
     "name": "stdout",
     "output_type": "stream",
     "text": [
      "[[-0.66666667 -1.33333333  1.        ]\n",
      " [-0.66666667  3.66666667 -2.        ]\n",
      " [ 1.         -2.          1.        ]]\n"
     ]
    }
   ],
   "source": [
    "print(np.linalg.inv(A))"
   ]
  },
  {
   "cell_type": "code",
   "execution_count": 9,
   "id": "6036e3e6",
   "metadata": {},
   "outputs": [
    {
     "name": "stdout",
     "output_type": "stream",
     "text": [
      "[16.70749332 -0.90574018  0.19824686]\n",
      "[[-0.22351336 -0.86584578  0.27829649]\n",
      " [-0.50394563  0.0856512  -0.8318468 ]\n",
      " [-0.83431444  0.4929249   0.48018951]]\n"
     ]
    }
   ],
   "source": [
    "l, v = np.linalg.eig(A)\n",
    "print(l)\n",
    "print(v)"
   ]
  },
  {
   "cell_type": "markdown",
   "id": "0a43bd1f",
   "metadata": {},
   "source": [
    "## Mátrixok átformázása\n",
    "Az `A` mátrix \"formáját\" megkphatjuk az alábbi módon:"
   ]
  },
  {
   "cell_type": "code",
   "execution_count": 10,
   "id": "48754a73",
   "metadata": {},
   "outputs": [
    {
     "name": "stdout",
     "output_type": "stream",
     "text": [
      "(4, 3)\n"
     ]
    }
   ],
   "source": [
    "A = np.array([[1,2,3],[4,5,6],[7,8,9],[10,11,12]])\n",
    "print(A.shape)"
   ]
  },
  {
   "cell_type": "code",
   "execution_count": 11,
   "id": "7758caf7",
   "metadata": {},
   "outputs": [
    {
     "name": "stdout",
     "output_type": "stream",
     "text": [
      "[[ 1  2]\n",
      " [ 3  4]\n",
      " [ 5  6]\n",
      " [ 7  8]\n",
      " [ 9 10]\n",
      " [11 12]]\n"
     ]
    }
   ],
   "source": [
    "B = A.reshape(6,2)\n",
    "print(B)"
   ]
  },
  {
   "cell_type": "markdown",
   "id": "64d341ce",
   "metadata": {},
   "source": [
    "## Véletlen számok és univerzális függvények\n",
    "\n",
    "A NumPy-ban is van random modul véletlen számok generálására. Így néz ki pl. egy 0 és 100 közötti véletlen egész szám generálása: "
   ]
  },
  {
   "cell_type": "code",
   "execution_count": 12,
   "id": "c765be12",
   "metadata": {},
   "outputs": [
    {
     "name": "stdout",
     "output_type": "stream",
     "text": [
      "68\n"
     ]
    }
   ],
   "source": [
    "x = np.random.randint(100)\n",
    "\n",
    "print(x)"
   ]
  },
  {
   "cell_type": "markdown",
   "id": "41a695da",
   "metadata": {},
   "source": [
    "Valós szám 0 és 1 között:"
   ]
  },
  {
   "cell_type": "code",
   "execution_count": 13,
   "id": "b4b32d51",
   "metadata": {},
   "outputs": [
    {
     "name": "stdout",
     "output_type": "stream",
     "text": [
      "0.8900380178303133\n"
     ]
    }
   ],
   "source": [
    "x = np.random.rand()\n",
    "\n",
    "print(x)"
   ]
  },
  {
   "cell_type": "markdown",
   "id": "df3bbf7d",
   "metadata": {},
   "source": [
    "Véletlen elemű tömböket is generálhatunk:\n",
    "\n",
    "1D tömb 5 db, 0 és 100 között egész számmal:"
   ]
  },
  {
   "cell_type": "code",
   "execution_count": 14,
   "id": "71e1a18e",
   "metadata": {},
   "outputs": [
    {
     "name": "stdout",
     "output_type": "stream",
     "text": [
      "[42 22 41 91 64]\n"
     ]
    }
   ],
   "source": [
    "x = np.random.randint(100, size=(5))\n",
    "\n",
    "print(x)"
   ]
  },
  {
   "cell_type": "markdown",
   "id": "20ceb29a",
   "metadata": {},
   "source": [
    "3x5-ös tömb:"
   ]
  },
  {
   "cell_type": "code",
   "execution_count": 15,
   "id": "198e5657",
   "metadata": {},
   "outputs": [
    {
     "name": "stdout",
     "output_type": "stream",
     "text": [
      "[[13 82 96 24 23]\n",
      " [67 82 20 60 97]\n",
      " [92 32 58 93 22]]\n"
     ]
    }
   ],
   "source": [
    "x = np.random.randint(100, size=(3, 5))\n",
    "\n",
    "print(x)"
   ]
  },
  {
   "cell_type": "markdown",
   "id": "809eac3a",
   "metadata": {},
   "source": [
    "Valósnál hasonlóan:"
   ]
  },
  {
   "cell_type": "code",
   "execution_count": 16,
   "id": "4381359e",
   "metadata": {},
   "outputs": [
    {
     "name": "stdout",
     "output_type": "stream",
     "text": [
      "[0.78460989 0.41792886 0.74113214 0.61959322 0.51382568]\n"
     ]
    }
   ],
   "source": [
    "x = np.random.rand(5)\n",
    "\n",
    "print(x)"
   ]
  },
  {
   "cell_type": "code",
   "execution_count": 17,
   "id": "2b15982b",
   "metadata": {},
   "outputs": [
    {
     "name": "stdout",
     "output_type": "stream",
     "text": [
      "[[0.97937684 0.35742619 0.96468531 0.61160123 0.16985022]\n",
      " [0.22060105 0.10530251 0.72383373 0.63110234 0.74803846]\n",
      " [0.26158823 0.37155398 0.49514529 0.15837167 0.09894517]]\n"
     ]
    }
   ],
   "source": [
    "x = np.random.rand(3,5)\n",
    "\n",
    "print(x)"
   ]
  },
  {
   "cell_type": "markdown",
   "id": "e46b617c",
   "metadata": {},
   "source": [
    "Egyenletes eloszlásból is tudunk mintavételezni:"
   ]
  },
  {
   "cell_type": "code",
   "execution_count": 18,
   "id": "329b9c8c",
   "metadata": {},
   "outputs": [
    {
     "data": {
      "text/plain": [
       "array([0.66834323, 0.09639534, 4.53832491, 3.91040773, 0.64140169,\n",
       "       3.42996953, 0.91914744, 2.13883213, 2.16475879, 2.97614893])"
      ]
     },
     "execution_count": 18,
     "metadata": {},
     "output_type": "execute_result"
    }
   ],
   "source": [
    "x = np.random.uniform(low = 0, high = 5, size = 10)\n",
    "x"
   ]
  },
  {
   "cell_type": "markdown",
   "id": "28d1d19f",
   "metadata": {},
   "source": [
    "A `choice` metódussal az általunk megadott tömbből fog véletlenszerűen egy elemet kiválasztani:"
   ]
  },
  {
   "cell_type": "code",
   "execution_count": 19,
   "id": "1981215b",
   "metadata": {},
   "outputs": [
    {
     "name": "stdout",
     "output_type": "stream",
     "text": [
      "3\n"
     ]
    }
   ],
   "source": [
    "x = np.random.choice([3, 5, 7, 9])\n",
    "\n",
    "print(x)"
   ]
  },
  {
   "cell_type": "code",
   "execution_count": 20,
   "id": "f2a6f281",
   "metadata": {},
   "outputs": [
    {
     "name": "stdout",
     "output_type": "stream",
     "text": [
      "[[9 7 7 5 3]\n",
      " [9 5 7 9 5]\n",
      " [5 7 7 7 9]]\n"
     ]
    }
   ],
   "source": [
    "x = np.random.choice([3, 5, 7, 9], size=(3, 5))\n",
    "\n",
    "print(x)"
   ]
  },
  {
   "cell_type": "markdown",
   "id": "bd437d4c",
   "metadata": {},
   "source": [
    "Előírhatjuk azt is, melyiket mekkora valószínűséggel válassza (ezen valószínűségek 0 és 1 közötti számok, az összegük 1 legyen):"
   ]
  },
  {
   "cell_type": "code",
   "execution_count": 21,
   "id": "2ab300c3",
   "metadata": {},
   "outputs": [
    {
     "name": "stdout",
     "output_type": "stream",
     "text": [
      "[5 7 5 5 3 7 3 7 3 7 7 3 5 7 5 7 5 7 7 7 7 7 7 7 5 5 7 5 7 7 5 5 7 3 7 7 5\n",
      " 5 5 7 5 7 5 7 7 7 5 7 7 7 5 5 7 7 7 7 7 7 5 7 5 3 7 7 3 7 7 7 5 7 5 7 7 5\n",
      " 3 3 7 5 7 7 5 5 3 5 7 7 7 7 7 5 3 7 5 7 7 7 3 5 7 7]\n"
     ]
    }
   ],
   "source": [
    "x = np.random.choice([3, 5, 7, 9], p=[0.1, 0.3, 0.6, 0.0], size=(100))\n",
    "\n",
    "print(x)"
   ]
  },
  {
   "cell_type": "markdown",
   "id": "c6d174ef",
   "metadata": {},
   "source": [
    "Szükség lehet a számok sorrendjének véletlenszerű megváltoztatásra is (pl. kártya összekeverésének szimulációja). A `shuffle` megváltoztatja magát a tömböt."
   ]
  },
  {
   "cell_type": "code",
   "execution_count": 22,
   "id": "d574ca97",
   "metadata": {},
   "outputs": [
    {
     "name": "stdout",
     "output_type": "stream",
     "text": [
      "[5 1 4 3 2]\n"
     ]
    }
   ],
   "source": [
    "arr = np.array([1, 2, 3, 4, 5])\n",
    "\n",
    "np.random.shuffle(arr)\n",
    "\n",
    "print(arr)"
   ]
  },
  {
   "cell_type": "markdown",
   "id": "14ae8ad5",
   "metadata": {},
   "source": [
    "A `permutation` visszaadja a kevert tömböt, de az eredetit változatlanul hagyja."
   ]
  },
  {
   "cell_type": "code",
   "execution_count": 23,
   "id": "d4c05d28",
   "metadata": {},
   "outputs": [
    {
     "name": "stdout",
     "output_type": "stream",
     "text": [
      "[2 3 5 4 1]\n"
     ]
    }
   ],
   "source": [
    "arr = np.array([1, 2, 3, 4, 5])\n",
    "\n",
    "print(np.random.permutation(arr))"
   ]
  },
  {
   "cell_type": "code",
   "execution_count": 24,
   "id": "95641163",
   "metadata": {},
   "outputs": [
    {
     "name": "stdout",
     "output_type": "stream",
     "text": [
      "[1 2 3 4 5]\n"
     ]
    }
   ],
   "source": [
    "print(arr)"
   ]
  },
  {
   "cell_type": "markdown",
   "id": "08c72df7",
   "metadata": {},
   "source": [
    "# Lineáris algebrai egyenletrendszerek megoldása\n",
    "\n",
    "Pl. Megoldandó az \\\n",
    "$2x_1 + x_2 + x_3 = 4$\\\n",
    "$x_1 + 3 x_2 + 2x_3 = 6$\\\n",
    "$x_1 + 2 x_2 +2 x_3 = 5$\\\n",
    "lineáris egyenletrendszer. "
   ]
  },
  {
   "cell_type": "code",
   "execution_count": 25,
   "id": "a61c2592",
   "metadata": {},
   "outputs": [
    {
     "data": {
      "text/plain": [
       "array([1., 1., 1.])"
      ]
     },
     "execution_count": 25,
     "metadata": {},
     "output_type": "execute_result"
    }
   ],
   "source": [
    "import numpy as np\n",
    "A = np.array([[2, 1, 1],\n",
    "              [1, 3, 2],\n",
    "              [1, 2, 2]])\n",
    "\n",
    "b = np.array([4,\n",
    "              6,\n",
    "              5])\n",
    "\n",
    "x = np.linalg.solve(A,b)\n",
    "x"
   ]
  },
  {
   "cell_type": "code",
   "execution_count": 26,
   "id": "e695b630",
   "metadata": {},
   "outputs": [
    {
     "data": {
      "text/plain": [
       "array([ True,  True,  True])"
      ]
     },
     "execution_count": 26,
     "metadata": {},
     "output_type": "execute_result"
    }
   ],
   "source": [
    "abs(A @ x - b) < 10e-12"
   ]
  },
  {
   "cell_type": "markdown",
   "id": "ed309e78",
   "metadata": {},
   "source": [
    "## Feladat:\n",
    "Számítsd ki az $A$ mátrix inverzét lineáris egyenletrendszer(ek) megoldásával! Ellenőrizheted a számításaidat az `np.linalg.inv` függvénnyel.\n",
    "\n",
    "Hogyan lehetne egyetlen egyenletrendszer megoldásával megkapni az inverzet?"
   ]
  },
  {
   "cell_type": "code",
   "execution_count": null,
   "id": "ca2b2dae",
   "metadata": {},
   "outputs": [],
   "source": []
  },
  {
   "cell_type": "markdown",
   "id": "f5aa8830",
   "metadata": {},
   "source": [
    "## Feladat:\n",
    "Legyen\n",
    "$$\n",
    "    \\begin{equation}\n",
    "        F =\n",
    "        \\begin{bmatrix}\n",
    "            1 & 1 \\\\\n",
    "            1 & 0\n",
    "        \\end{bmatrix},\\,\n",
    "        u_0 = \n",
    "        \\begin{bmatrix}\n",
    "            1 \\\\\n",
    "            0\n",
    "        \\end{bmatrix}.\n",
    "    \\end{equation}\n",
    "$$\n",
    "Definiáljuk a következő sorozatot:\n",
    "$$\n",
    "\\begin{equation}\n",
    "    u_k = F^ku,\\quad\\forall k\\geq 1.\n",
    "\\end{equation}\n",
    "$$\n",
    "Mi lesz az $u_k$ vektorok második koordinátáiból képzett sorozat?"
   ]
  },
  {
   "cell_type": "code",
   "execution_count": null,
   "id": "155df361",
   "metadata": {},
   "outputs": [],
   "source": []
  },
  {
   "cell_type": "markdown",
   "id": "92bc64ba",
   "metadata": {},
   "source": [
    "## Feladat:\n",
    "a) Legyen $x = \\left(2,3,4,5,6\\right)$ és $m=6$. Készítsd el a Vandermonde-mátrixát!\n",
    "$$\n",
    "\\begin{equation}\n",
    "    V^m_x =\n",
    "    \\begin{bmatrix}\n",
    "        1 & x_1 & x_1^2 & \\dots & x_1^m \\\\\n",
    "        1 & x_2 & x_2^2 & \\dots & x_2^m \\\\\n",
    "        \\vdots & \\vdots & \\ddots & \\vdots \\\\\n",
    "        1 & x_n & x_n^2 & \\dots & x_n^m\n",
    "    \\end{bmatrix}\n",
    "\\end{equation}\n",
    "$$\n",
    "\n"
   ]
  },
  {
   "cell_type": "code",
   "execution_count": null,
   "id": "5739ca61",
   "metadata": {},
   "outputs": [],
   "source": []
  }
 ],
 "metadata": {
  "kernelspec": {
   "display_name": "Python 3 (ipykernel)",
   "language": "python",
   "name": "python3"
  },
  "language_info": {
   "codemirror_mode": {
    "name": "ipython",
    "version": 3
   },
   "file_extension": ".py",
   "mimetype": "text/x-python",
   "name": "python",
   "nbconvert_exporter": "python",
   "pygments_lexer": "ipython3",
   "version": "3.9.13"
  }
 },
 "nbformat": 4,
 "nbformat_minor": 5
}
