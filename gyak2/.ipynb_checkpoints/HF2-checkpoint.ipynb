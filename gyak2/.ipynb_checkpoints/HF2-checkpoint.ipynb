{
 "cells": [
  {
   "cell_type": "markdown",
   "id": "ead7257a",
   "metadata": {},
   "source": [
    "# Házi Feladat\n",
    "Szeretnénk eldönteni három számról, hogy lehetnek-e egy nem elfajult háromszög oldal hosszai. Írjunk egy rövid programot, ami beolvas három lebegőpontos (`float`) számot a standard inputról. Ezek az oldalak hosszai. Ha van olyan nem elfajult háromszög, aminek az oldalhosszai ezek a számok, akkor írjuk ki a kimenetre a háromszög típusát, ha nincs ilyen háromszög, akkor ezt. Lásd a példát. A standard inputon a három szám növekvo sorrendben van.\n",
    "\n",
    "Példák:\n",
    "* Ha a bemenet `3`, `4`, `5`, akkor az elvárt kimenet `\"A megadott hosszak derékszögű háromszöget alkotnak\"`.\n",
    "* Ha a bemenet `3`, `4`, `6`, akkor az elvárt kimenet `\"A megadott hosszak tompaszögű háromszöget alkotnak\"`.\n",
    "* Ha a bemenet `3`, `5`, `5`, akkor az elvárt kimenet `\"A megadott hosszak hegyesszögű háromszöget alkotnak\"`.\n",
    "* Végül, ha a bemenet `1`, `4`, `6`, akkor az elvárt kimenet `\"A megadott hosszak nem alkotnak háromszöget\"`."
   ]
  },
  {
   "cell_type": "code",
   "execution_count": null,
   "id": "d7b6e4ab",
   "metadata": {},
   "outputs": [],
   "source": []
  }
 ],
 "metadata": {
  "kernelspec": {
   "display_name": "Python 3 (ipykernel)",
   "language": "python",
   "name": "python3"
  },
  "language_info": {
   "codemirror_mode": {
    "name": "ipython",
    "version": 3
   },
   "file_extension": ".py",
   "mimetype": "text/x-python",
   "name": "python",
   "nbconvert_exporter": "python",
   "pygments_lexer": "ipython3",
   "version": "3.9.13"
  }
 },
 "nbformat": 4,
 "nbformat_minor": 5
}
