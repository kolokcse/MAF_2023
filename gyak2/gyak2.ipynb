{
 "cells": [
  {
   "cell_type": "markdown",
   "id": "47eac9d2",
   "metadata": {},
   "source": [
    "# 2. gyakorlat"
   ]
  },
  {
   "cell_type": "markdown",
   "id": "194a8e02",
   "metadata": {},
   "source": [
    "## Adminisztráció:\n",
    "\n",
    "**házik leadása:** private Github repora feltöltve, velem megosztva. Minden héten az következő gyakorlat kezdetéig. (Óra végén tiszta lesz hogyan kell gitben dolgozni)\n",
    "\n",
    "**pontok:**\n",
    "\n",
    "- HF-k: minden időben leadott jó házi 1 pont, késve leadott jó házi fél pont. Ha nem jó a házi de látom, hogy foglalkoztál vele akkor lehet javítani az egy pontért, ha időben leadod.\n",
    "\n",
    "- órai munka: az összes feladat megoldása órán, feltöltve Githubra: 0.5 pont\n",
    "\n",
    "**jegy:**\n",
    "- fél pontszám + epsilon -tól 2\n",
    "- teljes pontszám - 1.5 -től 5ös\n",
    "- a többi értelemszerűen egyenletesen elosztva\n",
    "\n",
    "A javítást kihangsúlyoznám! A cél, hogy minél több feladatot jól megoldjatok a félév végére.\n",
    "\n",
    "## Logikai (Boolean) értékek\n",
    "\n",
    "A programozás során gyakran mérlegelnünk kell, hogy egy logikai állítás igaz (True) vagy hamis (False)-e. Gyakran két dolog összehasonlításából áll a logikai állítás, ilyenkor az ==, >, <, >=, <= összehasonlító operátorok szerepelhetnek benne. Fontos, hogy az egyenlőségjelet itt megkettőzve használjuk. Ennek tagadása, a nem egyenlő: !=. Egy logikai állítás pl., hogy 3 < 10. Ezt begépelve a gép megvizsgálja, hogy igaz-e az állítás, és ha igen, akkor válaszul True, ha nem, akkor False értéket ad."
   ]
  },
  {
   "cell_type": "markdown",
   "id": "00bdf988",
   "metadata": {},
   "source": [
    "# 2. gyakorlat"
   ]
  },
  {
   "cell_type": "markdown",
   "id": "3dbeb2bb",
   "metadata": {},
   "source": [
    "## Összehasonlító operátorok\n",
    "A az összehasonlító operátorok a középiskolai relációsjeleknek felelnek meg numerikus adatok esetén:\n",
    "* $<$ : `<`\n",
    "* $\\leq$ : `<=`\n",
    "* $=$ : `==`\n",
    "* $\\geq$ : `>=`\n",
    "* $>$ : `>`\n",
    "\n",
    "Ezeknek az a különlegessége, hogy egy logikai értékkel _térnek vissza_. Vagyis az `1 >= 2` a `False` logikai értékre értékelődik ki. Ez a logikai érték eltárolható egy változóban is."
   ]
  },
  {
   "cell_type": "code",
   "execution_count": null,
   "id": "afc0304f",
   "metadata": {
    "scrolled": true
   },
   "outputs": [],
   "source": [
    "n = 3\n",
    "paros = (n % 2 == 0)\n",
    "paros"
   ]
  },
  {
   "cell_type": "markdown",
   "id": "cfb55685",
   "metadata": {},
   "source": [
    "Az összehasolító operátorokhoz tartozik még:\n",
    "* $\\neq$ : `!=`\n",
    "* $\\in$ : `in` (tartalmazás)"
   ]
  },
  {
   "cell_type": "code",
   "execution_count": null,
   "id": "5002eea1",
   "metadata": {},
   "outputs": [],
   "source": [
    "print(4 != 4, 4 != 5)"
   ]
  },
  {
   "cell_type": "code",
   "execution_count": null,
   "id": "a09367a4",
   "metadata": {},
   "outputs": [],
   "source": [
    "a = \"a\"\n",
    "e = \"e\"\n",
    "s = \"kakoscsiga\"\n",
    "print(a in s)\n",
    "print(e in s)"
   ]
  },
  {
   "cell_type": "markdown",
   "id": "d4da15ac",
   "metadata": {},
   "source": [
    "Sztringeknél is van értelme ilyen összehasonlításnak:"
   ]
  },
  {
   "cell_type": "code",
   "execution_count": null,
   "id": "0cff721b",
   "metadata": {},
   "outputs": [],
   "source": [
    "'a' == 'A'"
   ]
  },
  {
   "cell_type": "markdown",
   "id": "feba925f",
   "metadata": {},
   "source": [
    "### Összehasonlítások össze*láncolása*\n",
    "A különböző összehasonlító operátorok egymás után is fűzhetők az alábbi módon:\n",
    "```\n",
    "a < b < c\n",
    "```\n",
    "A kifejezés akkor értékelődik ki igazra, ha `a < b` **ÉS** `b < c`. Fontos, hogy ekkor az, hogy `a < c` nem értékelődik ki."
   ]
  },
  {
   "cell_type": "code",
   "execution_count": null,
   "id": "3c07db6b",
   "metadata": {},
   "outputs": [],
   "source": [
    "a = 3\n",
    "b = 5\n",
    "c = 4\n",
    "print(a < b < c)\n",
    "print(a < b > c)"
   ]
  },
  {
   "cell_type": "markdown",
   "id": "8e04bb16",
   "metadata": {},
   "source": [
    "## Logikai értékek II.\n",
    "Nemcsak logikai állításoknak van True vagy False értékük, hanem minden változónak. Erről meggyőződhetünk, ha az adott változót a bool függvénnyel átkonvertáljuk Boolean-ba:"
   ]
  },
  {
   "cell_type": "code",
   "execution_count": null,
   "id": "b19a0463",
   "metadata": {},
   "outputs": [],
   "source": [
    "bool(0)"
   ]
  },
  {
   "cell_type": "code",
   "execution_count": null,
   "id": "113962a2",
   "metadata": {},
   "outputs": [],
   "source": [
    "bool(12)"
   ]
  },
  {
   "cell_type": "code",
   "execution_count": null,
   "id": "a1280546",
   "metadata": {},
   "outputs": [],
   "source": [
    "bool(-1)"
   ]
  },
  {
   "cell_type": "markdown",
   "id": "d79060cc",
   "metadata": {},
   "source": [
    "False értéke van a 0 ill 0.0 számnak, magának a False-nak, továbbá az üres adatszerkezeteknek, pl. létezik üres lista (lásd később) [], ennek is False az értéke. Minden más True. A 'False' sztring értéke True, mert ez egy nem üres sztring, de a \"\" üres sztring már False lesz."
   ]
  },
  {
   "cell_type": "code",
   "execution_count": null,
   "id": "e5531f86",
   "metadata": {},
   "outputs": [],
   "source": [
    "bool('False')"
   ]
  },
  {
   "cell_type": "code",
   "execution_count": null,
   "id": "d63979fd",
   "metadata": {},
   "outputs": [],
   "source": [
    "bool(\"\")"
   ]
  },
  {
   "cell_type": "code",
   "execution_count": null,
   "id": "e9932367",
   "metadata": {},
   "outputs": [],
   "source": [
    "bool([])"
   ]
  },
  {
   "cell_type": "markdown",
   "id": "3bd8216e",
   "metadata": {},
   "source": [
    "Hasonlóan, logikai értékeket is tudunk számként értelmezni:"
   ]
  },
  {
   "cell_type": "code",
   "execution_count": null,
   "id": "4750515b",
   "metadata": {},
   "outputs": [],
   "source": [
    "int(True)"
   ]
  },
  {
   "cell_type": "code",
   "execution_count": null,
   "id": "c2242cbc",
   "metadata": {},
   "outputs": [],
   "source": [
    "int(False)"
   ]
  },
  {
   "cell_type": "code",
   "execution_count": null,
   "id": "a95ad64d",
   "metadata": {},
   "outputs": [],
   "source": [
    "3 *(True) + 5 *(False)"
   ]
  },
  {
   "cell_type": "code",
   "execution_count": null,
   "id": "30dab4fe",
   "metadata": {},
   "outputs": [],
   "source": [
    "sum([True,False,False,True,True])"
   ]
  },
  {
   "cell_type": "markdown",
   "id": "f1b30264",
   "metadata": {},
   "source": [
    "# Elágazások: `if` - `elif` - `else`\n",
    "\n",
    "Programjainkban gyakran valamilyen feltételtől vagy feltételektől függően kell különféle parancsokat vagy számításokat végrehajtatnunk a számítógéppel.\n",
    "\n",
    "Ennek legegyszerűbb esete az, amikor egy feltétel teljesülése esetén szeretnénk végrehajtani egy parancsot vagy parancssort (csak egy ág van). A feltétel (condition) valamilyen logikai állítás, amelynek True vagy False az értéke. Szintaktikája:\n",
    "```python\n",
    "if condition:\n",
    "    do_something\n",
    "```"
   ]
  },
  {
   "cell_type": "markdown",
   "id": "4ac502ae",
   "metadata": {},
   "source": [
    "Ez tehát úgy értendő, hogy: ha a 'condition' szerinti feltétel teljesül, akkor hajtsa végre a kettőspont utáni sorban (általában 4 hellyel) beljebb kezdett blokkot (ez több sorból is állhat). Sem a kettőspont, sem a beljebb kezdés nem maradhat el! \n",
    "\n",
    "Pl. 1) Ha kor > 65, írassuk ki a képernyőre: A belépés ingyenes!"
   ]
  },
  {
   "cell_type": "code",
   "execution_count": null,
   "id": "ec8cfa9b",
   "metadata": {},
   "outputs": [],
   "source": [
    "kor = 70\n",
    "if kor > 65:\n",
    "    print('A belépés ingyenes!')"
   ]
  },
  {
   "cell_type": "code",
   "execution_count": null,
   "id": "981fd442",
   "metadata": {},
   "outputs": [],
   "source": [
    "kor = 26\n",
    "if kor > 65:\n",
    "    print('A belépés ingyenes!')"
   ]
  },
  {
   "cell_type": "markdown",
   "id": "b9977e45",
   "metadata": {},
   "source": [
    "A második esetben nem teljesült az if utáni feltétel, így nem történt semmi."
   ]
  },
  {
   "cell_type": "markdown",
   "id": "f3b53aee",
   "metadata": {},
   "source": [
    "### Kétirányú elágazás:\n",
    "\n",
    "Ezt akkor használjuk, ha az adott feltétel teljesülése ill. nem teljesülése esetén is szeretnénk valamit végrehajtatni. Azaz: ha a 'condition' szerinti feltétel teljesül, ezt, ha pedig nem teljesül akkor azt szeretnénk elvégeztetni.\n",
    "```python\n",
    "if condition:\n",
    "    do_something1\n",
    "else:\n",
    "    do_something2\n",
    "```"
   ]
  },
  {
   "cell_type": "markdown",
   "id": "d9728b63",
   "metadata": {},
   "source": [
    "Pl. 2) Ha n osztható 2-vel, akkor írja ki a gép, hogy \"n páros\", ha pedig nem akkor azt, hogy \"n páratlan\":"
   ]
  },
  {
   "cell_type": "code",
   "execution_count": null,
   "id": "91730940",
   "metadata": {},
   "outputs": [],
   "source": [
    "n = 7\n",
    "if n % 2 == 0:\n",
    "    print('n páros')\n",
    "else:\n",
    "    print('n páratlan')"
   ]
  },
  {
   "cell_type": "code",
   "execution_count": null,
   "id": "cd1ff27e",
   "metadata": {},
   "outputs": [],
   "source": [
    "n = 8\n",
    "if n % 2 == 0:\n",
    "    print('n páros')\n",
    "else:\n",
    "    print('n páratlan')"
   ]
  },
  {
   "cell_type": "markdown",
   "id": "18a18de2",
   "metadata": {},
   "source": [
    "Hogy lehet még rövidebben megoldani? Értelmezzük az alábbi kódot:"
   ]
  },
  {
   "cell_type": "code",
   "execution_count": null,
   "id": "e992e04b",
   "metadata": {},
   "outputs": [],
   "source": [
    "if n % 2:\n",
    "    print('n páratlan')\n",
    "else:\n",
    "    print('n páros')"
   ]
  },
  {
   "cell_type": "markdown",
   "id": "db1d6085",
   "metadata": {},
   "source": [
    "### Elágazások egymásba ágyazása:\n",
    "Egy elágazás valamelyik ágára kerülhet a `do_something` helyére akár egy másik elágazás is:\n",
    "```python\n",
    "if condition0:\n",
    "    do_something0\n",
    "else:\n",
    "    if condition1:\n",
    "        do_something1\n",
    "    else:\n",
    "        do_something2\n",
    "```"
   ]
  },
  {
   "cell_type": "code",
   "execution_count": null,
   "id": "3bab4b10",
   "metadata": {},
   "outputs": [],
   "source": [
    "a = 142\n",
    "if a % 2 == 1:\n",
    "    print(f\"{a} páratlan\")\n",
    "else:\n",
    "    if a % 3 != 0:\n",
    "        print(f\"{a} páros, de nem osztható hárommal\")\n",
    "    else:\n",
    "        print(f\"{a} osztható 6-tal\")"
   ]
  },
  {
   "cell_type": "markdown",
   "id": "88049881",
   "metadata": {},
   "source": [
    "## Feladatok"
   ]
  },
  {
   "cell_type": "markdown",
   "id": "644a8b09",
   "metadata": {},
   "source": [
    "Kérjük be a kort. Ha `kor` > 65, írassuk ki, hogy 'A belépés ingyenes.', egyébként pedig azt, hogy 'A belépőjegy ára 1000 Ft.'"
   ]
  },
  {
   "cell_type": "code",
   "execution_count": null,
   "id": "12077ed4",
   "metadata": {},
   "outputs": [],
   "source": []
  },
  {
   "cell_type": "markdown",
   "id": "02263bce",
   "metadata": {},
   "source": [
    "Határozzuk meg két szám maximumát!"
   ]
  },
  {
   "cell_type": "code",
   "execution_count": null,
   "id": "86c84100",
   "metadata": {},
   "outputs": [],
   "source": []
  },
  {
   "cell_type": "markdown",
   "id": "41743594",
   "metadata": {},
   "source": [
    "Hogy határoznád meg két szám maximumát elágazás nélkül? És három számot (mind különböző) hogyan raknál sorba elágazás nélkül? És elágazással?"
   ]
  },
  {
   "cell_type": "code",
   "execution_count": null,
   "id": "360df37b",
   "metadata": {},
   "outputs": [],
   "source": [
    "a,b,c = 1,2,3"
   ]
  },
  {
   "cell_type": "code",
   "execution_count": null,
   "id": "7a8abe59",
   "metadata": {},
   "outputs": [],
   "source": [
    "M = a*(b<a>c) + b * (a<b>c) + c * (a<c>b)\n",
    "m = a*(b>a<c) + b * (a>b<c) + c * (a>c<b)\n",
    "mid = a*(M>a>m) + b*(M>b>m) + c*(M>c>m)\n",
    "\n",
    "print(m,mid, M)"
   ]
  },
  {
   "cell_type": "code",
   "execution_count": null,
   "id": "4ffc22ab",
   "metadata": {},
   "outputs": [],
   "source": [
    "if a <b:\n",
    "    if a<c:\n",
    "        m=a\n",
    "        if b<c:\n",
    "            mid=b\n",
    "            M=c\n",
    "        else:\n",
    "            mid=c\n",
    "            M=b\n",
    "    else:\n",
    "        M=b\n",
    "        mid=a\n",
    "        m=c\n",
    "else:\n",
    "    if b<c:\n",
    "        m=b\n",
    "        if a<c:\n",
    "            mid=a\n",
    "            M=c\n",
    "        else:\n",
    "            mid=c\n",
    "            M=a\n",
    "    else:\n",
    "        M=a\n",
    "        mid=b\n",
    "        m=c\n",
    "print(m,mid,M)"
   ]
  },
  {
   "cell_type": "markdown",
   "id": "9582d2ff",
   "metadata": {},
   "source": [
    "(amúgy sort függvény helyben rendez)"
   ]
  },
  {
   "cell_type": "code",
   "execution_count": null,
   "id": "0dcb84cf",
   "metadata": {},
   "outputs": [],
   "source": [
    "l=[b,a,c]\n",
    "l.sort()"
   ]
  },
  {
   "cell_type": "code",
   "execution_count": null,
   "id": "ee408da9",
   "metadata": {},
   "outputs": [],
   "source": [
    "l"
   ]
  },
  {
   "cell_type": "markdown",
   "id": "3391d8ab",
   "metadata": {},
   "source": [
    "### Többirányú elágazás:\n",
    "\n",
    "Ilyet használunk, ha különböző feltételek teljesülése esetén más és más utasításokat szeretnénk végrehajtatni. Szintaktitkája:"
   ]
  },
  {
   "cell_type": "markdown",
   "id": "dfb5af70",
   "metadata": {},
   "source": [
    "```python \n",
    "if condition1:\n",
    "    do_something1\n",
    "elif condition2:\n",
    "    do_something2\n",
    "elif condition3:\n",
    "    do_something3\n",
    "else:\n",
    "    do_something\n",
    "```"
   ]
  },
  {
   "cell_type": "markdown",
   "id": "b1c33a11",
   "metadata": {},
   "source": [
    "### Feladatok:\n",
    "Határozzuk meg egy szám előjelét! (Ha x < 0, akkor legyen -1, ha x = 0, akkor 0, egyébként +1). Próbáljuk ki három különböző előjelű x számra. "
   ]
  },
  {
   "cell_type": "code",
   "execution_count": null,
   "id": "f434a032",
   "metadata": {},
   "outputs": [],
   "source": []
  },
  {
   "cell_type": "markdown",
   "id": "ce056507",
   "metadata": {},
   "source": [
    "Ez a feladat megoldható beágyazott elágazással is (amikor egy ágon belül is van if-es elágazás), igaz, ez kevésbé átlátható:"
   ]
  },
  {
   "cell_type": "code",
   "execution_count": null,
   "id": "8c6e147e",
   "metadata": {},
   "outputs": [],
   "source": []
  },
  {
   "cell_type": "markdown",
   "id": "60a1c227",
   "metadata": {},
   "source": [
    "### Logikai operátorok\n",
    "\n",
    "Van, amikor összetett feltételt akarunk megadni. Két feltételt összekapcsolhatunk az és (and) és vagy (or) operátorral. Egy feltétel ellentéte a not operátorral fejezhető ki. Ezen műveletek precedenciája: not > and > or\n",
    "\n",
    "Pl. Tegyük fel, hogy a belépőjegy nemcsak 65 év felett, hanem 6 év alatt is ingyenes. Ekkor írhatjuk a következők valamelyikét:"
   ]
  },
  {
   "cell_type": "code",
   "execution_count": null,
   "id": "dd160440",
   "metadata": {},
   "outputs": [],
   "source": [
    "if kor > 65 or kor < 6:\n",
    "    print('A belépés ingyenes.')"
   ]
  },
  {
   "cell_type": "code",
   "execution_count": null,
   "id": "debfbda8",
   "metadata": {},
   "outputs": [],
   "source": [
    "if not (kor >= 6 and kor <= 65):\n",
    "    print('A belépés ingyenes.')"
   ]
  },
  {
   "cell_type": "markdown",
   "id": "72133399",
   "metadata": {},
   "source": [
    "Próbáljuk ki ezeket úgy, hogy a kor értékét a billentyűzetról kérjük be a felhasználótól. Erre az input parancs szolgál:"
   ]
  },
  {
   "cell_type": "code",
   "execution_count": null,
   "id": "20c0b259",
   "metadata": {},
   "outputs": [],
   "source": [
    "kor = input('Hány éves vagy?')"
   ]
  },
  {
   "cell_type": "markdown",
   "id": "95387e75",
   "metadata": {},
   "source": [
    "Ez a felhasználó által begépelt karakterek sorát mindig sztringként értelmezi, ezért még egész számmá is kell konvertálnunk, melőtt 65-tel vagy 6-tal összehasonlítanánk!"
   ]
  },
  {
   "cell_type": "code",
   "execution_count": null,
   "id": "908e812a",
   "metadata": {},
   "outputs": [],
   "source": [
    "kor = int(input('Hány éves vagy?'))\n",
    "if kor > 65 or kor < 6:\n",
    "    print('A belépés ingyenes.')"
   ]
  },
  {
   "cell_type": "markdown",
   "id": "6316024b",
   "metadata": {},
   "source": [
    "## Feladatok:\n",
    "\n",
    "1) Legyenek a hét napjai 0-tól 6-ig számozva, a 0 a hétfő, a 6 a vasárnap. Készítsünk kódot, amely bekér egy számot 0-tól 6-ig, és kiírja a nap nevét. "
   ]
  },
  {
   "cell_type": "code",
   "execution_count": null,
   "id": "1aff872b",
   "metadata": {},
   "outputs": [],
   "source": []
  },
  {
   "cell_type": "markdown",
   "id": "f44582c0",
   "metadata": {},
   "source": [
    "2) Döntsük el egy háromszög a < b < c oldalhossza alapján, hogy a háromszög derékszögű-e."
   ]
  },
  {
   "cell_type": "code",
   "execution_count": null,
   "id": "51e553c0",
   "metadata": {},
   "outputs": [],
   "source": []
  },
  {
   "cell_type": "markdown",
   "id": "b69e70eb",
   "metadata": {},
   "source": [
    "## A for ciklus\n",
    "\n",
    "Jelöljön iter egy iterálható objektumot (pl. sztringet). A for ciklus sémája a következő:\n",
    "```python\n",
    "for i in iterable:\n",
    "    do_something\n",
    "```"
   ]
  },
  {
   "cell_type": "code",
   "execution_count": null,
   "id": "018382cd",
   "metadata": {},
   "outputs": [],
   "source": []
  },
  {
   "cell_type": "markdown",
   "id": "e2b5eaba",
   "metadata": {},
   "source": [
    "## Feladatok 0.5 pontért:\n",
    "\n",
    "1) A következő kód egy 200 hosszú random DNS stringet generál neked. A feladatod, hogy előállítsd a hozzá tartozó mRNS láncot, ami azt jelenti hogy a DNS láncban 'A' helyére 'U', a 'T' helyére 'A', 'G' helyére 'C' és a 'C' helyére 'G' kerül. Ha tudsz használj hozzá függvényt (előadás)! Hogyan lehetne kezelni a hibás DNS-eket? Adj erre is egy megoldást."
   ]
  },
  {
   "cell_type": "code",
   "execution_count": null,
   "id": "8cda1f95",
   "metadata": {},
   "outputs": [],
   "source": [
    "import numpy as np\n",
    "\n",
    "l=['A','T','C','G']\n",
    "\n",
    "DNS = ''.join(np.random.choice(l,size=200))"
   ]
  },
  {
   "cell_type": "markdown",
   "id": "82778ed7",
   "metadata": {},
   "source": [
    "2) Készíts statisztikát a betűk gyakoriasságáról a DNS_2-ben! Mi a relatív gyakorisága a betűknek?"
   ]
  },
  {
   "cell_type": "code",
   "execution_count": null,
   "id": "fac4109b",
   "metadata": {},
   "outputs": [],
   "source": [
    "DNS_2=\"\"\"TCAAAATCCCTCCTGCGGCATCCTCCTTCACACCCTCCCACACTATCTACCCCCCCCATTCCCAA\n",
    "    CTACCAGTTTACCATCAATGCGTCTTTCCGCCCTCATCATATCCGCCTGATTTATTATACCATACATTGG\n",
    "    GTTCGCCTCCGAATTTACCTGTCCTGCATTCTTATGGCCGTCCGCACCTTCCGCTACTCCTCCTCACCTG\n",
    "    AGTTACATTACCCCTAGTGACACTTGTTCCCTACCACCTGATTTCGACCCCCTAACCATTTATTTGTAAG\n",
    "    TGGGCAATCACCACATCCACGTTACCTATCTCCATACAACATTCCCACCCTACTCTACCTTCCAAGCCGG\n",
    "    TCCACTATCTTTCCCATGCCCCCTACCATGCACGCCTCCCTTACGCCTTCACATCTGACACTTCCACCTA\n",
    "    TAACCTTTTATCCCCTGTACCAGTCAGGTTGGCTTATGTTCTGTCTATTTGCTCCTTCTTGCCTTTCGTT\n",
    "    CATTCGCCTTCTCTCACTTCATCCCCCCCTCTTGCCCTCACATTTTCACTCTCTCACTAACCTTAGTCCA\n",
    "    TTACATAAACCAAGCCCAGTTCCATATATGTAACCTCCCCACCCAACCCCTTCAAGATTATCCCTCCAAT\n",
    "    TCGTCTAACTGCTCCCTCCCATCCGGAAACTATCCTTACCGTCGGTCTACACCCAGCTATCTAGCTCTCC\n",
    "    GACCCATTACTTTCCGCGCTTCTACACATTCTAATCTAACCCTTCACGAACCGTCCCCACCCACACAATC\n",
    "    AGCAAATCTTCTATTAATCCCCAGTTTATATGTGAACTCGTCCTCTGTGTTGCCCTCCTTGCCCCCAATT\n",
    "    TTGTCTCCACATCTTACCCTACCAACCAAGCTAACGCTTGGACCTTCCCGACCTCACCTCCGGTCGCCCC\n",
    "    GTCTCCTTCGCTCCCACACGTCTGACCACCTCACCTTAATTACCCTTTCCGTCCCCCATCTGCACCACAA\n",
    "    CCTCTCGCACTACCCGATACCCACT\"\"\""
   ]
  },
  {
   "cell_type": "code",
   "execution_count": null,
   "id": "e5dbfdfd",
   "metadata": {},
   "outputs": [],
   "source": []
  },
  {
   "cell_type": "markdown",
   "id": "62456150",
   "metadata": {},
   "source": [
    "## GitHub"
   ]
  },
  {
   "cell_type": "markdown",
   "id": "0197d79e",
   "metadata": {},
   "source": [
    "**Linux**: \n",
    "\n",
    "- install: `apt-get install git` vagy `conda install -c anaconda git`\n",
    "- git repo létrehozása: \n",
    "    - parancssor cd a mappához majd: \n",
    "    - `git --version`\n",
    "    - `git init`\n",
    "    - `git status`\n",
    "    - `git add .`\n",
    "    - `git commit -m \"firs commit\"`\n",
    "    - `git branch -M master`\n",
    "    - hozz létre egy új repot a giten vmilyen névvel PL: MAF_2023\n",
    "    - `git remote add origin https://github.com/gituser/MAF_2023.git`\n",
    "    - `git push -u origin master`\n",
    "- állítsd priváttá! És adj engem (git username: kolokcse) hozzá mint contributor! Küldd el a linket emailben!"
   ]
  },
  {
   "cell_type": "code",
   "execution_count": null,
   "id": "dd0aa66f",
   "metadata": {},
   "outputs": [],
   "source": []
  }
 ],
 "metadata": {
  "kernelspec": {
   "display_name": "Python 3 (ipykernel)",
   "language": "python",
   "name": "python3"
  },
  "language_info": {
   "codemirror_mode": {
    "name": "ipython",
    "version": 3
   },
   "file_extension": ".py",
   "mimetype": "text/x-python",
   "name": "python",
   "nbconvert_exporter": "python",
   "pygments_lexer": "ipython3",
   "version": "3.9.13"
  }
 },
 "nbformat": 4,
 "nbformat_minor": 5
}
