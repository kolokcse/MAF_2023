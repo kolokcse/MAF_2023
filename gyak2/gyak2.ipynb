{
 "cells": [
  {
   "cell_type": "markdown",
   "id": "47eac9d2",
   "metadata": {},
   "source": [
    "# 2. gyakorlat"
   ]
  },
  {
   "cell_type": "markdown",
   "id": "7b8c5ca7",
   "metadata": {},
   "source": [
    "## Adminisztráció:\n",
    "\n",
    "**házik leadása:** private Github repora feltöltve, velem megosztva. Minden héten az következő gyakorlat kezdetéig. (Óra végén tiszta lesz hogyan kell gitben dolgozni)\n",
    "\n",
    "**pontok:**\n",
    "\n",
    "- HF-k: minden időben leadott jó házi 1 pont, késve leadott jó házi fél pont. Ha nem jó a házi de látom, hogy foglalkoztál vele akkor lehet javítani az egy pontért, ha időben leadod.\n",
    "\n",
    "- órai munka: az összes feladat megoldása órán, feltöltve Githubra: 0.5 pont\n",
    "\n",
    "**jegy:**\n",
    "- fél pontszám + epsilon -tól 2\n",
    "- teljes pontszám - 1.5 -től 5ös\n",
    "- a többi értelemszerűen egyenletesen elosztva\n",
    "\n",
    "A javítást kihangsúlyoznám! A cél, hogy minél több feladatot jól megoldjatok a félév végére.\n",
    "\n",
    "## Logikai (Boolean) értékek\n",
    "\n",
    "A programozás során gyakran mérlegelnünk kell, hogy egy logikai állítás igaz (True) vagy hamis (False)-e. Gyakran két dolog összehasonlításából áll a logikai állítás, ilyenkor az ==, >, <, >=, <= összehasonlító operátorok szerepelhetnek benne. Fontos, hogy az egyenlőségjelet itt megkettőzve használjuk. Ennek tagadása, a nem egyenlő: !=. Egy logikai állítás pl., hogy 3 < 10. Ezt begépelve a gép megvizsgálja, hogy igaz-e az állítás, és ha igen, akkor válaszul True, ha nem, akkor False értéket ad."
   ]
  },
  {
   "cell_type": "markdown",
   "id": "00bdf988",
   "metadata": {},
   "source": [
    "# 2. gyakorlat"
   ]
  },
  {
   "cell_type": "markdown",
   "id": "3dbeb2bb",
   "metadata": {},
   "source": [
    "## Összehasonlító operátorok\n",
    "A az összehasonlító operátorok a középiskolai relációsjeleknek felelnek meg numerikus adatok esetén:\n",
    "* $<$ : `<`\n",
    "* $\\leq$ : `<=`\n",
    "* $=$ : `==`\n",
    "* $\\geq$ : `>=`\n",
    "* $>$ : `>`\n",
    "\n",
    "Ezeknek az a különlegessége, hogy egy logikai értékkel _térnek vissza_. Vagyis az `1 >= 2` a `False` logikai értékre értékelődik ki. Ez a logikai érték eltárolható egy változóban is."
   ]
  },
  {
   "cell_type": "code",
   "execution_count": 1,
   "id": "afc0304f",
   "metadata": {
    "scrolled": true
   },
   "outputs": [
    {
     "data": {
      "text/plain": [
       "False"
      ]
     },
     "execution_count": 1,
     "metadata": {},
     "output_type": "execute_result"
    }
   ],
   "source": [
    "n = 3\n",
    "paros = (n % 2 == 0)\n",
    "paros"
   ]
  },
  {
   "cell_type": "markdown",
   "id": "cfb55685",
   "metadata": {},
   "source": [
    "Az összehasolító operátorokhoz tartozik még:\n",
    "* $\\neq$ : `!=`\n",
    "* $\\in$ : `in` (tartalmazás)"
   ]
  },
  {
   "cell_type": "code",
   "execution_count": 2,
   "id": "5002eea1",
   "metadata": {},
   "outputs": [
    {
     "name": "stdout",
     "output_type": "stream",
     "text": [
      "False True\n"
     ]
    }
   ],
   "source": [
    "print(4 != 4, 4 != 5)"
   ]
  },
  {
   "cell_type": "code",
   "execution_count": 4,
   "id": "a09367a4",
   "metadata": {},
   "outputs": [
    {
     "name": "stdout",
     "output_type": "stream",
     "text": [
      "True\n",
      "False\n"
     ]
    }
   ],
   "source": [
    "a = \"a\"\n",
    "e = \"e\"\n",
    "s = \"kakoscsiga\"\n",
    "s=['a','s']\n",
    "print(a in s)\n",
    "print(e in s)"
   ]
  },
  {
   "cell_type": "markdown",
   "id": "d4da15ac",
   "metadata": {},
   "source": [
    "Sztringeknél is van értelme ilyen összehasonlításnak:"
   ]
  },
  {
   "cell_type": "code",
   "execution_count": 5,
   "id": "0cff721b",
   "metadata": {},
   "outputs": [
    {
     "data": {
      "text/plain": [
       "False"
      ]
     },
     "execution_count": 5,
     "metadata": {},
     "output_type": "execute_result"
    }
   ],
   "source": [
    "'a' == 'A'"
   ]
  },
  {
   "cell_type": "markdown",
   "id": "feba925f",
   "metadata": {},
   "source": [
    "### Összehasonlítások össze*láncolása*\n",
    "A különböző összehasonlító operátorok egymás után is fűzhetők az alábbi módon:\n",
    "```\n",
    "a < b < c\n",
    "```\n",
    "A kifejezés akkor értékelődik ki igazra, ha `a < b` **ÉS** `b < c`. Fontos, hogy ekkor az, hogy `a < c` nem értékelődik ki."
   ]
  },
  {
   "cell_type": "code",
   "execution_count": 6,
   "id": "3c07db6b",
   "metadata": {},
   "outputs": [
    {
     "name": "stdout",
     "output_type": "stream",
     "text": [
      "False\n",
      "True\n"
     ]
    }
   ],
   "source": [
    "a = 3\n",
    "b = 5\n",
    "c = 4\n",
    "print(a < b < c)\n",
    "print(a < b > c)"
   ]
  },
  {
   "cell_type": "markdown",
   "id": "8e04bb16",
   "metadata": {},
   "source": [
    "## Logikai értékek II.\n",
    "Nemcsak logikai állításoknak van True vagy False értékük, hanem minden változónak. Erről meggyőződhetünk, ha az adott változót a bool függvénnyel átkonvertáljuk Boolean-ba:"
   ]
  },
  {
   "cell_type": "code",
   "execution_count": 7,
   "id": "b19a0463",
   "metadata": {},
   "outputs": [
    {
     "data": {
      "text/plain": [
       "False"
      ]
     },
     "execution_count": 7,
     "metadata": {},
     "output_type": "execute_result"
    }
   ],
   "source": [
    "bool(0)"
   ]
  },
  {
   "cell_type": "code",
   "execution_count": 8,
   "id": "113962a2",
   "metadata": {},
   "outputs": [
    {
     "data": {
      "text/plain": [
       "True"
      ]
     },
     "execution_count": 8,
     "metadata": {},
     "output_type": "execute_result"
    }
   ],
   "source": [
    "bool(12)"
   ]
  },
  {
   "cell_type": "code",
   "execution_count": 9,
   "id": "a1280546",
   "metadata": {},
   "outputs": [
    {
     "data": {
      "text/plain": [
       "True"
      ]
     },
     "execution_count": 9,
     "metadata": {},
     "output_type": "execute_result"
    }
   ],
   "source": [
    "bool(-1)"
   ]
  },
  {
   "cell_type": "markdown",
   "id": "d79060cc",
   "metadata": {},
   "source": [
    "False értéke van a 0 ill 0.0 számnak, magának a False-nak, továbbá az üres adatszerkezeteknek, pl. létezik üres lista (lásd később) [], ennek is False az értéke. Minden más True. A 'False' sztring értéke True, mert ez egy nem üres sztring, de a \"\" üres sztring már False lesz."
   ]
  },
  {
   "cell_type": "code",
   "execution_count": 10,
   "id": "e5531f86",
   "metadata": {},
   "outputs": [
    {
     "data": {
      "text/plain": [
       "True"
      ]
     },
     "execution_count": 10,
     "metadata": {},
     "output_type": "execute_result"
    }
   ],
   "source": [
    "bool('False')"
   ]
  },
  {
   "cell_type": "code",
   "execution_count": 11,
   "id": "d63979fd",
   "metadata": {},
   "outputs": [
    {
     "data": {
      "text/plain": [
       "False"
      ]
     },
     "execution_count": 11,
     "metadata": {},
     "output_type": "execute_result"
    }
   ],
   "source": [
    "bool(\"\")"
   ]
  },
  {
   "cell_type": "code",
   "execution_count": 12,
   "id": "a82e862a",
   "metadata": {},
   "outputs": [
    {
     "data": {
      "text/plain": [
       "False"
      ]
     },
     "execution_count": 12,
     "metadata": {},
     "output_type": "execute_result"
    }
   ],
   "source": [
    "bool([])"
   ]
  },
  {
   "cell_type": "markdown",
   "id": "3bd8216e",
   "metadata": {},
   "source": [
    "Hasonlóan, logikai értékeket is tudunk számként értelmezni:"
   ]
  },
  {
   "cell_type": "code",
   "execution_count": 13,
   "id": "4750515b",
   "metadata": {},
   "outputs": [
    {
     "data": {
      "text/plain": [
       "1"
      ]
     },
     "execution_count": 13,
     "metadata": {},
     "output_type": "execute_result"
    }
   ],
   "source": [
    "int(True)"
   ]
  },
  {
   "cell_type": "code",
   "execution_count": 14,
   "id": "c2242cbc",
   "metadata": {},
   "outputs": [
    {
     "data": {
      "text/plain": [
       "0"
      ]
     },
     "execution_count": 14,
     "metadata": {},
     "output_type": "execute_result"
    }
   ],
   "source": [
    "int(False)"
   ]
  },
  {
   "cell_type": "code",
   "execution_count": 15,
   "id": "b433d15d",
   "metadata": {},
   "outputs": [
    {
     "data": {
      "text/plain": [
       "3"
      ]
     },
     "execution_count": 15,
     "metadata": {},
     "output_type": "execute_result"
    }
   ],
   "source": [
    "3 *(True) + 5 *(False)"
   ]
  },
  {
   "cell_type": "code",
   "execution_count": 16,
   "id": "b14a63eb",
   "metadata": {},
   "outputs": [
    {
     "data": {
      "text/plain": [
       "3"
      ]
     },
     "execution_count": 16,
     "metadata": {},
     "output_type": "execute_result"
    }
   ],
   "source": [
    "sum([True,False,False,True,True])"
   ]
  },
  {
   "cell_type": "markdown",
   "id": "f1b30264",
   "metadata": {},
   "source": [
    "# Elágazások: `if` - `elif` - `else`\n",
    "\n",
    "Programjainkban gyakran valamilyen feltételtől vagy feltételektől függően kell különféle parancsokat vagy számításokat végrehajtatnunk a számítógéppel.\n",
    "\n",
    "Ennek legegyszerűbb esete az, amikor egy feltétel teljesülése esetén szeretnénk végrehajtani egy parancsot vagy parancssort (csak egy ág van). A feltétel (condition) valamilyen logikai állítás, amelynek True vagy False az értéke. Szintaktikája:\n",
    "```python\n",
    "if condition:\n",
    "    do_something\n",
    "```"
   ]
  },
  {
   "cell_type": "markdown",
   "id": "4ac502ae",
   "metadata": {},
   "source": [
    "Ez tehát úgy értendő, hogy: ha a 'condition' szerinti feltétel teljesül, akkor hajtsa végre a kettőspont utáni sorban (általában 4 hellyel) beljebb kezdett blokkot (ez több sorból is állhat). Sem a kettőspont, sem a beljebb kezdés nem maradhat el! \n",
    "\n",
    "Pl. 1) Ha kor > 65, írassuk ki a képernyőre: A belépés ingyenes!"
   ]
  },
  {
   "cell_type": "code",
   "execution_count": 17,
   "id": "ec8cfa9b",
   "metadata": {},
   "outputs": [
    {
     "name": "stdout",
     "output_type": "stream",
     "text": [
      "A belépés ingyenes!\n"
     ]
    }
   ],
   "source": [
    "kor = 70\n",
    "if kor > 65:\n",
    "    print('A belépés ingyenes!')"
   ]
  },
  {
   "cell_type": "code",
   "execution_count": 18,
   "id": "981fd442",
   "metadata": {},
   "outputs": [],
   "source": [
    "kor = 26\n",
    "if kor > 65:\n",
    "    print('A belépés ingyenes!')"
   ]
  },
  {
   "cell_type": "markdown",
   "id": "b9977e45",
   "metadata": {},
   "source": [
    "A második esetben nem teljesült az if utáni feltétel, így nem történt semmi."
   ]
  },
  {
   "cell_type": "markdown",
   "id": "f3b53aee",
   "metadata": {},
   "source": [
    "### Kétirányú elágazás:\n",
    "\n",
    "Ezt akkor használjuk, ha az adott feltétel teljesülése ill. nem teljesülése esetén is szeretnénk valamit végrehajtatni. Azaz: ha a 'condition' szerinti feltétel teljesül, ezt, ha pedig nem teljesül akkor azt szeretnénk elvégeztetni.\n",
    "```python\n",
    "if condition:\n",
    "    do_something1\n",
    "else:\n",
    "    do_something2\n",
    "```"
   ]
  },
  {
   "cell_type": "markdown",
   "id": "d9728b63",
   "metadata": {},
   "source": [
    "Pl. 2) Ha n osztható 2-vel, akkor írja ki a gép, hogy \"n páros\", ha pedig nem akkor azt, hogy \"n páratlan\":"
   ]
  },
  {
   "cell_type": "code",
   "execution_count": 19,
   "id": "91730940",
   "metadata": {},
   "outputs": [
    {
     "name": "stdout",
     "output_type": "stream",
     "text": [
      "n páratlan\n"
     ]
    }
   ],
   "source": [
    "n = 7\n",
    "if n % 2 == 0:\n",
    "    print('n páros')\n",
    "else:\n",
    "    print('n páratlan')"
   ]
  },
  {
   "cell_type": "code",
   "execution_count": 20,
   "id": "cd1ff27e",
   "metadata": {},
   "outputs": [
    {
     "name": "stdout",
     "output_type": "stream",
     "text": [
      "n páros\n"
     ]
    }
   ],
   "source": [
    "n = 8\n",
    "if n % 2 == 0:\n",
    "    print('n páros')\n",
    "else:\n",
    "    print('n páratlan')"
   ]
  },
  {
   "cell_type": "markdown",
   "id": "18a18de2",
   "metadata": {},
   "source": [
    "Hogy lehet még rövidebben megoldani? Értelmezzük az alábbi kódot:"
   ]
  },
  {
   "cell_type": "code",
   "execution_count": 22,
   "id": "e992e04b",
   "metadata": {},
   "outputs": [
    {
     "name": "stdout",
     "output_type": "stream",
     "text": [
      "n páratlan\n"
     ]
    }
   ],
   "source": [
    "if n % 2:\n",
    "    print('n páratlan')\n",
    "else:\n",
    "    print('n páros')"
   ]
  },
  {
   "cell_type": "markdown",
   "id": "db1d6085",
   "metadata": {},
   "source": [
    "### Elágazások egymásba ágyazása:\n",
    "Egy elágazás valamelyik ágára kerülhet a `do_something` helyére akár egy másik elágazás is:\n",
    "```python\n",
    "if condition0:\n",
    "    do_something0\n",
    "else:\n",
    "    if condition1:\n",
    "        do_something1\n",
    "    else:\n",
    "        do_something2\n",
    "```"
   ]
  },
  {
   "cell_type": "code",
   "execution_count": 23,
   "id": "3bab4b10",
   "metadata": {},
   "outputs": [
    {
     "name": "stdout",
     "output_type": "stream",
     "text": [
      "142 páros, de nem osztható hárommal\n"
     ]
    }
   ],
   "source": [
    "a = 142\n",
    "if a % 2 == 1:\n",
    "    print(f\"{a} páratlan\")\n",
    "else:\n",
    "    if a % 3 != 0:\n",
    "        print(f\"{a} páros, de nem osztható hárommal\")\n",
    "    else:\n",
    "        print(f\"{a} osztható 6-tal\")"
   ]
  },
  {
   "cell_type": "markdown",
   "id": "88049881",
   "metadata": {},
   "source": [
    "## Feladatok"
   ]
  },
  {
   "cell_type": "markdown",
   "id": "644a8b09",
   "metadata": {},
   "source": [
    "Kérjük be a kort. Ha `kor` > 65, írassuk ki, hogy 'A belépés ingyenes.', egyébként pedig azt, hogy 'A belépőjegy ára 1000 Ft.'"
   ]
  },
  {
   "cell_type": "code",
   "execution_count": 24,
   "id": "12077ed4",
   "metadata": {},
   "outputs": [
    {
     "name": "stdout",
     "output_type": "stream",
     "text": [
      "kor:50\n"
     ]
    }
   ],
   "source": [
    "x = input(\"kor:\")"
   ]
  },
  {
   "cell_type": "code",
   "execution_count": 25,
   "id": "3a8fc522",
   "metadata": {},
   "outputs": [
    {
     "name": "stdout",
     "output_type": "stream",
     "text": [
      "A belépőjegy ára 1000 Ft.\n"
     ]
    }
   ],
   "source": [
    "if kor > 65:\n",
    "    print('A belépés ingyenes!')\n",
    "else:\n",
    "    print('A belépőjegy ára 1000 Ft.')"
   ]
  },
  {
   "cell_type": "markdown",
   "id": "02263bce",
   "metadata": {},
   "source": [
    "Határozzuk meg két szám maximumát!"
   ]
  },
  {
   "cell_type": "code",
   "execution_count": 26,
   "id": "86c84100",
   "metadata": {},
   "outputs": [
    {
     "name": "stdout",
     "output_type": "stream",
     "text": [
      "30 a nagyobb\n"
     ]
    }
   ],
   "source": [
    "a,b = 10,30\n",
    "\n",
    "if a>b:\n",
    "    print(f'{a} a nagyobb')\n",
    "else:\n",
    "    print(f'{b} a nagyobb')"
   ]
  },
  {
   "cell_type": "markdown",
   "id": "41743594",
   "metadata": {},
   "source": [
    "Hogy határoznád meg két szám maximumát elágazás nélkül? És három számot (mind különböző) hogyan raknál sorba elágazás nélkül? És elágazással?"
   ]
  },
  {
   "cell_type": "code",
   "execution_count": 28,
   "id": "360df37b",
   "metadata": {},
   "outputs": [],
   "source": [
    "a,b,c = 1,2,3"
   ]
  },
  {
   "cell_type": "code",
   "execution_count": 29,
   "id": "ca67b232",
   "metadata": {},
   "outputs": [
    {
     "name": "stdout",
     "output_type": "stream",
     "text": [
      "1 2 3\n"
     ]
    }
   ],
   "source": [
    "M = a*(b<a>c) + b * (a<b>c) + c * (a<c>b)\n",
    "m = a*(b>a<c) + b * (a>b<c) + c * (a>c<b)\n",
    "mid = a*(M>a>m) + b*(M>b>m) + c*(M>c>m)\n",
    "\n",
    "print(m,mid, M)"
   ]
  },
  {
   "cell_type": "code",
   "execution_count": null,
   "id": "f5c3672f",
   "metadata": {},
   "outputs": [],
   "source": []
  },
  {
   "cell_type": "markdown",
   "id": "b4c16b1f",
   "metadata": {},
   "source": [
    "(amúgy sort függvény helyben rendez)"
   ]
  },
  {
   "cell_type": "code",
   "execution_count": 30,
   "id": "3562dc1b",
   "metadata": {},
   "outputs": [],
   "source": [
    "l=[b,a,c]\n",
    "l.sort()"
   ]
  },
  {
   "cell_type": "code",
   "execution_count": 31,
   "id": "e3a08aac",
   "metadata": {},
   "outputs": [
    {
     "data": {
      "text/plain": [
       "[1, 2, 3]"
      ]
     },
     "execution_count": 31,
     "metadata": {},
     "output_type": "execute_result"
    }
   ],
   "source": [
    "l"
   ]
  },
  {
   "cell_type": "markdown",
   "id": "3391d8ab",
   "metadata": {},
   "source": [
    "### Többirányú elágazás:\n",
    "\n",
    "Ilyet használunk, ha különböző feltételek teljesülése esetén más és más utasításokat szeretnénk végrehajtatni. Szintaktitkája:"
   ]
  },
  {
   "cell_type": "markdown",
   "id": "dfb5af70",
   "metadata": {},
   "source": [
    "```python \n",
    "if condition1:\n",
    "    do_something1\n",
    "elif condition2:\n",
    "    do_something2\n",
    "elif condition3:\n",
    "    do_something3\n",
    "else:\n",
    "    do_something\n",
    "```"
   ]
  },
  {
   "cell_type": "markdown",
   "id": "b1c33a11",
   "metadata": {},
   "source": [
    "### Feladatok:\n",
    "Határozzuk meg egy szám előjelét! (Ha x < 0, akkor legyen -1, ha x = 0, akkor 0, egyébként +1). Próbáljuk ki három különböző előjelű x számra. "
   ]
  },
  {
   "cell_type": "code",
   "execution_count": 34,
   "id": "f434a032",
   "metadata": {},
   "outputs": [
    {
     "name": "stdout",
     "output_type": "stream",
     "text": [
      "0\n"
     ]
    }
   ],
   "source": [
    "x=0\n",
    "sign=0\n",
    "if x<0:\n",
    "    sign=-1\n",
    "elif x==0:\n",
    "    sign=0\n",
    "else:\n",
    "    sign=1\n",
    "print(sign)"
   ]
  },
  {
   "cell_type": "markdown",
   "id": "ce056507",
   "metadata": {},
   "source": [
    "Ez a feladat megoldható beágyazott elágazással is (amikor egy ágon belül is van if-es elágazás), igaz, ez kevésbé átlátható:"
   ]
  },
  {
   "cell_type": "code",
   "execution_count": 35,
   "id": "8c6e147e",
   "metadata": {},
   "outputs": [],
   "source": [
    "if x<0:\n",
    "    sign=-1\n",
    "else:\n",
    "    if x==0:\n",
    "        sign=0\n",
    "    else:\n",
    "        sign=1"
   ]
  },
  {
   "cell_type": "markdown",
   "id": "60a1c227",
   "metadata": {},
   "source": [
    "### Logikai operátorok\n",
    "\n",
    "Van, amikor összetett feltételt akarunk megadni. Két feltételt összekapcsolhatunk az és (and) és vagy (or) operátorral. Egy feltétel ellentéte a not operátorral fejezhető ki. Ezen műveletek precedenciája: not > and > or\n",
    "\n",
    "Pl. Tegyük fel, hogy a belépőjegy nemcsak 65 év felett, hanem 6 év alatt is ingyenes. Ekkor írhatjuk a következők valamelyikét:"
   ]
  },
  {
   "cell_type": "code",
   "execution_count": 38,
   "id": "093b94a0",
   "metadata": {},
   "outputs": [],
   "source": [
    "kor=2"
   ]
  },
  {
   "cell_type": "code",
   "execution_count": 39,
   "id": "dd160440",
   "metadata": {},
   "outputs": [
    {
     "name": "stdout",
     "output_type": "stream",
     "text": [
      "A belépés ingyenes.\n"
     ]
    }
   ],
   "source": [
    "if kor > 65 or kor < 6:\n",
    "    print('A belépés ingyenes.')"
   ]
  },
  {
   "cell_type": "code",
   "execution_count": 40,
   "id": "debfbda8",
   "metadata": {},
   "outputs": [
    {
     "name": "stdout",
     "output_type": "stream",
     "text": [
      "A belépés ingyenes.\n"
     ]
    }
   ],
   "source": [
    "if not (kor >= 6 and kor <= 65):\n",
    "    print('A belépés ingyenes.')"
   ]
  },
  {
   "cell_type": "markdown",
   "id": "72133399",
   "metadata": {},
   "source": [
    "Próbáljuk ki ezeket úgy, hogy a kor értékét a billentyűzetról kérjük be a felhasználótól. Erre az input parancs szolgál:"
   ]
  },
  {
   "cell_type": "code",
   "execution_count": 41,
   "id": "20c0b259",
   "metadata": {},
   "outputs": [
    {
     "name": "stdout",
     "output_type": "stream",
     "text": [
      "Hány éves vagy?26\n"
     ]
    }
   ],
   "source": [
    "kor = input('Hány éves vagy?')"
   ]
  },
  {
   "cell_type": "markdown",
   "id": "95387e75",
   "metadata": {},
   "source": [
    "Ez a felhasználó által begépelt karakterek sorát mindig sztringként értelmezi, ezért még egész számmá is kell konvertálnunk, melőtt 65-tel vagy 6-tal összehasonlítanánk!"
   ]
  },
  {
   "cell_type": "code",
   "execution_count": 42,
   "id": "908e812a",
   "metadata": {},
   "outputs": [
    {
     "name": "stdout",
     "output_type": "stream",
     "text": [
      "Hány éves vagy?26\n"
     ]
    }
   ],
   "source": [
    "kor = int(input('Hány éves vagy?'))\n",
    "if kor > 65 or kor < 6:\n",
    "    print('A belépés ingyenes.')"
   ]
  },
  {
   "cell_type": "markdown",
   "id": "6316024b",
   "metadata": {},
   "source": [
    "## Feladatok:\n",
    "\n",
    "1) Legyenek a hét napjai 0-tól 6-ig számozva, a 0 a hétfő, a 6 a vasárnap. Készítsünk kódot, amely bekér egy számot 0-tól 6-ig, és kiírja a nap nevét. "
   ]
  },
  {
   "cell_type": "code",
   "execution_count": 43,
   "id": "1aff872b",
   "metadata": {},
   "outputs": [
    {
     "name": "stdout",
     "output_type": "stream",
     "text": [
      "Kód:2\n"
     ]
    }
   ],
   "source": [
    "kod = int(input('Kód:'))"
   ]
  },
  {
   "cell_type": "code",
   "execution_count": 44,
   "id": "1d421276",
   "metadata": {},
   "outputs": [],
   "source": [
    "if kod==0:\n",
    "    print('Hétfő')\n",
    "elif kod==1:\n",
    "    print('Kedd')"
   ]
  },
  {
   "cell_type": "code",
   "execution_count": 45,
   "id": "84517b2d",
   "metadata": {},
   "outputs": [],
   "source": [
    "het = ['Hétfő','Kedd','Szerda', 'Csütörtök', 'Péntek', 'Szombat', 'Vasárnap']"
   ]
  },
  {
   "cell_type": "code",
   "execution_count": 46,
   "id": "f1e6eacc",
   "metadata": {},
   "outputs": [
    {
     "data": {
      "text/plain": [
       "'Szerda'"
      ]
     },
     "execution_count": 46,
     "metadata": {},
     "output_type": "execute_result"
    }
   ],
   "source": [
    "het[kod]"
   ]
  },
  {
   "cell_type": "markdown",
   "id": "f44582c0",
   "metadata": {},
   "source": [
    "2) Döntsük el egy háromszög a < b < c oldalhossza alapján, hogy a háromszög derékszögű-e."
   ]
  },
  {
   "cell_type": "code",
   "execution_count": 47,
   "id": "51e553c0",
   "metadata": {},
   "outputs": [
    {
     "name": "stdout",
     "output_type": "stream",
     "text": [
      "Nem derékszögű\n"
     ]
    }
   ],
   "source": [
    "if a**2 + b**2 ==c**2:\n",
    "    print('Derékszögű')\n",
    "else:\n",
    "    print('Nem derékszögű')"
   ]
  },
  {
   "cell_type": "markdown",
   "id": "cdad0d7e",
   "metadata": {},
   "source": [
    "## A for ciklus\n",
    "\n",
    "Jelöljön iter egy iterálható objektumot (pl. sztringet). A for ciklus sémája a következő:\n",
    "```python\n",
    "for i in iterable:\n",
    "    do_something\n",
    "```"
   ]
  },
  {
   "cell_type": "code",
   "execution_count": null,
   "id": "bf8f1695",
   "metadata": {},
   "outputs": [],
   "source": []
  },
  {
   "cell_type": "markdown",
   "id": "2228a424",
   "metadata": {},
   "source": [
    "## Feladatok 0.5 pontért:\n",
    "\n",
    "1) A következő kód egy 200 hosszú random DNS stringet generál neked. A feladatod, hogy előállítsd a hozzá tartozó mRNS láncot, ami azt jelenti hogy a DNS láncban 'A' helyére 'U', a 'T' helyére 'A', 'G' helyére 'C' és a 'C' helyére 'G' kerül. Ha tudsz használj hozzá függvényt (előadás)! Hogyan lehetne kezelni a hibás DNS-eket? Adj erre is egy megoldást."
   ]
  },
  {
   "cell_type": "code",
   "execution_count": 48,
   "id": "f7e7a0f1",
   "metadata": {},
   "outputs": [],
   "source": [
    "import numpy as np\n",
    "\n",
    "l=['A','T','C','G']\n",
    "\n",
    "DNS = ''.join(np.random.choice(l,size=200))"
   ]
  },
  {
   "cell_type": "code",
   "execution_count": 49,
   "id": "f25587e4",
   "metadata": {},
   "outputs": [
    {
     "data": {
      "text/plain": [
       "'CCTGACTGTAAGACCACCAGTGCATCTGCGCATCTGGATCACACGTTAGGGGAAAAAACAACAAACCTTCTCCATACCCGGTATATTAAGAGCATTCGAGGGTTTCTTCGTACATATGAACCCTAATATCTGAAGATAGGCTGGATGGCCGAGGGCTGACACTGCGCGGAAGGTAGGCTCTCAAGTCCCCCTATTGGTCC'"
      ]
     },
     "execution_count": 49,
     "metadata": {},
     "output_type": "execute_result"
    }
   ],
   "source": [
    "DNS"
   ]
  },
  {
   "cell_type": "code",
   "execution_count": 55,
   "id": "1f662ab1",
   "metadata": {},
   "outputs": [
    {
     "data": {
      "text/plain": [
       "'CCTGACTGTAAGACCACCAGTGCATCTGCGCATCTGGATCACACGTTAGGGGAAAAAACAACAAACCTTCTCCATACCCGGTATATTAAGAGCATTCGAGGGTTTCTTCGTACATATGAACCCTAATATCTGAAGATAGGCTGGATGGCCGAGGGCTGACACTGCGCGGAAGGTAGGCTCTCAAGTCCCCCTATTGGTCCKCCTGACTGTAAGACCACCAGTGCATCTGCGCATCTGGATCACACGTTAGGGGAAAAAACAACAAACCTTCTCCATACCCGGTATATTAAGAGCATTCGAGGGTTTCTTCGTACATATGAACCCTAATATCTGAAGATAGGCTGGATGGCCGAGGGCTGACACTGCGCGGAAGGTAGGCTCTCAAGTCCCCCTATTGGTCC'"
      ]
     },
     "execution_count": 55,
     "metadata": {},
     "output_type": "execute_result"
    }
   ],
   "source": [
    "DNS+'K'+DNS"
   ]
  },
  {
   "cell_type": "code",
   "execution_count": 53,
   "id": "da1624d2",
   "metadata": {},
   "outputs": [],
   "source": [
    "def DNAtoMRA(DNA):\n",
    "    RNA=''\n",
    "    for c_i, char in enumerate(DNA):\n",
    "        if char =='A':\n",
    "            RNA += 'U'\n",
    "        elif char == 'T':\n",
    "            RNA += 'A'\n",
    "        elif char == 'C':\n",
    "            RNA += 'G'\n",
    "        elif char == 'G':\n",
    "            RNA += 'C'\n",
    "        else:\n",
    "            print(f'Hiba a {c_i}. karakternél.')\n",
    "            break\n",
    "            \n",
    "    return RNA"
   ]
  },
  {
   "cell_type": "code",
   "execution_count": 56,
   "id": "5b5d67bd",
   "metadata": {},
   "outputs": [
    {
     "name": "stdout",
     "output_type": "stream",
     "text": [
      "Hiba a 200. karakternél.\n"
     ]
    },
    {
     "data": {
      "text/plain": [
       "'GGACUGACAUUCUGGUGGUCACGUAGACGCGUAGACCUAGUGUGCAAUCCCCUUUUUUGUUGUUUGGAAGAGGUAUGGGCCAUAUAAUUCUCGUAAGCUCCCAAAGAAGCAUGUAUACUUGGGAUUAUAGACUUCUAUCCGACCUACCGGCUCCCGACUGUGACGCGCCUUCCAUCCGAGAGUUCAGGGGGAUAACCAGG'"
      ]
     },
     "execution_count": 56,
     "metadata": {},
     "output_type": "execute_result"
    }
   ],
   "source": [
    "DNAtoMRA(DNS+'K'+DNS)"
   ]
  },
  {
   "cell_type": "markdown",
   "id": "98a90830",
   "metadata": {},
   "source": [
    "2) Készíts statisztikát a betűk gyakoriasságáról a DNS_2-ben! Mi a relatív gyakorisága a betűknek?"
   ]
  },
  {
   "cell_type": "code",
   "execution_count": 59,
   "id": "c88cb93c",
   "metadata": {},
   "outputs": [],
   "source": [
    "DNS_2=\"\"\"TCAAAATCCCTCCTGCGGCATCCTCCTTCACACCCTCCCACACTATCTACCCCCCCCATTCCCAA\n",
    "    CTACCAGTTTACCATCAATGCGTCTTTCCGCCCTCATCATATCCGCCTGATTTATTATACCATACATTGG\n",
    "    GTTCGCCTCCGAATTTACCTGTCCTGCATTCTTATGGCCGTCCGCACCTTCCGCTACTCCTCCTCACCTG\n",
    "    AGTTACATTACCCCTAGTGACACTTGTTCCCTACCACCTGATTTCGACCCCCTAACCATTTATTTGTAAG\n",
    "    TGGGCAATCACCACATCCACGTTACCTATCTCCATACAACATTCCCACCCTACTCTACCTTCCAAGCCGG\n",
    "    TCCACTATCTTTCCCATGCCCCCTACCATGCACGCCTCCCTTACGCCTTCACATCTGACACTTCCACCTA\n",
    "    TAACCTTTTATCCCCTGTACCAGTCAGGTTGGCTTATGTTCTGTCTATTTGCTCCTTCTTGCCTTTCGTT\n",
    "    CATTCGCCTTCTCTCACTTCATCCCCCCCTCTTGCCCTCACATTTTCACTCTCTCACTAACCTTAGTCCA\n",
    "    TTACATAAACCAAGCCCAGTTCCATATATGTAACCTCCCCACCCAACCCCTTCAAGATTATCCCTCCAAT\n",
    "    TCGTCTAACTGCTCCCTCCCATCCGGAAACTATCCTTACCGTCGGTCTACACCCAGCTATCTAGCTCTCC\n",
    "    GACCCATTACTTTCCGCGCTTCTACACATTCTAATCTAACCCTTCACGAACCGTCCCCACCCACACAATC\n",
    "    AGCAAATCTTCTATTAATCCCCAGTTTATATGTGAACTCGTCCTCTGTGTTGCCCTCCTTGCCCCCAATT\n",
    "    TTGTCTCCACATCTTACCCTACCAACCAAGCTAACGCTTGGACCTTCCCGACCTCACCTCCGGTCGCCCC\n",
    "    GTCTCCTTCGCTCCCACACGTCTGACCACCTCACCTTAATTACCCTTTCCGTCCCCCATCTGCACCACAA\n",
    "    CCTCTCGCACTACCCGATACCCACT\"\"\""
   ]
  },
  {
   "cell_type": "code",
   "execution_count": null,
   "id": "6c462a38",
   "metadata": {},
   "outputs": [],
   "source": []
  },
  {
   "cell_type": "markdown",
   "id": "3a2f3211",
   "metadata": {},
   "source": [
    "3) Keresd meg a 'TGAC' első előfordulásának helyét!"
   ]
  },
  {
   "cell_type": "code",
   "execution_count": 60,
   "id": "34406ba3",
   "metadata": {},
   "outputs": [
    {
     "data": {
      "text/plain": [
       "True"
      ]
     },
     "execution_count": 60,
     "metadata": {},
     "output_type": "execute_result"
    }
   ],
   "source": [
    "'TGAC' in DNS_2"
   ]
  },
  {
   "cell_type": "markdown",
   "id": "0db69c96",
   "metadata": {},
   "source": [
    "## GitHub"
   ]
  },
  {
   "cell_type": "markdown",
   "id": "51fe995b",
   "metadata": {},
   "source": [
    "Hozz létre egy privát gihub repot és oszd meg velem! A repo szerkezet legyen hasonló az enyémhez: https://github.com/kolokcse/MAF_2023\n",
    "Azaz: \n",
    "\n",
    "- MAF_2023\n",
    "    - gyak1\n",
    "    - gyak2\n",
    "    -..."
   ]
  },
  {
   "cell_type": "markdown",
   "id": "b996f0b2",
   "metadata": {},
   "source": [
    "**Linux**: \n",
    "\n",
    "- install: `apt-get install git` vagy `conda install -c anaconda git`\n",
    "- git repo létrehozása: \n",
    "    - parancssor cd a mappához majd: \n",
    "    - `git --version`\n",
    "    - `git init`\n",
    "    - `git status`\n",
    "    - `git add .`\n",
    "    - `git commit -m \"firs commit\"`\n",
    "    - `git branch -M master`\n",
    "    - hozz létre egy új repot a giten vmilyen névvel PL: MAF_2023\n",
    "    - `git remote add origin https://github.com/gituser/MAF_2023.git`\n",
    "    - `git push -u origin master`\n",
    "- állítsd priváttá! És adj engem (git username: kolokcse) hozzá mint contributor! Küldd el a linket emailben!"
   ]
  },
  {
   "cell_type": "code",
   "execution_count": null,
   "id": "41482ec2",
   "metadata": {},
   "outputs": [],
   "source": []
  }
 ],
 "metadata": {
  "kernelspec": {
   "display_name": "Python 3 (ipykernel)",
   "language": "python",
   "name": "python3"
  },
  "language_info": {
   "codemirror_mode": {
    "name": "ipython",
    "version": 3
   },
   "file_extension": ".py",
   "mimetype": "text/x-python",
   "name": "python",
   "nbconvert_exporter": "python",
   "pygments_lexer": "ipython3",
   "version": "3.9.13"
  }
 },
 "nbformat": 4,
 "nbformat_minor": 5
}
