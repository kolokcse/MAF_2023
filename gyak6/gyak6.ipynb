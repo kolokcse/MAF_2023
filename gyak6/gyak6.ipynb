{
 "cells": [
  {
   "cell_type": "markdown",
   "id": "f211c70b",
   "metadata": {},
   "source": [
    "# 6. gyakorlat"
   ]
  },
  {
   "cell_type": "markdown",
   "id": "07c6cf17",
   "metadata": {},
   "source": [
    "# Modulok\n",
    "\n",
    "Kódjainkat eddig a Jupyter Notebookban készítettük. Munkánk eredményét, a jegyzeteinkkel kiegészített kódrészleteket tartalmazó munkafüzetet ipynb fájlként tudtuk elmenteni. Nagyobb programozási munkákat azonban érdemes lehet olyan fejlesztői környezetben készíteni, mint pl. a VSCode vagy a PyCharm, ahol mentés után a Run gombbal futtathatjuk a .py kiterjesztésű fájlként elmentett Python-programot. A végrehajtás eredménye külön ablakban jelenik meg.\n",
    "\n",
    "A Jupyter Notebookban is van lehetőség Python- (.py kiterjesztésű) fájlokkal dolgozni. Python-fájl úgy készíthető a Jupyter Notebookban, hogy a New / Text File menüpontra kattintva megnyílik egy editor, abban elkészítjük a fájl tartalmát, majd a File / Rename menüpontot választva .py kiterjesztéssel elmenthetjük. Egy .py fájl Jupyter Notebook-cellából is futtatható `%run filenev.py` módon.\n",
    "\n",
    "Hozzunk létre így a Jupyter Notebookban egy .py kiterjesztésű fájlt hello.py néven az alábbi tartalommal:"
   ]
  },
  {
   "cell_type": "code",
   "execution_count": 1,
   "id": "34de1310",
   "metadata": {},
   "outputs": [
    {
     "name": "stdout",
     "output_type": "stream",
     "text": [
      "Hello!\n"
     ]
    }
   ],
   "source": [
    "print(\"Hello!\")"
   ]
  },
  {
   "cell_type": "markdown",
   "id": "77504c9f",
   "metadata": {},
   "source": [
    "Futtassuk ezt innen!"
   ]
  },
  {
   "cell_type": "code",
   "execution_count": 2,
   "id": "ec33ce54",
   "metadata": {},
   "outputs": [
    {
     "name": "stdout",
     "output_type": "stream",
     "text": [
      "Hello\n"
     ]
    }
   ],
   "source": [
    "%run hello.py"
   ]
  },
  {
   "cell_type": "markdown",
   "id": "e67622b4",
   "metadata": {},
   "source": [
    "Egy bonyolultabb programot érdemes lehet úgy elkészíteni, hogy egyes elkülönülő részeit külön .py fájlokban írjuk meg (modulok), és hozzáférhetővé tesszük a fő program számára.\n",
    "\n",
    "A Python telepítésénél számos beépített modul is a gépünkre került. Ezek bármely Python programunkban felhasználhatók, Jupyter Notebook-cellában és .py fájlban is, ehhez azonban importálnunk kell őket.\n",
    "\n",
    "Az egyik beépített modul pl. a `random` nevet viseli, és hasznos lehet véletlen számok generálásakor (pl. kockadobás szimulációja). Az importálást az `import` paranccsal végezzük."
   ]
  },
  {
   "cell_type": "code",
   "execution_count": 3,
   "id": "fd181466",
   "metadata": {},
   "outputs": [],
   "source": [
    "import random"
   ]
  },
  {
   "cell_type": "markdown",
   "id": "618a02ef",
   "metadata": {},
   "source": [
    "Ha .py fájlt készítünk, akkor a fájl elejére szokásos ezt beírni, és az egész fájlban használhatjuk a modult. A `random` modulban található a `randint` nevű függvény, amely a következő módon alkalmazva véletlenszerűen kiválaszt egy 1 és 6 között számot:"
   ]
  },
  {
   "cell_type": "code",
   "execution_count": 4,
   "id": "c758a45f",
   "metadata": {},
   "outputs": [
    {
     "data": {
      "text/plain": [
       "5"
      ]
     },
     "execution_count": 4,
     "metadata": {},
     "output_type": "execute_result"
    }
   ],
   "source": [
    "random.randint(1,6)"
   ]
  },
  {
   "cell_type": "markdown",
   "id": "5d13e8af",
   "metadata": {},
   "source": [
    "Ha a modul nevét rövidítve szeretnénk használni, pl. random helyett csak rand-ot írva, akkor ennek módja:"
   ]
  },
  {
   "cell_type": "code",
   "execution_count": 6,
   "id": "49bbd7df",
   "metadata": {},
   "outputs": [],
   "source": [
    "import random as rand"
   ]
  },
  {
   "cell_type": "markdown",
   "id": "89adda8d",
   "metadata": {},
   "source": [
    "Ekkor a kockadobás így fog kinézni:"
   ]
  },
  {
   "cell_type": "code",
   "execution_count": 7,
   "id": "fff53b28",
   "metadata": {
    "scrolled": true
   },
   "outputs": [
    {
     "data": {
      "text/plain": [
       "4"
      ]
     },
     "execution_count": 7,
     "metadata": {},
     "output_type": "execute_result"
    }
   ],
   "source": [
    "rand.randint(1,6)"
   ]
  },
  {
   "cell_type": "markdown",
   "id": "c07decc1",
   "metadata": {},
   "source": [
    "### Hogyan tudom egy modul tartalmát megnézni?\n",
    "A `dir` függvény megmondja, hogy egy modul milyen osztályokat és függvényeket tartalmaz.\n",
    "A `help` parancs pedig megmondja, hogy egy függvényt hogyan kell használni."
   ]
  },
  {
   "cell_type": "code",
   "execution_count": 8,
   "id": "7dbd6cf6",
   "metadata": {},
   "outputs": [
    {
     "data": {
      "text/plain": [
       "['BPF',\n",
       " 'LOG4',\n",
       " 'NV_MAGICCONST',\n",
       " 'RECIP_BPF',\n",
       " 'Random',\n",
       " 'SG_MAGICCONST',\n",
       " 'SystemRandom',\n",
       " 'TWOPI',\n",
       " '_Sequence',\n",
       " '_Set',\n",
       " '__all__',\n",
       " '__builtins__',\n",
       " '__cached__',\n",
       " '__doc__',\n",
       " '__file__',\n",
       " '__loader__',\n",
       " '__name__',\n",
       " '__package__',\n",
       " '__spec__',\n",
       " '_accumulate',\n",
       " '_acos',\n",
       " '_bisect',\n",
       " '_ceil',\n",
       " '_cos',\n",
       " '_e',\n",
       " '_exp',\n",
       " '_floor',\n",
       " '_inst',\n",
       " '_log',\n",
       " '_os',\n",
       " '_pi',\n",
       " '_random',\n",
       " '_repeat',\n",
       " '_sha512',\n",
       " '_sin',\n",
       " '_sqrt',\n",
       " '_test',\n",
       " '_test_generator',\n",
       " '_urandom',\n",
       " '_warn',\n",
       " 'betavariate',\n",
       " 'choice',\n",
       " 'choices',\n",
       " 'expovariate',\n",
       " 'gammavariate',\n",
       " 'gauss',\n",
       " 'getrandbits',\n",
       " 'getstate',\n",
       " 'lognormvariate',\n",
       " 'normalvariate',\n",
       " 'paretovariate',\n",
       " 'randbytes',\n",
       " 'randint',\n",
       " 'random',\n",
       " 'randrange',\n",
       " 'sample',\n",
       " 'seed',\n",
       " 'setstate',\n",
       " 'shuffle',\n",
       " 'triangular',\n",
       " 'uniform',\n",
       " 'vonmisesvariate',\n",
       " 'weibullvariate']"
      ]
     },
     "execution_count": 8,
     "metadata": {},
     "output_type": "execute_result"
    }
   ],
   "source": [
    "dir(rand)"
   ]
  },
  {
   "cell_type": "code",
   "execution_count": 9,
   "id": "09bf0f20",
   "metadata": {},
   "outputs": [
    {
     "name": "stdout",
     "output_type": "stream",
     "text": [
      "Help on method shuffle in module random:\n",
      "\n",
      "shuffle(x, random=None) method of random.Random instance\n",
      "    Shuffle list x in place, and return None.\n",
      "    \n",
      "    Optional argument random is a 0-argument function returning a\n",
      "    random float in [0.0, 1.0); if it is the default None, the\n",
      "    standard random.random will be used.\n",
      "\n"
     ]
    }
   ],
   "source": [
    "help(rand.shuffle)"
   ]
  },
  {
   "cell_type": "code",
   "execution_count": 11,
   "id": "175a7e29",
   "metadata": {},
   "outputs": [
    {
     "data": {
      "text/plain": [
       "['c', 'a', 'd', 'b']"
      ]
     },
     "execution_count": 11,
     "metadata": {},
     "output_type": "execute_result"
    }
   ],
   "source": [
    "l=['a','b','c','d']\n",
    "rand.shuffle(l)\n",
    "l"
   ]
  },
  {
   "cell_type": "code",
   "execution_count": 12,
   "id": "821b0abd",
   "metadata": {},
   "outputs": [],
   "source": [
    "from random import randint"
   ]
  },
  {
   "cell_type": "code",
   "execution_count": 13,
   "id": "6f9ef346",
   "metadata": {},
   "outputs": [
    {
     "data": {
      "text/plain": [
       "4"
      ]
     },
     "execution_count": 13,
     "metadata": {},
     "output_type": "execute_result"
    }
   ],
   "source": [
    "randint(1,6)"
   ]
  },
  {
   "cell_type": "code",
   "execution_count": 18,
   "id": "643420b1",
   "metadata": {},
   "outputs": [
    {
     "data": {
      "text/plain": [
       "2"
      ]
     },
     "execution_count": 18,
     "metadata": {},
     "output_type": "execute_result"
    }
   ],
   "source": [
    "randint(0,2)"
   ]
  },
  {
   "cell_type": "markdown",
   "id": "a3a5bc6a",
   "metadata": {},
   "source": [
    "A következő függvény visszatér egy 0 és 1 közötti random valós számmal [0,1] intervalummból egyenletes eloszlással"
   ]
  },
  {
   "cell_type": "code",
   "execution_count": 19,
   "id": "66a2b44d",
   "metadata": {},
   "outputs": [
    {
     "data": {
      "text/plain": [
       "0.5655282790561545"
      ]
     },
     "execution_count": 19,
     "metadata": {},
     "output_type": "execute_result"
    }
   ],
   "source": [
    "rand.random()"
   ]
  },
  {
   "cell_type": "markdown",
   "id": "0ce0b65f",
   "metadata": {},
   "source": [
    "## Feladat: \n",
    "Programozzuk be a jól ismert kő-papír-olló játékot, és játsszunk a számítógép ellen! (Írjunk egy függvényt amelynek bemenete valamilyen 3 hosszú valószínűségi vektor, és kimenete 'kő','papír' vagy 'olló' a vszségi vektornak megfelelően!)"
   ]
  },
  {
   "cell_type": "code",
   "execution_count": 20,
   "id": "1e9bfb3d",
   "metadata": {},
   "outputs": [],
   "source": [
    "def ko_papir_ollo(p):\n",
    "    # p - valoszinűsegi vektor (listában)\n",
    "    r = rand.random()\n",
    "    if r<p[0]:\n",
    "        return 'kő'\n",
    "    elif r<p[0]+p[1]:\n",
    "        return 'papír'\n",
    "    else:\n",
    "        return 'olló'"
   ]
  },
  {
   "cell_type": "code",
   "execution_count": 21,
   "id": "d04443e2",
   "metadata": {},
   "outputs": [
    {
     "data": {
      "text/plain": [
       "'papír'"
      ]
     },
     "execution_count": 21,
     "metadata": {},
     "output_type": "execute_result"
    }
   ],
   "source": [
    "ko_papir_ollo([0.3,0.3,0.4])"
   ]
  },
  {
   "cell_type": "code",
   "execution_count": 26,
   "id": "51e73cfd",
   "metadata": {},
   "outputs": [
    {
     "data": {
      "text/plain": [
       "['olló', 'olló', 'olló', 'olló', 'olló']"
      ]
     },
     "execution_count": 26,
     "metadata": {},
     "output_type": "execute_result"
    }
   ],
   "source": [
    "rand.choices(['kő','papír','olló'], [0.3,0.3,0.4],k=5)"
   ]
  },
  {
   "cell_type": "code",
   "execution_count": 25,
   "id": "e2f85d62",
   "metadata": {},
   "outputs": [
    {
     "name": "stdout",
     "output_type": "stream",
     "text": [
      "Help on method choices in module random:\n",
      "\n",
      "choices(population, weights=None, *, cum_weights=None, k=1) method of random.Random instance\n",
      "    Return a k sized list of population elements chosen with replacement.\n",
      "    \n",
      "    If the relative weights or cumulative weights are not specified,\n",
      "    the selections are made with equal probability.\n",
      "\n"
     ]
    }
   ],
   "source": [
    "help(rand.choices)"
   ]
  },
  {
   "cell_type": "code",
   "execution_count": 29,
   "id": "bf246354",
   "metadata": {},
   "outputs": [
    {
     "name": "stdout",
     "output_type": "stream",
     "text": [
      "Kő papír olló:olló\n",
      "0\n"
     ]
    }
   ],
   "source": [
    "s = input('Kő papír olló:')\n",
    "\n",
    "gep=rand.choices(['kő','papír','olló'], [0.3,0.3,0.4],k=1)[0]\n",
    "gyozelem=0\n",
    "\n",
    "if s == 'olló':\n",
    "    if gep=='kő':\n",
    "        gyozelem=-1\n",
    "    if gep=='papír':\n",
    "        gyozelem=1\n",
    "    if gep=='olló':\n",
    "        gyozelem = 0\n",
    "if s == 'kő':\n",
    "    if gep=='kő':\n",
    "        gyozelem=0\n",
    "    if gep=='papír':\n",
    "        gyozelem=-1\n",
    "    if gep=='olló':\n",
    "        gyozelem = 1\n",
    "if s == 'papír':\n",
    "    if gep=='kő':\n",
    "        gyozelem=1\n",
    "    if gep=='papír':\n",
    "        gyozelem=0\n",
    "    if gep=='olló':\n",
    "        gyozelem = -1\n",
    "print(gyozelem)"
   ]
  },
  {
   "cell_type": "markdown",
   "id": "4dd17e45",
   "metadata": {},
   "source": [
    "Adjunk numerikus bizonyítékot, szomulációk segítségével arra, hogy ha két játékos kő-papír-ollózik egymással, és a nyertes 1 pontot kap. Akkor, ha alap taktikájuk az, hogy egyenlő valószínűséggel mutatnak kőt, papírt és ollót, akkor egyik játékosnak sem éri meg ezen változtatni. (Remélem jó a feltevésem nem próbáltam ki ;) )"
   ]
  },
  {
   "cell_type": "code",
   "execution_count": 31,
   "id": "27fe9a0e",
   "metadata": {},
   "outputs": [],
   "source": [
    "def jatek(p1,p2):\n",
    "    pontok=[]\n",
    "    for i in range(1000):\n",
    "        s = rand.choices(['kő','papír','olló'], p1,k=1)[0]\n",
    "\n",
    "        gep=rand.choices(['kő','papír','olló'], p2,k=1)[0]\n",
    "        gyozelem=0\n",
    "\n",
    "        if s == 'olló':\n",
    "            if gep=='kő':\n",
    "                gyozelem=-1\n",
    "            if gep=='papír':\n",
    "                gyozelem=1\n",
    "            if gep=='olló':\n",
    "                gyozelem = 0\n",
    "        if s == 'kő':\n",
    "            if gep=='kő':\n",
    "                gyozelem=0\n",
    "            if gep=='papír':\n",
    "                gyozelem=-1\n",
    "            if gep=='olló':\n",
    "                gyozelem = 1\n",
    "        if s == 'papír':\n",
    "            if gep=='kő':\n",
    "                gyozelem=1\n",
    "            if gep=='papír':\n",
    "                gyozelem=0\n",
    "            if gep=='olló':\n",
    "                gyozelem = -1\n",
    "        pontok.append(gyozelem)\n",
    "    return sum(pontok)"
   ]
  },
  {
   "cell_type": "code",
   "execution_count": 32,
   "id": "20e33ed0",
   "metadata": {},
   "outputs": [
    {
     "data": {
      "text/plain": [
       "5"
      ]
     },
     "execution_count": 32,
     "metadata": {},
     "output_type": "execute_result"
    }
   ],
   "source": [
    "p1=[1/3,1/3,1/3]\n",
    "p2=[1/3,1/3,1/3]\n",
    "jatek(p1,p2)"
   ]
  },
  {
   "cell_type": "code",
   "execution_count": 47,
   "id": "989900c4",
   "metadata": {},
   "outputs": [
    {
     "data": {
      "text/plain": [
       "346"
      ]
     },
     "execution_count": 47,
     "metadata": {},
     "output_type": "execute_result"
    }
   ],
   "source": [
    "p1=[2/3,0/3,1/3]\n",
    "p2=[0/3,1/3,2/3]\n",
    "jatek(p1,p2)"
   ]
  },
  {
   "cell_type": "markdown",
   "id": "e7d2c896",
   "metadata": {},
   "source": [
    "### Calendar modul\n",
    "Számos egyéb modul is van, pl. a `calendar` modul naptárral kapcsolatos funkciókat tud. Az egyik függvénye az `isleap`, amely megadja, hogy egy év szökőév-e vagy sem."
   ]
  },
  {
   "cell_type": "code",
   "execution_count": 48,
   "id": "c5a88c94",
   "metadata": {},
   "outputs": [
    {
     "data": {
      "text/plain": [
       "False"
      ]
     },
     "execution_count": 48,
     "metadata": {},
     "output_type": "execute_result"
    }
   ],
   "source": [
    "import calendar\n",
    "calendar.isleap(2010)"
   ]
  },
  {
   "cell_type": "markdown",
   "id": "044b9dbe",
   "metadata": {},
   "source": [
    "Kíváncsiak lehetünk arra is, hogy egy bizonyos fontos esemény a hét melyik napjára esett. (0 - hétfő, ..., 6 - vasárnap). Pl. az első holdraszállás? Vagy a születésünk?"
   ]
  },
  {
   "cell_type": "code",
   "execution_count": 49,
   "id": "aab21bf4",
   "metadata": {},
   "outputs": [
    {
     "name": "stdout",
     "output_type": "stream",
     "text": [
      "Tuesday\n"
     ]
    }
   ],
   "source": [
    "print(calendar.day_name[calendar.weekday(1914,7,28)])"
   ]
  },
  {
   "cell_type": "markdown",
   "id": "e2bac877",
   "metadata": {},
   "source": [
    "### Math modul\n",
    "Matematikai számításokhoz alapvető a `math` modul."
   ]
  },
  {
   "cell_type": "code",
   "execution_count": 50,
   "id": "2bd928f5",
   "metadata": {},
   "outputs": [],
   "source": [
    "import math"
   ]
  },
  {
   "cell_type": "markdown",
   "id": "ad4b5a2f",
   "metadata": {},
   "source": [
    "Benne van pl. a $\\pi$ szám (math.pi néven férhetünk hozzá), valamint mindenféle függvény, pl. sin... "
   ]
  },
  {
   "cell_type": "code",
   "execution_count": 51,
   "id": "af4ab7c7",
   "metadata": {
    "scrolled": true
   },
   "outputs": [
    {
     "name": "stdout",
     "output_type": "stream",
     "text": [
      "A 'pi' szám: 3.141592653589793\n"
     ]
    }
   ],
   "source": [
    "print(\"A 'pi' szám:\", math.pi)"
   ]
  },
  {
   "cell_type": "code",
   "execution_count": 52,
   "id": "5d9764b6",
   "metadata": {},
   "outputs": [
    {
     "data": {
      "text/plain": [
       "(-2.4492935982947064e-16, 6.123233995736766e-17)"
      ]
     },
     "execution_count": 52,
     "metadata": {},
     "output_type": "execute_result"
    }
   ],
   "source": [
    "math.sin(math.pi*2), math.cos(math.pi/2)"
   ]
  },
  {
   "cell_type": "markdown",
   "id": "e068e8d9",
   "metadata": {},
   "source": [
    "## Feladat:\n",
    "Tegyük fel, hogy egy óra számlapjának a közepe az origo, a számlap sugara 1. A percmutató a számlap sugarának 80%-a, az óra mutató a számlap sugarának 50%-a.\n",
    "* Mik az óra mutató végpontjának koordinátái 19.00-kor?\n",
    "* Mik a percmutató végpontjának koordinátái 13.48-kor?\n",
    "* Mik az óramutató és percmutató koordinátái 13.48-kor?\n",
    "* Írj egy függvényt, ami megadja az óramutató és percmutató koordinátáit adott órában és percben!"
   ]
  },
  {
   "cell_type": "code",
   "execution_count": 54,
   "id": "4f385319",
   "metadata": {},
   "outputs": [],
   "source": [
    "import matplotlib.pyplot as plt\n",
    "\n",
    "def clock_drawer(*args):\n",
    "    \"\"\"\n",
    "        Ora rajzolo, a mutator koordinatait varja tuple-kent,\n",
    "        pl.: clock_drawer((0,0.8), (0.5,0))\n",
    "             clock_drawer((0,0.8))\n",
    "    \"\"\"\n",
    "    figure, axes = plt.subplots()\n",
    "    circle = plt.Circle(( 0 , 0 ), 1 ,fill = False )\n",
    "    axes.add_artist(circle)\n",
    "    axes.set_xlim(-1.2,1.2)\n",
    "    axes.set_ylim(-1.2,1.2)\n",
    "    for x,y in args:\n",
    "        axes.scatter(x,y)\n",
    "        axes.plot([0,x], [0,y])\n",
    "    plt.show()"
   ]
  },
  {
   "cell_type": "code",
   "execution_count": 55,
   "id": "871609cc",
   "metadata": {},
   "outputs": [
    {
     "data": {
      "image/png": "[encoded data removed]",
      "text/plain": [
       "<Figure size 640x480 with 1 Axes>"
      ]
     },
     "metadata": {},
     "output_type": "display_data"
    }
   ],
   "source": [
    "clock_drawer((0,0.8), (0.5,0))"
   ]
  },
  {
   "cell_type": "code",
   "execution_count": 62,
   "id": "97c22d04",
   "metadata": {},
   "outputs": [],
   "source": [
    "def clock_coordinates(hh,mm):\n",
    "    nagyszog = -1 * mm * 2 * math.pi/60 + math.pi/2\n",
    "    nagy_mutato = (0.8*math.cos(nagyszog),0.8*math.sin(nagyszog))\n",
    "    \n",
    "    kisszog = -1 * (hh % 12 * 2 * math.pi/12 + mm * 2 * math.pi/(60 * 12))+ math.pi/2\n",
    "    kis_mutato = (0.5*math.cos(kisszog),0.5*math.sin(kisszog))\n",
    "    \n",
    "    return nagy_mutato, kis_mutato"
   ]
  },
  {
   "cell_type": "code",
   "execution_count": 63,
   "id": "8d5eb13b",
   "metadata": {},
   "outputs": [],
   "source": [
    "n,k = clock_coordinates(19,0)"
   ]
  },
  {
   "cell_type": "code",
   "execution_count": 64,
   "id": "2f68647e",
   "metadata": {},
   "outputs": [
    {
     "data": {
      "image/png": "[encoded data removed]",
      "text/plain": [
       "<Figure size 640x480 with 1 Axes>"
      ]
     },
     "metadata": {},
     "output_type": "display_data"
    }
   ],
   "source": [
    "clock_drawer(n,k)"
   ]
  },
  {
   "cell_type": "markdown",
   "id": "91dfe12f",
   "metadata": {},
   "source": [
    "### Time modul\n",
    "A rengeteg készen hozzáférhető modul közül itt kiemeljük a `time` modult, amelynek `time()` függvényével egy-egy kódrészlet futási idejét mérhetjük meg."
   ]
  },
  {
   "cell_type": "code",
   "execution_count": 66,
   "id": "1e789f5a",
   "metadata": {},
   "outputs": [
    {
     "data": {
      "text/plain": [
       "1680786104.0116365"
      ]
     },
     "execution_count": 66,
     "metadata": {},
     "output_type": "execute_result"
    }
   ],
   "source": [
    "time.time()"
   ]
  },
  {
   "cell_type": "code",
   "execution_count": 65,
   "id": "f26195c1",
   "metadata": {},
   "outputs": [
    {
     "data": {
      "text/plain": [
       "(0.017136335372924805, 0.14950227737426758)"
      ]
     },
     "execution_count": 65,
     "metadata": {},
     "output_type": "execute_result"
    }
   ],
   "source": [
    "import time\n",
    "t0 = time.time()\n",
    "sum(range(1000000))   #Összeadás a beépített sum függgvénnyel\n",
    "t1 = time.time()\n",
    "futasi_ido1 = t1 - t0\n",
    "#Hogy viszonyul ehhez a while ciklussal történő összeadása ugyanezen számoknak?\n",
    "t2 = time.time()\n",
    "s = 0\n",
    "i = 0\n",
    "while i <= 1000000:\n",
    "    s = s + i\n",
    "    i += 1\n",
    "t3 = time.time()\n",
    "futasi_ido2 = t3 - t2\n",
    "futasi_ido1, futasi_ido2\n"
   ]
  },
  {
   "cell_type": "markdown",
   "id": "e4a7ea5e",
   "metadata": {},
   "source": [
    "Saját modulokat is készíthetünk, .py kiterjesztésű fájlok formájában. Ha egy ilyen fájl neve pl. kellekek.py, akkor az őt használó fő fájl (pl. fo.py) elején hasonlóan importáljuk, mint a beépített modulokat:"
   ]
  },
  {
   "cell_type": "code",
   "execution_count": 67,
   "id": "14fe5c41",
   "metadata": {},
   "outputs": [],
   "source": [
    "import kellekek"
   ]
  },
  {
   "cell_type": "markdown",
   "id": "7758ebbc",
   "metadata": {},
   "source": [
    "Ezzel a kellekek.py fájlban definiált változókat, függvényeket a fo.py fájl is használni tudja."
   ]
  },
  {
   "cell_type": "markdown",
   "id": "48cab1eb",
   "metadata": {},
   "source": [
    "Pl. hozzuk létre a kellekek.py fájlt a következő tartalommal (egy konstans és egy függvény):"
   ]
  },
  {
   "cell_type": "code",
   "execution_count": null,
   "id": "8062880f",
   "metadata": {},
   "outputs": [],
   "source": [
    "# kellekek.py fájl tartalma\n",
    "szinek = ('piros', 'feher', 'kek')\n",
    "\n",
    "def atlag(szamok):\n",
    "    return sum(szamok)/len(szamok)"
   ]
  },
  {
   "cell_type": "markdown",
   "id": "c14f76ec",
   "metadata": {},
   "source": [
    "A kellekek.py-ban definiált konstans és függvény kétféleképpen is használhatóvá tehető a foo.py fájl számára:"
   ]
  },
  {
   "cell_type": "code",
   "execution_count": 68,
   "id": "43fe690a",
   "metadata": {},
   "outputs": [
    {
     "name": "stdout",
     "output_type": "stream",
     "text": [
      "('piros', 'feher', 'kek')\n",
      "2.0\n"
     ]
    }
   ],
   "source": [
    "# foo.py tartalma\n",
    "import kellekek    \n",
    "print(kellekek.szinek)   \n",
    "print(kellekek.atlag([1,2,3]))"
   ]
  },
  {
   "cell_type": "code",
   "execution_count": 69,
   "id": "f7afb870",
   "metadata": {},
   "outputs": [
    {
     "name": "stdout",
     "output_type": "stream",
     "text": [
      "('piros', 'feher', 'kek')\n",
      "2.0\n"
     ]
    }
   ],
   "source": [
    "# kellekek.py tartalma - másik lehetőség:\n",
    "from kellekek import szinek, atlag \n",
    "print(szinek)    \n",
    "print(atlag([1,2,3]))"
   ]
  },
  {
   "cell_type": "markdown",
   "id": "6c49d065",
   "metadata": {},
   "source": [
    "Ha a kellekek.py fájl a jelenlegi munkafüzettel egy könyvtárban van, akkor itt a Jupyterben is importálhatjuk:"
   ]
  },
  {
   "cell_type": "code",
   "execution_count": 70,
   "id": "f98d7473",
   "metadata": {},
   "outputs": [
    {
     "name": "stdout",
     "output_type": "stream",
     "text": [
      "('piros', 'feher', 'kek')\n"
     ]
    }
   ],
   "source": [
    "import kellekek    \n",
    "print(kellekek.szinek) "
   ]
  },
  {
   "cell_type": "markdown",
   "id": "2107c20e",
   "metadata": {},
   "source": [
    "## Feladat:\n",
    "Határozzuk meg három szám maximumát annak a függvénynek a felhasználásával, amely két szám maximumát választotta ki. Egy cellában adjuk meg egymás után a két függvényt maximum2 és maximum3 néven, és figyeljük meg, hogy a második függvényből meghívható-e az első. "
   ]
  },
  {
   "cell_type": "code",
   "execution_count": 72,
   "id": "94a0feec",
   "metadata": {},
   "outputs": [],
   "source": [
    "def maximum2(a,b):\n",
    "    if a < b:\n",
    "        return b\n",
    "    else:\n",
    "        return a\n",
    "def maximum3(c,d,e):\n",
    "    max1=maximum2(c,d)\n",
    "    return maximum2(max1,e)"
   ]
  },
  {
   "cell_type": "code",
   "execution_count": 73,
   "id": "e3886a4f",
   "metadata": {},
   "outputs": [
    {
     "data": {
      "text/plain": [
       "3"
      ]
     },
     "execution_count": 73,
     "metadata": {},
     "output_type": "execute_result"
    }
   ],
   "source": [
    "maximum3(1,2,3)"
   ]
  },
  {
   "cell_type": "markdown",
   "id": "5255e0f1",
   "metadata": {},
   "source": [
    "## Függvények tetszőleges számú argumentummal\n",
    "\n",
    "Most térjünk vissza a függvényekre! Szükségünk lehet olyan függvényre, amelyet akárhány argumentummal meghívhatunk. Pl. a beépített `max` függvény ilyen. "
   ]
  },
  {
   "cell_type": "code",
   "execution_count": 74,
   "id": "6b27cdb1",
   "metadata": {},
   "outputs": [
    {
     "data": {
      "text/plain": [
       "3"
      ]
     },
     "execution_count": 74,
     "metadata": {},
     "output_type": "execute_result"
    }
   ],
   "source": [
    "max(1,2,3)"
   ]
  },
  {
   "cell_type": "code",
   "execution_count": 75,
   "id": "39ce3516",
   "metadata": {},
   "outputs": [
    {
     "data": {
      "text/plain": [
       "4"
      ]
     },
     "execution_count": 75,
     "metadata": {},
     "output_type": "execute_result"
    }
   ],
   "source": [
    "max(1,2,3,4)"
   ]
  },
  {
   "cell_type": "markdown",
   "id": "8c4320f0",
   "metadata": {},
   "source": [
    "Hogyan lehet ilyen függvényt készíteni? "
   ]
  },
  {
   "cell_type": "code",
   "execution_count": 76,
   "id": "0b9b1714",
   "metadata": {},
   "outputs": [
    {
     "data": {
      "text/plain": [
       "3"
      ]
     },
     "execution_count": 76,
     "metadata": {},
     "output_type": "execute_result"
    }
   ],
   "source": [
    "def maximum(*args):  # minden argumentumot az args nevű tuple-ba gyűjt\n",
    "    m = 0\n",
    "    for arg in args:  # a tuple-n végiglépeget\n",
    "        if m < arg:\n",
    "            m = arg\n",
    "    return m\n",
    "        \n",
    "maximum(1,2,3)"
   ]
  },
  {
   "cell_type": "code",
   "execution_count": 77,
   "id": "1faef558",
   "metadata": {},
   "outputs": [
    {
     "data": {
      "text/plain": [
       "4"
      ]
     },
     "execution_count": 77,
     "metadata": {},
     "output_type": "execute_result"
    }
   ],
   "source": [
    "maximum(1,2,3,4)"
   ]
  },
  {
   "cell_type": "markdown",
   "id": "161f56c9",
   "metadata": {},
   "source": [
    "Vegyük észre, hogy ez a függvény csak akkor működik, ha hívásnál a zárójelen belül vesszővel elválasztva soroljuk fel egyenként a paramétereket. Azt már nem fogadja el, ha először készítünk egy listát ezekből a számokból, és azzal próbáljuk meghívni:"
   ]
  },
  {
   "cell_type": "code",
   "execution_count": 78,
   "id": "2034f905",
   "metadata": {},
   "outputs": [
    {
     "ename": "TypeError",
     "evalue": "'<' not supported between instances of 'int' and 'list'",
     "output_type": "error",
     "traceback": [
      "\u001b[0;31m---------------------------------------------------------------------------\u001b[0m",
      "\u001b[0;31mTypeError\u001b[0m                                 Traceback (most recent call last)",
      "\u001b[0;32m/tmp/ipykernel_4694/2394952784.py\u001b[0m in \u001b[0;36m<module>\u001b[0;34m\u001b[0m\n\u001b[1;32m      1\u001b[0m \u001b[0mszamok\u001b[0m \u001b[0;34m=\u001b[0m \u001b[0;34m[\u001b[0m\u001b[0;36m1\u001b[0m\u001b[0;34m,\u001b[0m\u001b[0;36m2\u001b[0m\u001b[0;34m,\u001b[0m\u001b[0;36m3\u001b[0m\u001b[0;34m,\u001b[0m\u001b[0;36m4\u001b[0m\u001b[0;34m]\u001b[0m\u001b[0;34m\u001b[0m\u001b[0;34m\u001b[0m\u001b[0m\n\u001b[0;32m----> 2\u001b[0;31m \u001b[0mmaximum\u001b[0m\u001b[0;34m(\u001b[0m\u001b[0mszamok\u001b[0m\u001b[0;34m)\u001b[0m\u001b[0;34m\u001b[0m\u001b[0;34m\u001b[0m\u001b[0m\n\u001b[0m",
      "\u001b[0;32m/tmp/ipykernel_4694/1186508627.py\u001b[0m in \u001b[0;36mmaximum\u001b[0;34m(*args)\u001b[0m\n\u001b[1;32m      2\u001b[0m     \u001b[0mm\u001b[0m \u001b[0;34m=\u001b[0m \u001b[0;36m0\u001b[0m\u001b[0;34m\u001b[0m\u001b[0;34m\u001b[0m\u001b[0m\n\u001b[1;32m      3\u001b[0m     \u001b[0;32mfor\u001b[0m \u001b[0marg\u001b[0m \u001b[0;32min\u001b[0m \u001b[0margs\u001b[0m\u001b[0;34m:\u001b[0m  \u001b[0;31m# a tuple-n végiglépeget\u001b[0m\u001b[0;34m\u001b[0m\u001b[0;34m\u001b[0m\u001b[0m\n\u001b[0;32m----> 4\u001b[0;31m         \u001b[0;32mif\u001b[0m \u001b[0mm\u001b[0m \u001b[0;34m<\u001b[0m \u001b[0marg\u001b[0m\u001b[0;34m:\u001b[0m\u001b[0;34m\u001b[0m\u001b[0;34m\u001b[0m\u001b[0m\n\u001b[0m\u001b[1;32m      5\u001b[0m             \u001b[0mm\u001b[0m \u001b[0;34m=\u001b[0m \u001b[0marg\u001b[0m\u001b[0;34m\u001b[0m\u001b[0;34m\u001b[0m\u001b[0m\n\u001b[1;32m      6\u001b[0m     \u001b[0;32mreturn\u001b[0m \u001b[0mm\u001b[0m\u001b[0;34m\u001b[0m\u001b[0;34m\u001b[0m\u001b[0m\n",
      "\u001b[0;31mTypeError\u001b[0m: '<' not supported between instances of 'int' and 'list'"
     ]
    }
   ],
   "source": [
    "szamok = [1,2,3,4]\n",
    "maximum(szamok)"
   ]
  },
  {
   "cell_type": "markdown",
   "id": "3fe76872",
   "metadata": {},
   "source": [
    "Mégis használható a fenti függvény lista esetén is, ha a csillag jellel kicsomagoljuk a listát:"
   ]
  },
  {
   "cell_type": "code",
   "execution_count": 80,
   "id": "0253d33d",
   "metadata": {},
   "outputs": [
    {
     "data": {
      "text/plain": [
       "4"
      ]
     },
     "execution_count": 80,
     "metadata": {},
     "output_type": "execute_result"
    }
   ],
   "source": [
    "maximum(*szamok)"
   ]
  },
  {
   "cell_type": "markdown",
   "id": "d25af966",
   "metadata": {},
   "source": [
    "## Feladat:\n",
    "\n",
    "Írjunk olyan függvényt, amely megszámolja, hogy hány argumentumot adtunk meg neki, és kiírja ezt szöveggel a képernyőre. "
   ]
  },
  {
   "cell_type": "code",
   "execution_count": 81,
   "id": "96a7fa1c",
   "metadata": {},
   "outputs": [],
   "source": [
    "def argumentumszamolo(*args):\n",
    "    # TODO\n",
    "    return len(args)"
   ]
  },
  {
   "cell_type": "code",
   "execution_count": 82,
   "id": "2ec33bba",
   "metadata": {},
   "outputs": [],
   "source": [
    "assert argumentumszamolo(1,2,7,8,30,7,8,100) == 8"
   ]
  },
  {
   "cell_type": "code",
   "execution_count": 83,
   "id": "06c3d184",
   "metadata": {},
   "outputs": [
    {
     "data": {
      "text/plain": [
       "8"
      ]
     },
     "execution_count": 83,
     "metadata": {},
     "output_type": "execute_result"
    }
   ],
   "source": [
    "argumentumszamolo(1,2,7,8,30,7,8,100)"
   ]
  },
  {
   "cell_type": "markdown",
   "id": "e1a6b310",
   "metadata": {},
   "source": [
    "## Feladat:\n",
    "Írjunk függvényt, amely akárhány számot összead."
   ]
  },
  {
   "cell_type": "code",
   "execution_count": 84,
   "id": "f620a17f",
   "metadata": {},
   "outputs": [],
   "source": [
    "def osszeg(*szamok):\n",
    "    # TODO\n",
    "    s=0\n",
    "    for szam in szamok:\n",
    "        s+=szam\n",
    "    return s"
   ]
  },
  {
   "cell_type": "code",
   "execution_count": 85,
   "id": "725f2985",
   "metadata": {},
   "outputs": [],
   "source": [
    "assert osszeg(1,2,1,2,0,1,2) == sum([1,2,1,2,0,1,2])"
   ]
  },
  {
   "cell_type": "markdown",
   "id": "1476b7e6",
   "metadata": {},
   "source": [
    "A függvény paraméterei között a csillaggal megjelöltön kívül szerepelhetnek egyéb paraméterek is. Ekkor a függvény hívásánál a csillaggal megjelölt paraméter helyére az összes többi argumentumot tartalmazó tuple kerül. Pl."
   ]
  },
  {
   "cell_type": "code",
   "execution_count": 86,
   "id": "36360de8",
   "metadata": {},
   "outputs": [
    {
     "name": "stdout",
     "output_type": "stream",
     "text": [
      "A dobogósok: ('Hamilton', 'Verstappen', 'Rosberg'). Futottak még: ('Vettel', 'Button', 'Alonso')\n"
     ]
    }
   ],
   "source": [
    "def helyezesek(elso, masodik, harmadik, *tobbi):\n",
    "    print(f\"A dobogósok: {elso, masodik, harmadik}. Futottak még: {tobbi}\")\n",
    "    \n",
    "helyezesek(\"Hamilton\", \"Verstappen\", \"Rosberg\", \"Vettel\", \"Button\", \"Alonso\")"
   ]
  },
  {
   "cell_type": "markdown",
   "id": "cadcff34",
   "metadata": {},
   "source": [
    "Kulcsszavas argumentumoknál is van lehetőség hasonló összevonásra, erre dupla csillag szolgál."
   ]
  },
  {
   "cell_type": "code",
   "execution_count": 87,
   "id": "8710f2e2",
   "metadata": {},
   "outputs": [
    {
     "name": "stdout",
     "output_type": "stream",
     "text": [
      "{'x': 'alma', 'y': 'szeder'}\n"
     ]
    }
   ],
   "source": [
    "def demo(**kwargs):\n",
    "    print(kwargs)\n",
    "    \n",
    "demo(x = \"alma\", y = \"szeder\")"
   ]
  },
  {
   "cell_type": "markdown",
   "id": "db4f11d4",
   "metadata": {},
   "source": [
    "Látható, hogy szótár jött létre.\n",
    "\n",
    "## Feladat:\n",
    "\n",
    "\n",
    "Írjunk függvényt, amelynek az argumentumai személyek életkorai, és kiírja a képernyőre, hogy ki hány éves."
   ]
  },
  {
   "cell_type": "code",
   "execution_count": 99,
   "id": "8d686b82",
   "metadata": {},
   "outputs": [],
   "source": [
    "def print_eletkorok(**kwargs):\n",
    "    #ToDo\n",
    "    for k,v in kwargs.items():\n",
    "        print(k,v, 'éves.')"
   ]
  },
  {
   "cell_type": "code",
   "execution_count": 100,
   "id": "c15f0838",
   "metadata": {},
   "outputs": [
    {
     "name": "stdout",
     "output_type": "stream",
     "text": [
      "Anna 56 éves.\n",
      "Ede 45 éves.\n",
      "Csilla 18 éves.\n"
     ]
    }
   ],
   "source": [
    "print_eletkorok(Anna = 56, Ede = 45, Csilla = 18)"
   ]
  },
  {
   "cell_type": "markdown",
   "id": "3ebc66ea",
   "metadata": {},
   "source": [
    "## Módosítható alapértelmezett paraméterek\n",
    "\n",
    "Körültekintést igényel, ha az alapértelmezett paraméter módosítható típusú, pl.  lista. "
   ]
  },
  {
   "cell_type": "code",
   "execution_count": 101,
   "id": "de277ba8",
   "metadata": {},
   "outputs": [
    {
     "data": {
      "text/plain": [
       "[1, 2, 3, 'szia', 'szia']"
      ]
     },
     "execution_count": 101,
     "metadata": {},
     "output_type": "execute_result"
    }
   ],
   "source": [
    "def add_hozza_ketszer(valtozo, lst = []):\n",
    "    lst.append(valtozo)\n",
    "    lst.append(valtozo)\n",
    "    return lst\n",
    "\n",
    "add_hozza_ketszer(\"szia\", [1,2,3])"
   ]
  },
  {
   "cell_type": "markdown",
   "id": "8e040b3b",
   "metadata": {},
   "source": [
    "Mivel alapértelmezett értéket is megadtunk a listának, amelyhez hozzá szeretnénk adni kétszer a vátozót, és ez üres lista, így ha nem adunk át listát, akkor:"
   ]
  },
  {
   "cell_type": "code",
   "execution_count": 102,
   "id": "6c3c399c",
   "metadata": {},
   "outputs": [
    {
     "data": {
      "text/plain": [
       "['szia', 'szia']"
      ]
     },
     "execution_count": 102,
     "metadata": {},
     "output_type": "execute_result"
    }
   ],
   "source": [
    "add_hozza_ketszer(valtozo=\"szia\")"
   ]
  },
  {
   "cell_type": "markdown",
   "id": "c1c60716",
   "metadata": {},
   "source": [
    "Most hívjuk meg újból, pl. \"hello\"-val!"
   ]
  },
  {
   "cell_type": "code",
   "execution_count": 103,
   "id": "a3349b7d",
   "metadata": {},
   "outputs": [
    {
     "data": {
      "text/plain": [
       "['szia', 'szia', 'hello', 'hello']"
      ]
     },
     "execution_count": 103,
     "metadata": {},
     "output_type": "execute_result"
    }
   ],
   "source": [
    "add_hozza_ketszer(\"hello\")"
   ]
  },
  {
   "cell_type": "markdown",
   "id": "00a5c69a",
   "metadata": {},
   "source": [
    "Nem ezt akartuk... Az történt, hogy az előző hívásnál az `lst` lista megváltozott, és nem üres lista többé. Hogyan segíthetünk ezen?"
   ]
  },
  {
   "cell_type": "code",
   "execution_count": 104,
   "id": "10f3f108",
   "metadata": {},
   "outputs": [
    {
     "data": {
      "text/plain": [
       "['hello', 'hello']"
      ]
     },
     "execution_count": 104,
     "metadata": {},
     "output_type": "execute_result"
    }
   ],
   "source": [
    "def add_hozza_ketszer(valtozo, lst = None):\n",
    "    if lst == None:\n",
    "        lst = []\n",
    "    lst.append(valtozo)\n",
    "    lst.append(valtozo)\n",
    "    return lst\n",
    "\n",
    "add_hozza_ketszer(\"hello\")"
   ]
  },
  {
   "cell_type": "code",
   "execution_count": 105,
   "id": "90c3e5ed",
   "metadata": {},
   "outputs": [
    {
     "data": {
      "text/plain": [
       "['hello', 'hello']"
      ]
     },
     "execution_count": 105,
     "metadata": {},
     "output_type": "execute_result"
    }
   ],
   "source": [
    "add_hozza_ketszer(\"hello\")"
   ]
  },
  {
   "cell_type": "markdown",
   "id": "abefb121",
   "metadata": {},
   "source": [
    "# Az osztály\n",
    "\n",
    "A valós világbeli dolgok modellezésére, vagy akár matematikai objektumok manipulálására sokszor érdemes a Pythonban osztályt használni. Nézzünk példákat ennek a gyakorlására!"
   ]
  },
  {
   "cell_type": "markdown",
   "id": "ba0780ca",
   "metadata": {},
   "source": [
    "1) Készítsünk egy Kutya nevű osztályt, amellyel nyilvántarthatunk egy kutyaiskolába járó kutyákat. Minden kutyának legyen először is saját neve. "
   ]
  },
  {
   "cell_type": "code",
   "execution_count": 106,
   "id": "42099e33",
   "metadata": {},
   "outputs": [],
   "source": [
    "class Kutya:\n",
    "    def __init__(self, nev):\n",
    "        self.nev = nev"
   ]
  },
  {
   "cell_type": "markdown",
   "id": "7c2cd669",
   "metadata": {},
   "source": [
    "Hozzunk létre egy Bodri és egy Morzsa nevű példányt! Az előbbit most a bodri, az utóbbit a morzsa nevű változóban tároljuk el, de más változónevek is használhatók."
   ]
  },
  {
   "cell_type": "code",
   "execution_count": 114,
   "id": "b9771ab6",
   "metadata": {},
   "outputs": [],
   "source": [
    "bodri = Kutya(\"Bodri\")\n",
    "morzsa = Kutya(\"Morzsa\")"
   ]
  },
  {
   "cell_type": "code",
   "execution_count": 108,
   "id": "bdce498e",
   "metadata": {},
   "outputs": [
    {
     "data": {
      "text/plain": [
       "'Bodri'"
      ]
     },
     "execution_count": 108,
     "metadata": {},
     "output_type": "execute_result"
    }
   ],
   "source": [
    "bodri.nev"
   ]
  },
  {
   "cell_type": "code",
   "execution_count": 109,
   "id": "bd74e257",
   "metadata": {},
   "outputs": [
    {
     "data": {
      "text/plain": [
       "'Morzsa'"
      ]
     },
     "execution_count": 109,
     "metadata": {},
     "output_type": "execute_result"
    }
   ],
   "source": [
    "morzsa.nev"
   ]
  },
  {
   "cell_type": "markdown",
   "id": "06785b8a",
   "metadata": {},
   "source": [
    "Valamit tudjanak is a példányok ebben az osztályban, pl. legyen egy 'ugat' nevű függvény (metódus) az osztályon, amely bármelyik példányra alkalmazható. Ez most egyszerűen csak írja ki a képernyőre, hogy a szóban forgó kutya ugat."
   ]
  },
  {
   "cell_type": "code",
   "execution_count": 116,
   "id": "b9248d58",
   "metadata": {},
   "outputs": [],
   "source": [
    "class Kutya:\n",
    "    def __init__(self, nev):\n",
    "        self.nev = nev\n",
    "    def ugat(self):\n",
    "        print(f\"Vau - mondta {self.nev}.\")"
   ]
  },
  {
   "cell_type": "code",
   "execution_count": 117,
   "id": "b6b0a688",
   "metadata": {},
   "outputs": [],
   "source": [
    "bodri = Kutya(\"Bodri\")\n",
    "morzsa = Kutya(\"Morzsa\")"
   ]
  },
  {
   "cell_type": "code",
   "execution_count": 118,
   "id": "55e950a9",
   "metadata": {},
   "outputs": [
    {
     "name": "stdout",
     "output_type": "stream",
     "text": [
      "Vau - mondta Bodri.\n"
     ]
    }
   ],
   "source": [
    "bodri.ugat()"
   ]
  },
  {
   "cell_type": "markdown",
   "id": "456eae26",
   "metadata": {},
   "source": [
    "Bodrin egyelőre nem működik ez a funkció, mert az ugató függvényt Bodri létrehozása után építettük bele az osztályba. Maga a példány még létezik, de csak a régi osztály definíciója szerinti dolgok működnek rajta. Ezt jobban megérthetjük, ha az osztályra úgy gondolunk, mint egy gyárra. Ha a régi gyárral létrehoztunk egy példányt, majd új gyárat építettünk a régi helyett, akkor a régi gyárral létrehozott példány még megvan, de nem tudja azokat a funkciókat, amelyeket csak az új gyárban tudnak beleépíteni. Ezért az osztály módosítása után a példányokat is mindig hozzuk újra létre."
   ]
  },
  {
   "cell_type": "code",
   "execution_count": 119,
   "id": "98d50b1c",
   "metadata": {},
   "outputs": [
    {
     "name": "stdout",
     "output_type": "stream",
     "text": [
      "Vau - mondta Bodri.\n"
     ]
    }
   ],
   "source": [
    "bodri = Kutya(\"Bodri\")\n",
    "bodri.ugat()"
   ]
  },
  {
   "cell_type": "markdown",
   "id": "4397c1c5",
   "metadata": {},
   "source": [
    "Hány kutya van az osztályban? Ehhez még az inicializálás előtt hozzunk létre egy kutyak_szama változót (ez nem egy példányhoz tartozó változó, hanem az osztályhoz tartozik), amelynek az értéke 0 legyen, és az init belsejében növeljük meg az értékét 1-gyel. Az $__init__$ részben felsoroltak minden példány létrehozásánal automatikusan végrehajtódnak, így minden egyes újabb példány létrehozásakor eggyel nő ennek változónak az értéke, és Kutya.kutyak_szama mindig megadja az egyedek éppen aktuális számát."
   ]
  },
  {
   "cell_type": "code",
   "execution_count": 120,
   "id": "f7d00ce8",
   "metadata": {},
   "outputs": [],
   "source": [
    "class Kutya:\n",
    "    kutyak_szama = 0\n",
    "    def __init__(self, nev):\n",
    "        self.nev = nev\n",
    "        Kutya.kutyak_szama += 1\n",
    "    def ugat(self):\n",
    "        print(f\"{self.nev} ugat.\")"
   ]
  },
  {
   "cell_type": "code",
   "execution_count": 121,
   "id": "94ec2928",
   "metadata": {},
   "outputs": [
    {
     "data": {
      "text/plain": [
       "2"
      ]
     },
     "execution_count": 121,
     "metadata": {},
     "output_type": "execute_result"
    }
   ],
   "source": [
    "bodri = Kutya(\"Bodri\")\n",
    "morzsa = Kutya(\"Morzsa\")\n",
    "Kutya.kutyak_szama"
   ]
  },
  {
   "cell_type": "markdown",
   "id": "4bcc10b5",
   "metadata": {},
   "source": [
    "## Feladat:\n",
    "Szeretnénk számon tartani, hogy melyik kutya mit tud. \n",
    "* Készítsünk ehhez egy self.kepessegek listát az init-en belül, amely üres legyen, majd adjunk az osztályhoz olyan metódust, amely lehetővé teszi, hogy bármelyik adott kutya esetén újabb képességet adjunk hozzá ehhez a listához.\n",
    "* Tartsuk számon, hogy eddig milyen képességeik vannak a kutyáknak."
   ]
  },
  {
   "cell_type": "code",
   "execution_count": null,
   "id": "0a68be96",
   "metadata": {},
   "outputs": [],
   "source": [
    "class Kutya:\n",
    "    \n",
    "    # TODO\n",
    "    \n",
    "    def __init__(self, nev):\n",
    "        # TODO\n",
    "        self.name=name\n",
    "        self.kepessegek=[]\n",
    "    \n",
    "    def ugat(self):\n",
    "        print(f\"{self.nev} ugat.\")\n",
    "        \n",
    "    def kepesseg_hozzaadasa(self,uj_kepesseg):\n",
    "        # TODO\n",
    "        "
   ]
  },
  {
   "cell_type": "code",
   "execution_count": null,
   "id": "7066087a",
   "metadata": {},
   "outputs": [],
   "source": [
    "bodri = Kutya(\"Bodri\")\n",
    "bodri.kepessegek"
   ]
  },
  {
   "cell_type": "code",
   "execution_count": null,
   "id": "929d2acf",
   "metadata": {},
   "outputs": [],
   "source": [
    "bodri.kepesseg_hozzaadasa(\"vakvezetes\")"
   ]
  },
  {
   "cell_type": "code",
   "execution_count": null,
   "id": "e29ba419",
   "metadata": {},
   "outputs": [],
   "source": [
    "morzsa = Kutya(\"Morzsa\")\n",
    "morzsa.kepesseg_hozzaadasa(\"akadalyugras\")"
   ]
  },
  {
   "cell_type": "code",
   "execution_count": null,
   "id": "0eb5ff86",
   "metadata": {},
   "outputs": [],
   "source": [
    "morzsa.kepessegek"
   ]
  },
  {
   "cell_type": "code",
   "execution_count": null,
   "id": "493a135a",
   "metadata": {},
   "outputs": [],
   "source": [
    "morzsa.kepesseg_hozzaadasa(\"palankmaszas\")"
   ]
  },
  {
   "cell_type": "code",
   "execution_count": null,
   "id": "cddc0b81",
   "metadata": {},
   "outputs": [],
   "source": [
    "morzsa.kepessegek"
   ]
  }
 ],
 "metadata": {
  "kernelspec": {
   "display_name": "Python 3 (ipykernel)",
   "language": "python",
   "name": "python3"
  },
  "language_info": {
   "codemirror_mode": {
    "name": "ipython",
    "version": 3
   },
   "file_extension": ".py",
   "mimetype": "text/x-python",
   "name": "python",
   "nbconvert_exporter": "python",
   "pygments_lexer": "ipython3",
   "version": "3.9.13"
  }
 },
 "nbformat": 4,
 "nbformat_minor": 5
}
