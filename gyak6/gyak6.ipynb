{
 "cells": [
  {
   "cell_type": "markdown",
   "id": "f211c70b",
   "metadata": {},
   "source": [
    "# 6. gyakorlat"
   ]
  },
  {
   "cell_type": "markdown",
   "id": "07c6cf17",
   "metadata": {},
   "source": [
    "# Modulok\n",
    "\n",
    "Kódjainkat eddig a Jupyter Notebookban készítettük. Munkánk eredményét, a jegyzeteinkkel kiegészített kódrészleteket tartalmazó munkafüzetet ipynb fájlként tudtuk elmenteni. Nagyobb programozási munkákat azonban érdemes lehet olyan fejlesztői környezetben készíteni, mint pl. a VSCode vagy a PyCharm, ahol mentés után a Run gombbal futtathatjuk a .py kiterjesztésű fájlként elmentett Python-programot. A végrehajtás eredménye külön ablakban jelenik meg.\n",
    "\n",
    "A Jupyter Notebookban is van lehetőség Python- (.py kiterjesztésű) fájlokkal dolgozni. Python-fájl úgy készíthető a Jupyter Notebookban, hogy a New / Text File menüpontra kattintva megnyílik egy editor, abban elkészítjük a fájl tartalmát, majd a File / Rename menüpontot választva .py kiterjesztéssel elmenthetjük. Egy .py fájl Jupyter Notebook-cellából is futtatható `%run filenev.py` módon.\n",
    "\n",
    "Hozzunk létre így a Jupyter Notebookban egy .py kiterjesztésű fájlt hello.py néven az alábbi tartalommal:"
   ]
  },
  {
   "cell_type": "code",
   "execution_count": null,
   "id": "34de1310",
   "metadata": {},
   "outputs": [],
   "source": [
    "print(\"Hello!\")"
   ]
  },
  {
   "cell_type": "markdown",
   "id": "77504c9f",
   "metadata": {},
   "source": [
    "Futtassuk ezt innen!"
   ]
  },
  {
   "cell_type": "code",
   "execution_count": null,
   "id": "ec33ce54",
   "metadata": {},
   "outputs": [],
   "source": [
    "%run hello.py"
   ]
  },
  {
   "cell_type": "markdown",
   "id": "e67622b4",
   "metadata": {},
   "source": [
    "Egy bonyolultabb programot érdemes lehet úgy elkészíteni, hogy egyes elkülönülő részeit külön .py fájlokban írjuk meg (modulok), és hozzáférhetővé tesszük a fő program számára.\n",
    "\n",
    "A Python telepítésénél számos beépített modul is a gépünkre került. Ezek bármely Python programunkban felhasználhatók, Jupyter Notebook-cellában és .py fájlban is, ehhez azonban importálnunk kell őket.\n",
    "\n",
    "Az egyik beépített modul pl. a `random` nevet viseli, és hasznos lehet véletlen számok generálásakor (pl. kockadobás szimulációja). Az importálást az `import` paranccsal végezzük."
   ]
  },
  {
   "cell_type": "code",
   "execution_count": null,
   "id": "fd181466",
   "metadata": {},
   "outputs": [],
   "source": [
    "import random"
   ]
  },
  {
   "cell_type": "markdown",
   "id": "618a02ef",
   "metadata": {},
   "source": [
    "Ha .py fájlt készítünk, akkor a fájl elejére szokásos ezt beírni, és az egész fájlban használhatjuk a modult. A `random` modulban található a `randint` nevű függvény, amely a következő módon alkalmazva véletlenszerűen kiválaszt egy 1 és 6 között számot:"
   ]
  },
  {
   "cell_type": "code",
   "execution_count": null,
   "id": "c758a45f",
   "metadata": {},
   "outputs": [],
   "source": [
    "random.randint(1,6)"
   ]
  },
  {
   "cell_type": "markdown",
   "id": "5d13e8af",
   "metadata": {},
   "source": [
    "Ha a modul nevét rövidítve szeretnénk használni, pl. random helyett csak rand-ot írva, akkor ennek módja:"
   ]
  },
  {
   "cell_type": "code",
   "execution_count": null,
   "id": "49bbd7df",
   "metadata": {},
   "outputs": [],
   "source": [
    "import random as rand"
   ]
  },
  {
   "cell_type": "markdown",
   "id": "89adda8d",
   "metadata": {},
   "source": [
    "Ekkor a kockadobás így fog kinézni:"
   ]
  },
  {
   "cell_type": "code",
   "execution_count": null,
   "id": "fff53b28",
   "metadata": {
    "scrolled": true
   },
   "outputs": [],
   "source": [
    "rand.randint(1,6)"
   ]
  },
  {
   "cell_type": "markdown",
   "id": "c07decc1",
   "metadata": {},
   "source": [
    "### Hogyan tudom egy modul tartalmát megnézni?\n",
    "A `dir` függvény megmondja, hogy egy modul milyen osztályokat és függvényeket tartalmaz.\n",
    "A `help` parancs pedig megmondja, hogy egy függvényt hogyan kell használni."
   ]
  },
  {
   "cell_type": "code",
   "execution_count": null,
   "id": "7dbd6cf6",
   "metadata": {},
   "outputs": [],
   "source": [
    "dir(rand)"
   ]
  },
  {
   "cell_type": "code",
   "execution_count": null,
   "id": "09bf0f20",
   "metadata": {},
   "outputs": [],
   "source": [
    "help(rand.shuffle)"
   ]
  },
  {
   "cell_type": "code",
   "execution_count": null,
   "id": "821b0abd",
   "metadata": {},
   "outputs": [],
   "source": [
    "from random import randint"
   ]
  },
  {
   "cell_type": "code",
   "execution_count": null,
   "id": "6f9ef346",
   "metadata": {},
   "outputs": [],
   "source": [
    "randint(1,6)"
   ]
  },
  {
   "cell_type": "markdown",
   "id": "0ce0b65f",
   "metadata": {},
   "source": [
    "## Feladat: \n",
    "Programozzuk be a jól ismert kő-papír-olló játékot, és játsszunk a számítógép ellen! (Írjunk egy függvényt amelynek bemenete valamilyen 3 hosszú valószínűségi vektor, és kimenete 'kő','papír' vagy 'olló' a vszségi vektornak megfelelően!)"
   ]
  },
  {
   "cell_type": "code",
   "execution_count": null,
   "id": "1e9bfb3d",
   "metadata": {},
   "outputs": [],
   "source": []
  },
  {
   "cell_type": "markdown",
   "id": "4dd17e45",
   "metadata": {},
   "source": [
    "Adjunk numerikus bizonyítékot, szomulációk segítségével arra, hogy ha két játékos kő-papír-ollózik egymással, és a nyertes 1 pontot kap. Akkor, ha alap taktikájuk az, hogy egyenlő valószínűséggel mutatnak kőt, papírt és ollót, akkor egyik játékosnak sem éri meg ezen változtatni. (Remélem jó a feltevésem nem próbáltam ki ;) )"
   ]
  },
  {
   "cell_type": "code",
   "execution_count": null,
   "id": "27fe9a0e",
   "metadata": {},
   "outputs": [],
   "source": []
  },
  {
   "cell_type": "markdown",
   "id": "e7d2c896",
   "metadata": {},
   "source": [
    "### Calendar modul\n",
    "Számos egyéb modul is van, pl. a `calendar` modul naptárral kapcsolatos funkciókat tud. Az egyik függvénye az `isleap`, amely megadja, hogy egy év szökőév-e vagy sem."
   ]
  },
  {
   "cell_type": "code",
   "execution_count": null,
   "id": "c5a88c94",
   "metadata": {},
   "outputs": [],
   "source": [
    "import calendar\n",
    "calendar.isleap(2010)"
   ]
  },
  {
   "cell_type": "markdown",
   "id": "044b9dbe",
   "metadata": {},
   "source": [
    "Kíváncsiak lehetünk arra is, hogy egy bizonyos fontos esemény a hét melyik napjára esett. (0 - hétfő, ..., 6 - vasárnap). Pl. az első holdraszállás? Vagy a születésünk?"
   ]
  },
  {
   "cell_type": "code",
   "execution_count": null,
   "id": "aab21bf4",
   "metadata": {},
   "outputs": [],
   "source": [
    "print(calendar.day_name[calendar.weekday(1914,7,28)])"
   ]
  },
  {
   "cell_type": "markdown",
   "id": "e2bac877",
   "metadata": {},
   "source": [
    "### Math modul\n",
    "Matematikai számításokhoz alapvető a `math` modul."
   ]
  },
  {
   "cell_type": "code",
   "execution_count": 11,
   "id": "2bd928f5",
   "metadata": {},
   "outputs": [],
   "source": [
    "import math"
   ]
  },
  {
   "cell_type": "markdown",
   "id": "ad4b5a2f",
   "metadata": {},
   "source": [
    "Benne van pl. a $\\pi$ szám (math.pi néven férhetünk hozzá), valamint mindenféle függvény, pl. sin... "
   ]
  },
  {
   "cell_type": "code",
   "execution_count": 12,
   "id": "af4ab7c7",
   "metadata": {
    "scrolled": true
   },
   "outputs": [
    {
     "name": "stdout",
     "output_type": "stream",
     "text": [
      "A 'pi' szám: 3.141592653589793\n"
     ]
    }
   ],
   "source": [
    "print(\"A 'pi' szám:\", math.pi)"
   ]
  },
  {
   "cell_type": "code",
   "execution_count": 18,
   "id": "5d9764b6",
   "metadata": {},
   "outputs": [
    {
     "data": {
      "text/plain": [
       "(-2.4492935982947064e-16, 6.123233995736766e-17)"
      ]
     },
     "execution_count": 18,
     "metadata": {},
     "output_type": "execute_result"
    }
   ],
   "source": [
    "math.sin(math.pi*2), math.cos(math.pi/2)"
   ]
  },
  {
   "cell_type": "markdown",
   "id": "e068e8d9",
   "metadata": {},
   "source": [
    "## Feladat:\n",
    "Tegyük fel, hogy egy óra számlapjának a közepe az origo, a számlap sugara 1. A percmutató a számlap sugarának 80%-a, az óra mutató a számlap sugarának 50%-a.\n",
    "* Mik az óra mutató végpontjának koordinátái 19.00-kor?\n",
    "* Mik a percmutató végpontjának koordinátái 13.48-kor?\n",
    "* Mik az óramutató és percmutató koordinátái 13.48-kor?\n",
    "* Írj egy függvényt, ami megadja az óramutató és percmutató koordinátáit adott órában és percben!"
   ]
  },
  {
   "cell_type": "code",
   "execution_count": 32,
   "id": "97c22d04",
   "metadata": {},
   "outputs": [],
   "source": []
  },
  {
   "cell_type": "code",
   "execution_count": 35,
   "id": "8d5eb13b",
   "metadata": {},
   "outputs": [],
   "source": []
  },
  {
   "cell_type": "code",
   "execution_count": 36,
   "id": "2f68647e",
   "metadata": {},
   "outputs": [
    {
     "data": {
      "image/png": "[encoded data removed]",
      "text/plain": [
       "<Figure size 640x480 with 1 Axes>"
      ]
     },
     "metadata": {},
     "output_type": "display_data"
    }
   ],
   "source": []
  },
  {
   "cell_type": "code",
   "execution_count": 1,
   "id": "4f385319",
   "metadata": {},
   "outputs": [],
   "source": [
    "import matplotlib.pyplot as plt\n",
    "\n",
    "def clock_drawer(*args):\n",
    "    \"\"\"\n",
    "        Ora rajzolo, a mutator koordinatait varja tuple-kent,\n",
    "        pl.: clock_drawer((0,0.8), (0.5,0))\n",
    "             clock_drawer((0,0.8))\n",
    "    \"\"\"\n",
    "    figure, axes = plt.subplots()\n",
    "    circle = plt.Circle(( 0 , 0 ), 1 ,fill = False )\n",
    "    axes.add_artist(circle)\n",
    "    axes.set_xlim(-1.2,1.2)\n",
    "    axes.set_ylim(-1.2,1.2)\n",
    "    for x,y in args:\n",
    "        axes.scatter(x,y)\n",
    "        axes.plot([0,x], [0,y])\n",
    "    plt.show()"
   ]
  },
  {
   "cell_type": "code",
   "execution_count": 10,
   "id": "871609cc",
   "metadata": {},
   "outputs": [
    {
     "data": {
      "image/png": "[encoded data removed]",
      "text/plain": [
       "<Figure size 640x480 with 1 Axes>"
      ]
     },
     "metadata": {},
     "output_type": "display_data"
    }
   ],
   "source": [
    "clock_drawer((0,0.8), (0.5,0))"
   ]
  },
  {
   "cell_type": "code",
   "execution_count": null,
   "id": "f62bed9f",
   "metadata": {},
   "outputs": [],
   "source": []
  },
  {
   "cell_type": "code",
   "execution_count": null,
   "id": "30873ac2",
   "metadata": {},
   "outputs": [],
   "source": []
  },
  {
   "cell_type": "code",
   "execution_count": null,
   "id": "e1bc8b84",
   "metadata": {},
   "outputs": [],
   "source": []
  },
  {
   "cell_type": "code",
   "execution_count": null,
   "id": "55bcc15d",
   "metadata": {
    "scrolled": true
   },
   "outputs": [],
   "source": []
  },
  {
   "cell_type": "code",
   "execution_count": null,
   "id": "228bb0d3",
   "metadata": {},
   "outputs": [],
   "source": []
  },
  {
   "cell_type": "markdown",
   "id": "91dfe12f",
   "metadata": {},
   "source": [
    "### Time modul\n",
    "A rengeteg készen hozzáférhető modul közül itt kiemeljük a `time` modult, amelynek `time()` függvényével egy-egy kódrészlet futási idejét mérhetjük meg."
   ]
  },
  {
   "cell_type": "code",
   "execution_count": null,
   "id": "f26195c1",
   "metadata": {},
   "outputs": [],
   "source": [
    "import time\n",
    "t0 = time.time()\n",
    "sum(range(1000000))   #Összeadás a beépített sum függgvénnyel\n",
    "t1 = time.time()\n",
    "futasi_ido1 = t1 - t0\n",
    "#Hogy viszonyul ehhez a while ciklussal történő összeadása ugyanezen számoknak?\n",
    "t2 = time.time()\n",
    "s = 0\n",
    "i = 0\n",
    "while i <= 1000000:\n",
    "    s = s + i\n",
    "    i += 1\n",
    "t3 = time.time()\n",
    "futasi_ido2 = t3 - t2\n",
    "futasi_ido1, futasi_ido2\n"
   ]
  },
  {
   "cell_type": "markdown",
   "id": "e4a7ea5e",
   "metadata": {},
   "source": [
    "Saját modulokat is készíthetünk, .py kiterjesztésű fájlok formájában. Ha egy ilyen fájl neve pl. kellekek.py, akkor az őt használó fő fájl (pl. fo.py) elején hasonlóan importáljuk, mint a beépített modulokat:"
   ]
  },
  {
   "cell_type": "code",
   "execution_count": null,
   "id": "14fe5c41",
   "metadata": {},
   "outputs": [],
   "source": [
    "import kellekek"
   ]
  },
  {
   "cell_type": "markdown",
   "id": "7758ebbc",
   "metadata": {},
   "source": [
    "Ezzel a kellekek.py fájlban definiált változókat, függvényeket a fo.py fájl is használni tudja."
   ]
  },
  {
   "cell_type": "markdown",
   "id": "48cab1eb",
   "metadata": {},
   "source": [
    "Pl. hozzuk létre a kellekek.py fájlt a következő tartalommal (egy konstans és egy függvény):"
   ]
  },
  {
   "cell_type": "code",
   "execution_count": null,
   "id": "8062880f",
   "metadata": {},
   "outputs": [],
   "source": [
    "# kellekek.py fájl tartalma\n",
    "szinek = ('piros', 'feher', 'kek')\n",
    "\n",
    "def atlag(szamok):\n",
    "    return sum(szamok)/len(szamok)"
   ]
  },
  {
   "cell_type": "markdown",
   "id": "c14f76ec",
   "metadata": {},
   "source": [
    "A kellekek.py-ban definiált konstans és függvény kétféleképpen is használhatóvá tehető a foo.py fájl számára:"
   ]
  },
  {
   "cell_type": "code",
   "execution_count": null,
   "id": "43fe690a",
   "metadata": {},
   "outputs": [],
   "source": [
    "# foo.py tartalma\n",
    "import kellekek    \n",
    "print(kellekek.szinek)   \n",
    "print(kellekek.atlag([1,2,3]))"
   ]
  },
  {
   "cell_type": "code",
   "execution_count": null,
   "id": "f7afb870",
   "metadata": {},
   "outputs": [],
   "source": [
    "# foo.py tartalma - másik lehetőség:\n",
    "from kellekek import szinek, atlag \n",
    "print(szinek)    \n",
    "print(atlag([1,2,3]))"
   ]
  },
  {
   "cell_type": "markdown",
   "id": "6c49d065",
   "metadata": {},
   "source": [
    "Ha a kellekek.py fájl a jelenlegi munkafüzettel egy könyvtárban van, akkor itt a Jupyterben is importálhatjuk:"
   ]
  },
  {
   "cell_type": "code",
   "execution_count": null,
   "id": "f98d7473",
   "metadata": {},
   "outputs": [],
   "source": [
    "import kellekek    \n",
    "print(kellekek.szinek) "
   ]
  },
  {
   "cell_type": "markdown",
   "id": "2107c20e",
   "metadata": {},
   "source": [
    "## Feladat:\n",
    "Határozzuk meg három szám maximumát annak a függvénynek a felhasználásával, amely két szám maximumát választotta ki. Egy cellában adjuk meg egymás után a két függvényt maximum2 és maximum3 néven, és figyeljük meg, hogy a második függvényből meghívható-e az első. "
   ]
  },
  {
   "cell_type": "code",
   "execution_count": null,
   "id": "94a0feec",
   "metadata": {},
   "outputs": [],
   "source": [
    "def maximum2(a,b):\n",
    "    if a < b:\n",
    "        return b\n",
    "    else:\n",
    "        return a"
   ]
  },
  {
   "cell_type": "markdown",
   "id": "5255e0f1",
   "metadata": {},
   "source": [
    "## Függvények tetszőleges számú argumentummal\n",
    "\n",
    "Most térjünk vissza a függvényekre! Szükségünk lehet olyan függvényre, amelyet akárhány argumentummal meghívhatunk. Pl. a beépített `max` függvény ilyen. "
   ]
  },
  {
   "cell_type": "code",
   "execution_count": null,
   "id": "6b27cdb1",
   "metadata": {},
   "outputs": [],
   "source": [
    "max(1,2,3)"
   ]
  },
  {
   "cell_type": "code",
   "execution_count": null,
   "id": "39ce3516",
   "metadata": {},
   "outputs": [],
   "source": [
    "max(1,2,3,4)"
   ]
  },
  {
   "cell_type": "markdown",
   "id": "8c4320f0",
   "metadata": {},
   "source": [
    "Hogyan lehet ilyen függvényt készíteni? "
   ]
  },
  {
   "cell_type": "code",
   "execution_count": null,
   "id": "0b9b1714",
   "metadata": {},
   "outputs": [],
   "source": [
    "def maximum(*args):  # minden argumentumot az args nevű tuple-ba gyűjt\n",
    "    m = 0\n",
    "    for arg in args:  # a tuple-n végiglépeget\n",
    "        if m < arg:\n",
    "            m = arg\n",
    "    return m\n",
    "        \n",
    "maximum(1,2,3)"
   ]
  },
  {
   "cell_type": "code",
   "execution_count": null,
   "id": "1faef558",
   "metadata": {},
   "outputs": [],
   "source": [
    "maximum(1,2,3,4)"
   ]
  },
  {
   "cell_type": "markdown",
   "id": "161f56c9",
   "metadata": {},
   "source": [
    "Vegyük észre, hogy ez a függvény csak akkor működik, ha hívásnál a zárójelen belül vesszővel elválasztva soroljuk fel egyenként a paramétereket. Azt már nem fogadja el, ha először készítünk egy listát ezekből a számokból, és azzal próbáljuk meghívni:"
   ]
  },
  {
   "cell_type": "code",
   "execution_count": null,
   "id": "2034f905",
   "metadata": {},
   "outputs": [],
   "source": [
    "szamok = [1,2,3,4]\n",
    "maximum(szamok)"
   ]
  },
  {
   "cell_type": "markdown",
   "id": "3fe76872",
   "metadata": {},
   "source": [
    "Mégis használható a fenti függvény lista esetén is, ha a csillag jellel kicsomagoljuk a listát:"
   ]
  },
  {
   "cell_type": "code",
   "execution_count": null,
   "id": "0253d33d",
   "metadata": {},
   "outputs": [],
   "source": [
    "maximum(*szamok)"
   ]
  },
  {
   "cell_type": "markdown",
   "id": "d25af966",
   "metadata": {},
   "source": [
    "## Feladat:\n",
    "\n",
    "Írjunk olyan függvényt, amely megszámolja, hogy hány argumentumot adtunk meg neki, és kiírja ezt szöveggel a képernyőre. "
   ]
  },
  {
   "cell_type": "code",
   "execution_count": null,
   "id": "96a7fa1c",
   "metadata": {},
   "outputs": [],
   "source": [
    "def argumentumszamolo(*args):\n",
    "    # TODO"
   ]
  },
  {
   "cell_type": "code",
   "execution_count": null,
   "id": "2ec33bba",
   "metadata": {},
   "outputs": [],
   "source": [
    "assert argumentumszamolo(1,2,7,8,30,7,8,100) == 8"
   ]
  },
  {
   "cell_type": "markdown",
   "id": "e1a6b310",
   "metadata": {},
   "source": [
    "## Feladat:\n",
    "Írjunk függvényt, amely akárhány számot összead."
   ]
  },
  {
   "cell_type": "code",
   "execution_count": null,
   "id": "f620a17f",
   "metadata": {},
   "outputs": [],
   "source": [
    "def osszeg(*szamok):\n",
    "    # TODO"
   ]
  },
  {
   "cell_type": "code",
   "execution_count": null,
   "id": "725f2985",
   "metadata": {},
   "outputs": [],
   "source": [
    "assert osszeg(1,2,1,2,0,1,2) == sum([1,2,1,2,0,1,2])"
   ]
  },
  {
   "cell_type": "markdown",
   "id": "1476b7e6",
   "metadata": {},
   "source": [
    "A függvény paraméterei között a csillaggal megjelöltön kívül szerepelhetnek egyéb paraméterek is. Ekkor a függvény hívásánál a csillaggal megjelölt paraméter helyére az összes többi argumentumot tartalmazó tuple kerül. Pl."
   ]
  },
  {
   "cell_type": "code",
   "execution_count": null,
   "id": "36360de8",
   "metadata": {},
   "outputs": [],
   "source": [
    "def helyezesek(elso, masodik, harmadik, *tobbi):\n",
    "    print(f\"A dobogósok: {elso, masodik, harmadik}. Futottak még: {tobbi}\")\n",
    "    \n",
    "helyezesek(\"Hamilton\", \"Verstappen\", \"Rosberg\", \"Vettel\", \"Button\", \"Alonso\")"
   ]
  },
  {
   "cell_type": "markdown",
   "id": "cadcff34",
   "metadata": {},
   "source": [
    "Kulcsszavas argumentumoknál is van lehetőség hasonló összevonásra, erre dupla csillag szolgál."
   ]
  },
  {
   "cell_type": "code",
   "execution_count": 42,
   "id": "8710f2e2",
   "metadata": {},
   "outputs": [
    {
     "name": "stdout",
     "output_type": "stream",
     "text": [
      "{'x': 'alma', 'y': 'szeder'}\n"
     ]
    }
   ],
   "source": [
    "def demo(**kwargs):\n",
    "    print(kwargs)\n",
    "    \n",
    "demo(x = \"alma\", y = \"szeder\")"
   ]
  },
  {
   "cell_type": "markdown",
   "id": "db4f11d4",
   "metadata": {},
   "source": [
    "Látható, hogy szótár jött létre.\n",
    "\n",
    "## Feladat:\n",
    "\n",
    "\n",
    "Írjunk függvényt, amelynek az argumentumai személyek életkorai, és kiírja a képernyőre, hogy ki hány éves."
   ]
  },
  {
   "cell_type": "code",
   "execution_count": 43,
   "id": "8d686b82",
   "metadata": {},
   "outputs": [
    {
     "name": "stdout",
     "output_type": "stream",
     "text": [
      "Anna 56 éves.\n",
      "Ede 45 éves.\n",
      "Csilla 18 éves.\n"
     ]
    }
   ],
   "source": [
    "def print_eletkorok(**kwargs):\n",
    "    #ToDo"
   ]
  },
  {
   "cell_type": "code",
   "execution_count": null,
   "id": "c15f0838",
   "metadata": {},
   "outputs": [],
   "source": [
    "print_eletkorok(Anna = 56, Ede = 45, Csilla = 18)"
   ]
  },
  {
   "cell_type": "markdown",
   "id": "3ebc66ea",
   "metadata": {},
   "source": [
    "## Módosítható alapértelmezett paraméterek\n",
    "\n",
    "Körültekintést igényel, ha az alapértelmezett paraméter módosítható típusú, pl.  lista. "
   ]
  },
  {
   "cell_type": "code",
   "execution_count": 37,
   "id": "de277ba8",
   "metadata": {},
   "outputs": [
    {
     "data": {
      "text/plain": [
       "[1, 2, 3, 'szia', 'szia']"
      ]
     },
     "execution_count": 37,
     "metadata": {},
     "output_type": "execute_result"
    }
   ],
   "source": [
    "def add_hozza_ketszer(valtozo, lst = []):\n",
    "    lst.append(valtozo)\n",
    "    lst.append(valtozo)\n",
    "    return lst\n",
    "\n",
    "add_hozza_ketszer(\"szia\", [1,2,3])"
   ]
  },
  {
   "cell_type": "markdown",
   "id": "8e040b3b",
   "metadata": {},
   "source": [
    "Mivel alapértelmezett értéket is megadtunk a listának, amelyhez hozzá szeretnénk adni kétszer a vátozót, és ez üres lista, így ha nem adunk át listát, akkor:"
   ]
  },
  {
   "cell_type": "code",
   "execution_count": 38,
   "id": "6c3c399c",
   "metadata": {},
   "outputs": [
    {
     "data": {
      "text/plain": [
       "['szia', 'szia']"
      ]
     },
     "execution_count": 38,
     "metadata": {},
     "output_type": "execute_result"
    }
   ],
   "source": [
    "add_hozza_ketszer(valtozo=\"szia\")"
   ]
  },
  {
   "cell_type": "markdown",
   "id": "c1c60716",
   "metadata": {},
   "source": [
    "Most hívjuk meg újból, pl. \"hello\"-val!"
   ]
  },
  {
   "cell_type": "code",
   "execution_count": 39,
   "id": "a3349b7d",
   "metadata": {},
   "outputs": [
    {
     "data": {
      "text/plain": [
       "['szia', 'szia', 'hello', 'hello']"
      ]
     },
     "execution_count": 39,
     "metadata": {},
     "output_type": "execute_result"
    }
   ],
   "source": [
    "add_hozza_ketszer(\"hello\")"
   ]
  },
  {
   "cell_type": "markdown",
   "id": "00a5c69a",
   "metadata": {},
   "source": [
    "Nem ezt akartuk... Az történt, hogy az előző hívásnál az `lst` lista megváltozott, és nem üres lista többé. Hogyan segíthetünk ezen?"
   ]
  },
  {
   "cell_type": "code",
   "execution_count": 40,
   "id": "10f3f108",
   "metadata": {},
   "outputs": [
    {
     "data": {
      "text/plain": [
       "['hello', 'hello']"
      ]
     },
     "execution_count": 40,
     "metadata": {},
     "output_type": "execute_result"
    }
   ],
   "source": [
    "def add_hozza_ketszer(valtozo, lst = None):\n",
    "    if lst == None:\n",
    "        lst = []\n",
    "    lst.append(valtozo)\n",
    "    lst.append(valtozo)\n",
    "    return lst\n",
    "\n",
    "add_hozza_ketszer(\"hello\")"
   ]
  },
  {
   "cell_type": "code",
   "execution_count": 41,
   "id": "90c3e5ed",
   "metadata": {},
   "outputs": [
    {
     "data": {
      "text/plain": [
       "['hello', 'hello']"
      ]
     },
     "execution_count": 41,
     "metadata": {},
     "output_type": "execute_result"
    }
   ],
   "source": [
    "add_hozza_ketszer(\"hello\")"
   ]
  },
  {
   "cell_type": "markdown",
   "id": "abefb121",
   "metadata": {},
   "source": [
    "# Az osztály\n",
    "\n",
    "A valós világbeli dolgok modellezésére, vagy akár matematikai objektumok manipulálására sokszor érdemes a Pythonban osztályt használni. Nézzünk példákat ennek a gyakorlására!"
   ]
  },
  {
   "cell_type": "markdown",
   "id": "ba0780ca",
   "metadata": {},
   "source": [
    "1) Készítsünk egy Kutya nevű osztályt, amellyel nyilvántarthatunk egy kutyaiskolába járó kutyákat. Minden kutyának legyen először is saját neve. "
   ]
  },
  {
   "cell_type": "code",
   "execution_count": null,
   "id": "42099e33",
   "metadata": {},
   "outputs": [],
   "source": [
    "class Kutya:\n",
    "    def __init__(self, nev):\n",
    "        self.nev = nev"
   ]
  },
  {
   "cell_type": "markdown",
   "id": "7c2cd669",
   "metadata": {},
   "source": [
    "Hozzunk létre egy Bodri és egy Morzsa nevű példányt! Az előbbit most a bodri, az utóbbit a morzsa nevű változóban tároljuk el, de más változónevek is használhatók."
   ]
  },
  {
   "cell_type": "code",
   "execution_count": null,
   "id": "b9771ab6",
   "metadata": {},
   "outputs": [],
   "source": [
    "bodri = Kutya(\"Bodri\")\n",
    "morzsa = Kutya(\"Morzsa\")"
   ]
  },
  {
   "cell_type": "code",
   "execution_count": null,
   "id": "bdce498e",
   "metadata": {},
   "outputs": [],
   "source": [
    "bodri.nev"
   ]
  },
  {
   "cell_type": "code",
   "execution_count": null,
   "id": "bd74e257",
   "metadata": {},
   "outputs": [],
   "source": [
    "morzsa.nev"
   ]
  },
  {
   "cell_type": "markdown",
   "id": "06785b8a",
   "metadata": {},
   "source": [
    "Valamit tudjanak is a példányok ebben az osztályban, pl. legyen egy 'ugat' nevű függvény (metódus) az osztályon, amely bármelyik példányra alkalmazható. Ez most egyszerűen csak írja ki a képernyőre, hogy a szóban forgó kutya ugat."
   ]
  },
  {
   "cell_type": "code",
   "execution_count": null,
   "id": "b9248d58",
   "metadata": {},
   "outputs": [],
   "source": [
    "class Kutya:\n",
    "    def __init__(self, nev):\n",
    "        self.nev = nev\n",
    "    def ugat(self):\n",
    "        print(f\"Vau - mondta {self.nev}.\")"
   ]
  },
  {
   "cell_type": "code",
   "execution_count": null,
   "id": "55e950a9",
   "metadata": {},
   "outputs": [],
   "source": [
    "bodri.ugat()"
   ]
  },
  {
   "cell_type": "markdown",
   "id": "456eae26",
   "metadata": {},
   "source": [
    "Bodrin egyelőre nem működik ez a funkció, mert az ugató függvényt Bodri létrehozása után építettük bele az osztályba. Maga a példány még létezik, de csak a régi osztály definíciója szerinti dolgok működnek rajta. Ezt jobban megérthetjük, ha az osztályra úgy gondolunk, mint egy gyárra. Ha a régi gyárral létrehoztunk egy példányt, majd új gyárat építettünk a régi helyett, akkor a régi gyárral létrehozott példány még megvan, de nem tudja azokat a funkciókat, amelyeket csak az új gyárban tudnak beleépíteni. Ezért az osztály módosítása után a példányokat is mindig hozzuk újra létre."
   ]
  },
  {
   "cell_type": "code",
   "execution_count": null,
   "id": "98d50b1c",
   "metadata": {},
   "outputs": [],
   "source": [
    "bodri = Kutya(\"Bodri\")\n",
    "bodri.ugat()"
   ]
  },
  {
   "cell_type": "markdown",
   "id": "4397c1c5",
   "metadata": {},
   "source": [
    "Hány kutya van az osztályban? Ehhez még az inicializálás előtt hozzunk létre egy kutyak_szama változót (ez nem egy példányhoz tartozó változó, hanem az osztályhoz tartozik), amelynek az értéke 0 legyen, és az init belsejében növeljük meg az értékét 1-gyel. Az $__init__$ részben felsoroltak minden példány létrehozásánal automatikusan végrehajtódnak, így minden egyes újabb példány létrehozásakor eggyel nő ennek változónak az értéke, és Kutya.kutyak_szama mindig megadja az egyedek éppen aktuális számát."
   ]
  },
  {
   "cell_type": "code",
   "execution_count": null,
   "id": "f7d00ce8",
   "metadata": {},
   "outputs": [],
   "source": [
    "class Kutya:\n",
    "    kutyak_szama = 0\n",
    "    def __init__(self, nev):\n",
    "        self.nev = nev\n",
    "        Kutya.kutyak_szama += 1\n",
    "    def ugat(self):\n",
    "        print(f\"{self.nev} ugat.\")"
   ]
  },
  {
   "cell_type": "code",
   "execution_count": null,
   "id": "94ec2928",
   "metadata": {},
   "outputs": [],
   "source": [
    "bodri = Kutya(\"Bodri\")\n",
    "morzsa = Kutya(\"Morzsa\")\n",
    "Kutya.kutyak_szama"
   ]
  },
  {
   "cell_type": "markdown",
   "id": "4bcc10b5",
   "metadata": {},
   "source": [
    "## Feladat:\n",
    "Szeretnénk számon tartani, hogy melyik kutya mit tud. \n",
    "* Készítsünk ehhez egy self.kepessegek listát az init-en belül, amely üres legyen, majd adjunk az osztályhoz olyan metódust, amely lehetővé teszi, hogy bármelyik adott kutya esetén újabb képességet adjunk hozzá ehhez a listához.\n",
    "* Tartsuk számon, hogy eddig milyen képességeik vannak a kutyáknak."
   ]
  },
  {
   "cell_type": "code",
   "execution_count": null,
   "id": "0a68be96",
   "metadata": {},
   "outputs": [],
   "source": [
    "class Kutya:\n",
    "    \n",
    "    # TODO\n",
    "    \n",
    "    def __init__(self, nev):\n",
    "        # TODO\n",
    "    \n",
    "    def ugat(self):\n",
    "        print(f\"{self.nev} ugat.\")\n",
    "        \n",
    "    def kepesseg_hozzaadasa(self,uj_kepesseg):\n",
    "        # TODO"
   ]
  },
  {
   "cell_type": "code",
   "execution_count": null,
   "id": "7066087a",
   "metadata": {},
   "outputs": [],
   "source": [
    "bodri = Kutya(\"Bodri\")\n",
    "bodri.kepessegek"
   ]
  },
  {
   "cell_type": "code",
   "execution_count": null,
   "id": "929d2acf",
   "metadata": {},
   "outputs": [],
   "source": [
    "bodri.kepesseg_hozzaadasa(\"vakvezetes\")"
   ]
  },
  {
   "cell_type": "code",
   "execution_count": null,
   "id": "e29ba419",
   "metadata": {},
   "outputs": [],
   "source": [
    "morzsa = Kutya(\"Morzsa\")\n",
    "morzsa.kepesseg_hozzaadasa(\"akadalyugras\")"
   ]
  },
  {
   "cell_type": "code",
   "execution_count": null,
   "id": "0eb5ff86",
   "metadata": {},
   "outputs": [],
   "source": [
    "morzsa.kepessegek"
   ]
  },
  {
   "cell_type": "code",
   "execution_count": null,
   "id": "493a135a",
   "metadata": {},
   "outputs": [],
   "source": [
    "morzsa.kepesseg_hozzaadasa(\"palankmaszas\")"
   ]
  },
  {
   "cell_type": "code",
   "execution_count": null,
   "id": "cddc0b81",
   "metadata": {},
   "outputs": [],
   "source": [
    "morzsa.kepessegek"
   ]
  }
 ],
 "metadata": {
  "kernelspec": {
   "display_name": "Python 3 (ipykernel)",
   "language": "python",
   "name": "python3"
  },
  "language_info": {
   "codemirror_mode": {
    "name": "ipython",
    "version": 3
   },
   "file_extension": ".py",
   "mimetype": "text/x-python",
   "name": "python",
   "nbconvert_exporter": "python",
   "pygments_lexer": "ipython3",
   "version": "3.9.13"
  }
 },
 "nbformat": 4,
 "nbformat_minor": 5
}
