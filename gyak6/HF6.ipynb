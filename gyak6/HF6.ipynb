{
 "cells": [
  {
   "cell_type": "markdown",
   "id": "ee659799",
   "metadata": {},
   "source": [
    "## Házi feladat\n",
    "Írd meg a `Hallgató` osztályt! Egy Hallgatónak\n",
    "* legyen neve és Neptun kódja,\n",
    "* legyenek tantárgyai, továbbá tároljuk, hogy elvégezte-e, és ha igen, milyen jeggyel,\n",
    "* legyen egy függvénye, amivel tárgyat tud felvenni, egyszerre akár többet is (tetszőlegesen sokat),\n",
    "* legyen egy függvénye, amivel tantárgyat tud elvégezni adott érdemjeggyel (alapértelmezetten 5-össel), egyszerre akár többet is,\n",
    "* legyen egy függvénye, ami visszaadja az elvégzett tárgyai jegyeinek az átlagát,\n",
    "* tároljuk el, hogy az összes hallgató együtt milyen tárgyakat végzett el eddig!"
   ]
  },
  {
   "cell_type": "code",
   "execution_count": null,
   "id": "d2b1e076",
   "metadata": {},
   "outputs": [],
   "source": []
  }
 ],
 "metadata": {
  "kernelspec": {
   "display_name": "Python 3 (ipykernel)",
   "language": "python",
   "name": "python3"
  },
  "language_info": {
   "codemirror_mode": {
    "name": "ipython",
    "version": 3
   },
   "file_extension": ".py",
   "mimetype": "text/x-python",
   "name": "python",
   "nbconvert_exporter": "python",
   "pygments_lexer": "ipython3",
   "version": "3.9.13"
  }
 },
 "nbformat": 4,
 "nbformat_minor": 5
}
