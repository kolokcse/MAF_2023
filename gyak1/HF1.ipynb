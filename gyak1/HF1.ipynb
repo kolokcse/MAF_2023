{
 "cells": [
  {
   "cell_type": "markdown",
   "id": "526ffc54",
   "metadata": {},
   "source": [
    "## Házi feladat\n",
    "\n",
    "Olvass be inputról két időpontot HHMMSS formában (az első két számjegy az óra (0-23), a második két számjegy a perc (0-59) és az utolsó kettő a másodperc (0-59)). \n",
    "* Számítsd ki, hogy a két időpont között hány másodperc telt el.\n",
    "* Számítsd ki, hogy a két időpont között hány óra, perc és  másodperc telt el. Ezt printeld a standard outputra az alábbi formában: `\"HH:MM:SS és hh:mm:ss között x óra, y perc és z másodperc telt el.\"`, ahol HH:MM:SS az első időpont és hh:mm:ss a második időpont.\n",
    "\n",
    "A feladat megoldásához bármit használhatsz, amit gyakorlaton tanultunk. _Érdemes lehet a részeredményeket változókban tárolni_. Az inputról feltételezzük, hogy az első időpont megelőzi a másodikat, és mindkét időpont valódi."
   ]
  },
  {
   "cell_type": "code",
   "execution_count": null,
   "id": "d11d43b8",
   "metadata": {},
   "outputs": [],
   "source": []
  }
 ],
 "metadata": {
  "kernelspec": {
   "display_name": "Python 3 (ipykernel)",
   "language": "python",
   "name": "python3"
  },
  "language_info": {
   "codemirror_mode": {
    "name": "ipython",
    "version": 3
   },
   "file_extension": ".py",
   "mimetype": "text/x-python",
   "name": "python",
   "nbconvert_exporter": "python",
   "pygments_lexer": "ipython3",
   "version": "3.9.13"
  }
 },
 "nbformat": 4,
 "nbformat_minor": 5
}
