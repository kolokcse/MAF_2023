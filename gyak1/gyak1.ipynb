{
 "cells": [
  {
   "cell_type": "markdown",
   "id": "07f62b58",
   "metadata": {},
   "source": [
    "# 1. gyakorlat"
   ]
  },
  {
   "cell_type": "markdown",
   "id": "a5445d27",
   "metadata": {},
   "source": [
    "## Adminisztratív részletek"
   ]
  },
  {
   "cell_type": "markdown",
   "id": "2e79a518",
   "metadata": {},
   "source": [
    "**Elérhetőség**: kolok.balazs.csego@gmail.com (vagy MS Teamsen)"
   ]
  },
  {
   "cell_type": "markdown",
   "id": "fb1059d6",
   "metadata": {},
   "source": [
    "**Óra kezdete**: 14:00 - 15:30"
   ]
  },
  {
   "cell_type": "markdown",
   "id": "054b7106",
   "metadata": {},
   "source": [
    "**Értékelés**: hetente házi feladatok, leadás a következő gyakorlat elejére, emailben az elsőt. Az email tárgya legyen HF_<sorszáma>_<NEPTUN kód>, a leadott file neve legyen ugyanez.\n",
    "*Pl: 7. házi feladatot az ABC123 neptun kódú hallgató a HF_7_ABC123 néven adná le.*"
   ]
  },
  {
   "cell_type": "markdown",
   "id": "ed9426b5",
   "metadata": {},
   "source": [
    "**Mai óra anyaga**: \n",
    "\n",
    " * GitHub: https://github.com/kolokcse/MAF_2023 Lépj be a fiókodba és keress rá a kolokcse/MAF_2023 repositoryra. A gyak1 mappában találod a két szükséges notebookot. Kattints a 'raw' nézetre és másold ki az url-t, majd töltsd le a fájlokat wget paranccsal.\n",
    " \n",
    " `wget https://raw.githubusercontent.com/kolokcse/MAF_2023/master/gyak1/gyak1.ipynb` , \n",
    " \n",
    " `wget https://raw.githubusercontent.com/kolokcse/MAF_2023/master/gyak1/HF1.ipynb`\n",
    "  \n",
    "  Vagy\n",
    "  \n",
    "  `mkdir MAF_2023 `\n",
    "  \n",
    "  `cd MAF_2023 `\n",
    "  \n",
    "  `git clone https://github.com/kolokcse/MAF_2023`\n",
    " \n",
    " * Dropbox: https://www.dropbox.com/sh/bnafzn5dkblvk2u/AACymm47wKGeeEyxMtg7T2Gva?dl=0"
   ]
  },
  {
   "cell_type": "markdown",
   "id": "a1e9d4cc",
   "metadata": {},
   "source": [
    "## Értékek és típusok"
   ]
  },
  {
   "cell_type": "markdown",
   "id": "bbb52c4c",
   "metadata": {},
   "source": [
    "### Numerikus adattípusok: `int`, `float`, `complex`"
   ]
  },
  {
   "cell_type": "markdown",
   "id": "b5b3cdf9",
   "metadata": {},
   "source": [
    "Az `int` az egész számokat jelöli. A `type` függvénnyel lehet \"elkérni\" egy objektum típusát."
   ]
  },
  {
   "cell_type": "code",
   "execution_count": 3,
   "id": "761e94d4",
   "metadata": {},
   "outputs": [
    {
     "data": {
      "text/plain": [
       "(9, int)"
      ]
     },
     "execution_count": 3,
     "metadata": {},
     "output_type": "execute_result"
    }
   ],
   "source": [
    "9, type(9)"
   ]
  },
  {
   "cell_type": "markdown",
   "id": "a601aea3",
   "metadata": {},
   "source": [
    "A `float` a valós (racionális) számok ábrázolására való."
   ]
  },
  {
   "cell_type": "code",
   "execution_count": 4,
   "id": "f6293a10",
   "metadata": {},
   "outputs": [
    {
     "data": {
      "text/plain": [
       "(0.8, float)"
      ]
     },
     "execution_count": 4,
     "metadata": {},
     "output_type": "execute_result"
    }
   ],
   "source": [
    "0.8, type(0.8)"
   ]
  },
  {
   "cell_type": "markdown",
   "id": "2efaa31b",
   "metadata": {},
   "source": [
    "A `complex` a komplex számokat jelöli."
   ]
  },
  {
   "cell_type": "code",
   "execution_count": 5,
   "id": "07a72284",
   "metadata": {
    "scrolled": true
   },
   "outputs": [
    {
     "data": {
      "text/plain": [
       "((1+3j), complex)"
      ]
     },
     "execution_count": 5,
     "metadata": {},
     "output_type": "execute_result"
    }
   ],
   "source": [
    "1+3j, type(1+3j)"
   ]
  },
  {
   "cell_type": "markdown",
   "id": "ca173e72",
   "metadata": {},
   "source": [
    "Normálalak:"
   ]
  },
  {
   "cell_type": "code",
   "execution_count": 6,
   "id": "4014fe4a",
   "metadata": {},
   "outputs": [
    {
     "data": {
      "text/plain": [
       "(12500000000.0, 3.19e-05)"
      ]
     },
     "execution_count": 6,
     "metadata": {},
     "output_type": "execute_result"
    }
   ],
   "source": [
    "1.25e10, 3.19e-5"
   ]
  },
  {
   "cell_type": "markdown",
   "id": "5782bbaf",
   "metadata": {},
   "source": [
    "### A `string` adattípus\n",
    "A `string` a \"szöveg\" típusú adatok tárolására alkalmas, valójában karakterláncot jelöl. Az idézőjelek közötti szöveget a python `string`-nek veszi."
   ]
  },
  {
   "cell_type": "code",
   "execution_count": 7,
   "id": "4e576dda",
   "metadata": {},
   "outputs": [
    {
     "data": {
      "text/plain": [
       "'kalap\\nsadsa\\n\\ndsafsaf\\n\\n'"
      ]
     },
     "execution_count": 7,
     "metadata": {},
     "output_type": "execute_result"
    }
   ],
   "source": [
    "\"xyz 123234 , .123?.#\", 'körte', \n",
    "\n",
    "\n",
    "\"\"\"kalap\n",
    "sadsa\n",
    "\n",
    "dsafsaf\n",
    "\n",
    "\"\"\""
   ]
  },
  {
   "cell_type": "code",
   "execution_count": 11,
   "id": "2ccb100b",
   "metadata": {},
   "outputs": [
    {
     "data": {
      "text/plain": [
       "\"azt mondta : 'valami'\""
      ]
     },
     "execution_count": 11,
     "metadata": {},
     "output_type": "execute_result"
    }
   ],
   "source": [
    "\"azt mondta : 'valami'\""
   ]
  },
  {
   "cell_type": "code",
   "execution_count": 12,
   "id": "3a69b286",
   "metadata": {
    "scrolled": true
   },
   "outputs": [
    {
     "data": {
      "text/plain": [
       "str"
      ]
     },
     "execution_count": 12,
     "metadata": {},
     "output_type": "execute_result"
    }
   ],
   "source": [
    "type(\"xyz\")"
   ]
  },
  {
   "cell_type": "markdown",
   "id": "c45cfa24",
   "metadata": {},
   "source": [
    "### Logikai (`bool`) adattípus"
   ]
  },
  {
   "cell_type": "code",
   "execution_count": 15,
   "id": "f8d69766",
   "metadata": {},
   "outputs": [
    {
     "data": {
      "text/plain": [
       "(True, False)"
      ]
     },
     "execution_count": 15,
     "metadata": {},
     "output_type": "execute_result"
    }
   ],
   "source": [
    "True, False"
   ]
  },
  {
   "cell_type": "code",
   "execution_count": 16,
   "id": "b7b5f495",
   "metadata": {},
   "outputs": [
    {
     "data": {
      "text/plain": [
       "bool"
      ]
     },
     "execution_count": 16,
     "metadata": {},
     "output_type": "execute_result"
    }
   ],
   "source": [
    "type(True)"
   ]
  },
  {
   "cell_type": "markdown",
   "id": "53059b6f",
   "metadata": {},
   "source": [
    "## Változók\n",
    "Az értékeknek nevet adhatunk, ami alapján később lekérdehetjük és módosíthatjuk őket. Ez a név a változó."
   ]
  },
  {
   "cell_type": "markdown",
   "id": "0fd92f29",
   "metadata": {},
   "source": [
    "Értékadás változónak:"
   ]
  },
  {
   "cell_type": "code",
   "execution_count": 17,
   "id": "2cb6062a",
   "metadata": {},
   "outputs": [
    {
     "data": {
      "text/plain": [
       "1"
      ]
     },
     "execution_count": 17,
     "metadata": {},
     "output_type": "execute_result"
    }
   ],
   "source": [
    "a = 1\n",
    "a"
   ]
  },
  {
   "cell_type": "code",
   "execution_count": 18,
   "id": "088f4b21",
   "metadata": {},
   "outputs": [
    {
     "data": {
      "text/plain": [
       "int"
      ]
     },
     "execution_count": 18,
     "metadata": {},
     "output_type": "execute_result"
    }
   ],
   "source": [
    "type(a)"
   ]
  },
  {
   "cell_type": "markdown",
   "id": "9debaffd",
   "metadata": {},
   "source": [
    "A `print` függvény az argumentumát kiírja."
   ]
  },
  {
   "cell_type": "code",
   "execution_count": 19,
   "id": "a9801c3f",
   "metadata": {},
   "outputs": [
    {
     "name": "stdout",
     "output_type": "stream",
     "text": [
      "xyz\n"
     ]
    }
   ],
   "source": [
    "print(\"xyz\")"
   ]
  },
  {
   "cell_type": "code",
   "execution_count": 20,
   "id": "2dcb8ca1",
   "metadata": {},
   "outputs": [
    {
     "name": "stdout",
     "output_type": "stream",
     "text": [
      "1\n"
     ]
    }
   ],
   "source": [
    "print(a)"
   ]
  },
  {
   "cell_type": "markdown",
   "id": "0003fc84",
   "metadata": {},
   "source": [
    "A változók legfőbb haszna, hogy az általuk jelölt értéket megváltoztathatjuk, felülírhatjuk."
   ]
  },
  {
   "cell_type": "code",
   "execution_count": 21,
   "id": "ac842bbe",
   "metadata": {},
   "outputs": [
    {
     "name": "stdout",
     "output_type": "stream",
     "text": [
      "1\n",
      "0\n"
     ]
    }
   ],
   "source": [
    "print(a)\n",
    "a = 0\n",
    "print(a)"
   ]
  },
  {
   "cell_type": "markdown",
   "id": "04deea0c",
   "metadata": {},
   "source": [
    "A pythonban a kiértékelés \"jobbról balra\" történik, vagyis érvényes az alábbi programkód, mivel először a `b+1` értékelődik ki, és a `b` változók ezt kapja értékül."
   ]
  },
  {
   "cell_type": "code",
   "execution_count": 22,
   "id": "5828e071",
   "metadata": {},
   "outputs": [
    {
     "name": "stdout",
     "output_type": "stream",
     "text": [
      "2\n",
      "3\n"
     ]
    }
   ],
   "source": [
    "b = 2\n",
    "print(b)\n",
    "b = b + 1\n",
    "print(b)"
   ]
  },
  {
   "cell_type": "markdown",
   "id": "6f30e254",
   "metadata": {},
   "source": [
    "Egy bizonyos típusú változó kaphat más típusú értéket is, például egy korábban `int`-et jelölő változót felülírhatjuk `string`-re is akár. Ez nem minden programozási nyelvben van így."
   ]
  },
  {
   "cell_type": "code",
   "execution_count": 23,
   "id": "72123a4e",
   "metadata": {},
   "outputs": [
    {
     "name": "stdout",
     "output_type": "stream",
     "text": [
      "5 <class 'int'>\n",
      "abc <class 'str'>\n"
     ]
    }
   ],
   "source": [
    "c = 5\n",
    "print(c, type(c))\n",
    "c = \"abc\"\n",
    "print(c, type(c))"
   ]
  },
  {
   "cell_type": "markdown",
   "id": "f92ada47",
   "metadata": {},
   "source": [
    "## Típuskonverziók (casting)\n",
    "Bizonyos esetekben egy-egy változó átalakítható más típusú változóvá, például egy szám `string`-gé, vagy, ha megfelelő alakú a `string`, akkor az számmá:"
   ]
  },
  {
   "cell_type": "code",
   "execution_count": 24,
   "id": "3630988e",
   "metadata": {},
   "outputs": [
    {
     "name": "stdout",
     "output_type": "stream",
     "text": [
      "2022 <class 'int'>\n",
      "2022 <class 'str'>\n"
     ]
    }
   ],
   "source": [
    "x = 2022\n",
    "print(x, type(x))\n",
    "x = str(x)\n",
    "print(x, type(x))"
   ]
  },
  {
   "cell_type": "code",
   "execution_count": 27,
   "id": "ca0cdf65",
   "metadata": {},
   "outputs": [
    {
     "ename": "ValueError",
     "evalue": "invalid literal for int() with base 10: '1234.5'",
     "output_type": "error",
     "traceback": [
      "\u001b[0;31m---------------------------------------------------------------------------\u001b[0m",
      "\u001b[0;31mValueError\u001b[0m                                Traceback (most recent call last)",
      "\u001b[0;32m/tmp/ipykernel_4932/2178633061.py\u001b[0m in \u001b[0;36m<module>\u001b[0;34m\u001b[0m\n\u001b[1;32m      1\u001b[0m \u001b[0my\u001b[0m \u001b[0;34m=\u001b[0m \u001b[0;34m\"1234.5\"\u001b[0m\u001b[0;34m\u001b[0m\u001b[0;34m\u001b[0m\u001b[0m\n\u001b[0;32m----> 2\u001b[0;31m \u001b[0mint\u001b[0m\u001b[0;34m(\u001b[0m\u001b[0my\u001b[0m\u001b[0;34m)\u001b[0m\u001b[0;34m\u001b[0m\u001b[0;34m\u001b[0m\u001b[0m\n\u001b[0m",
      "\u001b[0;31mValueError\u001b[0m: invalid literal for int() with base 10: '1234.5'"
     ]
    }
   ],
   "source": [
    "y = \"1234.5\"\n",
    "int(y)"
   ]
  },
  {
   "cell_type": "code",
   "execution_count": 28,
   "id": "0db3a870",
   "metadata": {},
   "outputs": [
    {
     "data": {
      "text/plain": [
       "1234.5"
      ]
     },
     "execution_count": 28,
     "metadata": {},
     "output_type": "execute_result"
    }
   ],
   "source": [
    "float(y)"
   ]
  },
  {
   "cell_type": "code",
   "execution_count": 29,
   "id": "b90f7e67",
   "metadata": {},
   "outputs": [
    {
     "ename": "ValueError",
     "evalue": "could not convert string to float: '123012aetr'",
     "output_type": "error",
     "traceback": [
      "\u001b[0;31m---------------------------------------------------------------------------\u001b[0m",
      "\u001b[0;31mValueError\u001b[0m                                Traceback (most recent call last)",
      "\u001b[0;32m/tmp/ipykernel_4932/1480618946.py\u001b[0m in \u001b[0;36m<module>\u001b[0;34m\u001b[0m\n\u001b[1;32m      1\u001b[0m \u001b[0mz\u001b[0m \u001b[0;34m=\u001b[0m \u001b[0;34m\"123012aetr\"\u001b[0m\u001b[0;34m\u001b[0m\u001b[0;34m\u001b[0m\u001b[0m\n\u001b[0;32m----> 2\u001b[0;31m \u001b[0mfloat\u001b[0m\u001b[0;34m(\u001b[0m\u001b[0mz\u001b[0m\u001b[0;34m)\u001b[0m\u001b[0;34m\u001b[0m\u001b[0;34m\u001b[0m\u001b[0m\n\u001b[0m",
      "\u001b[0;31mValueError\u001b[0m: could not convert string to float: '123012aetr'"
     ]
    }
   ],
   "source": [
    "z = \"123012aetr\"\n",
    "float(z)"
   ]
  },
  {
   "cell_type": "markdown",
   "id": "55ee1e7f",
   "metadata": {},
   "source": [
    "## Aritmetikai műveletek"
   ]
  },
  {
   "cell_type": "markdown",
   "id": "a88075cd",
   "metadata": {},
   "source": [
    "A szám típusú változókkal elvégezhetők a szokásos számtani műveletek:"
   ]
  },
  {
   "cell_type": "code",
   "execution_count": 30,
   "id": "fd9dc39e",
   "metadata": {},
   "outputs": [],
   "source": [
    "a = 11\n",
    "b = 4"
   ]
  },
  {
   "cell_type": "code",
   "execution_count": 31,
   "id": "3d2a6f6c",
   "metadata": {},
   "outputs": [
    {
     "name": "stdout",
     "output_type": "stream",
     "text": [
      "88\n",
      "7\n",
      "44\n",
      "2.75\n"
     ]
    }
   ],
   "source": [
    "print(a * (b+b))\n",
    "print(a - b)\n",
    "print(a * b)\n",
    "print(a / b)"
   ]
  },
  {
   "cell_type": "markdown",
   "id": "4f17c113",
   "metadata": {},
   "source": [
    "A `%` az osztási maradékot jelöli (_modulo_ operátor), a `//` pedig a maradékos osztást:"
   ]
  },
  {
   "cell_type": "code",
   "execution_count": 32,
   "id": "3b34ce15",
   "metadata": {},
   "outputs": [
    {
     "name": "stdout",
     "output_type": "stream",
     "text": [
      "3\n",
      "2\n"
     ]
    }
   ],
   "source": [
    "print(a % b)\n",
    "print(a // b)"
   ]
  },
  {
   "cell_type": "markdown",
   "id": "c9550059",
   "metadata": {},
   "source": [
    "A modulo operátor negatív számokkal is működik:"
   ]
  },
  {
   "cell_type": "code",
   "execution_count": 33,
   "id": "7a9e399c",
   "metadata": {},
   "outputs": [
    {
     "data": {
      "text/plain": [
       "4"
      ]
     },
     "execution_count": 33,
     "metadata": {},
     "output_type": "execute_result"
    }
   ],
   "source": [
    "-1 % 5"
   ]
  },
  {
   "cell_type": "markdown",
   "id": "6961d084",
   "metadata": {},
   "source": [
    "A hatványozás műveletét a `**` jelöli:"
   ]
  },
  {
   "cell_type": "code",
   "execution_count": 34,
   "id": "f271be02",
   "metadata": {},
   "outputs": [
    {
     "name": "stdout",
     "output_type": "stream",
     "text": [
      "121\n",
      "121\n"
     ]
    }
   ],
   "source": [
    "print(a ** 2)\n",
    "print(a * a)"
   ]
  },
  {
   "cell_type": "markdown",
   "id": "aff731d1",
   "metadata": {},
   "source": [
    "### Feladatok:"
   ]
  },
  {
   "cell_type": "markdown",
   "id": "38edc7b3",
   "metadata": {},
   "source": [
    "Hogyan vonnál négyzetgyököt egy számból?"
   ]
  },
  {
   "cell_type": "code",
   "execution_count": 35,
   "id": "1210e30a",
   "metadata": {},
   "outputs": [
    {
     "data": {
      "text/plain": [
       "3.0"
      ]
     },
     "execution_count": 35,
     "metadata": {},
     "output_type": "execute_result"
    }
   ],
   "source": [
    "c = 9\n",
    "c ** 0.5"
   ]
  },
  {
   "cell_type": "markdown",
   "id": "d5341b6d",
   "metadata": {},
   "source": [
    "Hogyan számítanád ki egy szám alsó (felső) egészrészét? És a törtrészét?"
   ]
  },
  {
   "cell_type": "code",
   "execution_count": 47,
   "id": "567b7c3e",
   "metadata": {},
   "outputs": [
    {
     "data": {
      "text/plain": [
       "1"
      ]
     },
     "execution_count": 47,
     "metadata": {},
     "output_type": "execute_result"
    }
   ],
   "source": [
    "n = 1.2\n",
    "\n",
    "int(n//1)"
   ]
  },
  {
   "cell_type": "code",
   "execution_count": 48,
   "id": "9c9eb8d8",
   "metadata": {},
   "outputs": [
    {
     "data": {
      "text/plain": [
       "0.19999999999999996"
      ]
     },
     "execution_count": 48,
     "metadata": {},
     "output_type": "execute_result"
    }
   ],
   "source": [
    "n%1"
   ]
  },
  {
   "cell_type": "code",
   "execution_count": 49,
   "id": "3446a364",
   "metadata": {},
   "outputs": [
    {
     "data": {
      "text/plain": [
       "2.0"
      ]
     },
     "execution_count": 49,
     "metadata": {},
     "output_type": "execute_result"
    }
   ],
   "source": [
    "n + (1 - n%1)"
   ]
  },
  {
   "cell_type": "code",
   "execution_count": 39,
   "id": "5628a905",
   "metadata": {},
   "outputs": [],
   "source": [
    "import math"
   ]
  },
  {
   "cell_type": "code",
   "execution_count": 40,
   "id": "51e65025",
   "metadata": {},
   "outputs": [
    {
     "data": {
      "text/plain": [
       "124"
      ]
     },
     "execution_count": 40,
     "metadata": {},
     "output_type": "execute_result"
    }
   ],
   "source": [
    "math.ceil(n)"
   ]
  },
  {
   "cell_type": "code",
   "execution_count": 41,
   "id": "0f43bb04",
   "metadata": {},
   "outputs": [],
   "source": [
    "from math import *"
   ]
  },
  {
   "cell_type": "code",
   "execution_count": 42,
   "id": "18303f0e",
   "metadata": {},
   "outputs": [
    {
     "data": {
      "text/plain": [
       "124"
      ]
     },
     "execution_count": 42,
     "metadata": {},
     "output_type": "execute_result"
    }
   ],
   "source": [
    "ceil(n)"
   ]
  },
  {
   "cell_type": "markdown",
   "id": "fff40a1a",
   "metadata": {},
   "source": [
    "Hogyan vizsgálnád meg hogy egy szám páros-e?"
   ]
  },
  {
   "cell_type": "code",
   "execution_count": 50,
   "id": "835d9e50",
   "metadata": {},
   "outputs": [],
   "source": [
    "d = 5.5"
   ]
  },
  {
   "cell_type": "code",
   "execution_count": 51,
   "id": "6d527819",
   "metadata": {},
   "outputs": [
    {
     "data": {
      "text/plain": [
       "1.5"
      ]
     },
     "execution_count": 51,
     "metadata": {},
     "output_type": "execute_result"
    }
   ],
   "source": [
    "d%2"
   ]
  },
  {
   "cell_type": "markdown",
   "id": "ead41d90",
   "metadata": {},
   "source": [
    "Határozd meg az `12345` szám utolsó előtti számjegyét"
   ]
  },
  {
   "cell_type": "code",
   "execution_count": 53,
   "id": "38e4d862",
   "metadata": {},
   "outputs": [
    {
     "data": {
      "text/plain": [
       "12340"
      ]
     },
     "execution_count": 53,
     "metadata": {},
     "output_type": "execute_result"
    }
   ],
   "source": [
    "m = 12345"
   ]
  },
  {
   "cell_type": "markdown",
   "id": "83073012",
   "metadata": {},
   "source": [
    "## Műveletek `string`-ekkel"
   ]
  },
  {
   "cell_type": "code",
   "execution_count": 54,
   "id": "6eda0e77",
   "metadata": {},
   "outputs": [
    {
     "name": "stdout",
     "output_type": "stream",
     "text": [
      "['__add__', '__class__', '__contains__', '__delattr__', '__dir__', '__doc__', '__eq__', '__format__', '__ge__', '__getattribute__', '__getitem__', '__getnewargs__', '__gt__', '__hash__', '__init__', '__init_subclass__', '__iter__', '__le__', '__len__', '__lt__', '__mod__', '__mul__', '__ne__', '__new__', '__reduce__', '__reduce_ex__', '__repr__', '__rmod__', '__rmul__', '__setattr__', '__sizeof__', '__str__', '__subclasshook__', 'capitalize', 'casefold', 'center', 'count', 'encode', 'endswith', 'expandtabs', 'find', 'format', 'format_map', 'index', 'isalnum', 'isalpha', 'isascii', 'isdecimal', 'isdigit', 'isidentifier', 'islower', 'isnumeric', 'isprintable', 'isspace', 'istitle', 'isupper', 'join', 'ljust', 'lower', 'lstrip', 'maketrans', 'partition', 'removeprefix', 'removesuffix', 'replace', 'rfind', 'rindex', 'rjust', 'rpartition', 'rsplit', 'rstrip', 'split', 'splitlines', 'startswith', 'strip', 'swapcase', 'title', 'translate', 'upper', 'zfill']\n"
     ]
    }
   ],
   "source": [
    "print(dir(str))"
   ]
  },
  {
   "cell_type": "markdown",
   "id": "b5582a3e",
   "metadata": {},
   "source": [
    "### Konkatenáció (összefűzés):"
   ]
  },
  {
   "cell_type": "code",
   "execution_count": 55,
   "id": "b7809528",
   "metadata": {
    "scrolled": true
   },
   "outputs": [
    {
     "name": "stdout",
     "output_type": "stream",
     "text": [
      "abcxyzqwert9\n"
     ]
    }
   ],
   "source": [
    "print(\"abc\" + \"xyz\" + \"qwert\" + str(9))"
   ]
  },
  {
   "cell_type": "code",
   "execution_count": 56,
   "id": "382fc3a9",
   "metadata": {},
   "outputs": [
    {
     "name": "stdout",
     "output_type": "stream",
     "text": [
      "abc xyz\n"
     ]
    }
   ],
   "source": [
    "x = \"abc\"\n",
    "y = \"xyz\"\n",
    "z = x + \" \" + y\n",
    "print(z)"
   ]
  },
  {
   "cell_type": "code",
   "execution_count": 57,
   "id": "dfcf6dcf",
   "metadata": {},
   "outputs": [
    {
     "name": "stdout",
     "output_type": "stream",
     "text": [
      "abc-abc-abc-abc-abc-jjasndjjasndjjasndjjasndjjasndjjasndjjasndjjasndjjasnd\n"
     ]
    }
   ],
   "source": [
    "n = 5\n",
    "x = \"abc-\"\n",
    "y = \"jjasnd\"\n",
    "print(x*n+y*9)"
   ]
  },
  {
   "cell_type": "markdown",
   "id": "b06bbc5d",
   "metadata": {},
   "source": [
    "### Indexelés:\n",
    "A `string`-eket ha karakterláncként képzeljük, akkor lehet indexelni is őket, azaz lekérdezni a karakterlánc $i$-edik elemét. Az indexelés 0-tól kezdődik."
   ]
  },
  {
   "cell_type": "code",
   "execution_count": 58,
   "id": "8e6e3ac8",
   "metadata": {},
   "outputs": [
    {
     "data": {
      "text/plain": [
       "'j'"
      ]
     },
     "execution_count": 58,
     "metadata": {},
     "output_type": "execute_result"
    }
   ],
   "source": [
    "x = 'abcdefghijk'\n",
    "x[9]"
   ]
  },
  {
   "cell_type": "markdown",
   "id": "212c09ce",
   "metadata": {},
   "source": [
    "A `string` hossza a tartalmazott kerekterek száma, a `len` függvénnyel lehet lekérdezni:"
   ]
  },
  {
   "cell_type": "code",
   "execution_count": 59,
   "id": "5a7f5d95",
   "metadata": {},
   "outputs": [
    {
     "data": {
      "text/plain": [
       "11"
      ]
     },
     "execution_count": 59,
     "metadata": {},
     "output_type": "execute_result"
    }
   ],
   "source": [
    "len(x)"
   ]
  },
  {
   "cell_type": "code",
   "execution_count": 61,
   "id": "66eff913",
   "metadata": {},
   "outputs": [
    {
     "data": {
      "text/plain": [
       "'k'"
      ]
     },
     "execution_count": 61,
     "metadata": {},
     "output_type": "execute_result"
    }
   ],
   "source": [
    "x[len(x)-1]"
   ]
  },
  {
   "cell_type": "markdown",
   "id": "f5f5b2fe",
   "metadata": {},
   "source": [
    "A `string`-ek indexelés \"modulo `len`\" működik, vagyis:"
   ]
  },
  {
   "cell_type": "code",
   "execution_count": 62,
   "id": "cc09ca1d",
   "metadata": {},
   "outputs": [
    {
     "name": "stdout",
     "output_type": "stream",
     "text": [
      "i\n",
      "8\n",
      "i\n",
      "i\n"
     ]
    }
   ],
   "source": [
    "print(x[-3])\n",
    "print(-3%len(x))\n",
    "print(x[-3%len(x)])\n",
    "print(x[-3])"
   ]
  },
  {
   "cell_type": "markdown",
   "id": "cf070fd2",
   "metadata": {},
   "source": [
    "A `string`-eknek nemcsak egy-egy karakterét lehet lekérdezni, hanem egy szeletét is:"
   ]
  },
  {
   "cell_type": "code",
   "execution_count": 63,
   "id": "803119d9",
   "metadata": {},
   "outputs": [
    {
     "data": {
      "text/plain": [
       "'bcde'"
      ]
     },
     "execution_count": 63,
     "metadata": {},
     "output_type": "execute_result"
    }
   ],
   "source": [
    "x[1:5]"
   ]
  },
  {
   "cell_type": "markdown",
   "id": "5426fa9c",
   "metadata": {},
   "source": [
    "_(Itt az [a:b] azt jelöli, hogy az a. indexen lévő karaktertől a b-1. indexen lévő karakterig kérdezzük le.)_"
   ]
  },
  {
   "cell_type": "code",
   "execution_count": 64,
   "id": "b4ad2ede",
   "metadata": {},
   "outputs": [
    {
     "data": {
      "text/plain": [
       "''"
      ]
     },
     "execution_count": 64,
     "metadata": {},
     "output_type": "execute_result"
    }
   ],
   "source": [
    "x[5:1]"
   ]
  },
  {
   "cell_type": "markdown",
   "id": "728c0ede",
   "metadata": {},
   "source": [
    "A szeletelésnél megadható az is, hogy mekkora lépésközökkel szeretnénk lekérdezni, vagyis az [a:b:c] azt jelenti, hogy az a. karaktertől a b-1. karakterig minden c. karaktert kérünk."
   ]
  },
  {
   "cell_type": "code",
   "execution_count": 67,
   "id": "b9ec5a27",
   "metadata": {},
   "outputs": [
    {
     "data": {
      "text/plain": [
       "'afk'"
      ]
     },
     "execution_count": 67,
     "metadata": {},
     "output_type": "execute_result"
    }
   ],
   "source": [
    "x[::5]"
   ]
  },
  {
   "cell_type": "code",
   "execution_count": 70,
   "id": "9af3fcb1",
   "metadata": {},
   "outputs": [
    {
     "data": {
      "text/plain": [
       "'bdfhj'"
      ]
     },
     "execution_count": 70,
     "metadata": {},
     "output_type": "execute_result"
    }
   ],
   "source": [
    "x[1::2]"
   ]
  },
  {
   "cell_type": "markdown",
   "id": "5ad71026",
   "metadata": {},
   "source": [
    "### Feladatok:"
   ]
  },
  {
   "cell_type": "markdown",
   "id": "f10b0bc6",
   "metadata": {},
   "source": [
    "Kérdezd le a \"parallelepipedon\" minden harmadik betűjét!"
   ]
  },
  {
   "cell_type": "code",
   "execution_count": 72,
   "id": "638a5ea1",
   "metadata": {},
   "outputs": [],
   "source": [
    "p = \"parallelepipedon\""
   ]
  },
  {
   "cell_type": "code",
   "execution_count": 75,
   "id": "d1c1d722",
   "metadata": {},
   "outputs": [
    {
     "data": {
      "text/plain": [
       "'rlepo'"
      ]
     },
     "execution_count": 75,
     "metadata": {},
     "output_type": "execute_result"
    }
   ],
   "source": [
    "p[2::3]"
   ]
  },
  {
   "cell_type": "markdown",
   "id": "55280c1f",
   "metadata": {},
   "source": [
    "Fordítsd meg helyben a \"parallelepipedon\" szót!"
   ]
  },
  {
   "cell_type": "code",
   "execution_count": 73,
   "id": "243a2c62",
   "metadata": {},
   "outputs": [
    {
     "data": {
      "text/plain": [
       "'nodepipelellarap'"
      ]
     },
     "execution_count": 73,
     "metadata": {},
     "output_type": "execute_result"
    }
   ],
   "source": [
    "p[::-1]"
   ]
  },
  {
   "cell_type": "markdown",
   "id": "9ae87d29",
   "metadata": {},
   "source": [
    "Cseréld ki a szó elejét és végét úgy, hogy a pipedon-parallele szót kapjad!"
   ]
  },
  {
   "cell_type": "code",
   "execution_count": 77,
   "id": "cb0d809c",
   "metadata": {},
   "outputs": [
    {
     "data": {
      "text/plain": [
       "'pipedon-parallele'"
      ]
     },
     "execution_count": 77,
     "metadata": {},
     "output_type": "execute_result"
    }
   ],
   "source": [
    "p[9:16] + '-' + p[:9]"
   ]
  },
  {
   "cell_type": "markdown",
   "id": "6e2b7e89",
   "metadata": {},
   "source": [
    "Mondd meg ismét az $12345$ utolsó előtti számjegyét, ezúttal `string` műveletek segítsgével!"
   ]
  },
  {
   "cell_type": "code",
   "execution_count": 78,
   "id": "3403b323",
   "metadata": {},
   "outputs": [],
   "source": [
    "s=str(12345)"
   ]
  },
  {
   "cell_type": "code",
   "execution_count": 79,
   "id": "b9938639",
   "metadata": {},
   "outputs": [
    {
     "data": {
      "text/plain": [
       "'4'"
      ]
     },
     "execution_count": 79,
     "metadata": {},
     "output_type": "execute_result"
    }
   ],
   "source": [
    "s[-2]"
   ]
  },
  {
   "cell_type": "markdown",
   "id": "4da9dd5f",
   "metadata": {},
   "source": [
    "### Egyéb `string` műveletek:"
   ]
  },
  {
   "cell_type": "code",
   "execution_count": 80,
   "id": "28d0c23c",
   "metadata": {},
   "outputs": [
    {
     "name": "stdout",
     "output_type": "stream",
     "text": [
      "ez aztán a fura string\n",
      "EZ AZTÁN A FURA STRING\n",
      "Ez aztán a fura string\n"
     ]
    }
   ],
   "source": [
    "x = \"Ez AzTáN a FuRa StRiNg\"\n",
    "print(x.lower())\n",
    "print(x.upper())\n",
    "print(x.capitalize())"
   ]
  },
  {
   "cell_type": "code",
   "execution_count": 81,
   "id": "b9a19091",
   "metadata": {},
   "outputs": [
    {
     "name": "stdout",
     "output_type": "stream",
     "text": [
      "False\n"
     ]
    }
   ],
   "source": [
    "print(x.isalpha())"
   ]
  },
  {
   "cell_type": "code",
   "execution_count": 85,
   "id": "dcbd86d4",
   "metadata": {},
   "outputs": [
    {
     "name": "stdout",
     "output_type": "stream",
     "text": [
      "True\n"
     ]
    }
   ],
   "source": [
    "print(\"asdc\".isalpha())"
   ]
  },
  {
   "cell_type": "markdown",
   "id": "d0973d97",
   "metadata": {},
   "source": [
    "## Összehasonlítás:"
   ]
  },
  {
   "cell_type": "markdown",
   "id": "498dab6e",
   "metadata": {},
   "source": [
    "Két szám változó esetén el lehet dönteni, hogy ugyanazt az értéket jelölik-e:"
   ]
  },
  {
   "cell_type": "code",
   "execution_count": 86,
   "id": "aba309be",
   "metadata": {},
   "outputs": [
    {
     "name": "stdout",
     "output_type": "stream",
     "text": [
      "True\n",
      "True\n",
      "False\n"
     ]
    }
   ],
   "source": [
    "a = 5\n",
    "b = 5\n",
    "c = \"xyz\"\n",
    "d = \"xyz\"\n",
    "print(a == b)\n",
    "print(c == d)\n",
    "print(b == c)"
   ]
  },
  {
   "cell_type": "markdown",
   "id": "84a8f41d",
   "metadata": {},
   "source": [
    "A $\\leq$,$<$,$\\geq$,$>$ operátorok is használhatók:"
   ]
  },
  {
   "cell_type": "code",
   "execution_count": 87,
   "id": "c1e72d51",
   "metadata": {},
   "outputs": [
    {
     "name": "stdout",
     "output_type": "stream",
     "text": [
      "False\n",
      "True\n"
     ]
    }
   ],
   "source": [
    "a = 4\n",
    "b = 5\n",
    "print(a > b)\n",
    "print(a <= b)"
   ]
  },
  {
   "cell_type": "markdown",
   "id": "ebf254b5",
   "metadata": {},
   "source": [
    "### Feladat:"
   ]
  },
  {
   "cell_type": "markdown",
   "id": "1b48d062",
   "metadata": {},
   "source": [
    "A `string`-ek esetében hogyan működnek az összehasonlító operátorok?"
   ]
  },
  {
   "cell_type": "code",
   "execution_count": 88,
   "id": "84b0843b",
   "metadata": {
    "scrolled": true
   },
   "outputs": [
    {
     "name": "stdout",
     "output_type": "stream",
     "text": [
      "True\n",
      "False\n"
     ]
    }
   ],
   "source": [
    "s  = \"Abc\"\n",
    "s2 = \"abc\"\n",
    "t  = \"bcd\"\n",
    "print(s < s2)\n",
    "print(s > t)"
   ]
  },
  {
   "cell_type": "code",
   "execution_count": 89,
   "id": "8e85a62b",
   "metadata": {},
   "outputs": [
    {
     "name": "stdout",
     "output_type": "stream",
     "text": [
      "True\n",
      "False\n"
     ]
    }
   ],
   "source": [
    "s1 = \"abc\"\n",
    "s2 = \"acb\"\n",
    "print(s1 < s2)\n",
    "print(s1 > s2)"
   ]
  },
  {
   "cell_type": "markdown",
   "id": "b2e047ea",
   "metadata": {},
   "source": [
    "## Beolvasás, kiírás:"
   ]
  },
  {
   "cell_type": "markdown",
   "id": "26449350",
   "metadata": {},
   "source": [
    "Az `input` függvény segítségével lehet a felhasználótól inputot kérni:"
   ]
  },
  {
   "cell_type": "code",
   "execution_count": 90,
   "id": "5b57d4cf",
   "metadata": {},
   "outputs": [
    {
     "name": "stdout",
     "output_type": "stream",
     "text": [
      "Adj meg egy számot légyszíves:21\n",
      "True\n",
      "21 <class 'str'>\n"
     ]
    }
   ],
   "source": [
    "x = input(\"Adj meg egy számot légyszíves:\")\n",
    "print(x.isnumeric())\n",
    "print(x, type(x))"
   ]
  },
  {
   "cell_type": "markdown",
   "id": "509e05ea",
   "metadata": {},
   "source": [
    "A szöveg formázására egy lehetőség az `fstring`-ek használata:"
   ]
  },
  {
   "cell_type": "code",
   "execution_count": 91,
   "id": "0d0f8282",
   "metadata": {},
   "outputs": [
    {
     "name": "stdout",
     "output_type": "stream",
     "text": [
      "A beolvasott input az 1235, típusa <class 'int'>\n"
     ]
    }
   ],
   "source": [
    "x = 1235\n",
    "print(f\"A beolvasott input az {x}, típusa {type(x)}\")"
   ]
  },
  {
   "cell_type": "code",
   "execution_count": 92,
   "id": "30e0a7f9",
   "metadata": {},
   "outputs": [
    {
     "name": "stdout",
     "output_type": "stream",
     "text": [
      "A beolvasott input az 1235, típusa<class 'int'>\n"
     ]
    }
   ],
   "source": [
    "print(\"A beolvasott input az \" + str(x) + \", típusa\" +  str(type(x)))"
   ]
  },
  {
   "cell_type": "markdown",
   "id": "35abb045",
   "metadata": {},
   "source": [
    "### Feladatok"
   ]
  },
  {
   "cell_type": "markdown",
   "id": "43f22dad",
   "metadata": {},
   "source": [
    "Próbáld ki a beolvasást! Olvasd be a nevedet, majd írasd ki, hogy \"Hello <név>!\""
   ]
  },
  {
   "cell_type": "code",
   "execution_count": 99,
   "id": "1845c069",
   "metadata": {},
   "outputs": [
    {
     "name": "stdout",
     "output_type": "stream",
     "text": [
      "Név:Köszi\n"
     ]
    }
   ],
   "source": [
    "x = input(\"Név:\")"
   ]
  },
  {
   "cell_type": "code",
   "execution_count": 100,
   "id": "15039c55",
   "metadata": {},
   "outputs": [
    {
     "name": "stdout",
     "output_type": "stream",
     "text": [
      "Hello Köszi!\n"
     ]
    }
   ],
   "source": [
    "print('Hello '+ x + \"!\")"
   ]
  },
  {
   "cell_type": "code",
   "execution_count": null,
   "id": "2dbd64cd",
   "metadata": {},
   "outputs": [],
   "source": []
  }
 ],
 "metadata": {
  "kernelspec": {
   "display_name": "Python 3 (ipykernel)",
   "language": "python",
   "name": "python3"
  },
  "language_info": {
   "codemirror_mode": {
    "name": "ipython",
    "version": 3
   },
   "file_extension": ".py",
   "mimetype": "text/x-python",
   "name": "python",
   "nbconvert_exporter": "python",
   "pygments_lexer": "ipython3",
   "version": "3.9.13"
  }
 },
 "nbformat": 4,
 "nbformat_minor": 5
}
