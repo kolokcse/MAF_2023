{
 "cells": [
  {
   "cell_type": "markdown",
   "id": "07f62b58",
   "metadata": {},
   "source": [
    "# 1. gyakorlat"
   ]
  },
  {
   "cell_type": "markdown",
   "id": "a5445d27",
   "metadata": {},
   "source": [
    "## Adminisztratív részletek"
   ]
  },
  {
   "cell_type": "markdown",
   "id": "2e79a518",
   "metadata": {},
   "source": [
    "**Elérhetőség**: kolok.balazs.csego@gmail.com (vagy MS Teamsen)"
   ]
  },
  {
   "cell_type": "markdown",
   "id": "fb1059d6",
   "metadata": {},
   "source": [
    "**Óra kezdete**: 14:00 - 16:00 ? szavazás!"
   ]
  },
  {
   "cell_type": "markdown",
   "id": "054b7106",
   "metadata": {},
   "source": [
    "**Értékelés**: hetente házi feladatok, leadás a következő gyakorlat elejére, emailben az elsőt. Az email tárgya legyen HF_<sorszáma>_<NEPTUN kód>, a leadott file neve legyen ugyanez.\n",
    "*Pl: 7. házi feladatot az ABC123 neptun kódú hallgató a HF_7_ABC123 néven adná le.*"
   ]
  },
  {
   "cell_type": "markdown",
   "id": "ed9426b5",
   "metadata": {},
   "source": [
    "**Mai óra anyaga**: \n",
    "\n",
    " * GitHubon elérhető. Lépj be a fiókodba és keress rá a kolokcse/MAF_2023 repositoryra. A gyak1 mappában találod a két szükséges notebookot. Kattints a 'raw' nézetre és másold ki az url-t, majd töltsd le a fájlokat wget paranccsal.\n",
    " \n",
    " `wget https://raw.githubusercontent.com/kolokcse/MAF_2023/master/gyak1/gyak1.ipynb` , \n",
    " \n",
    " `wget https://raw.githubusercontent.com/kolokcse/MAF_2023/master/gyak1/HF1.ipynb`\n",
    "  \n",
    " \n",
    " * Dropbox: https://www.dropbox.com/sh/bnafzn5dkblvk2u/AACymm47wKGeeEyxMtg7T2Gva?dl=0"
   ]
  },
  {
   "cell_type": "markdown",
   "id": "a1e9d4cc",
   "metadata": {},
   "source": [
    "## Értékek és típusok"
   ]
  },
  {
   "cell_type": "markdown",
   "id": "bbb52c4c",
   "metadata": {},
   "source": [
    "### Numerikus adattípusok: `int`, `float`, `complex`"
   ]
  },
  {
   "cell_type": "markdown",
   "id": "b5b3cdf9",
   "metadata": {},
   "source": [
    "Az `int` az egész számokat jelöli. A `type` függvénnyel lehet \"elkérni\" egy objektum típusát."
   ]
  },
  {
   "cell_type": "code",
   "execution_count": null,
   "id": "761e94d4",
   "metadata": {},
   "outputs": [],
   "source": [
    "9, type(9)"
   ]
  },
  {
   "cell_type": "markdown",
   "id": "a601aea3",
   "metadata": {},
   "source": [
    "A `float` a valós (racionális) számok ábrázolására való."
   ]
  },
  {
   "cell_type": "code",
   "execution_count": null,
   "id": "f6293a10",
   "metadata": {},
   "outputs": [],
   "source": [
    "0.8, type(0.8)"
   ]
  },
  {
   "cell_type": "markdown",
   "id": "2efaa31b",
   "metadata": {},
   "source": [
    "A `complex` a komplex számokat jelöli."
   ]
  },
  {
   "cell_type": "code",
   "execution_count": null,
   "id": "07a72284",
   "metadata": {
    "scrolled": true
   },
   "outputs": [],
   "source": [
    "1+3j, type(1+3j)"
   ]
  },
  {
   "cell_type": "markdown",
   "id": "ca173e72",
   "metadata": {},
   "source": [
    "Normálalak:"
   ]
  },
  {
   "cell_type": "code",
   "execution_count": null,
   "id": "4014fe4a",
   "metadata": {},
   "outputs": [],
   "source": [
    "1.25e10, 3.19e-5"
   ]
  },
  {
   "cell_type": "markdown",
   "id": "5782bbaf",
   "metadata": {},
   "source": [
    "### A `string` adattípus\n",
    "A `string` a \"szöveg\" típusú adatok tárolására alkalmas, valójában karakterláncot jelöl. Az idézőjelek közötti szöveget a python `string`-nek veszi."
   ]
  },
  {
   "cell_type": "code",
   "execution_count": null,
   "id": "4e576dda",
   "metadata": {},
   "outputs": [],
   "source": [
    "\"xyz 123234 , .123?.#\", 'körte', \"\"\"kalap\"\"\""
   ]
  },
  {
   "cell_type": "code",
   "execution_count": null,
   "id": "2ccb100b",
   "metadata": {},
   "outputs": [],
   "source": [
    "\"azt mondta : 'valami'\""
   ]
  },
  {
   "cell_type": "code",
   "execution_count": null,
   "id": "3a69b286",
   "metadata": {
    "scrolled": true
   },
   "outputs": [],
   "source": [
    "type(\"xyz\")"
   ]
  },
  {
   "cell_type": "markdown",
   "id": "c45cfa24",
   "metadata": {},
   "source": [
    "### Logikai (`bool`) adattípus"
   ]
  },
  {
   "cell_type": "code",
   "execution_count": null,
   "id": "f8d69766",
   "metadata": {},
   "outputs": [],
   "source": [
    "True, False"
   ]
  },
  {
   "cell_type": "code",
   "execution_count": null,
   "id": "b7b5f495",
   "metadata": {},
   "outputs": [],
   "source": [
    "type(True)"
   ]
  },
  {
   "cell_type": "markdown",
   "id": "53059b6f",
   "metadata": {},
   "source": [
    "## Változók\n",
    "Az értékeknek nevet adhatunk, ami alapján később lekérdehetjük és módosíthatjuk őket. Ez a név a változó."
   ]
  },
  {
   "cell_type": "markdown",
   "id": "0fd92f29",
   "metadata": {},
   "source": [
    "Értékadás változónak:"
   ]
  },
  {
   "cell_type": "code",
   "execution_count": null,
   "id": "2cb6062a",
   "metadata": {},
   "outputs": [],
   "source": [
    "a = 1\n",
    "a"
   ]
  },
  {
   "cell_type": "code",
   "execution_count": null,
   "id": "088f4b21",
   "metadata": {},
   "outputs": [],
   "source": [
    "type(a)"
   ]
  },
  {
   "cell_type": "markdown",
   "id": "9debaffd",
   "metadata": {},
   "source": [
    "A `print` függvény az argumentumát kiírja."
   ]
  },
  {
   "cell_type": "code",
   "execution_count": null,
   "id": "a9801c3f",
   "metadata": {},
   "outputs": [],
   "source": [
    "print(\"xyz\")"
   ]
  },
  {
   "cell_type": "code",
   "execution_count": null,
   "id": "2dcb8ca1",
   "metadata": {},
   "outputs": [],
   "source": [
    "print(a)"
   ]
  },
  {
   "cell_type": "markdown",
   "id": "0003fc84",
   "metadata": {},
   "source": [
    "A változók legfőbb haszna, hogy az általuk jelölt értéket megváltoztathatjuk, felülírhatjuk."
   ]
  },
  {
   "cell_type": "code",
   "execution_count": null,
   "id": "ac842bbe",
   "metadata": {},
   "outputs": [],
   "source": [
    "print(a)\n",
    "a = 0\n",
    "print(a)"
   ]
  },
  {
   "cell_type": "markdown",
   "id": "04deea0c",
   "metadata": {},
   "source": [
    "A pythonban a kiértékelés \"jobbról balra\" történik, vagyis érvényes az alábbi programkód, mivel először a `b+1` értékelődik ki, és a `b` változók ezt kapja értékül."
   ]
  },
  {
   "cell_type": "code",
   "execution_count": null,
   "id": "5828e071",
   "metadata": {},
   "outputs": [],
   "source": [
    "b = 2\n",
    "print(b)\n",
    "b = b + 1\n",
    "print(b)"
   ]
  },
  {
   "cell_type": "markdown",
   "id": "6f30e254",
   "metadata": {},
   "source": [
    "Egy bizonyos típusú változó kaphat más típusú értéket is, például egy korábban `int`-et jelölő változót felülírhatjuk `string`-re is akár. Ez nem minden programozási nyelvben van így."
   ]
  },
  {
   "cell_type": "code",
   "execution_count": null,
   "id": "72123a4e",
   "metadata": {},
   "outputs": [],
   "source": [
    "c = 5\n",
    "print(c, type(c))\n",
    "c = \"abc\"\n",
    "print(c, type(c))"
   ]
  },
  {
   "cell_type": "markdown",
   "id": "f92ada47",
   "metadata": {},
   "source": [
    "## Típuskonverziók (casting)\n",
    "Bizonyos esetekben egy-egy változó átalakítható más típusú változóvá, például egy szám `string`-gé, vagy, ha megfelelő alakú a `string`, akkor az számmá:"
   ]
  },
  {
   "cell_type": "code",
   "execution_count": null,
   "id": "3630988e",
   "metadata": {},
   "outputs": [],
   "source": [
    "x = 2022\n",
    "print(x, type(x))\n",
    "x = str(x)\n",
    "print(x, type(x))"
   ]
  },
  {
   "cell_type": "code",
   "execution_count": null,
   "id": "ca0cdf65",
   "metadata": {},
   "outputs": [],
   "source": [
    "y = \"1234.5\"\n",
    "int(y)"
   ]
  },
  {
   "cell_type": "code",
   "execution_count": null,
   "id": "0db3a870",
   "metadata": {},
   "outputs": [],
   "source": [
    "float(y)"
   ]
  },
  {
   "cell_type": "code",
   "execution_count": null,
   "id": "b90f7e67",
   "metadata": {},
   "outputs": [],
   "source": [
    "z = \"123012aetr\"\n",
    "float(z)"
   ]
  },
  {
   "cell_type": "markdown",
   "id": "55ee1e7f",
   "metadata": {},
   "source": [
    "## Aritmetikai műveletek"
   ]
  },
  {
   "cell_type": "markdown",
   "id": "a88075cd",
   "metadata": {},
   "source": [
    "A szám típusú változókkal elvégezhetők a szokásos számtani műveletek:"
   ]
  },
  {
   "cell_type": "code",
   "execution_count": null,
   "id": "fd9dc39e",
   "metadata": {},
   "outputs": [],
   "source": [
    "a = 11\n",
    "b = 4"
   ]
  },
  {
   "cell_type": "code",
   "execution_count": null,
   "id": "3d2a6f6c",
   "metadata": {},
   "outputs": [],
   "source": [
    "print(a * (b+b))\n",
    "print(a - b)\n",
    "print(a * b)\n",
    "print(a / b)"
   ]
  },
  {
   "cell_type": "markdown",
   "id": "4f17c113",
   "metadata": {},
   "source": [
    "A `%` az osztási maradékot jelöli (_modulo_ operátor), a `//` pedig a maradékos osztást:"
   ]
  },
  {
   "cell_type": "code",
   "execution_count": null,
   "id": "3b34ce15",
   "metadata": {},
   "outputs": [],
   "source": [
    "print(a % b)\n",
    "print(a // b)"
   ]
  },
  {
   "cell_type": "markdown",
   "id": "c9550059",
   "metadata": {},
   "source": [
    "A modulo operátor negatív számokkal is működik:"
   ]
  },
  {
   "cell_type": "code",
   "execution_count": null,
   "id": "7a9e399c",
   "metadata": {},
   "outputs": [],
   "source": [
    "-1 % 5"
   ]
  },
  {
   "cell_type": "markdown",
   "id": "6961d084",
   "metadata": {},
   "source": [
    "A hatványozás műveletét a `**` jelöli:"
   ]
  },
  {
   "cell_type": "code",
   "execution_count": null,
   "id": "f271be02",
   "metadata": {},
   "outputs": [],
   "source": [
    "print(a ** 2)\n",
    "print(a * a)"
   ]
  },
  {
   "cell_type": "markdown",
   "id": "aff731d1",
   "metadata": {},
   "source": [
    "### Feladatok:"
   ]
  },
  {
   "cell_type": "markdown",
   "id": "38edc7b3",
   "metadata": {},
   "source": [
    "Hogyan vonnál négyzetgyököt egy számból?"
   ]
  },
  {
   "cell_type": "code",
   "execution_count": null,
   "id": "1210e30a",
   "metadata": {},
   "outputs": [],
   "source": []
  },
  {
   "cell_type": "markdown",
   "id": "d5341b6d",
   "metadata": {},
   "source": [
    "Hogyan számítanád ki egy szám alsó (felső) egészrészét? És a törtrészét?"
   ]
  },
  {
   "cell_type": "code",
   "execution_count": null,
   "id": "567b7c3e",
   "metadata": {},
   "outputs": [],
   "source": []
  },
  {
   "cell_type": "markdown",
   "id": "fff40a1a",
   "metadata": {},
   "source": [
    "Hogyan vizsgálnád meg hogy egy szám páros-e?"
   ]
  },
  {
   "cell_type": "code",
   "execution_count": null,
   "id": "835d9e50",
   "metadata": {},
   "outputs": [],
   "source": []
  },
  {
   "cell_type": "markdown",
   "id": "ead41d90",
   "metadata": {},
   "source": [
    "Határozd meg az `12345` szám utolsó előtti számjegyét"
   ]
  },
  {
   "cell_type": "code",
   "execution_count": null,
   "id": "38e4d862",
   "metadata": {},
   "outputs": [],
   "source": []
  },
  {
   "cell_type": "markdown",
   "id": "83073012",
   "metadata": {},
   "source": [
    "## Műveletek `string`-ekkel"
   ]
  },
  {
   "cell_type": "code",
   "execution_count": null,
   "id": "6eda0e77",
   "metadata": {},
   "outputs": [],
   "source": [
    "print(dir(str))"
   ]
  },
  {
   "cell_type": "markdown",
   "id": "b5582a3e",
   "metadata": {},
   "source": [
    "### Konkatenáció (összefűzés):"
   ]
  },
  {
   "cell_type": "code",
   "execution_count": null,
   "id": "b7809528",
   "metadata": {
    "scrolled": true
   },
   "outputs": [],
   "source": [
    "print(\"abc\" + \"xyz\" + \"qwert\" + str(9))"
   ]
  },
  {
   "cell_type": "code",
   "execution_count": null,
   "id": "382fc3a9",
   "metadata": {},
   "outputs": [],
   "source": [
    "x = \"abc\"\n",
    "y = \"xyz\"\n",
    "z = x + \" \" + y\n",
    "print(z)"
   ]
  },
  {
   "cell_type": "code",
   "execution_count": null,
   "id": "dfcf6dcf",
   "metadata": {},
   "outputs": [],
   "source": [
    "n = 5\n",
    "x = \"abc-\"\n",
    "y = \"jjasnd\"\n",
    "print(x*n+y*9)"
   ]
  },
  {
   "cell_type": "markdown",
   "id": "b06bbc5d",
   "metadata": {},
   "source": [
    "### Indexelés:\n",
    "A `string`-eket ha karakterláncként képzeljük, akkor lehet indexelni is őket, azaz lekérdezni a karakterlánc $i$-edik elemét. Az indexelés 0-tól kezdődik."
   ]
  },
  {
   "cell_type": "code",
   "execution_count": null,
   "id": "8e6e3ac8",
   "metadata": {},
   "outputs": [],
   "source": [
    "x = 'abcdefghijk'\n",
    "x[9]"
   ]
  },
  {
   "cell_type": "markdown",
   "id": "212c09ce",
   "metadata": {},
   "source": [
    "A `string` hossza a tartalmazott kerekterek száma, a `len` függvénnyel lehet lekérdezni:"
   ]
  },
  {
   "cell_type": "code",
   "execution_count": null,
   "id": "5a7f5d95",
   "metadata": {},
   "outputs": [],
   "source": [
    "len(x)"
   ]
  },
  {
   "cell_type": "markdown",
   "id": "f5f5b2fe",
   "metadata": {},
   "source": [
    "A `string`-ek indexelés \"modulo `len`\" működik, vagyis:"
   ]
  },
  {
   "cell_type": "code",
   "execution_count": null,
   "id": "cc09ca1d",
   "metadata": {},
   "outputs": [],
   "source": [
    "print(x[-3])\n",
    "print(-3%len(x))\n",
    "print(x[-3%len(x)])\n",
    "print(x[-3])"
   ]
  },
  {
   "cell_type": "markdown",
   "id": "cf070fd2",
   "metadata": {},
   "source": [
    "A `string`-eknek nemcsak egy-egy karakterét lehet lekérdezni, hanem egy szeletét is:"
   ]
  },
  {
   "cell_type": "code",
   "execution_count": null,
   "id": "803119d9",
   "metadata": {},
   "outputs": [],
   "source": [
    "x[1:5]"
   ]
  },
  {
   "cell_type": "markdown",
   "id": "5426fa9c",
   "metadata": {},
   "source": [
    "_(Itt az [a:b] azt jelöli, hogy az a. indexen lévő karaktertől a b-1. indexen lévő karakterig kérdezzük le.)_"
   ]
  },
  {
   "cell_type": "code",
   "execution_count": null,
   "id": "b4ad2ede",
   "metadata": {},
   "outputs": [],
   "source": [
    "x[5:1]"
   ]
  },
  {
   "cell_type": "markdown",
   "id": "728c0ede",
   "metadata": {},
   "source": [
    "A szeletelésnél megadható az is, hogy mekkora lépésközökkel szeretnénk lekérdezni, vagyis az [a:b:c] azt jelenti, hogy az a. karaktertől a b-1. karakterig minden c. karaktert kérünk."
   ]
  },
  {
   "cell_type": "code",
   "execution_count": null,
   "id": "b9ec5a27",
   "metadata": {},
   "outputs": [],
   "source": [
    "x[::5]"
   ]
  },
  {
   "cell_type": "code",
   "execution_count": null,
   "id": "9af3fcb1",
   "metadata": {},
   "outputs": [],
   "source": [
    "x[0::2]"
   ]
  },
  {
   "cell_type": "markdown",
   "id": "5ad71026",
   "metadata": {},
   "source": [
    "### Feladatok:"
   ]
  },
  {
   "cell_type": "markdown",
   "id": "f10b0bc6",
   "metadata": {},
   "source": [
    "Kérdezd le a \"parallelepipedon\" minden harmadik betűjét!"
   ]
  },
  {
   "cell_type": "code",
   "execution_count": null,
   "id": "638a5ea1",
   "metadata": {},
   "outputs": [],
   "source": []
  },
  {
   "cell_type": "markdown",
   "id": "55280c1f",
   "metadata": {},
   "source": [
    "Fordítsd meg helyben a \"parallelepipedon\" szót!"
   ]
  },
  {
   "cell_type": "code",
   "execution_count": null,
   "id": "243a2c62",
   "metadata": {},
   "outputs": [],
   "source": []
  },
  {
   "cell_type": "code",
   "execution_count": null,
   "id": "6535d1f9",
   "metadata": {},
   "outputs": [],
   "source": []
  },
  {
   "cell_type": "markdown",
   "id": "9ae87d29",
   "metadata": {},
   "source": [
    "Cseréld ki a szó elejét és végét úgy, hogy a pipedon-parallele szót kapjad!"
   ]
  },
  {
   "cell_type": "code",
   "execution_count": null,
   "id": "cb0d809c",
   "metadata": {},
   "outputs": [],
   "source": []
  },
  {
   "cell_type": "markdown",
   "id": "6e2b7e89",
   "metadata": {},
   "source": [
    "Mondd meg ismét az $12345$ utolsó előtti számjegyét, ezúttal `string` műveletek segítsgével!"
   ]
  },
  {
   "cell_type": "code",
   "execution_count": null,
   "id": "3403b323",
   "metadata": {},
   "outputs": [],
   "source": []
  },
  {
   "cell_type": "markdown",
   "id": "4da9dd5f",
   "metadata": {},
   "source": [
    "### Egyéb `string` műveletek:"
   ]
  },
  {
   "cell_type": "code",
   "execution_count": null,
   "id": "28d0c23c",
   "metadata": {},
   "outputs": [],
   "source": [
    "x = \"Ez AzTáN a FuRa StRiNg\"\n",
    "print(x.lower())\n",
    "print(x.upper())\n",
    "print(x.capitalize())"
   ]
  },
  {
   "cell_type": "code",
   "execution_count": null,
   "id": "b9a19091",
   "metadata": {},
   "outputs": [],
   "source": [
    "print(x.isalpha())"
   ]
  },
  {
   "cell_type": "code",
   "execution_count": null,
   "id": "dcbd86d4",
   "metadata": {},
   "outputs": [],
   "source": [
    "print(\"asd\".isalpha())"
   ]
  },
  {
   "cell_type": "markdown",
   "id": "d0973d97",
   "metadata": {},
   "source": [
    "## Összehasonlítás:"
   ]
  },
  {
   "cell_type": "markdown",
   "id": "498dab6e",
   "metadata": {},
   "source": [
    "Két szám változó esetén el lehet dönteni, hogy ugyanazt az értéket jelölik-e:"
   ]
  },
  {
   "cell_type": "code",
   "execution_count": null,
   "id": "aba309be",
   "metadata": {},
   "outputs": [],
   "source": [
    "a = 5\n",
    "b = 5\n",
    "c = \"xyz\"\n",
    "d = \"xyz\"\n",
    "print(a == b)\n",
    "print(c == d)\n",
    "print(b == c)"
   ]
  },
  {
   "cell_type": "markdown",
   "id": "84a8f41d",
   "metadata": {},
   "source": [
    "A $\\leq$,$<$,$\\geq$,$>$ operátorok is használhatók:"
   ]
  },
  {
   "cell_type": "code",
   "execution_count": null,
   "id": "c1e72d51",
   "metadata": {},
   "outputs": [],
   "source": [
    "a = 4\n",
    "b = 5\n",
    "print(a > b)\n",
    "print(a <= b)"
   ]
  },
  {
   "cell_type": "markdown",
   "id": "ebf254b5",
   "metadata": {},
   "source": [
    "### Feladat:"
   ]
  },
  {
   "cell_type": "markdown",
   "id": "1b48d062",
   "metadata": {},
   "source": [
    "A `string`-ek esetében hogyan működnek az összehasonlító operátorok?"
   ]
  },
  {
   "cell_type": "code",
   "execution_count": null,
   "id": "84b0843b",
   "metadata": {
    "scrolled": true
   },
   "outputs": [],
   "source": [
    "s  = \"Abc\"\n",
    "s2 = \"abc\"\n",
    "t  = \"bcd\"\n",
    "print(s < s2)\n",
    "print(s > t)"
   ]
  },
  {
   "cell_type": "code",
   "execution_count": null,
   "id": "8e85a62b",
   "metadata": {},
   "outputs": [],
   "source": [
    "s1 = \"abc\"\n",
    "s2 = \"acb\"\n",
    "print(s1 < s2)\n",
    "print(s1 > s2)"
   ]
  },
  {
   "cell_type": "markdown",
   "id": "b2e047ea",
   "metadata": {},
   "source": [
    "## Beolvasás, kiírás:"
   ]
  },
  {
   "cell_type": "markdown",
   "id": "26449350",
   "metadata": {},
   "source": [
    "Az `input` függvény segítségével lehet a felhasználótól inputot kérni:"
   ]
  },
  {
   "cell_type": "code",
   "execution_count": null,
   "id": "5b57d4cf",
   "metadata": {},
   "outputs": [],
   "source": [
    "x = input(\"Adj meg egy számot légyszíves:\")\n",
    "print(x.isnumeric())\n",
    "print(x, type(x))"
   ]
  },
  {
   "cell_type": "markdown",
   "id": "509e05ea",
   "metadata": {},
   "source": [
    "A szöveg formázására egy lehetőség az `fstring`-ek használata:"
   ]
  },
  {
   "cell_type": "code",
   "execution_count": null,
   "id": "0d0f8282",
   "metadata": {},
   "outputs": [],
   "source": [
    "x = 1235\n",
    "print(f\"A beolvasott input az {x}, típusa {type(x)}\")"
   ]
  },
  {
   "cell_type": "code",
   "execution_count": null,
   "id": "30e0a7f9",
   "metadata": {},
   "outputs": [],
   "source": [
    "print(\"A beolvasott input az \" + str(x) + \", típusa\" +  str(type(x)))"
   ]
  },
  {
   "cell_type": "markdown",
   "id": "35abb045",
   "metadata": {},
   "source": [
    "### Feladatok"
   ]
  },
  {
   "cell_type": "markdown",
   "id": "43f22dad",
   "metadata": {},
   "source": [
    "Próbáld ki a beolvasást! Olvasd be a nevedet, majd írasd ki, hogy \"Hello <név>!\""
   ]
  },
  {
   "cell_type": "code",
   "execution_count": null,
   "id": "1845c069",
   "metadata": {},
   "outputs": [],
   "source": []
  }
 ],
 "metadata": {
  "kernelspec": {
   "display_name": "Python 3 (ipykernel)",
   "language": "python",
   "name": "python3"
  },
  "language_info": {
   "codemirror_mode": {
    "name": "ipython",
    "version": 3
   },
   "file_extension": ".py",
   "mimetype": "text/x-python",
   "name": "python",
   "nbconvert_exporter": "python",
   "pygments_lexer": "ipython3",
   "version": "3.9.13"
  }
 },
 "nbformat": 4,
 "nbformat_minor": 5
}
