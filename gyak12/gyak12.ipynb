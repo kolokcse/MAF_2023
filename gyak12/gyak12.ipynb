{
 "cells": [
  {
   "cell_type": "markdown",
   "id": "ea629d9f",
   "metadata": {},
   "source": [
    "# Párhuzamos programozás\n",
    "\n",
    "## Példa: fokszám elsoszlás"
   ]
  },
  {
   "cell_type": "code",
   "execution_count": 44,
   "id": "ac74d8dd",
   "metadata": {},
   "outputs": [],
   "source": [
    "import networkx as nx\n",
    "import time\n",
    "import numpy as np"
   ]
  },
  {
   "cell_type": "markdown",
   "id": "2854d800",
   "metadata": {},
   "source": [
    "Ki szeretném számolni átlagos átmérőjét a gráfokak. Egy gráf átmérője a maximális legrövidebb út hossza. Ehhez írtam egy függvényt."
   ]
  },
  {
   "cell_type": "code",
   "execution_count": 58,
   "id": "af3f8bf7",
   "metadata": {},
   "outputs": [],
   "source": [
    "def diameter(graph_type, graph_args):\n",
    "    # generate a graph\n",
    "    if graph_type=='erdos-renyi':\n",
    "        G = nx.erdos_renyi_graph(*graph_args)\n",
    "    if graph_type=='barabasi':\n",
    "        G = nx.barabasi_albert_graph(*graph_args)\n",
    "    if graph_type=='random-geometric':\n",
    "        random_geometric_graph(*graph_args)\n",
    "    \n",
    "    # calculate the shortest path for all node pairs\n",
    "    paths=dict(nx.shortest_path_length(G))\n",
    "    \n",
    "    # return min of the shortes path\n",
    "    return max(max(paths[node].values()) for node in paths.keys())"
   ]
  },
  {
   "cell_type": "markdown",
   "id": "04b099a8",
   "metadata": {},
   "source": [
    "#### Erdős Rényi gráf\n",
    "\n",
    "wiki: https://hu.wikipedia.org/wiki/Erd%C5%91s%E2%80%93R%C3%A9nyi-modell"
   ]
  },
  {
   "cell_type": "code",
   "execution_count": 59,
   "id": "91b15a9b",
   "metadata": {},
   "outputs": [],
   "source": [
    "graph_type='erdos-renyi'\n",
    "#csúcsok száma\n",
    "n = 1000\n",
    "#összekötés valószínűsége két csúcs között\n",
    "p = 0.05\n",
    "graph_args=(n,p)"
   ]
  },
  {
   "cell_type": "code",
   "execution_count": 60,
   "id": "b788649d",
   "metadata": {},
   "outputs": [
    {
     "data": {
      "text/plain": [
       "3"
      ]
     },
     "execution_count": 60,
     "metadata": {},
     "output_type": "execute_result"
    }
   ],
   "source": [
    "diameter(graph_type, graph_args)"
   ]
  },
  {
   "cell_type": "code",
   "execution_count": 61,
   "id": "f5515d65",
   "metadata": {},
   "outputs": [],
   "source": [
    "iterations=5"
   ]
  },
  {
   "cell_type": "code",
   "execution_count": 62,
   "id": "3a928051",
   "metadata": {},
   "outputs": [
    {
     "name": "stdout",
     "output_type": "stream",
     "text": [
      "Átlagos átmérő erdos-renyi gráfban (1000, 0.05) argumentumokkal: 3.0\n",
      "Futási idő:6.937239170074463\n"
     ]
    }
   ],
   "source": [
    "t=time.time()\n",
    "results = []\n",
    "for i in range(iterations):\n",
    "    results.append(diameter(graph_type, graph_args))\n",
    "\n",
    "print(f'Átlagos átmérő {graph_type} gráfban {graph_args} argumentumokkal: {np.mean(results)}')    \n",
    "print(f'Futási idő:{time.time() - t}')"
   ]
  },
  {
   "cell_type": "markdown",
   "id": "f91ba944",
   "metadata": {},
   "source": [
    "#### Barabási-Albert gráf\n",
    "\n",
    "wiki: https://hu.wikipedia.org/wiki/Barab%C3%A1si%E2%80%93Albert-modell"
   ]
  },
  {
   "cell_type": "code",
   "execution_count": 82,
   "id": "caff493f",
   "metadata": {},
   "outputs": [],
   "source": [
    "graph_type='barabasi'\n",
    "# csúcsok száma\n",
    "n = 1000\n",
    "# új élek száma minden csúccsal\n",
    "m = 2\n",
    "graph_args=(n,m)"
   ]
  },
  {
   "cell_type": "code",
   "execution_count": 83,
   "id": "dae0eff9",
   "metadata": {},
   "outputs": [
    {
     "name": "stdout",
     "output_type": "stream",
     "text": [
      "Átlagos átmérő barabasi gráfban (1000, 2) argumentumokkal: 7.2\n",
      "Futási idő:4.224622011184692\n"
     ]
    }
   ],
   "source": [
    "t=time.time()\n",
    "results = []\n",
    "for i in range(iterations):\n",
    "    results.append(diameter(graph_type, graph_args))\n",
    "\n",
    "print(f'Átlagos átmérő {graph_type} gráfban {graph_args} argumentumokkal: {np.mean(results)}')    \n",
    "print(f'Futási idő:{time.time() - t}')"
   ]
  },
  {
   "cell_type": "markdown",
   "id": "853a92b6",
   "metadata": {},
   "source": [
    "### Párhuzamosítás, multiprocessing modul"
   ]
  },
  {
   "cell_type": "markdown",
   "id": "d8e3b5b6",
   "metadata": {},
   "source": [
    "Futtassuk párhuzamosan, amit lehet!!! htop paranccsal nézhetjük a processorok munkáját, vagy a feladatkezeőben!\n"
   ]
  },
  {
   "cell_type": "code",
   "execution_count": 84,
   "id": "eaf07081",
   "metadata": {},
   "outputs": [],
   "source": [
    "import multiprocessing"
   ]
  },
  {
   "cell_type": "code",
   "execution_count": 85,
   "id": "259ad10d",
   "metadata": {},
   "outputs": [],
   "source": [
    "graph_type='erdos-renyi'\n",
    "#csúcsok száma\n",
    "n = 1000\n",
    "#összekötés valószínűsége két csúcs között\n",
    "p = 0.05\n",
    "graph_args=(n,p)"
   ]
  },
  {
   "cell_type": "code",
   "execution_count": 86,
   "id": "51136677",
   "metadata": {},
   "outputs": [
    {
     "name": "stdout",
     "output_type": "stream",
     "text": [
      "Átlagos átmérő erdos-renyi gráfban (1000, 0.05) argumentumokkal: 3.0\n",
      "Futási idő:2.2430708408355713\n"
     ]
    }
   ],
   "source": [
    "t=time.time()\n",
    "pool = multiprocessing.Pool(processes=5)\n",
    "\n",
    "results = []\n",
    "for i in range(iterations):\n",
    "    results.append(pool.apply_async(diameter, args=(graph_type, graph_args)))\n",
    "\n",
    "pool.close()\n",
    "pool.join()\n",
    "\n",
    "results_save=[]\n",
    "for i in range(iterations):\n",
    "    results_save.append(results[i].get())\n",
    "    \n",
    "print(f'Átlagos átmérő {graph_type} gráfban {graph_args} argumentumokkal: {np.mean(results_save)}')    \n",
    "print(f'Futási idő:{time.time() - t}')"
   ]
  },
  {
   "cell_type": "markdown",
   "id": "104433a9",
   "metadata": {},
   "source": [
    "Még egy szint, párhuzamosítsuk a gráf typusok ciklusát is!"
   ]
  },
  {
   "cell_type": "code",
   "execution_count": 87,
   "id": "9e3b4fcf",
   "metadata": {},
   "outputs": [],
   "source": [
    "graphs=[]\n",
    "\n",
    "graph_type='erdos-renyi'\n",
    "n = 1000\n",
    "p = 0.01\n",
    "graph_args=(n,p)\n",
    "\n",
    "graphs.append({'type':graph_type,'args':graph_args})\n",
    "\n",
    "graph_type='barabasi'\n",
    "n = 1000\n",
    "m = 2\n",
    "graph_args=(n,m)\n",
    "\n",
    "graphs.append({'type':graph_type,'args':graph_args})"
   ]
  },
  {
   "cell_type": "code",
   "execution_count": 88,
   "id": "79d76713",
   "metadata": {},
   "outputs": [
    {
     "name": "stdout",
     "output_type": "stream",
     "text": [
      "Átlagos átmérő erdos-renyi gráfban (1000, 0.01) argumentumokkal: 5.2\n",
      "\n",
      "Átlagos átmérő barabasi gráfban (1000, 2) argumentumokkal: 7.2\n",
      "\n",
      "Futási idő:2.861663579940796\n"
     ]
    }
   ],
   "source": [
    "t=time.time()\n",
    "pool = multiprocessing.Pool(processes=5)\n",
    "\n",
    "results = []\n",
    "for graph in graphs:\n",
    "    results_graph=[]\n",
    "    graph_type=graph['type']\n",
    "    graph_args=graph['args']\n",
    "    for i in range(iterations):\n",
    "        results_graph.append(pool.apply_async(diameter, args=(graph_type, graph_args)))\n",
    "    results.append(results_graph)\n",
    "\n",
    "pool.close()\n",
    "pool.join()\n",
    "\n",
    "\n",
    "for graph_i,graph in enumerate(graphs):\n",
    "    results_save=[]\n",
    "    graph_type=graph['type']\n",
    "    graph_args=graph['args']\n",
    "    for i in range(iterations):\n",
    "        results_save.append(results[graph_i][i].get())\n",
    "    print(f'Átlagos átmérő {graph_type} gráfban {graph_args} argumentumokkal: {np.mean(results_save)}')        \n",
    "    print('')\n",
    "print(f'Futási idő:{time.time() - t}')\n",
    "\n",
    "\n"
   ]
  },
  {
   "cell_type": "markdown",
   "id": "f34726cf",
   "metadata": {},
   "source": [
    "# Csoportmunka:\n",
    "\n",
    "***Téma: pandas, adatok, ábrák, numpy***\n",
    "\n",
    "**Leírás:**\n",
    "\n",
    "Mindent lehet használni: régi notebookok, elődás, internet, ami kell jöhet!\n",
    "\n",
    "Feladat: adatelemzés\n",
    "\n",
    "Dolgozzatok Közösen, osszátok fel magatok között a feladatokat, passzoljátok át a függvényeket. Cél: minél több feladat teljesítése időre. És legyen leglalább egy notebookotok, amiben egyesítitek a megoldásokat és elkülditek nekem emailen! -> jutalom: mindenkinek egy pont a csapaton belül.\n",
    "\n",
    "A gyak12 mappában található csoportmunka nevű táblázaton belül találjátok az adathalmazok leírását és a hozzájuk tartozó feladatokat. Válaszzátok ki a számotokra szimpatikusabb adathalmazt, és dolgozzatok rajta csoportban a 14:20-ig. Utána egyesítsétek a kódotokat egy notebookba, majd küldjétek el nekem, hogy át tudjam nézni és ki tudjam majd rakni githubra.\n",
    "\n",
    "Jó Munkát! :)"
   ]
  },
  {
   "cell_type": "code",
   "execution_count": null,
   "id": "0986c326",
   "metadata": {},
   "outputs": [],
   "source": []
  }
 ],
 "metadata": {
  "kernelspec": {
   "display_name": "Python 3 (ipykernel)",
   "language": "python",
   "name": "python3"
  },
  "language_info": {
   "codemirror_mode": {
    "name": "ipython",
    "version": 3
   },
   "file_extension": ".py",
   "mimetype": "text/x-python",
   "name": "python",
   "nbconvert_exporter": "python",
   "pygments_lexer": "ipython3",
   "version": "3.9.13"
  }
 },
 "nbformat": 4,
 "nbformat_minor": 5
}
