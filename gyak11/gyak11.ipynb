{
 "cells": [
  {
   "cell_type": "markdown",
   "metadata": {},
   "source": [
    "# A Pandas modul"
   ]
  },
  {
   "cell_type": "code",
   "execution_count": null,
   "metadata": {},
   "outputs": [],
   "source": [
    "import pandas as pd\n",
    "import numpy as np\n",
    "import matplotlib.pyplot as plt"
   ]
  },
  {
   "cell_type": "markdown",
   "metadata": {},
   "source": [
    "## Dataframe-ek"
   ]
  },
  {
   "cell_type": "markdown",
   "metadata": {},
   "source": [
    "A `pandas` egy olyan eszkoz, amely kombinalni tudja a `numpy` effektivitasat, az Excel tablazatokbol megszokott logikat, biztosit nehany egyszerubb adatbazis-kezelesi funkciot, es attekinthetove teszi a beolvasott adatot.\n",
    "\n",
    "Altalanossagban a kovetkezo logikai muveleteket szeretnenk majd az adattablak sorain / oszlopain elvegezni:\n",
    "* map (lekepezes, pl. az oszlop minden elemehez hozzaadunk egy szamot)\n",
    "* filter (sorok reszhalmazanak elerese logikai szures segitsegevel, l. numpy maszkolas)\n",
    "* reduce (a sorok csoportositasa, majd csoportonkenti aggregacios muveletek, pl. atlagkepzes elvegzese)\n",
    "* join (ket adattabla osszefuzese)"
   ]
  },
  {
   "cell_type": "markdown",
   "metadata": {},
   "source": [
    "### `Dataframe` létrehozása\n",
    "\n",
    "Létre tudunk hozni `DataFrame`-et szótárból az alábbi módokon:"
   ]
  },
  {
   "cell_type": "code",
   "execution_count": null,
   "metadata": {},
   "outputs": [],
   "source": [
    "df = pd.DataFrame({\"Nem\" : [\"fiú\", \"fiú\", \"lány\", \"fiú\", \"lány\"],\n",
    "                   \"Név\" : [\"Andris\", \"Barni\", \"Cili\", \"Dani\", \"Eszti\"],\n",
    "                   \"Kor\" : [17, 20, 19, 17, 18],\n",
    "                   \"Kedvenc szín\" : [\"Zöld\", \"Kék\", \"Zöld\", \"Sárga\", \"Piros\"]},\n",
    "                  index=[\"α\", \"β\", \"γ\", \"δ\", \"ϵ\"])\n",
    "df"
   ]
  },
  {
   "cell_type": "code",
   "execution_count": null,
   "metadata": {},
   "outputs": [],
   "source": [
    "df = pd.DataFrame({\"Nem\" : [\"fiú\", \"fiú\", \"lány\", \"fiú\", \"lány\"],\n",
    "                   \"Név\" : [\"Andris\", \"Barni\", \"Cili\", \"Dani\", \"Eszti\"],\n",
    "                   \"Kor\" : [17, 20, 19, 17, 18],\n",
    "                   \"Kedvenc szín\" : [\"Zöld\", \"Kék\", \"Zöld\", \"Sárga\", \"Piros\"]})"
   ]
  },
  {
   "cell_type": "code",
   "execution_count": null,
   "metadata": {},
   "outputs": [],
   "source": [
    "df"
   ]
  },
  {
   "cell_type": "code",
   "execution_count": null,
   "metadata": {},
   "outputs": [],
   "source": [
    "df.index"
   ]
  },
  {
   "cell_type": "code",
   "execution_count": null,
   "metadata": {},
   "outputs": [],
   "source": [
    "df.set_index(\"Név\", inplace=True)"
   ]
  },
  {
   "cell_type": "code",
   "execution_count": null,
   "metadata": {},
   "outputs": [],
   "source": [
    "df"
   ]
  },
  {
   "cell_type": "code",
   "execution_count": null,
   "metadata": {},
   "outputs": [],
   "source": [
    "df.index"
   ]
  },
  {
   "cell_type": "code",
   "execution_count": null,
   "metadata": {},
   "outputs": [],
   "source": [
    "df['Nem']"
   ]
  },
  {
   "cell_type": "markdown",
   "metadata": {},
   "source": [
    "Vagy listák listájából (soronként):"
   ]
  },
  {
   "cell_type": "code",
   "execution_count": null,
   "metadata": {},
   "outputs": [],
   "source": [
    "row1 = [\"fiú\", \"Adnris\", 17, \"Zöld\"]\n",
    "row2 = [\"fiú\", \"Barni\", 20, \"Kék\"]\n",
    "\n",
    "cols = [\"Nem\", \"Név\", \"Kor\", \"Kedvenc szín\"]\n",
    "idx = [\"α\", \"β\"]\n",
    "\n",
    "df2 = pd.DataFrame([row1, row2], columns=cols, index=idx)\n",
    "df2"
   ]
  },
  {
   "cell_type": "markdown",
   "metadata": {},
   "source": [
    "### `DataFrame`-ben tárolt adatok elérése"
   ]
  },
  {
   "cell_type": "markdown",
   "metadata": {},
   "source": [
    "#### Adattípusok lekérdezése"
   ]
  },
  {
   "cell_type": "code",
   "execution_count": null,
   "metadata": {},
   "outputs": [],
   "source": [
    "df.dtypes"
   ]
  },
  {
   "cell_type": "markdown",
   "metadata": {},
   "source": [
    "#### Oszlopnevek lekérdezése"
   ]
  },
  {
   "cell_type": "code",
   "execution_count": null,
   "metadata": {},
   "outputs": [],
   "source": [
    "df.columns"
   ]
  },
  {
   "cell_type": "markdown",
   "metadata": {},
   "source": [
    "#### Oszlopok lekérdezése"
   ]
  },
  {
   "cell_type": "code",
   "execution_count": null,
   "metadata": {},
   "outputs": [],
   "source": [
    "df[\"Nem\"]"
   ]
  },
  {
   "cell_type": "code",
   "execution_count": null,
   "metadata": {},
   "outputs": [],
   "source": [
    "df[[\"Nem\", \"Kedvenc szín\"]]"
   ]
  },
  {
   "cell_type": "markdown",
   "metadata": {},
   "source": [
    "#### Sornevek (`index`) lekérdezése"
   ]
  },
  {
   "cell_type": "code",
   "execution_count": null,
   "metadata": {},
   "outputs": [],
   "source": [
    "df.index"
   ]
  },
  {
   "cell_type": "markdown",
   "metadata": {},
   "source": [
    "#### Sorok lekérdezése"
   ]
  },
  {
   "cell_type": "code",
   "execution_count": null,
   "metadata": {},
   "outputs": [],
   "source": [
    "df.loc[\"Andris\"]"
   ]
  },
  {
   "cell_type": "code",
   "execution_count": null,
   "metadata": {},
   "outputs": [],
   "source": [
    "df.loc[[\"Andris\", \"Eszti\"]]"
   ]
  },
  {
   "cell_type": "markdown",
   "metadata": {},
   "source": [
    "#### Sorok és oszlopok lekérdezése"
   ]
  },
  {
   "cell_type": "code",
   "execution_count": null,
   "metadata": {},
   "outputs": [],
   "source": [
    "df.loc[[\"Andris\", \"Eszti\"]][[\"Nem\", \"Kedvenc szín\"]]"
   ]
  },
  {
   "cell_type": "markdown",
   "metadata": {},
   "source": [
    "### Sorok/oszlopok hozzáadása"
   ]
  },
  {
   "cell_type": "markdown",
   "metadata": {},
   "source": [
    "#### Oszlop hozzáadása"
   ]
  },
  {
   "cell_type": "code",
   "execution_count": null,
   "metadata": {},
   "outputs": [],
   "source": [
    "df[\"Vércsoport\"] = [\"A\", \"B\", \"A\", \"A\", \"B\"]\n",
    "df"
   ]
  },
  {
   "cell_type": "markdown",
   "metadata": {},
   "source": [
    "#### Sor hozzáadása"
   ]
  },
  {
   "cell_type": "code",
   "execution_count": null,
   "metadata": {},
   "outputs": [],
   "source": [
    "df.loc[\"Frida\"] = [\"lány\", 20, None, \"B\"]\n",
    "df.loc[\"Janka\"] = [\"lány\", 18, \"Rózsaszín\", \"A\"]\n",
    "df"
   ]
  },
  {
   "cell_type": "markdown",
   "metadata": {},
   "source": [
    "### Adat módosítása"
   ]
  },
  {
   "cell_type": "code",
   "execution_count": null,
   "metadata": {
    "scrolled": false
   },
   "outputs": [],
   "source": [
    "df.at[\"Frida\", \"Kedvenc szín\"] = \"Lila\"\n",
    "df"
   ]
  },
  {
   "cell_type": "markdown",
   "metadata": {},
   "source": [
    "### Törlés"
   ]
  },
  {
   "cell_type": "markdown",
   "metadata": {},
   "source": [
    "#### Oszlop törlése"
   ]
  },
  {
   "cell_type": "code",
   "execution_count": null,
   "metadata": {},
   "outputs": [],
   "source": [
    "df.drop(\"Kedvenc szín\", axis=1)\n",
    "#df.drop(\"Kedvenc szín\", axis=1, inplace=True)"
   ]
  },
  {
   "cell_type": "markdown",
   "metadata": {},
   "source": [
    "#### Sor törlése"
   ]
  },
  {
   "cell_type": "code",
   "execution_count": null,
   "metadata": {},
   "outputs": [],
   "source": [
    "df.drop(\"Frida\")"
   ]
  },
  {
   "cell_type": "markdown",
   "metadata": {},
   "source": [
    "### Egyszerű műveletek"
   ]
  },
  {
   "cell_type": "code",
   "execution_count": null,
   "metadata": {},
   "outputs": [],
   "source": [
    "df[\"Pontszám 1\"] = np.random.randint(1, 10, df.shape[0])\n",
    "df[\"Pontszám 2\"] = np.random.randint(1, 10, df.shape[0])\n",
    "\n",
    "df[\"Pontszám 1\"] + df[\"Pontszám 2\"]"
   ]
  },
  {
   "cell_type": "code",
   "execution_count": null,
   "metadata": {},
   "outputs": [],
   "source": [
    "df[\"Összpontszám\"] = df[\"Pontszám 1\"] + df[\"Pontszám 2\"]\n",
    "df[\"Átlag\"] = (df[\"Pontszám 1\"] + df[\"Pontszám 2\"])/2\n",
    "df"
   ]
  },
  {
   "cell_type": "code",
   "execution_count": null,
   "metadata": {},
   "outputs": [],
   "source": [
    "df[\"Kor\"] += 1\n",
    "df"
   ]
  },
  {
   "cell_type": "code",
   "execution_count": null,
   "metadata": {},
   "outputs": [],
   "source": [
    "df.at[\"Andris\", \"Pontszám 1\"] += 1\n",
    "df"
   ]
  },
  {
   "cell_type": "markdown",
   "metadata": {},
   "source": [
    "### Oszlopmuveletek (soronkenti for ciklus helyett!!!)"
   ]
  },
  {
   "cell_type": "markdown",
   "metadata": {},
   "source": [
    "A legegyszerubb numerikus muveleteket, ahogy lattuk, ertelmezhetjuk oszlopokra, a visszateresi ertek is egy `Series` osztalyu oszlop lesz."
   ]
  },
  {
   "cell_type": "code",
   "execution_count": null,
   "metadata": {},
   "outputs": [],
   "source": [
    "type(df['Kor']+1)"
   ]
  },
  {
   "cell_type": "markdown",
   "metadata": {},
   "source": [
    "Gyakran azonban valamilyen bonyolultabb fuggvenyt, esetleg sajat fuggvenyt szeretnenk alkalmazni egy oszlopra. Peldaul egy uj oszlopba taroljuk el a nevek kezdobetujet, erre hasznalhatjuk a `Series` osztaly `map` metodusat."
   ]
  },
  {
   "cell_type": "code",
   "execution_count": null,
   "metadata": {},
   "outputs": [],
   "source": [
    "df['Kezdobetu'] = df.index.map(lambda s: s[0])"
   ]
  },
  {
   "cell_type": "code",
   "execution_count": null,
   "metadata": {},
   "outputs": [],
   "source": [
    "df"
   ]
  },
  {
   "cell_type": "markdown",
   "metadata": {},
   "source": [
    "Igy is megtehettem volna a fenti muveletet:"
   ]
  },
  {
   "cell_type": "code",
   "execution_count": null,
   "metadata": {},
   "outputs": [],
   "source": [
    "def kezdobetu(s):\n",
    "    return s[0]"
   ]
  },
  {
   "cell_type": "code",
   "execution_count": null,
   "metadata": {},
   "outputs": [],
   "source": [
    "df.index.map(kezdobetu)"
   ]
  },
  {
   "cell_type": "markdown",
   "metadata": {},
   "source": [
    "Ha esetleg tobb oszlop erteket is fel szeretnenk hasznalni egy fuggvenyben, akkor pedig a `DataFrame` `apply` metodusat hasznalhatjuk. Peldaul fuzzuk az elobb kapott kezdobetuket zarojelben a szuletesi ev moge (felteve hogy 2022-t irunk)!"
   ]
  },
  {
   "cell_type": "code",
   "execution_count": null,
   "metadata": {},
   "outputs": [],
   "source": [
    "df.drop(\"Frida\", axis=0, inplace=True)"
   ]
  },
  {
   "cell_type": "code",
   "execution_count": null,
   "metadata": {},
   "outputs": [],
   "source": [
    "df.apply(lambda row: row['Kezdobetu'] + ' - ' + str(int(2022 - row[\"Kor\"])), axis=1) # soronkent fut, axis=0 lenne oszloponkent"
   ]
  },
  {
   "cell_type": "markdown",
   "metadata": {},
   "source": [
    "**Az `apply` latvanyos, de lassu, a `map` nagyon gyors.**"
   ]
  },
  {
   "cell_type": "markdown",
   "metadata": {},
   "source": [
    "### Adatok aggregálása"
   ]
  },
  {
   "cell_type": "markdown",
   "metadata": {},
   "source": [
    "#### Megszámlálás"
   ]
  },
  {
   "cell_type": "code",
   "execution_count": null,
   "metadata": {},
   "outputs": [],
   "source": [
    "df.count()"
   ]
  },
  {
   "cell_type": "code",
   "execution_count": null,
   "metadata": {},
   "outputs": [],
   "source": [
    "df[\"Nem\"].count()"
   ]
  },
  {
   "cell_type": "code",
   "execution_count": null,
   "metadata": {},
   "outputs": [],
   "source": [
    "df.count(axis=1)"
   ]
  },
  {
   "cell_type": "code",
   "execution_count": null,
   "metadata": {},
   "outputs": [],
   "source": [
    "df.loc[\"Andris\"].count()"
   ]
  },
  {
   "cell_type": "code",
   "execution_count": null,
   "metadata": {},
   "outputs": [],
   "source": [
    "df['Vércsoport'].value_counts()"
   ]
  },
  {
   "cell_type": "markdown",
   "metadata": {},
   "source": [
    "#### Összegzés/Átlagolás"
   ]
  },
  {
   "cell_type": "code",
   "execution_count": null,
   "metadata": {},
   "outputs": [],
   "source": [
    "print(\"Összesen elért pontszám:\", df['Összpontszám'].sum(),\\\n",
    "      \", átlagosan elért pontszám:\",  df['Összpontszám'].mean())"
   ]
  },
  {
   "cell_type": "code",
   "execution_count": null,
   "metadata": {},
   "outputs": [],
   "source": [
    "df[[\"Pontszám 1\", \"Pontszám 2\"]].sum(axis=0)"
   ]
  },
  {
   "cell_type": "code",
   "execution_count": null,
   "metadata": {},
   "outputs": [],
   "source": [
    "df[[\"Pontszám 1\", \"Pontszám 2\"]].sum(axis=1)"
   ]
  },
  {
   "cell_type": "markdown",
   "metadata": {},
   "source": [
    "### Bool indexelés/Maszkolás"
   ]
  },
  {
   "cell_type": "code",
   "execution_count": null,
   "metadata": {},
   "outputs": [],
   "source": [
    "df[\"Nem\"] == \"lány\""
   ]
  },
  {
   "cell_type": "code",
   "execution_count": null,
   "metadata": {},
   "outputs": [],
   "source": [
    "df[\"Összpontszám\"] >= df[\"Összpontszám\"].mean()"
   ]
  },
  {
   "cell_type": "code",
   "execution_count": null,
   "metadata": {},
   "outputs": [],
   "source": [
    "df[df[\"Összpontszám\"] >= df[\"Összpontszám\"].mean()]"
   ]
  },
  {
   "cell_type": "code",
   "execution_count": null,
   "metadata": {},
   "outputs": [],
   "source": [
    "df[(df[\"Összpontszám\"] >= df[\"Összpontszám\"].mean()) & (df[\"Kor\"] < 22)] # AND"
   ]
  },
  {
   "cell_type": "code",
   "execution_count": null,
   "metadata": {},
   "outputs": [],
   "source": [
    "df[(df[\"Nem\"] == 'fiú') | (df[\"Kor\"] < 22)] # OR"
   ]
  },
  {
   "cell_type": "code",
   "execution_count": null,
   "metadata": {},
   "outputs": [],
   "source": [
    "df[df.index.str.contains('d')] # str -> bool fuggveny"
   ]
  },
  {
   "cell_type": "markdown",
   "metadata": {},
   "source": [
    "Tagadni a `~` jellel lehet."
   ]
  },
  {
   "cell_type": "code",
   "execution_count": null,
   "metadata": {},
   "outputs": [],
   "source": [
    "df[~df['Pontszám 1'].map(lambda x: x**2 < 10)] # tetszoleges fuggveny, amely a True / False halmazba kepez"
   ]
  },
  {
   "cell_type": "markdown",
   "metadata": {},
   "source": [
    "Hogyan kerdezhetunk ra a hianyzo ertekekre?"
   ]
  },
  {
   "cell_type": "code",
   "execution_count": null,
   "metadata": {},
   "outputs": [],
   "source": [
    "df['Kor'].loc[\"Frida\"] = None"
   ]
  },
  {
   "cell_type": "code",
   "execution_count": null,
   "metadata": {
    "scrolled": true
   },
   "outputs": [],
   "source": [
    "df[pd.isnull(df['Kor'])]"
   ]
  },
  {
   "cell_type": "markdown",
   "metadata": {},
   "source": [
    "## Adatbázis műveletek"
   ]
  },
  {
   "cell_type": "markdown",
   "metadata": {},
   "source": [
    "### Concat"
   ]
  },
  {
   "cell_type": "markdown",
   "metadata": {},
   "source": [
    "Ket vagy tobb adattablat egymas ala / mellefuzni a `concat` fuggvennyel lehet. Peldaul ha tobb kis fajlbol olvasunk be ugyanolyan strukturaju, ugyanazokkal az oszlopokkal rendelkezo adatot, hasznos lehet."
   ]
  },
  {
   "cell_type": "code",
   "execution_count": null,
   "metadata": {
    "scrolled": true
   },
   "outputs": [],
   "source": [
    "pd.concat([df,df.drop('Nem',axis=1)]) # hianyzo adat kitoltese NaN-nal"
   ]
  },
  {
   "cell_type": "code",
   "execution_count": null,
   "metadata": {
    "scrolled": true
   },
   "outputs": [],
   "source": [
    "pd.concat([df,df],axis=1) # mellefuzes, itt a sorindexeket futtatja ossze"
   ]
  },
  {
   "cell_type": "code",
   "execution_count": null,
   "metadata": {},
   "outputs": [],
   "source": [
    "pd.concat([df,df],axis=1, ignore_index=True) # itt indexnek hivja az axis-ban kivalasztott tengely cimkeit"
   ]
  },
  {
   "cell_type": "markdown",
   "metadata": {},
   "source": [
    "### Join"
   ]
  },
  {
   "cell_type": "markdown",
   "metadata": {},
   "source": [
    "Az adabaziskezeles egyik legfontosabb muvelete, amikor ket kulonbozo tablat megadott oszlopok alapjan osszefuttatunk (pelda: ket adatbazisunk van, az egyik azt tartalmazza, hogy ki szeretne vakcinat, a masik pedig azt, hogy ki hol lakik, mindket adattablaban a TAJ-szam azonositja egyedileg az embereket, az oltopontokra torteno behivashoz meg kell vizsgalnunk, hogy kik laknak az adott oltoponthoz kozel azok kozul, akik szeretnenek vakcinat)."
   ]
  },
  {
   "cell_type": "code",
   "execution_count": null,
   "metadata": {},
   "outputs": [],
   "source": [
    "szinek = pd.read_csv('szinek.csv')\n",
    "szinek"
   ]
  },
  {
   "cell_type": "markdown",
   "metadata": {},
   "source": [
    "A kulonbozo joinokat definialhatjuk ugy, hogy a ket tabla soraibol kepzett Descartes-szorzatternek az elemeit valogatjak ki adott feltetel szerint. A technikai megvalositasa ezeknek viszont az optimalis sebesseg erdekeben nagyon elter."
   ]
  },
  {
   "cell_type": "markdown",
   "metadata": {},
   "source": [
    "![](https://www.dofactory.com/img/sql/sql-joins.png)"
   ]
  },
  {
   "cell_type": "code",
   "execution_count": null,
   "metadata": {},
   "outputs": [],
   "source": [
    "pd.merge(df,szinek,left_on='Kedvenc szín',right_on='Szín',how='inner') # inner join"
   ]
  },
  {
   "cell_type": "code",
   "execution_count": null,
   "metadata": {},
   "outputs": [],
   "source": [
    "pd.merge(df,szinek,left_on='Kedvenc szín',right_on='Szín',how='left') # left join"
   ]
  },
  {
   "cell_type": "code",
   "execution_count": null,
   "metadata": {},
   "outputs": [],
   "source": [
    "pd.merge(df,szinek,left_on='Kedvenc szín',right_on='Szín',how='right') # right join"
   ]
  },
  {
   "cell_type": "code",
   "execution_count": null,
   "metadata": {},
   "outputs": [],
   "source": [
    "pd.merge(df,szinek,left_on='Kedvenc szín',right_on='Szín',how='outer') # outer join"
   ]
  },
  {
   "cell_type": "markdown",
   "metadata": {},
   "source": [
    "### Aggregálási műveletek"
   ]
  },
  {
   "cell_type": "markdown",
   "metadata": {},
   "source": [
    "A `groupby` metodus egy projekciot keszit az argumentumbeli listaban megadott oszlopok ertekeinek szorzatterebe. Az egy helyre eso sorokon aggregacios muveleteket hajthatunk vegre, ezek kozul nehany kulon metodussal is megadhato, de teljesen altalanos, vagy sajat aggregalofuggvenyeket is hasznalhatunk."
   ]
  },
  {
   "cell_type": "code",
   "execution_count": null,
   "metadata": {},
   "outputs": [],
   "source": [
    "df.groupby(['Nem','Vércsoport']).mean()"
   ]
  },
  {
   "cell_type": "markdown",
   "metadata": {},
   "source": [
    "A `groupby` utan kivalaszthatjuk, hogy mely oszlopokra szeretnenk az aggregalast elvegezni. Egy darab szogletes zarojelbe irt oszlopnev egyetlen `Series`-zel, egyetlen oszloppal ter csak vissza. Ha `DataFrame`-et szeretnenk visszateresi erteknek, tegyuk a kivalasztott oszlopok nevet egy listaba."
   ]
  },
  {
   "cell_type": "code",
   "execution_count": null,
   "metadata": {},
   "outputs": [],
   "source": [
    "df.groupby(['Nem','Vércsoport'])['Összpontszám'].mean()"
   ]
  },
  {
   "cell_type": "code",
   "execution_count": null,
   "metadata": {},
   "outputs": [],
   "source": [
    "df.groupby(['Nem','Vércsoport'])[['Összpontszám']].mean()"
   ]
  },
  {
   "cell_type": "markdown",
   "metadata": {},
   "source": [
    "Altalanos aggregalo fuggveny:"
   ]
  },
  {
   "cell_type": "code",
   "execution_count": null,
   "metadata": {},
   "outputs": [],
   "source": [
    "df.groupby(['Nem','Vércsoport'])[['Összpontszám']].agg(lambda x: sum(x))"
   ]
  },
  {
   "cell_type": "markdown",
   "metadata": {},
   "source": [
    "Egy nagyon elvetemult pelda."
   ]
  },
  {
   "cell_type": "code",
   "execution_count": null,
   "metadata": {},
   "outputs": [],
   "source": [
    "df.groupby(['Nem','Vércsoport']).agg({'Kor' : min,'Pontszám 1' : np.mean})"
   ]
  },
  {
   "cell_type": "markdown",
   "metadata": {},
   "source": [
    "### Pivot tábla"
   ]
  },
  {
   "cell_type": "markdown",
   "metadata": {},
   "source": [
    "Ez az az Excel-fuggveny, amit megertve rengeteg penzt lehet keresni kulonbozo data analyst poziciokban, az FKERES() mellett ez az Excel-tudas egyik ekkove.\n",
    "\n",
    "Tekintsuk ujra az elso groupby-os peldat az Osszpontszamra. Ahelyett, hogy felsorolnank az osszes lehetseges Nem x Vercsoport part, es megadnank a csoportokhoz tartozo Osszpontszamot, a Nemet es a Vercsoportot kulon x es y tengellyel azonositva a megfelelo pozicioba mar csak az erteket irjuk."
   ]
  },
  {
   "cell_type": "code",
   "execution_count": null,
   "metadata": {},
   "outputs": [],
   "source": [
    "df.pivot_table(values=\"Összpontszám\",\n",
    "               columns=\"Nem\",\n",
    "               index=\"Vércsoport\",\n",
    "               aggfunc=np.mean)"
   ]
  },
  {
   "cell_type": "markdown",
   "metadata": {},
   "source": [
    "## Histogram\n",
    "Az adatok eloszlását histogrammal is lehet ábrázolni:"
   ]
  },
  {
   "cell_type": "code",
   "execution_count": null,
   "metadata": {},
   "outputs": [],
   "source": [
    "df = pd.DataFrame({\"y\" : np.random.randn(1000)})\n",
    "ax = df[\"y\"].hist(bins=50)\n",
    "x = np.linspace(-3,3,100)\n",
    "ax.plot(x, x**2)"
   ]
  },
  {
   "cell_type": "markdown",
   "metadata": {},
   "source": [
    "# Feladatok"
   ]
  },
  {
   "cell_type": "markdown",
   "metadata": {},
   "source": [
    "### 1. feladat\n",
    "Olvasd be egy pandas DataFrame-be az `erettsegistat.csv` adatfájlt! Figyelj arra, hogy a `pd.read_csv()` fuggvenyben az `encoding='latin-1'` kulcsszavas argumentumot allitsd be a megfelelo karakterkodolas erdekeben!\n",
    "\n",
    "Ez az adatfajlt az elmult par ev matematikaerettsegijeinek eredmenyeit tartalmazza kulonbozo mas adatokkal (pl. erettsegizo iskolatipusa, erettsegi szinte stb.) egyutt."
   ]
  },
  {
   "cell_type": "code",
   "execution_count": null,
   "metadata": {},
   "outputs": [],
   "source": [
    "erettsegi=pd.read_csv('erettsegistat.csv',encoding='latin-1')"
   ]
  },
  {
   "cell_type": "code",
   "execution_count": null,
   "metadata": {},
   "outputs": [],
   "source": []
  },
  {
   "cell_type": "markdown",
   "metadata": {},
   "source": [
    "### 2. feladat: Melyik szinten (kozep/emelt), melyik iskolatipusban hanyan erettsegiztek 2020-ban?\n",
    "\n",
    "Oldd meg a feladatot `groupby`-jal es `pivot_table`-lel is."
   ]
  },
  {
   "cell_type": "code",
   "execution_count": null,
   "metadata": {},
   "outputs": [],
   "source": []
  },
  {
   "cell_type": "code",
   "execution_count": null,
   "metadata": {},
   "outputs": [],
   "source": []
  },
  {
   "cell_type": "code",
   "execution_count": null,
   "metadata": {},
   "outputs": [],
   "source": []
  },
  {
   "cell_type": "markdown",
   "metadata": {},
   "source": [
    "### 3. feladat: \n",
    "a) Szamold ki a emeltszintu irasbeli pontszamok atlagat es szorasat (legyenek $\\mu$ és $\\sigma$) 2020-ban. \n",
    "\n",
    "b) Abrazold a emeltszintu 2020-as irasbeli pontszamok eloszlasat hisztogramon!\n",
    "\n",
    "c) Rakj ra az abrara egy normalis eloszlast az elobb kiszamolt atlaggal es szorassal. A következő függvényt kellene ábrázolni ehhez:\n",
    "$$\n",
    "    f(x) = \\frac{1}{\\sqrt{2\\pi\\sigma^2}}\\mathrm{e}^{-\\frac{(x-\\mu)^2}{2\\sigma^2}}\n",
    "$$\n",
    "*Figyelj arra, hogy a hisztogram alatti terulet 1 legyen, kulonben nem lesz osszevetheto a ket gorbe. Keresd meg ehhez a `hist` fuggveny megfelelo kapcsolojat!*"
   ]
  },
  {
   "cell_type": "code",
   "execution_count": null,
   "metadata": {},
   "outputs": [],
   "source": []
  },
  {
   "cell_type": "markdown",
   "metadata": {},
   "source": [
    "### 4. feladat: Igaz-e az, hogy a ponthatároknál van kerekítés?\n",
    "\n",
    "Ha igen, hol kerekítenek jobban felfele a ponthatároknál? Szakközépiskolákban vagy gimnáziumokban? Ábrázold mindkét típusú intézményben az `össz százalék`-ok eloszlását histogramon, $2\\%$-os binekkel, egy ábrán. Nézd meg külön emelt szintre és közép szintre."
   ]
  },
  {
   "cell_type": "markdown",
   "metadata": {},
   "source": [
    "### 5. feladat:\n",
    "\n",
    "Vizsgáld meg, hogy van-e különbség a lányok és fiúk eredményei között az adathalmaz alapján. Határozd meg a lányok és fiúk átlagos összpontszámát, és vizsgáld meg, hogy van-e szignifikáns különbség közöttük."
   ]
  },
  {
   "cell_type": "code",
   "execution_count": null,
   "metadata": {},
   "outputs": [],
   "source": []
  },
  {
   "cell_type": "markdown",
   "metadata": {},
   "source": [
    "### 6. feladat:\n",
    "\n",
    "Hogyan változtak az eredmények évről évre az adathalmazban. Határozd meg az évek szerinti átlagpontszámokat, és vizsgáld meg, hogy van-e tendencia az eredmények alakulásában."
   ]
  },
  {
   "cell_type": "code",
   "execution_count": null,
   "metadata": {},
   "outputs": [],
   "source": []
  },
  {
   "cell_type": "code",
   "execution_count": null,
   "metadata": {},
   "outputs": [],
   "source": []
  }
 ],
 "metadata": {
  "kernelspec": {
   "display_name": "Python 3 (ipykernel)",
   "language": "python",
   "name": "python3"
  },
  "language_info": {
   "codemirror_mode": {
    "name": "ipython",
    "version": 3
   },
   "file_extension": ".py",
   "mimetype": "text/x-python",
   "name": "python",
   "nbconvert_exporter": "python",
   "pygments_lexer": "ipython3",
   "version": "3.9.13"
  },
  "varInspector": {
   "cols": {
    "lenName": 16,
    "lenType": 16,
    "lenVar": 40
   },
   "kernels_config": {
    "python": {
     "delete_cmd_postfix": "",
     "delete_cmd_prefix": "del ",
     "library": "var_list.py",
     "varRefreshCmd": "print(var_dic_list())"
    },
    "r": {
     "delete_cmd_postfix": ") ",
     "delete_cmd_prefix": "rm(",
     "library": "var_list.r",
     "varRefreshCmd": "cat(var_dic_list()) "
    }
   },
   "types_to_exclude": [
    "module",
    "function",
    "builtin_function_or_method",
    "instance",
    "_Feature"
   ],
   "window_display": false
  }
 },
 "nbformat": 4,
 "nbformat_minor": 2
}
